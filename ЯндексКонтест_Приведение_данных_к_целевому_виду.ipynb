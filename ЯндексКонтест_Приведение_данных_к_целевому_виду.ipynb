{
  "nbformat": 4,
  "nbformat_minor": 0,
  "metadata": {
    "colab": {
      "provenance": [],
      "authorship_tag": "ABX9TyMTDwHqna2Zd3K0zew8KVse",
      "include_colab_link": true
    },
    "kernelspec": {
      "name": "python3",
      "display_name": "Python 3"
    },
    "language_info": {
      "name": "python"
    }
  },
  "cells": [
    {
      "cell_type": "markdown",
      "metadata": {
        "id": "view-in-github",
        "colab_type": "text"
      },
      "source": [
        "<a href=\"https://colab.research.google.com/github/zyf2021/-/blob/main/%D0%AF%D0%BD%D0%B4%D0%B5%D0%BA%D1%81%D0%9A%D0%BE%D0%BD%D1%82%D0%B5%D1%81%D1%82_%D0%9F%D1%80%D0%B8%D0%B2%D0%B5%D0%B4%D0%B5%D0%BD%D0%B8%D0%B5_%D0%B4%D0%B0%D0%BD%D0%BD%D1%8B%D1%85_%D0%BA_%D1%86%D0%B5%D0%BB%D0%B5%D0%B2%D0%BE%D0%BC%D1%83_%D0%B2%D0%B8%D0%B4%D1%83.ipynb\" target=\"_parent\"><img src=\"https://colab.research.google.com/assets/colab-badge.svg\" alt=\"Open In Colab\"/></a>"
      ]
    },
    {
      "cell_type": "code",
      "execution_count": null,
      "metadata": {
        "colab": {
          "base_uri": "https://localhost:8080/"
        },
        "id": "a27PmL8rMseS",
        "outputId": "1dfe3757-19e7-4253-a725-9fdf352b32f1"
      },
      "outputs": [
        {
          "output_type": "stream",
          "name": "stdout",
          "text": [
            "Vasya#Masha\n"
          ]
        }
      ],
      "source": [
        "Vasya = 'Vasya'\n",
        "print('Vasya', 'Masha', sep = '#')"
      ]
    },
    {
      "cell_type": "code",
      "source": [
        "# подключение гугл диска, на котором хранится zip-архив с датасетом\n",
        "from google.colab import drive\n",
        "drive.mount('/content/drive/')"
      ],
      "metadata": {
        "colab": {
          "base_uri": "https://localhost:8080/"
        },
        "id": "bH4ykNO9rJUO",
        "outputId": "6f18189e-6d3f-4ea1-b9a4-3378158b91c4"
      },
      "execution_count": 13,
      "outputs": [
        {
          "output_type": "stream",
          "name": "stdout",
          "text": [
            "Drive already mounted at /content/drive/; to attempt to forcibly remount, call drive.mount(\"/content/drive/\", force_remount=True).\n"
          ]
        }
      ]
    },
    {
      "cell_type": "markdown",
      "source": [
        "#### Что нас волнует?\n",
        "\n",
        "В предыдущих главах мы работали с данными без их предварительной очистки.\n",
        "\n",
        "В этой и следующих задачах мы используем набор данных с фильмами и сериалами компании Disney. CSV файл доступен под названием 'disney_title.csv'. Ознакомиться более подробно с датасетом можно по следующей ссылке: https://www.kaggle.com/datasets/shivamb/disney-movies-and-tv-shows.\n",
        "\n",
        "В этой задаче выведите информацию о датасете, используя функцию .info()"
      ],
      "metadata": {
        "id": "Cc3BRsYT9FBI"
      }
    },
    {
      "cell_type": "code",
      "source": [
        "import pandas as pd\n",
        "\n",
        "data = pd.read_csv('/content/drive/MyDrive/disney_plus_titles.csv')\n",
        "print(data.info())"
      ],
      "metadata": {
        "colab": {
          "base_uri": "https://localhost:8080/"
        },
        "id": "5dFh8pZXq2aR",
        "outputId": "0f3848c5-8207-4ff0-a800-92e8aa60baa4"
      },
      "execution_count": 14,
      "outputs": [
        {
          "output_type": "stream",
          "name": "stdout",
          "text": [
            "<class 'pandas.core.frame.DataFrame'>\n",
            "RangeIndex: 1450 entries, 0 to 1449\n",
            "Data columns (total 12 columns):\n",
            " #   Column        Non-Null Count  Dtype \n",
            "---  ------        --------------  ----- \n",
            " 0   show_id       1450 non-null   object\n",
            " 1   type          1450 non-null   object\n",
            " 2   title         1450 non-null   object\n",
            " 3   director      977 non-null    object\n",
            " 4   cast          1260 non-null   object\n",
            " 5   country       1231 non-null   object\n",
            " 6   date_added    1447 non-null   object\n",
            " 7   release_year  1450 non-null   int64 \n",
            " 8   rating        1447 non-null   object\n",
            " 9   duration      1450 non-null   object\n",
            " 10  listed_in     1450 non-null   object\n",
            " 11  description   1450 non-null   object\n",
            "dtypes: int64(1), object(11)\n",
            "memory usage: 136.1+ KB\n",
            "None\n"
          ]
        }
      ]
    },
    {
      "cell_type": "markdown",
      "source": [
        "#### Какая сегодня дата?\n",
        "В предыдущем задании мы обнаружили, что переменная Date из датасета по фильмам и сериалам компании Disney имеет тип object. В этом задании мы поменяем тип переменной с object на datetime с помощью функции pd.to_datetime(). В выводе распечатайте тип столбца ['Date'] с помощью .dtype\n",
        "\n",
        "CSV файл доступен под названием 'disney_title.csv'.\n",
        "\n",
        "\n",
        "Это решение почему-то не принято из-за времени"
      ],
      "metadata": {
        "id": "ccaqp22_uthw"
      }
    },
    {
      "cell_type": "code",
      "source": [
        "#data['date_added'] = pd.to_datetime(data['date_added'])\n",
        "data['date_added'] = data['date_added'].astype('datetime64[ns]')\n",
        "data['date_added'].dtype"
      ],
      "metadata": {
        "colab": {
          "base_uri": "https://localhost:8080/"
        },
        "id": "GLbyjDKBrt06",
        "outputId": "fab8fa0d-75e7-4ea6-aa5f-2d59bda3b240"
      },
      "execution_count": 15,
      "outputs": [
        {
          "output_type": "execute_result",
          "data": {
            "text/plain": [
              "dtype('<M8[ns]')"
            ]
          },
          "metadata": {},
          "execution_count": 15
        }
      ]
    },
    {
      "cell_type": "markdown",
      "source": [
        "#### А что выходило за год?\n",
        "\n",
        "В предыдущем задании мы изменили тип переменной, содержащей дату, с объекта на значение даты и времени. В этом задании мы отфильтруем датасет с использованием переменной. Вначале еще раз измените тип переменной Date на datetime64 и отфильтруйте все фильмы и сериалы, которые выходили с 1 января 2020 года по 1 января 2021 года. В результате выведите переменную с названиями десяти первых фильмов после фильтрации, с помощью функции head()."
      ],
      "metadata": {
        "id": "XaGg--N3vB1p"
      }
    },
    {
      "cell_type": "code",
      "source": [
        "data['date_added'] = data['date_added'].astype('datetime64[ns]')\n",
        "data_filtered = data.loc[(data['date_added'] >= '01-01-2020') & (data['date_added'] <= '01-01-2021')]\n",
        "print(data_filtered.head())"
      ],
      "metadata": {
        "colab": {
          "base_uri": "https://localhost:8080/"
        },
        "id": "bXhZaRTjusoS",
        "outputId": "367c3821-db11-489f-a0c6-df8f5dff425c"
      },
      "execution_count": 16,
      "outputs": [
        {
          "output_type": "stream",
          "name": "stdout",
          "text": [
            "    show_id   type                           title  \\\n",
            "320    s321  Movie                      700 Sharks   \n",
            "321    s322  Movie                 Big Sharks Rule   \n",
            "322    s323  Movie  Dr. Seuss' Horton Hears a Who!   \n",
            "323    s324  Movie           Great Shark Chow Down   \n",
            "324    s325  Movie                 Mega Hammerhead   \n",
            "\n",
            "                         director  \\\n",
            "320                  Luc Marescot   \n",
            "321                           NaN   \n",
            "322  Jimmy Hayward, Steve Martino   \n",
            "323                 Mark Woodward   \n",
            "324    Brandon Hill, Marc Ostrick   \n",
            "\n",
            "                                                  cast        country  \\\n",
            "320                                        Paul Bandey         France   \n",
            "321                                       Lance Lewman            NaN   \n",
            "322  Jim Carrey, Steve Carell, Will Arnett, Seth Ro...  United States   \n",
            "323                                       Dan Nachtrab            NaN   \n",
            "324                                  Neil Hammerschlag  United States   \n",
            "\n",
            "    date_added  release_year rating duration                      listed_in  \\\n",
            "320 2021-01-01          2018  TV-PG   45 min  Animals & Nature, Documentary   \n",
            "321 2021-01-01          2018  TV-14   45 min  Animals & Nature, Documentary   \n",
            "322 2021-01-01          2008      G   88 min      Animation, Comedy, Family   \n",
            "323 2021-01-01          2019  TV-PG   45 min  Animals & Nature, Documentary   \n",
            "324 2021-01-01          2016  TV-PG   43 min  Animals & Nature, Documentary   \n",
            "\n",
            "                                           description  \n",
            "320  Follow an international team of scientists in ...  \n",
            "321  In the waters of South Africa, sharks reign su...  \n",
            "322  Horton must save a civilization living on a sp...  \n",
            "323  Great Shark Chow Down – prepare for a feast of...  \n",
            "324  Dr. Neil Hammerschlag and his team are setting...  \n"
          ]
        }
      ]
    },
    {
      "cell_type": "markdown",
      "source": [
        "#### Удаление\n",
        "\n",
        "В этом задании мы продолжаем работать с CSV файлом под названием 'disney_title.csv'. Вам необходимо удалить столбец из датасета 'release_year' и вывести название оставшихся столбцов с помощью функции list()."
      ],
      "metadata": {
        "id": "hWOgiSUjv0KB"
      }
    },
    {
      "cell_type": "code",
      "source": [
        "data = data.drop(labels = 'release_year', axis = 1)\n",
        "list(data)"
      ],
      "metadata": {
        "colab": {
          "base_uri": "https://localhost:8080/"
        },
        "id": "kenbLXuYvwNT",
        "outputId": "816f8930-c722-4664-b116-40353ec25248"
      },
      "execution_count": 17,
      "outputs": [
        {
          "output_type": "execute_result",
          "data": {
            "text/plain": [
              "['show_id',\n",
              " 'type',\n",
              " 'title',\n",
              " 'director',\n",
              " 'cast',\n",
              " 'country',\n",
              " 'date_added',\n",
              " 'rating',\n",
              " 'duration',\n",
              " 'listed_in',\n",
              " 'description']"
            ]
          },
          "metadata": {},
          "execution_count": 17
        }
      ]
    },
    {
      "cell_type": "markdown",
      "source": [
        "#### А можно переименовать?\n",
        "\n",
        "Умение переименовывать датасеты помогает при работе с большими объемами данных. В этом задании вам необходимо поменять название переменных из 'disney_title.csv' на такие же названия написанные с большой буквы. В результате выведите названия стобцов с помощью функции list()."
      ],
      "metadata": {
        "id": "FaF3Js0z4uLG"
      }
    },
    {
      "cell_type": "code",
      "source": [
        "cap_columns = [col.capitalize() for col in list(data)]\n",
        "data.columns = cap_columns\n",
        "list(data)"
      ],
      "metadata": {
        "colab": {
          "base_uri": "https://localhost:8080/"
        },
        "id": "gXz1JZym4xrQ",
        "outputId": "65ab1558-f444-4399-a11d-a5839ac03dc1"
      },
      "execution_count": 19,
      "outputs": [
        {
          "output_type": "execute_result",
          "data": {
            "text/plain": [
              "['Show_id',\n",
              " 'Type',\n",
              " 'Title',\n",
              " 'Director',\n",
              " 'Cast',\n",
              " 'Country',\n",
              " 'Date_added',\n",
              " 'Rating',\n",
              " 'Duration',\n",
              " 'Listed_in',\n",
              " 'Description']"
            ]
          },
          "metadata": {},
          "execution_count": 19
        }
      ]
    },
    {
      "cell_type": "markdown",
      "source": [
        "#### А это что за покемон?\n",
        "\n",
        "В этом задании мы продолжаем работать с CSV файлом доступным под названием 'disney_title.csv'.\n",
        "\n",
        "В этом задании вам необходимо заменить \"&\" на \",\" в столбце \"listed_in\", сохранить результат в новую переменную вывести последнии пять значений в новой переменной с помощью функции 'tail()'."
      ],
      "metadata": {
        "id": "cUQ6CgI_6wFH"
      }
    },
    {
      "cell_type": "code",
      "source": [
        "data['Listed_in'] = data['Listed_in'].str.replace('&', ',')\n",
        "data.tail()"
      ],
      "metadata": {
        "colab": {
          "base_uri": "https://localhost:8080/",
          "height": 519
        },
        "id": "kn1S_iTx6zxp",
        "outputId": "378bd4ce-7869-48b0-c660-fc30abe33837"
      },
      "execution_count": 21,
      "outputs": [
        {
          "output_type": "execute_result",
          "data": {
            "text/plain": [
              "     Show_id   Type                                           Title  \\\n",
              "1445   s1446  Movie                        X-Men Origins: Wolverine   \n",
              "1446   s1447  Movie  Night at the Museum: Battle of the Smithsonian   \n",
              "1447   s1448  Movie                                 Eddie the Eagle   \n",
              "1448   s1449  Movie                            Bend It Like Beckham   \n",
              "1449   s1450  Movie           Captain Sparky vs. The Flying Saucers   \n",
              "\n",
              "             Director                                               Cast  \\\n",
              "1445       Gavin Hood  Hugh Jackman, Liev Schreiber, Danny Huston, wi...   \n",
              "1446       Shawn Levy  Ben Stiller, Amy Adams, Owen Wilson, Hank Azar...   \n",
              "1447  Dexter Fletcher  Tom Costello, Jo Hartley, Keith Allen, Dickon ...   \n",
              "1448  Gurinder Chadha  Parminder Nagra, Keira Knightley, Jonathan Rhy...   \n",
              "1449      Mark Waring                                      Charlie Tahan   \n",
              "\n",
              "                                     Country Date_added Rating Duration  \\\n",
              "1445           United States, United Kingdom 2021-06-04  PG-13  108 min   \n",
              "1446                   United States, Canada 2021-04-02     PG  106 min   \n",
              "1447  United Kingdom, Germany, United States 2020-12-18  PG-13  107 min   \n",
              "1448  United Kingdom, Germany, United States 2020-09-18  PG-13  112 min   \n",
              "1449                           United States 2020-04-01   TV-G    2 min   \n",
              "\n",
              "                                          Listed_in  \\\n",
              "1445      Action-Adventure, Family, Science Fiction   \n",
              "1446               Action-Adventure, Comedy, Family   \n",
              "1447                    Biographical, Comedy, Drama   \n",
              "1448                   Buddy, Comedy, Coming of Age   \n",
              "1449  Action-Adventure, Animals , Nature, Animation   \n",
              "\n",
              "                                            Description  \n",
              "1445  Wolverine unites with legendary X-Men to fight...  \n",
              "1446  Larry Daley returns to rescue some old friends...  \n",
              "1447  True story of Eddie Edwards, a British ski-jum...  \n",
              "1448  Despite the wishes of their traditional famili...  \n",
              "1449         View one of Sparky's favorite home movies.  "
            ],
            "text/html": [
              "\n",
              "  <div id=\"df-ad134986-6745-4d3a-8ce3-e8536b59fff1\" class=\"colab-df-container\">\n",
              "    <div>\n",
              "<style scoped>\n",
              "    .dataframe tbody tr th:only-of-type {\n",
              "        vertical-align: middle;\n",
              "    }\n",
              "\n",
              "    .dataframe tbody tr th {\n",
              "        vertical-align: top;\n",
              "    }\n",
              "\n",
              "    .dataframe thead th {\n",
              "        text-align: right;\n",
              "    }\n",
              "</style>\n",
              "<table border=\"1\" class=\"dataframe\">\n",
              "  <thead>\n",
              "    <tr style=\"text-align: right;\">\n",
              "      <th></th>\n",
              "      <th>Show_id</th>\n",
              "      <th>Type</th>\n",
              "      <th>Title</th>\n",
              "      <th>Director</th>\n",
              "      <th>Cast</th>\n",
              "      <th>Country</th>\n",
              "      <th>Date_added</th>\n",
              "      <th>Rating</th>\n",
              "      <th>Duration</th>\n",
              "      <th>Listed_in</th>\n",
              "      <th>Description</th>\n",
              "    </tr>\n",
              "  </thead>\n",
              "  <tbody>\n",
              "    <tr>\n",
              "      <th>1445</th>\n",
              "      <td>s1446</td>\n",
              "      <td>Movie</td>\n",
              "      <td>X-Men Origins: Wolverine</td>\n",
              "      <td>Gavin Hood</td>\n",
              "      <td>Hugh Jackman, Liev Schreiber, Danny Huston, wi...</td>\n",
              "      <td>United States, United Kingdom</td>\n",
              "      <td>2021-06-04</td>\n",
              "      <td>PG-13</td>\n",
              "      <td>108 min</td>\n",
              "      <td>Action-Adventure, Family, Science Fiction</td>\n",
              "      <td>Wolverine unites with legendary X-Men to fight...</td>\n",
              "    </tr>\n",
              "    <tr>\n",
              "      <th>1446</th>\n",
              "      <td>s1447</td>\n",
              "      <td>Movie</td>\n",
              "      <td>Night at the Museum: Battle of the Smithsonian</td>\n",
              "      <td>Shawn Levy</td>\n",
              "      <td>Ben Stiller, Amy Adams, Owen Wilson, Hank Azar...</td>\n",
              "      <td>United States, Canada</td>\n",
              "      <td>2021-04-02</td>\n",
              "      <td>PG</td>\n",
              "      <td>106 min</td>\n",
              "      <td>Action-Adventure, Comedy, Family</td>\n",
              "      <td>Larry Daley returns to rescue some old friends...</td>\n",
              "    </tr>\n",
              "    <tr>\n",
              "      <th>1447</th>\n",
              "      <td>s1448</td>\n",
              "      <td>Movie</td>\n",
              "      <td>Eddie the Eagle</td>\n",
              "      <td>Dexter Fletcher</td>\n",
              "      <td>Tom Costello, Jo Hartley, Keith Allen, Dickon ...</td>\n",
              "      <td>United Kingdom, Germany, United States</td>\n",
              "      <td>2020-12-18</td>\n",
              "      <td>PG-13</td>\n",
              "      <td>107 min</td>\n",
              "      <td>Biographical, Comedy, Drama</td>\n",
              "      <td>True story of Eddie Edwards, a British ski-jum...</td>\n",
              "    </tr>\n",
              "    <tr>\n",
              "      <th>1448</th>\n",
              "      <td>s1449</td>\n",
              "      <td>Movie</td>\n",
              "      <td>Bend It Like Beckham</td>\n",
              "      <td>Gurinder Chadha</td>\n",
              "      <td>Parminder Nagra, Keira Knightley, Jonathan Rhy...</td>\n",
              "      <td>United Kingdom, Germany, United States</td>\n",
              "      <td>2020-09-18</td>\n",
              "      <td>PG-13</td>\n",
              "      <td>112 min</td>\n",
              "      <td>Buddy, Comedy, Coming of Age</td>\n",
              "      <td>Despite the wishes of their traditional famili...</td>\n",
              "    </tr>\n",
              "    <tr>\n",
              "      <th>1449</th>\n",
              "      <td>s1450</td>\n",
              "      <td>Movie</td>\n",
              "      <td>Captain Sparky vs. The Flying Saucers</td>\n",
              "      <td>Mark Waring</td>\n",
              "      <td>Charlie Tahan</td>\n",
              "      <td>United States</td>\n",
              "      <td>2020-04-01</td>\n",
              "      <td>TV-G</td>\n",
              "      <td>2 min</td>\n",
              "      <td>Action-Adventure, Animals , Nature, Animation</td>\n",
              "      <td>View one of Sparky's favorite home movies.</td>\n",
              "    </tr>\n",
              "  </tbody>\n",
              "</table>\n",
              "</div>\n",
              "    <div class=\"colab-df-buttons\">\n",
              "\n",
              "  <div class=\"colab-df-container\">\n",
              "    <button class=\"colab-df-convert\" onclick=\"convertToInteractive('df-ad134986-6745-4d3a-8ce3-e8536b59fff1')\"\n",
              "            title=\"Convert this dataframe to an interactive table.\"\n",
              "            style=\"display:none;\">\n",
              "\n",
              "  <svg xmlns=\"http://www.w3.org/2000/svg\" height=\"24px\" viewBox=\"0 -960 960 960\">\n",
              "    <path d=\"M120-120v-720h720v720H120Zm60-500h600v-160H180v160Zm220 220h160v-160H400v160Zm0 220h160v-160H400v160ZM180-400h160v-160H180v160Zm440 0h160v-160H620v160ZM180-180h160v-160H180v160Zm440 0h160v-160H620v160Z\"/>\n",
              "  </svg>\n",
              "    </button>\n",
              "\n",
              "  <style>\n",
              "    .colab-df-container {\n",
              "      display:flex;\n",
              "      gap: 12px;\n",
              "    }\n",
              "\n",
              "    .colab-df-convert {\n",
              "      background-color: #E8F0FE;\n",
              "      border: none;\n",
              "      border-radius: 50%;\n",
              "      cursor: pointer;\n",
              "      display: none;\n",
              "      fill: #1967D2;\n",
              "      height: 32px;\n",
              "      padding: 0 0 0 0;\n",
              "      width: 32px;\n",
              "    }\n",
              "\n",
              "    .colab-df-convert:hover {\n",
              "      background-color: #E2EBFA;\n",
              "      box-shadow: 0px 1px 2px rgba(60, 64, 67, 0.3), 0px 1px 3px 1px rgba(60, 64, 67, 0.15);\n",
              "      fill: #174EA6;\n",
              "    }\n",
              "\n",
              "    .colab-df-buttons div {\n",
              "      margin-bottom: 4px;\n",
              "    }\n",
              "\n",
              "    [theme=dark] .colab-df-convert {\n",
              "      background-color: #3B4455;\n",
              "      fill: #D2E3FC;\n",
              "    }\n",
              "\n",
              "    [theme=dark] .colab-df-convert:hover {\n",
              "      background-color: #434B5C;\n",
              "      box-shadow: 0px 1px 3px 1px rgba(0, 0, 0, 0.15);\n",
              "      filter: drop-shadow(0px 1px 2px rgba(0, 0, 0, 0.3));\n",
              "      fill: #FFFFFF;\n",
              "    }\n",
              "  </style>\n",
              "\n",
              "    <script>\n",
              "      const buttonEl =\n",
              "        document.querySelector('#df-ad134986-6745-4d3a-8ce3-e8536b59fff1 button.colab-df-convert');\n",
              "      buttonEl.style.display =\n",
              "        google.colab.kernel.accessAllowed ? 'block' : 'none';\n",
              "\n",
              "      async function convertToInteractive(key) {\n",
              "        const element = document.querySelector('#df-ad134986-6745-4d3a-8ce3-e8536b59fff1');\n",
              "        const dataTable =\n",
              "          await google.colab.kernel.invokeFunction('convertToInteractive',\n",
              "                                                    [key], {});\n",
              "        if (!dataTable) return;\n",
              "\n",
              "        const docLinkHtml = 'Like what you see? Visit the ' +\n",
              "          '<a target=\"_blank\" href=https://colab.research.google.com/notebooks/data_table.ipynb>data table notebook</a>'\n",
              "          + ' to learn more about interactive tables.';\n",
              "        element.innerHTML = '';\n",
              "        dataTable['output_type'] = 'display_data';\n",
              "        await google.colab.output.renderOutput(dataTable, element);\n",
              "        const docLink = document.createElement('div');\n",
              "        docLink.innerHTML = docLinkHtml;\n",
              "        element.appendChild(docLink);\n",
              "      }\n",
              "    </script>\n",
              "  </div>\n",
              "\n",
              "\n",
              "<div id=\"df-d68edaa9-1f62-4761-9276-7a66e14b9a4f\">\n",
              "  <button class=\"colab-df-quickchart\" onclick=\"quickchart('df-d68edaa9-1f62-4761-9276-7a66e14b9a4f')\"\n",
              "            title=\"Suggest charts.\"\n",
              "            style=\"display:none;\">\n",
              "\n",
              "<svg xmlns=\"http://www.w3.org/2000/svg\" height=\"24px\"viewBox=\"0 0 24 24\"\n",
              "     width=\"24px\">\n",
              "    <g>\n",
              "        <path d=\"M19 3H5c-1.1 0-2 .9-2 2v14c0 1.1.9 2 2 2h14c1.1 0 2-.9 2-2V5c0-1.1-.9-2-2-2zM9 17H7v-7h2v7zm4 0h-2V7h2v10zm4 0h-2v-4h2v4z\"/>\n",
              "    </g>\n",
              "</svg>\n",
              "  </button>\n",
              "\n",
              "<style>\n",
              "  .colab-df-quickchart {\n",
              "      --bg-color: #E8F0FE;\n",
              "      --fill-color: #1967D2;\n",
              "      --hover-bg-color: #E2EBFA;\n",
              "      --hover-fill-color: #174EA6;\n",
              "      --disabled-fill-color: #AAA;\n",
              "      --disabled-bg-color: #DDD;\n",
              "  }\n",
              "\n",
              "  [theme=dark] .colab-df-quickchart {\n",
              "      --bg-color: #3B4455;\n",
              "      --fill-color: #D2E3FC;\n",
              "      --hover-bg-color: #434B5C;\n",
              "      --hover-fill-color: #FFFFFF;\n",
              "      --disabled-bg-color: #3B4455;\n",
              "      --disabled-fill-color: #666;\n",
              "  }\n",
              "\n",
              "  .colab-df-quickchart {\n",
              "    background-color: var(--bg-color);\n",
              "    border: none;\n",
              "    border-radius: 50%;\n",
              "    cursor: pointer;\n",
              "    display: none;\n",
              "    fill: var(--fill-color);\n",
              "    height: 32px;\n",
              "    padding: 0;\n",
              "    width: 32px;\n",
              "  }\n",
              "\n",
              "  .colab-df-quickchart:hover {\n",
              "    background-color: var(--hover-bg-color);\n",
              "    box-shadow: 0 1px 2px rgba(60, 64, 67, 0.3), 0 1px 3px 1px rgba(60, 64, 67, 0.15);\n",
              "    fill: var(--button-hover-fill-color);\n",
              "  }\n",
              "\n",
              "  .colab-df-quickchart-complete:disabled,\n",
              "  .colab-df-quickchart-complete:disabled:hover {\n",
              "    background-color: var(--disabled-bg-color);\n",
              "    fill: var(--disabled-fill-color);\n",
              "    box-shadow: none;\n",
              "  }\n",
              "\n",
              "  .colab-df-spinner {\n",
              "    border: 2px solid var(--fill-color);\n",
              "    border-color: transparent;\n",
              "    border-bottom-color: var(--fill-color);\n",
              "    animation:\n",
              "      spin 1s steps(1) infinite;\n",
              "  }\n",
              "\n",
              "  @keyframes spin {\n",
              "    0% {\n",
              "      border-color: transparent;\n",
              "      border-bottom-color: var(--fill-color);\n",
              "      border-left-color: var(--fill-color);\n",
              "    }\n",
              "    20% {\n",
              "      border-color: transparent;\n",
              "      border-left-color: var(--fill-color);\n",
              "      border-top-color: var(--fill-color);\n",
              "    }\n",
              "    30% {\n",
              "      border-color: transparent;\n",
              "      border-left-color: var(--fill-color);\n",
              "      border-top-color: var(--fill-color);\n",
              "      border-right-color: var(--fill-color);\n",
              "    }\n",
              "    40% {\n",
              "      border-color: transparent;\n",
              "      border-right-color: var(--fill-color);\n",
              "      border-top-color: var(--fill-color);\n",
              "    }\n",
              "    60% {\n",
              "      border-color: transparent;\n",
              "      border-right-color: var(--fill-color);\n",
              "    }\n",
              "    80% {\n",
              "      border-color: transparent;\n",
              "      border-right-color: var(--fill-color);\n",
              "      border-bottom-color: var(--fill-color);\n",
              "    }\n",
              "    90% {\n",
              "      border-color: transparent;\n",
              "      border-bottom-color: var(--fill-color);\n",
              "    }\n",
              "  }\n",
              "</style>\n",
              "\n",
              "  <script>\n",
              "    async function quickchart(key) {\n",
              "      const quickchartButtonEl =\n",
              "        document.querySelector('#' + key + ' button');\n",
              "      quickchartButtonEl.disabled = true;  // To prevent multiple clicks.\n",
              "      quickchartButtonEl.classList.add('colab-df-spinner');\n",
              "      try {\n",
              "        const charts = await google.colab.kernel.invokeFunction(\n",
              "            'suggestCharts', [key], {});\n",
              "      } catch (error) {\n",
              "        console.error('Error during call to suggestCharts:', error);\n",
              "      }\n",
              "      quickchartButtonEl.classList.remove('colab-df-spinner');\n",
              "      quickchartButtonEl.classList.add('colab-df-quickchart-complete');\n",
              "    }\n",
              "    (() => {\n",
              "      let quickchartButtonEl =\n",
              "        document.querySelector('#df-d68edaa9-1f62-4761-9276-7a66e14b9a4f button');\n",
              "      quickchartButtonEl.style.display =\n",
              "        google.colab.kernel.accessAllowed ? 'block' : 'none';\n",
              "    })();\n",
              "  </script>\n",
              "</div>\n",
              "    </div>\n",
              "  </div>\n"
            ]
          },
          "metadata": {},
          "execution_count": 21
        }
      ]
    },
    {
      "cell_type": "markdown",
      "source": [
        "### Сколько пропусков?\n",
        "\n",
        "В этой задаче требуется вывести количество пропущенных значений по каждому стобцу."
      ],
      "metadata": {
        "id": "bf32c7M17j0H"
      }
    },
    {
      "cell_type": "code",
      "source": [
        "data.isnull().sum()"
      ],
      "metadata": {
        "colab": {
          "base_uri": "https://localhost:8080/"
        },
        "id": "NkZa0LfX7n8b",
        "outputId": "f2830e60-b33b-4273-acc5-7d0ba93ac8c0"
      },
      "execution_count": 23,
      "outputs": [
        {
          "output_type": "execute_result",
          "data": {
            "text/plain": [
              "Show_id          0\n",
              "Type             0\n",
              "Title            0\n",
              "Director       473\n",
              "Cast           190\n",
              "Country        219\n",
              "Date_added       3\n",
              "Rating           3\n",
              "Duration         0\n",
              "Listed_in        0\n",
              "Description      0\n",
              "dtype: int64"
            ]
          },
          "metadata": {},
          "execution_count": 23
        }
      ]
    },
    {
      "cell_type": "markdown",
      "source": [
        "#### Удаление?\n",
        "\n",
        "CSV-файл доступен под названием `'disney_title.csv'`. По результатам седьмого задания мы выяснили, что небольшое количество пропущенных значений (по три) находятся в столбцах `'rating'` и `'Date'`. Воспользуйтесь функцией `'dropna()'` для удаление пропущенных значений во всех столбцах. В результате выведите количество пропущенных переменных по каждому столбцу в вашем датасете."
      ],
      "metadata": {
        "id": "HaxaR26Y75hc"
      }
    },
    {
      "cell_type": "code",
      "source": [
        "copy_data = data.dropna(how = 'any')\n",
        "copy_data.isnull().sum()"
      ],
      "metadata": {
        "colab": {
          "base_uri": "https://localhost:8080/"
        },
        "id": "CxxgVhqQ7ybi",
        "outputId": "cb07d6c6-1ae7-41ae-dbf6-4b72093447bb"
      },
      "execution_count": 24,
      "outputs": [
        {
          "output_type": "execute_result",
          "data": {
            "text/plain": [
              "Show_id        0\n",
              "Type           0\n",
              "Title          0\n",
              "Director       0\n",
              "Cast           0\n",
              "Country        0\n",
              "Date_added     0\n",
              "Rating         0\n",
              "Duration       0\n",
              "Listed_in      0\n",
              "Description    0\n",
              "dtype: int64"
            ]
          },
          "metadata": {},
          "execution_count": 24
        }
      ]
    },
    {
      "cell_type": "markdown",
      "source": [
        "#### Какой процент пропусков?\n",
        "\n",
        "В предыдущем задании мы смотрели на пропущенные значения без анализа их количества относительно количество заполненных значений во всем датасете. В этом задании мы продолжим работать с CSV файлом под названием 'disney_title.csv'. Выведите процент пропущенных значений относительного всех значений. Результат округлите до сотых с помощью функции \"round()\"."
      ],
      "metadata": {
        "id": "r8zV-Dqm83R1"
      }
    },
    {
      "cell_type": "code",
      "source": [
        "data.isnull().mean()*100"
      ],
      "metadata": {
        "colab": {
          "base_uri": "https://localhost:8080/"
        },
        "id": "zCR63UyB89ae",
        "outputId": "99eb49cf-ddac-47c5-8e60-7e1693ccca2f"
      },
      "execution_count": 25,
      "outputs": [
        {
          "output_type": "execute_result",
          "data": {
            "text/plain": [
              "Show_id         0.000000\n",
              "Type            0.000000\n",
              "Title           0.000000\n",
              "Director       32.620690\n",
              "Cast           13.103448\n",
              "Country        15.103448\n",
              "Date_added      0.206897\n",
              "Rating          0.206897\n",
              "Duration        0.000000\n",
              "Listed_in       0.000000\n",
              "Description     0.000000\n",
              "dtype: float64"
            ]
          },
          "metadata": {},
          "execution_count": 25
        }
      ]
    },
    {
      "cell_type": "markdown",
      "source": [
        "#### Замена пропусков\n",
        "\n",
        "Из предыдущего задания мы выяснили, что наибольшие проценты пропущенных значений в CSV файле 'disney_title.csv' находятся в стобцах director (32.62%), cast (13.10%) и country (15.10%). В этом задании заменить пропущенные значения в стобце 'country' на 'Country not specified' с помощью функции 'fillna'. Выведите первые пять первых значений переменной 'country'."
      ],
      "metadata": {
        "id": "bcRzpY6B-YEn"
      }
    },
    {
      "cell_type": "code",
      "source": [
        "data['Director'].fillna('Country not specified', inplace = True)\n",
        "data['Cast'].fillna('Country not specified', inplace = True)\n",
        "data['Country'].fillna('Country not specified', inplace = True)\n",
        "data['Country'].head()"
      ],
      "metadata": {
        "colab": {
          "base_uri": "https://localhost:8080/"
        },
        "id": "fcBvUudS93HH",
        "outputId": "6d43d359-87df-43f9-8c21-56833cef600a"
      },
      "execution_count": 29,
      "outputs": [
        {
          "output_type": "execute_result",
          "data": {
            "text/plain": [
              "0    Country not specified\n",
              "1    Country not specified\n",
              "2            United States\n",
              "3    Country not specified\n",
              "4    Country not specified\n",
              "Name: Country, dtype: object"
            ]
          },
          "metadata": {},
          "execution_count": 29
        }
      ]
    }
  ]
}