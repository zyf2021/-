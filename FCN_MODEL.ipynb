{
  "nbformat": 4,
  "nbformat_minor": 0,
  "metadata": {
    "colab": {
      "provenance": [],
      "gpuType": "T4",
      "mount_file_id": "14s6xymoSQM6Uv8HFzurefK7ijrF01yww",
      "authorship_tag": "ABX9TyN5yLBqDmonxhg9GilYrknq",
      "include_colab_link": true
    },
    "kernelspec": {
      "name": "python3",
      "display_name": "Python 3"
    },
    "language_info": {
      "name": "python"
    },
    "accelerator": "GPU"
  },
  "cells": [
    {
      "cell_type": "markdown",
      "metadata": {
        "id": "view-in-github",
        "colab_type": "text"
      },
      "source": [
        "<a href=\"https://colab.research.google.com/github/zyf2021/-/blob/main/FCN_MODEL.ipynb\" target=\"_parent\"><img src=\"https://colab.research.google.com/assets/colab-badge.svg\" alt=\"Open In Colab\"/></a>"
      ]
    },
    {
      "cell_type": "markdown",
      "source": [
        "# Предобученная модель"
      ],
      "metadata": {
        "id": "KhhxsJIQb6V2"
      }
    },
    {
      "cell_type": "code",
      "execution_count": null,
      "metadata": {
        "colab": {
          "base_uri": "https://localhost:8080/",
          "height": 534
        },
        "id": "bOTTlIPyaUHH",
        "outputId": "beb277db-a80c-4d28-f48f-cceb687a2f09"
      },
      "outputs": [
        {
          "output_type": "stream",
          "name": "stderr",
          "text": [
            "/usr/local/lib/python3.10/dist-packages/torchvision/models/_utils.py:208: UserWarning: The parameter 'pretrained' is deprecated since 0.13 and may be removed in the future, please use 'weights' instead.\n",
            "  warnings.warn(\n",
            "/usr/local/lib/python3.10/dist-packages/torchvision/models/_utils.py:223: UserWarning: Arguments other than a weight enum or `None` for 'weights' are deprecated since 0.13 and may be removed in the future. The current behavior is equivalent to passing `weights=FCN_ResNet101_Weights.COCO_WITH_VOC_LABELS_V1`. You can also use `weights=FCN_ResNet101_Weights.DEFAULT` to get the most up-to-date weights.\n",
            "  warnings.warn(msg)\n",
            "Downloading: \"https://download.pytorch.org/models/fcn_resnet101_coco-7ecb50ca.pth\" to /root/.cache/torch/hub/checkpoints/fcn_resnet101_coco-7ecb50ca.pth\n",
            "100%|██████████| 208M/208M [00:04<00:00, 47.9MB/s]\n"
          ]
        },
        {
          "output_type": "display_data",
          "data": {
            "text/plain": [
              "<Figure size 640x480 with 1 Axes>"
            ],
            "image/png": "[encoded data removed]"
          },
          "metadata": {}
        }
      ],
      "source": [
        "import torch\n",
        "import torchvision.models.segmentation as models\n",
        "import torchvision.transforms as transforms\n",
        "from PIL import Image\n",
        "import matplotlib.pyplot as plt\n",
        "\n",
        "# Загрузка предварительно обученной модели FCN\n",
        "fcn_model = models.fcn_resnet101(pretrained=True)\n",
        "\n",
        "# Переключение модели в режим оценки (evaluation mode)\n",
        "fcn_model.eval()\n",
        "\n",
        "# Преобразование входного изображения\n",
        "transform = transforms.Compose([\n",
        "    transforms.Resize(256),  # Масштабирование изображения до 256x256\n",
        "    transforms.CenterCrop(224),  # Обрезка изображения до размера 224x224\n",
        "    transforms.ToTensor(),  # Преобразование изображения в тензор\n",
        "    transforms.Normalize(mean=[0.485, 0.456, 0.406], std=[0.229, 0.224, 0.225])  # Нормализация значений пикселей\n",
        "])\n",
        "\n",
        "# Загрузка и обработка входного изображения\n",
        "image_path = 'apple.jpg'\n",
        "image = Image.open(image_path)\n",
        "input_tensor = transform(image).unsqueeze(0)  # Добавление размерности пакета\n",
        "\n",
        "# Подача изображения на вход модели\n",
        "with torch.no_grad():\n",
        "    output = fcn_model(input_tensor)['out']\n",
        "\n",
        "# Получение маски сегментации\n",
        "segmentation_mask = torch.argmax(output.squeeze(), dim=0).detach().cpu().numpy()\n",
        "\n",
        "# Визуализация маски сегментации\n",
        "plt.imshow(segmentation_mask, cmap='jet')\n",
        "plt.axis('off')\n",
        "plt.show()\n"
      ]
    },
    {
      "cell_type": "code",
      "source": [
        "!unzip '/content/drive/MyDrive/building_damages.zip' -d \"/content/drive/MyDrive/building_damages\""
      ],
      "metadata": {
        "id": "EcNAK3ROhzVF"
      },
      "execution_count": null,
      "outputs": []
    },
    {
      "cell_type": "code",
      "source": [
        "# Путь к папке с изображениями и масками\n",
        "train_folder = '/content/drive/MyDrive/building_damages/valid'\n",
        "\n",
        "# Получение списка файлов в папке train\n",
        "files = os.listdir(train_folder)\n",
        "print(files)\n",
        "\n",
        "# Фильтрация файлов по расширению\n",
        "image_files = [file for file in files if file.endswith('.jpg')]\n",
        "mask_files = [file for file in files if file.endswith('_mask.png')]\n",
        "print(image_files)\n",
        "print(mask_files)\n",
        "\n",
        "# Создание папок image и mask, если они не существуют\n",
        "image_folder = os.path.join(train_folder, 'image')\n",
        "mask_folder = os.path.join(train_folder, 'mask')\n",
        "os.makedirs(image_folder, exist_ok=True)\n",
        "os.makedirs(mask_folder, exist_ok=True)\n",
        "\n",
        "\n",
        "for image_file in image_files:\n",
        "  src_image = os.path.join(train_folder, image_file)\n",
        "  dst_image = os.path.join(image_folder, image_file)\n",
        "  shutil.move(src_image, dst_image)\n",
        "\n",
        "\n",
        "for mask_file in mask_files:\n",
        "  src_mask = os.path.join(train_folder, mask_file)\n",
        "  dst_mask = os.path.join(mask_folder, mask_file)\n",
        "  shutil.move(src_mask, dst_mask)"
      ],
      "metadata": {
        "colab": {
          "base_uri": "https://localhost:8080/"
        },
        "id": "Zx0ruWjqK3xB",
        "outputId": "02d438c4-d2d1-41a0-bbd5-29b713e3d2bb"
      },
      "execution_count": null,
      "outputs": [
        {
          "output_type": "stream",
          "name": "stdout",
          "text": [
            "['-157955495_jpg.rf.4f70998ae6f955311eb9a1a13850ec49.jpg', '-157955495_jpg.rf.4f70998ae6f955311eb9a1a13850ec49_mask.png', '-2_jpg.rf.662a31f945f2a313131da1f11ecb920d.jpg', '-2_jpg.rf.662a31f945f2a313131da1f11ecb920d_mask.png', '13_jpg.rf.cd1e4090dd26d9f5c982a26bc5524b6d.jpg', '13_jpg.rf.cd1e4090dd26d9f5c982a26bc5524b6d_mask.png', '1627117939_24-kartinkin-com-p-kirpich-so-shtukaturkoi-tekstura-krasivo-33_jpg.rf.67b210ff329b2a38c1db4590b3d404df.jpg', '1627117939_24-kartinkin-com-p-kirpich-so-shtukaturkoi-tekstura-krasivo-33_jpg.rf.67b210ff329b2a38c1db4590b3d404df_mask.png', '1628cf09c04849160cf1fec290921ff6_jpeg.rf.4733ee6541c5d652e6279f4dbf4428b9.jpg', '1628cf09c04849160cf1fec290921ff6_jpeg.rf.4733ee6541c5d652e6279f4dbf4428b9_mask.png', '1639796818_30-pro-dachnikov-com-p-foto-starinnoi-kladki-34_jpg.rf.b163455a12070202c585c97a03e96bac.jpg', '1639796818_30-pro-dachnikov-com-p-foto-starinnoi-kladki-34_jpg.rf.b163455a12070202c585c97a03e96bac_mask.png', '21024_jpg.rf.e480d1c7a968f32fa425ad1bb29d8d9b.jpg', '21024_jpg.rf.e480d1c7a968f32fa425ad1bb29d8d9b_mask.png', '23587cd5e1a9ad88040759a416649902_jpeg.rf.0b3b7442bbc35faedcf4afe44f75e7ab.jpg', '23587cd5e1a9ad88040759a416649902_jpeg.rf.0b3b7442bbc35faedcf4afe44f75e7ab_mask.png', '329d576f35a1e5bc53d047edb2c3c2c8_jpeg.rf.9026943577651447c5b454121bb3c3c5.jpg', '329d576f35a1e5bc53d047edb2c3c2c8_jpeg.rf.9026943577651447c5b454121bb3c3c5_mask.png', '3g_jpg.rf.a66fd53cd9ab152e77dd7f314350e47d.jpg', '3g_jpg.rf.a66fd53cd9ab152e77dd7f314350e47d_mask.png', '59a7f2d69b4a7eab7c51551766203bb3_jpeg.rf.ee0208bd1fa5881098d5a439e12b6110.jpg', '59a7f2d69b4a7eab7c51551766203bb3_jpeg.rf.ee0208bd1fa5881098d5a439e12b6110_mask.png', '5_jpg.rf.3890c98c66b32cb5010cf61634ec4e3b.jpg', '5_jpg.rf.3890c98c66b32cb5010cf61634ec4e3b_mask.png', '5f0cb8b8f325272d3883be8f553f2193_jpeg.rf.db532cfbcddfac3febf9d25398c4fe78.jpg', '5f0cb8b8f325272d3883be8f553f2193_jpeg.rf.db532cfbcddfac3febf9d25398c4fe78_mask.png', '811ac8dfa908053f5ae738aab2fdad6d_jpg.rf.cc0425575dc8e2544563a42930737079.jpg', '811ac8dfa908053f5ae738aab2fdad6d_jpg.rf.cc0425575dc8e2544563a42930737079_mask.png', 'Image_-105-_jpg.rf.34cbea2528463afefe62d007f61ec572.jpg', 'Image_-105-_jpg.rf.34cbea2528463afefe62d007f61ec572_mask.png', 'Image_-156-_jpg.rf.b79598394f9e1a59dc521179f590f9a6.jpg', 'Image_-156-_jpg.rf.b79598394f9e1a59dc521179f590f9a6_mask.png', 'Image_-184-_jpg.rf.1b1630256a466ca547ebeb7ac795ea04.jpg', 'Image_-184-_jpg.rf.1b1630256a466ca547ebeb7ac795ea04_mask.png', 'Image_-198-_jpg.rf.b5bee3ee602ea5ca87892b6f8288474f.jpg', 'Image_-198-_jpg.rf.b5bee3ee602ea5ca87892b6f8288474f_mask.png', 'Image_-200-_jpg.rf.8a316c4641c97a91deac672d44ecd809.jpg', 'Image_-200-_jpg.rf.8a316c4641c97a91deac672d44ecd809_mask.png', 'Image_-26-_jpg.rf.baf0e6b09ad968b0b448f1847488db58.jpg', 'Image_-26-_jpg.rf.baf0e6b09ad968b0b448f1847488db58_mask.png', 'Image_-277-_jpg.rf.834d02bbad88b6a52ec234009fa10854.jpg', 'Image_-277-_jpg.rf.834d02bbad88b6a52ec234009fa10854_mask.png', 'Screenshot_14_png.rf.c6d0a5630e938ab876cc2d6a0960b428.jpg', 'Screenshot_14_png.rf.c6d0a5630e938ab876cc2d6a0960b428_mask.png', '_classes.csv', 'a67e340d7846f566f9e1e02364573d5e_jpg.rf.725be5b3b943e4f19c036a7fd4a38c67.jpg', 'a67e340d7846f566f9e1e02364573d5e_jpg.rf.725be5b3b943e4f19c036a7fd4a38c67_mask.png', 'dr_318_9110_jpg.rf.8a4b17fd0591d02193bd645cf13a280a.jpg', 'dr_318_9110_jpg.rf.8a4b17fd0591d02193bd645cf13a280a_mask.png', 'dr_335_3506_jpg.rf.18ba63cedd23d398c2ba8cd7cc3ae0bc.jpg', 'dr_335_3506_jpg.rf.18ba63cedd23d398c2ba8cd7cc3ae0bc_mask.png', 'dr_338_5276_jpg.rf.862574f0db51a5e3f807f17bf7aec2e2.jpg', 'dr_338_5276_jpg.rf.862574f0db51a5e3f807f17bf7aec2e2_mask.png', 'f2364b9e4ee46ba9dbcde1c862ef2df1_jpeg.rf.057752b9e2303d856c47e1ce3f2e77e8.jpg', 'f2364b9e4ee46ba9dbcde1c862ef2df1_jpeg.rf.057752b9e2303d856c47e1ce3f2e77e8_mask.png', 'fa9f7b57729503ee37ab67422e178690_jpg.rf.3ab8a94882a68f99937699d617b75320.jpg', 'fa9f7b57729503ee37ab67422e178690_jpg.rf.3ab8a94882a68f99937699d617b75320_mask.png', 'g3PMoOtA00_jpg.rf.8734fe3fe941ef18d56eb8e76bc5553c.jpg', 'g3PMoOtA00_jpg.rf.8734fe3fe941ef18d56eb8e76bc5553c_mask.png', 'image4-1-1-min_jpg.rf.c7197961c1f72957443e378ada95e811.jpg', 'image4-1-1-min_jpg.rf.c7197961c1f72957443e378ada95e811_mask.png', 'l1048755080_jpg.rf.f35cf9c978d18e7390005ac0c5ec4683.jpg', 'l1048755080_jpg.rf.f35cf9c978d18e7390005ac0c5ec4683_mask.png', 'metall-kraska-rzhavchina-5466_jpg.rf.b81bdd19c2d546f00a984afe81148a7d.jpg', 'metall-kraska-rzhavchina-5466_jpg.rf.b81bdd19c2d546f00a984afe81148a7d_mask.png', 'povrezhdenie-derevyannoj-konstrukcii_jpg.rf.9c1c72d639a73cb62341f794bfe9e263.jpg', 'povrezhdenie-derevyannoj-konstrukcii_jpg.rf.9c1c72d639a73cb62341f794bfe9e263_mask.png', 'remont-nizhnih-ventsov-derevyannogo-doma-chasche-trebuetsya-tam-gde-drevesina-ne-poluchila-dolzhnoy-_jpg.rf.5605ed25f91e54dbcef45f4e376f9af0.jpg', 'remont-nizhnih-ventsov-derevyannogo-doma-chasche-trebuetsya-tam-gde-drevesina-ne-poluchila-dolzhnoy-_jpg.rf.5605ed25f91e54dbcef45f4e376f9af0_mask.png', 'rock-wood-vintage-texture-old-wall-red-soil-stone-wall-brick-terrain-material-concrete-geology-ruins-bricks-brickwork-plaster-ancient-history-723070_jpg.rf.da6617758bbab908f958b5412f3e6b96.jpg', 'rock-wood-vintage-texture-old-wall-red-soil-stone-wall-brick-terrain-material-concrete-geology-ruins-bricks-brickwork-plaster-ancient-history-723070_jpg.rf.da6617758bbab908f958b5412f3e6b96_mask.png', 'scale_1200_png.rf.a94ac701f57c0a3c25fae4d377cab9a8.jpg', 'scale_1200_png.rf.a94ac701f57c0a3c25fae4d377cab9a8_mask.png', 'slide-47_jpg.rf.183837a803652909df3727b7a9164045.jpg', 'slide-47_jpg.rf.183837a803652909df3727b7a9164045_mask.png', 'wood-texture-wall-steel-rust-metal-soil-brick-material-painting-weathered-rusty-iron-stainless-1239229_jpg.rf.4dd501e35b4c978c70f96cac67e04e1e.jpg', 'wood-texture-wall-steel-rust-metal-soil-brick-material-painting-weathered-rusty-iron-stainless-1239229_jpg.rf.4dd501e35b4c978c70f96cac67e04e1e_mask.png', 'zacshita-kirpichnoj-kladki-ot-vlagi_1_jpg.rf.b7d3c0aa06465bb81252dc7a878a9f30.jpg', 'zacshita-kirpichnoj-kladki-ot-vlagi_1_jpg.rf.b7d3c0aa06465bb81252dc7a878a9f30_mask.png']\n",
            "['-157955495_jpg.rf.4f70998ae6f955311eb9a1a13850ec49.jpg', '-2_jpg.rf.662a31f945f2a313131da1f11ecb920d.jpg', '13_jpg.rf.cd1e4090dd26d9f5c982a26bc5524b6d.jpg', '1627117939_24-kartinkin-com-p-kirpich-so-shtukaturkoi-tekstura-krasivo-33_jpg.rf.67b210ff329b2a38c1db4590b3d404df.jpg', '1628cf09c04849160cf1fec290921ff6_jpeg.rf.4733ee6541c5d652e6279f4dbf4428b9.jpg', '1639796818_30-pro-dachnikov-com-p-foto-starinnoi-kladki-34_jpg.rf.b163455a12070202c585c97a03e96bac.jpg', '21024_jpg.rf.e480d1c7a968f32fa425ad1bb29d8d9b.jpg', '23587cd5e1a9ad88040759a416649902_jpeg.rf.0b3b7442bbc35faedcf4afe44f75e7ab.jpg', '329d576f35a1e5bc53d047edb2c3c2c8_jpeg.rf.9026943577651447c5b454121bb3c3c5.jpg', '3g_jpg.rf.a66fd53cd9ab152e77dd7f314350e47d.jpg', '59a7f2d69b4a7eab7c51551766203bb3_jpeg.rf.ee0208bd1fa5881098d5a439e12b6110.jpg', '5_jpg.rf.3890c98c66b32cb5010cf61634ec4e3b.jpg', '5f0cb8b8f325272d3883be8f553f2193_jpeg.rf.db532cfbcddfac3febf9d25398c4fe78.jpg', '811ac8dfa908053f5ae738aab2fdad6d_jpg.rf.cc0425575dc8e2544563a42930737079.jpg', 'Image_-105-_jpg.rf.34cbea2528463afefe62d007f61ec572.jpg', 'Image_-156-_jpg.rf.b79598394f9e1a59dc521179f590f9a6.jpg', 'Image_-184-_jpg.rf.1b1630256a466ca547ebeb7ac795ea04.jpg', 'Image_-198-_jpg.rf.b5bee3ee602ea5ca87892b6f8288474f.jpg', 'Image_-200-_jpg.rf.8a316c4641c97a91deac672d44ecd809.jpg', 'Image_-26-_jpg.rf.baf0e6b09ad968b0b448f1847488db58.jpg', 'Image_-277-_jpg.rf.834d02bbad88b6a52ec234009fa10854.jpg', 'Screenshot_14_png.rf.c6d0a5630e938ab876cc2d6a0960b428.jpg', 'a67e340d7846f566f9e1e02364573d5e_jpg.rf.725be5b3b943e4f19c036a7fd4a38c67.jpg', 'dr_318_9110_jpg.rf.8a4b17fd0591d02193bd645cf13a280a.jpg', 'dr_335_3506_jpg.rf.18ba63cedd23d398c2ba8cd7cc3ae0bc.jpg', 'dr_338_5276_jpg.rf.862574f0db51a5e3f807f17bf7aec2e2.jpg', 'f2364b9e4ee46ba9dbcde1c862ef2df1_jpeg.rf.057752b9e2303d856c47e1ce3f2e77e8.jpg', 'fa9f7b57729503ee37ab67422e178690_jpg.rf.3ab8a94882a68f99937699d617b75320.jpg', 'g3PMoOtA00_jpg.rf.8734fe3fe941ef18d56eb8e76bc5553c.jpg', 'image4-1-1-min_jpg.rf.c7197961c1f72957443e378ada95e811.jpg', 'l1048755080_jpg.rf.f35cf9c978d18e7390005ac0c5ec4683.jpg', 'metall-kraska-rzhavchina-5466_jpg.rf.b81bdd19c2d546f00a984afe81148a7d.jpg', 'povrezhdenie-derevyannoj-konstrukcii_jpg.rf.9c1c72d639a73cb62341f794bfe9e263.jpg', 'remont-nizhnih-ventsov-derevyannogo-doma-chasche-trebuetsya-tam-gde-drevesina-ne-poluchila-dolzhnoy-_jpg.rf.5605ed25f91e54dbcef45f4e376f9af0.jpg', 'rock-wood-vintage-texture-old-wall-red-soil-stone-wall-brick-terrain-material-concrete-geology-ruins-bricks-brickwork-plaster-ancient-history-723070_jpg.rf.da6617758bbab908f958b5412f3e6b96.jpg', 'scale_1200_png.rf.a94ac701f57c0a3c25fae4d377cab9a8.jpg', 'slide-47_jpg.rf.183837a803652909df3727b7a9164045.jpg', 'wood-texture-wall-steel-rust-metal-soil-brick-material-painting-weathered-rusty-iron-stainless-1239229_jpg.rf.4dd501e35b4c978c70f96cac67e04e1e.jpg', 'zacshita-kirpichnoj-kladki-ot-vlagi_1_jpg.rf.b7d3c0aa06465bb81252dc7a878a9f30.jpg']\n",
            "['-157955495_jpg.rf.4f70998ae6f955311eb9a1a13850ec49_mask.png', '-2_jpg.rf.662a31f945f2a313131da1f11ecb920d_mask.png', '13_jpg.rf.cd1e4090dd26d9f5c982a26bc5524b6d_mask.png', '1627117939_24-kartinkin-com-p-kirpich-so-shtukaturkoi-tekstura-krasivo-33_jpg.rf.67b210ff329b2a38c1db4590b3d404df_mask.png', '1628cf09c04849160cf1fec290921ff6_jpeg.rf.4733ee6541c5d652e6279f4dbf4428b9_mask.png', '1639796818_30-pro-dachnikov-com-p-foto-starinnoi-kladki-34_jpg.rf.b163455a12070202c585c97a03e96bac_mask.png', '21024_jpg.rf.e480d1c7a968f32fa425ad1bb29d8d9b_mask.png', '23587cd5e1a9ad88040759a416649902_jpeg.rf.0b3b7442bbc35faedcf4afe44f75e7ab_mask.png', '329d576f35a1e5bc53d047edb2c3c2c8_jpeg.rf.9026943577651447c5b454121bb3c3c5_mask.png', '3g_jpg.rf.a66fd53cd9ab152e77dd7f314350e47d_mask.png', '59a7f2d69b4a7eab7c51551766203bb3_jpeg.rf.ee0208bd1fa5881098d5a439e12b6110_mask.png', '5_jpg.rf.3890c98c66b32cb5010cf61634ec4e3b_mask.png', '5f0cb8b8f325272d3883be8f553f2193_jpeg.rf.db532cfbcddfac3febf9d25398c4fe78_mask.png', '811ac8dfa908053f5ae738aab2fdad6d_jpg.rf.cc0425575dc8e2544563a42930737079_mask.png', 'Image_-105-_jpg.rf.34cbea2528463afefe62d007f61ec572_mask.png', 'Image_-156-_jpg.rf.b79598394f9e1a59dc521179f590f9a6_mask.png', 'Image_-184-_jpg.rf.1b1630256a466ca547ebeb7ac795ea04_mask.png', 'Image_-198-_jpg.rf.b5bee3ee602ea5ca87892b6f8288474f_mask.png', 'Image_-200-_jpg.rf.8a316c4641c97a91deac672d44ecd809_mask.png', 'Image_-26-_jpg.rf.baf0e6b09ad968b0b448f1847488db58_mask.png', 'Image_-277-_jpg.rf.834d02bbad88b6a52ec234009fa10854_mask.png', 'Screenshot_14_png.rf.c6d0a5630e938ab876cc2d6a0960b428_mask.png', 'a67e340d7846f566f9e1e02364573d5e_jpg.rf.725be5b3b943e4f19c036a7fd4a38c67_mask.png', 'dr_318_9110_jpg.rf.8a4b17fd0591d02193bd645cf13a280a_mask.png', 'dr_335_3506_jpg.rf.18ba63cedd23d398c2ba8cd7cc3ae0bc_mask.png', 'dr_338_5276_jpg.rf.862574f0db51a5e3f807f17bf7aec2e2_mask.png', 'f2364b9e4ee46ba9dbcde1c862ef2df1_jpeg.rf.057752b9e2303d856c47e1ce3f2e77e8_mask.png', 'fa9f7b57729503ee37ab67422e178690_jpg.rf.3ab8a94882a68f99937699d617b75320_mask.png', 'g3PMoOtA00_jpg.rf.8734fe3fe941ef18d56eb8e76bc5553c_mask.png', 'image4-1-1-min_jpg.rf.c7197961c1f72957443e378ada95e811_mask.png', 'l1048755080_jpg.rf.f35cf9c978d18e7390005ac0c5ec4683_mask.png', 'metall-kraska-rzhavchina-5466_jpg.rf.b81bdd19c2d546f00a984afe81148a7d_mask.png', 'povrezhdenie-derevyannoj-konstrukcii_jpg.rf.9c1c72d639a73cb62341f794bfe9e263_mask.png', 'remont-nizhnih-ventsov-derevyannogo-doma-chasche-trebuetsya-tam-gde-drevesina-ne-poluchila-dolzhnoy-_jpg.rf.5605ed25f91e54dbcef45f4e376f9af0_mask.png', 'rock-wood-vintage-texture-old-wall-red-soil-stone-wall-brick-terrain-material-concrete-geology-ruins-bricks-brickwork-plaster-ancient-history-723070_jpg.rf.da6617758bbab908f958b5412f3e6b96_mask.png', 'scale_1200_png.rf.a94ac701f57c0a3c25fae4d377cab9a8_mask.png', 'slide-47_jpg.rf.183837a803652909df3727b7a9164045_mask.png', 'wood-texture-wall-steel-rust-metal-soil-brick-material-painting-weathered-rusty-iron-stainless-1239229_jpg.rf.4dd501e35b4c978c70f96cac67e04e1e_mask.png', 'zacshita-kirpichnoj-kladki-ot-vlagi_1_jpg.rf.b7d3c0aa06465bb81252dc7a878a9f30_mask.png']\n"
          ]
        }
      ]
    },
    {
      "cell_type": "markdown",
      "source": [
        "# Модель на обучение"
      ],
      "metadata": {
        "id": "CkAvRBJqcFtK"
      }
    },
    {
      "cell_type": "code",
      "source": [
        "from google.colab import drive\n",
        "import os\n",
        "import shutil\n",
        "drive.mount('/content/drive')"
      ],
      "metadata": {
        "id": "t0ZHH80giYFi",
        "colab": {
          "base_uri": "https://localhost:8080/"
        },
        "outputId": "e9e5bcfd-36e7-4d24-b99d-f55228134bf4"
      },
      "execution_count": 1,
      "outputs": [
        {
          "output_type": "stream",
          "name": "stdout",
          "text": [
            "Drive already mounted at /content/drive; to attempt to forcibly remount, call drive.mount(\"/content/drive\", force_remount=True).\n"
          ]
        }
      ]
    },
    {
      "cell_type": "code",
      "source": [
        "from torch.utils.data import Dataset\n",
        "from torchvision import transforms\n",
        "from PIL import Image\n",
        "import os\n",
        "\n",
        "class SegmentationDataset(Dataset):\n",
        "    def __init__(self, img_dir, mask_dir, transform=None):\n",
        "        self.img_dir = img_dir\n",
        "        self.mask_dir = mask_dir\n",
        "        self.transform = transform\n",
        "        self.images = os.listdir(img_dir)\n",
        "\n",
        "    def __len__(self):\n",
        "        return len(self.images)\n",
        "\n",
        "    def __getitem__(self, idx):\n",
        "        img_name = os.path.join(self.img_dir, self.images[idx])\n",
        "        mask_name = os.path.join(self.mask_dir, self.images[idx].replace('.jpg', '_mask.png'))\n",
        "\n",
        "        image = Image.open(img_name).convert('RGB')\n",
        "        mask = Image.open(mask_name)\n",
        "\n",
        "        if self.transform:\n",
        "            image = self.transform(image)\n",
        "            mask = self.transform(mask)\n",
        "        mask = mask.squeeze() # чтобы [640, 640], а не [1, 640, 640]\n",
        "        return image, mask"
      ],
      "metadata": {
        "id": "b9yv52usfWP5"
      },
      "execution_count": 2,
      "outputs": []
    },
    {
      "cell_type": "code",
      "source": [
        "# Пример использования класса Dataset для сегментации\n",
        "train_img_dir = '/content/drive/MyDrive/building_damages/train/image'\n",
        "train_mask_dir = '/content/drive/MyDrive/building_damages/train/mask'\n",
        "\n",
        "valid_img_dir = '/content/drive/MyDrive/building_damages/valid/image'\n",
        "valid_mask_dir = '/content/drive/MyDrive/building_damages/valid/mask'\n",
        "\n",
        "test_img_dir = '/content/drive/MyDrive/building_damages/test/image'\n",
        "test_mask_dir = '/content/drive/MyDrive/building_damages/test/mask'\n",
        "\n",
        "transform = transforms.Compose([\n",
        "    transforms.Resize((256, 256)),\n",
        "    transforms.ToTensor(),\n",
        "])\n",
        "\n",
        "train_segmentation_dataset = SegmentationDataset(train_img_dir, train_mask_dir, transform=transform)\n",
        "valid_segmentation_dataset = SegmentationDataset(valid_img_dir, valid_mask_dir, transform=transform)\n",
        "test_segmentation_dataset = SegmentationDataset(test_img_dir, test_mask_dir, transform=transform)"
      ],
      "metadata": {
        "id": "PBs7-iX4Lk_0"
      },
      "execution_count": 3,
      "outputs": []
    },
    {
      "cell_type": "code",
      "source": [
        "from torch.utils.data import DataLoader\n",
        "# Параметры загрузчика данных\n",
        "batch_size = 4\n",
        "\n",
        "# Создание экземпляра класса DataLoader\n",
        "train_data_loader = DataLoader(train_segmentation_dataset, batch_size=batch_size, shuffle=True)\n",
        "valid_data_loader = DataLoader(valid_segmentation_dataset, batch_size=batch_size, shuffle=False)\n",
        "test_data_loader = DataLoader(test_segmentation_dataset, batch_size=batch_size, shuffle=False)"
      ],
      "metadata": {
        "id": "zqrPhSqbMs0J"
      },
      "execution_count": 4,
      "outputs": []
    },
    {
      "cell_type": "code",
      "source": [
        "# for batch, (images, masks) in enumerate(train_data_loader):\n",
        "        # print(batch, images.shape, masks.shape)"
      ],
      "metadata": {
        "id": "iVogDyLOnBCU"
      },
      "execution_count": null,
      "outputs": []
    },
    {
      "cell_type": "code",
      "source": [
        "import torch\n",
        "import torchvision.transforms as transforms\n",
        "from torchvision.models.detection import maskrcnn_resnet50_fpn_v2\n",
        "from torch.utils.data import DataLoader\n",
        "from torch.optim import Adam\n",
        "from torch.nn import CrossEntropyLoss\n",
        "\n",
        "# Проверяем доступность GPU\n",
        "device = torch.device('cuda' if torch.cuda.is_available() else 'cpu')\n",
        "\n",
        "\n",
        "# Определение модели\n",
        "num_classes = 8  # Замените на количество классов в вашем наборе данных\n",
        "model = maskrcnn_resnet50_fpn_v2(weights=False, num_classes=num_classes).to(device)\n",
        "\n",
        "# Определение функции потерь и оптимизатора\n",
        "criterion = CrossEntropyLoss().to(device)\n",
        "optimizer = Adam(model.parameters(), lr=0.001)\n",
        "\n",
        "# Обучение модели\n",
        "num_epochs = 10\n",
        "for epoch in range(num_epochs):\n",
        "    model.train()\n",
        "    loss = 0.0\n",
        "    for batch_idx, (images, masks) in enumerate(train_data_loader):\n",
        "        images, masks = images.float().to(device), masks.float().to(device=device).long()  # Перемещение данных на GPU\n",
        "        # print(masks.shape)\n",
        "        optimizer.zero_grad()\n",
        "        # outputs = model(images)\n",
        "        # print(masks, outputs)\n",
        "\n",
        "        loss = criterion(outputs, masks)\n",
        "        loss.backward()\n",
        "        optimizer.step()\n",
        "        torch.cuda.empty_cache()\n",
        "    loss /= len(train_data_loader)\n",
        "    # Оценка производительности модели на валидационном наборе данных\n",
        "    model.eval()\n",
        "    val_loss = 0.0\n",
        "    for batch_idx, (images, masks) in enumerate(valid_data_loader):\n",
        "        with torch.no_grad():\n",
        "            images, masks = images.float().to(device), masks.float().to(device=device).long()  # Перемещение данных на GPU\n",
        "            outputs = model(images)\n",
        "            val_loss += criterion(outputs, masks).item()\n",
        "    val_loss /= len(valid_data_loader)\n",
        "\n",
        "    print(f\"Epoch [{epoch+1}/{num_epochs}], Train Loss: {loss:.4f}, Val Loss: {val_loss:.4f}\")\n",
        "\n",
        "# Сохранение обученной модели\n",
        "torch.save(model.state_dict(), 'fcn_model.pth')"
      ],
      "metadata": {
        "colab": {
          "base_uri": "https://localhost:8080/",
          "height": 411
        },
        "id": "ZDEaF07RNE5S",
        "outputId": "5ea8168f-2961-4cdc-a4fd-9d41216815ba"
      },
      "execution_count": 5,
      "outputs": [
        {
          "output_type": "stream",
          "name": "stderr",
          "text": [
            "/usr/local/lib/python3.10/dist-packages/torchvision/models/_utils.py:223: UserWarning: Arguments other than a weight enum or `None` for 'weights' are deprecated since 0.13 and may be removed in the future. The current behavior is equivalent to passing `weights=None`.\n",
            "  warnings.warn(msg)\n"
          ]
        },
        {
          "output_type": "error",
          "ename": "AssertionError",
          "evalue": "targets should not be none when in training mode",
          "traceback": [
            "\u001b[0;31m---------------------------------------------------------------------------\u001b[0m",
            "\u001b[0;31mAssertionError\u001b[0m                            Traceback (most recent call last)",
            "\u001b[0;32m<ipython-input-5-6965de17c924>\u001b[0m in \u001b[0;36m<cell line: 22>\u001b[0;34m()\u001b[0m\n\u001b[1;32m     27\u001b[0m         \u001b[0;31m# print(masks.shape)\u001b[0m\u001b[0;34m\u001b[0m\u001b[0;34m\u001b[0m\u001b[0m\n\u001b[1;32m     28\u001b[0m         \u001b[0moptimizer\u001b[0m\u001b[0;34m.\u001b[0m\u001b[0mzero_grad\u001b[0m\u001b[0;34m(\u001b[0m\u001b[0;34m)\u001b[0m\u001b[0;34m\u001b[0m\u001b[0;34m\u001b[0m\u001b[0m\n\u001b[0;32m---> 29\u001b[0;31m         \u001b[0moutputs\u001b[0m \u001b[0;34m=\u001b[0m \u001b[0mmodel\u001b[0m\u001b[0;34m(\u001b[0m\u001b[0mimages\u001b[0m\u001b[0;34m)\u001b[0m\u001b[0;34m\u001b[0m\u001b[0;34m\u001b[0m\u001b[0m\n\u001b[0m\u001b[1;32m     30\u001b[0m         \u001b[0;31m# print(masks, outputs)\u001b[0m\u001b[0;34m\u001b[0m\u001b[0;34m\u001b[0m\u001b[0m\n\u001b[1;32m     31\u001b[0m         \u001b[0mloss\u001b[0m \u001b[0;34m=\u001b[0m \u001b[0mcriterion\u001b[0m\u001b[0;34m(\u001b[0m\u001b[0moutputs\u001b[0m\u001b[0;34m,\u001b[0m \u001b[0mmasks\u001b[0m\u001b[0;34m)\u001b[0m\u001b[0;34m\u001b[0m\u001b[0;34m\u001b[0m\u001b[0m\n",
            "\u001b[0;32m/usr/local/lib/python3.10/dist-packages/torch/nn/modules/module.py\u001b[0m in \u001b[0;36m_wrapped_call_impl\u001b[0;34m(self, *args, **kwargs)\u001b[0m\n\u001b[1;32m   1509\u001b[0m             \u001b[0;32mreturn\u001b[0m \u001b[0mself\u001b[0m\u001b[0;34m.\u001b[0m\u001b[0m_compiled_call_impl\u001b[0m\u001b[0;34m(\u001b[0m\u001b[0;34m*\u001b[0m\u001b[0margs\u001b[0m\u001b[0;34m,\u001b[0m \u001b[0;34m**\u001b[0m\u001b[0mkwargs\u001b[0m\u001b[0;34m)\u001b[0m  \u001b[0;31m# type: ignore[misc]\u001b[0m\u001b[0;34m\u001b[0m\u001b[0;34m\u001b[0m\u001b[0m\n\u001b[1;32m   1510\u001b[0m         \u001b[0;32melse\u001b[0m\u001b[0;34m:\u001b[0m\u001b[0;34m\u001b[0m\u001b[0;34m\u001b[0m\u001b[0m\n\u001b[0;32m-> 1511\u001b[0;31m             \u001b[0;32mreturn\u001b[0m \u001b[0mself\u001b[0m\u001b[0;34m.\u001b[0m\u001b[0m_call_impl\u001b[0m\u001b[0;34m(\u001b[0m\u001b[0;34m*\u001b[0m\u001b[0margs\u001b[0m\u001b[0;34m,\u001b[0m \u001b[0;34m**\u001b[0m\u001b[0mkwargs\u001b[0m\u001b[0;34m)\u001b[0m\u001b[0;34m\u001b[0m\u001b[0;34m\u001b[0m\u001b[0m\n\u001b[0m\u001b[1;32m   1512\u001b[0m \u001b[0;34m\u001b[0m\u001b[0m\n\u001b[1;32m   1513\u001b[0m     \u001b[0;32mdef\u001b[0m \u001b[0m_call_impl\u001b[0m\u001b[0;34m(\u001b[0m\u001b[0mself\u001b[0m\u001b[0;34m,\u001b[0m \u001b[0;34m*\u001b[0m\u001b[0margs\u001b[0m\u001b[0;34m,\u001b[0m \u001b[0;34m**\u001b[0m\u001b[0mkwargs\u001b[0m\u001b[0;34m)\u001b[0m\u001b[0;34m:\u001b[0m\u001b[0;34m\u001b[0m\u001b[0;34m\u001b[0m\u001b[0m\n",
            "\u001b[0;32m/usr/local/lib/python3.10/dist-packages/torch/nn/modules/module.py\u001b[0m in \u001b[0;36m_call_impl\u001b[0;34m(self, *args, **kwargs)\u001b[0m\n\u001b[1;32m   1518\u001b[0m                 \u001b[0;32mor\u001b[0m \u001b[0m_global_backward_pre_hooks\u001b[0m \u001b[0;32mor\u001b[0m \u001b[0m_global_backward_hooks\u001b[0m\u001b[0;34m\u001b[0m\u001b[0;34m\u001b[0m\u001b[0m\n\u001b[1;32m   1519\u001b[0m                 or _global_forward_hooks or _global_forward_pre_hooks):\n\u001b[0;32m-> 1520\u001b[0;31m             \u001b[0;32mreturn\u001b[0m \u001b[0mforward_call\u001b[0m\u001b[0;34m(\u001b[0m\u001b[0;34m*\u001b[0m\u001b[0margs\u001b[0m\u001b[0;34m,\u001b[0m \u001b[0;34m**\u001b[0m\u001b[0mkwargs\u001b[0m\u001b[0;34m)\u001b[0m\u001b[0;34m\u001b[0m\u001b[0;34m\u001b[0m\u001b[0m\n\u001b[0m\u001b[1;32m   1521\u001b[0m \u001b[0;34m\u001b[0m\u001b[0m\n\u001b[1;32m   1522\u001b[0m         \u001b[0;32mtry\u001b[0m\u001b[0;34m:\u001b[0m\u001b[0;34m\u001b[0m\u001b[0;34m\u001b[0m\u001b[0m\n",
            "\u001b[0;32m/usr/local/lib/python3.10/dist-packages/torchvision/models/detection/generalized_rcnn.py\u001b[0m in \u001b[0;36mforward\u001b[0;34m(self, images, targets)\u001b[0m\n\u001b[1;32m     60\u001b[0m         \u001b[0;32mif\u001b[0m \u001b[0mself\u001b[0m\u001b[0;34m.\u001b[0m\u001b[0mtraining\u001b[0m\u001b[0;34m:\u001b[0m\u001b[0;34m\u001b[0m\u001b[0;34m\u001b[0m\u001b[0m\n\u001b[1;32m     61\u001b[0m             \u001b[0;32mif\u001b[0m \u001b[0mtargets\u001b[0m \u001b[0;32mis\u001b[0m \u001b[0;32mNone\u001b[0m\u001b[0;34m:\u001b[0m\u001b[0;34m\u001b[0m\u001b[0;34m\u001b[0m\u001b[0m\n\u001b[0;32m---> 62\u001b[0;31m                 \u001b[0mtorch\u001b[0m\u001b[0;34m.\u001b[0m\u001b[0m_assert\u001b[0m\u001b[0;34m(\u001b[0m\u001b[0;32mFalse\u001b[0m\u001b[0;34m,\u001b[0m \u001b[0;34m\"targets should not be none when in training mode\"\u001b[0m\u001b[0;34m)\u001b[0m\u001b[0;34m\u001b[0m\u001b[0;34m\u001b[0m\u001b[0m\n\u001b[0m\u001b[1;32m     63\u001b[0m             \u001b[0;32melse\u001b[0m\u001b[0;34m:\u001b[0m\u001b[0;34m\u001b[0m\u001b[0;34m\u001b[0m\u001b[0m\n\u001b[1;32m     64\u001b[0m                 \u001b[0;32mfor\u001b[0m \u001b[0mtarget\u001b[0m \u001b[0;32min\u001b[0m \u001b[0mtargets\u001b[0m\u001b[0;34m:\u001b[0m\u001b[0;34m\u001b[0m\u001b[0;34m\u001b[0m\u001b[0m\n",
            "\u001b[0;32m/usr/local/lib/python3.10/dist-packages/torch/__init__.py\u001b[0m in \u001b[0;36m_assert\u001b[0;34m(condition, message)\u001b[0m\n\u001b[1;32m   1497\u001b[0m     \u001b[0;32mif\u001b[0m \u001b[0mtype\u001b[0m\u001b[0;34m(\u001b[0m\u001b[0mcondition\u001b[0m\u001b[0;34m)\u001b[0m \u001b[0;32mis\u001b[0m \u001b[0;32mnot\u001b[0m \u001b[0mtorch\u001b[0m\u001b[0;34m.\u001b[0m\u001b[0mTensor\u001b[0m \u001b[0;32mand\u001b[0m \u001b[0mhas_torch_function\u001b[0m\u001b[0;34m(\u001b[0m\u001b[0;34m(\u001b[0m\u001b[0mcondition\u001b[0m\u001b[0;34m,\u001b[0m\u001b[0;34m)\u001b[0m\u001b[0;34m)\u001b[0m\u001b[0;34m:\u001b[0m\u001b[0;34m\u001b[0m\u001b[0;34m\u001b[0m\u001b[0m\n\u001b[1;32m   1498\u001b[0m         \u001b[0;32mreturn\u001b[0m \u001b[0mhandle_torch_function\u001b[0m\u001b[0;34m(\u001b[0m\u001b[0m_assert\u001b[0m\u001b[0;34m,\u001b[0m \u001b[0;34m(\u001b[0m\u001b[0mcondition\u001b[0m\u001b[0;34m,\u001b[0m\u001b[0;34m)\u001b[0m\u001b[0;34m,\u001b[0m \u001b[0mcondition\u001b[0m\u001b[0;34m,\u001b[0m \u001b[0mmessage\u001b[0m\u001b[0;34m)\u001b[0m\u001b[0;34m\u001b[0m\u001b[0;34m\u001b[0m\u001b[0m\n\u001b[0;32m-> 1499\u001b[0;31m     \u001b[0;32massert\u001b[0m \u001b[0mcondition\u001b[0m\u001b[0;34m,\u001b[0m \u001b[0mmessage\u001b[0m\u001b[0;34m\u001b[0m\u001b[0;34m\u001b[0m\u001b[0m\n\u001b[0m\u001b[1;32m   1500\u001b[0m \u001b[0;34m\u001b[0m\u001b[0m\n\u001b[1;32m   1501\u001b[0m \u001b[0;31m################################################################################\u001b[0m\u001b[0;34m\u001b[0m\u001b[0;34m\u001b[0m\u001b[0m\n",
            "\u001b[0;31mAssertionError\u001b[0m: targets should not be none when in training mode"
          ]
        }
      ]
    },
    {
      "cell_type": "code",
      "source": [
        "import matplotlib.pyplot as plt"
      ],
      "metadata": {
        "id": "6PRsmVK_yz8i"
      },
      "execution_count": 17,
      "outputs": []
    },
    {
      "cell_type": "code",
      "source": [
        "model.eval()\n",
        "\n",
        "# Перебор элементов в DataLoader\n",
        "for images, masks in test_data_loader:  # Пропустите метки, если они не нужны\n",
        "    # Переместите данные на GPU, если это возможно\n",
        "    images = images.float().to(device)\n",
        "\n",
        "    # Получите прогнозы модели\n",
        "    with torch.no_grad():  # Установите градиенты в False, так как это только оценка\n",
        "        outputs = model(images)['out']\n",
        "        print(outputs.shape)\n",
        "        probs = torch.softmax(outputs, dim=1)\n",
        "        # Выбираем класс с максимальной вероятностью для каждого пикселя\n",
        "        predicted_class = torch.argmax(probs, dim=1)\n",
        "        # Преобразуем предсказанные классы в бинарные маски (например, 0 для фона и 1 для объектов)\n",
        "        binary_masks = (predicted_class == 1).float()  # Предположим, что класс 1 обозначает объекты\n",
        "        # Выводим первую маску из пакета\n",
        "        plt.imshow(binary_masks[0].to('cpu'), cmap='gray')\n",
        "        plt.axis('off')\n",
        "        plt.show()\n"
      ],
      "metadata": {
        "id": "60YAeiumO0VY",
        "colab": {
          "base_uri": "https://localhost:8080/",
          "height": 1000
        },
        "outputId": "65f8610a-201d-4807-9e12-53be46de8602"
      },
      "execution_count": 23,
      "outputs": [
        {
          "output_type": "stream",
          "name": "stdout",
          "text": [
            "torch.Size([4, 8, 256, 256])\n"
          ]
        },
        {
          "output_type": "display_data",
          "data": {
            "text/plain": [
              "<Figure size 640x480 with 1 Axes>"
            ],
            "image/png": "[encoded data removed]"
          },
          "metadata": {}
        },
        {
          "output_type": "stream",
          "name": "stdout",
          "text": [
            "torch.Size([4, 8, 256, 256])\n"
          ]
        },
        {
          "output_type": "display_data",
          "data": {
            "text/plain": [
              "<Figure size 640x480 with 1 Axes>"
            ],
            "image/png": "[encoded data removed]"
          },
          "metadata": {}
        },
        {
          "output_type": "stream",
          "name": "stdout",
          "text": [
            "torch.Size([4, 8, 256, 256])\n"
          ]
        },
        {
          "output_type": "display_data",
          "data": {
            "text/plain": [
              "<Figure size 640x480 with 1 Axes>"
            ],
            "image/png": "[encoded data removed]"
          },
          "metadata": {}
        },
        {
          "output_type": "stream",
          "name": "stdout",
          "text": [
            "torch.Size([4, 8, 256, 256])\n"
          ]
        },
        {
          "output_type": "display_data",
          "data": {
            "text/plain": [
              "<Figure size 640x480 with 1 Axes>"
            ],
            "image/png": "[encoded data removed]"
          },
          "metadata": {}
        },
        {
          "output_type": "stream",
          "name": "stdout",
          "text": [
            "torch.Size([4, 8, 256, 256])\n"
          ]
        },
        {
          "output_type": "display_data",
          "data": {
            "text/plain": [
              "<Figure size 640x480 with 1 Axes>"
            ],
            "image/png": "[encoded data removed]"
          },
          "metadata": {}
        },
        {
          "output_type": "stream",
          "name": "stdout",
          "text": [
            "torch.Size([4, 8, 256, 256])\n"
          ]
        },
        {
          "output_type": "display_data",
          "data": {
            "text/plain": [
              "<Figure size 640x480 with 1 Axes>"
            ],
            "image/png": "[encoded data removed]"
          },
          "metadata": {}
        },
        {
          "output_type": "stream",
          "name": "stdout",
          "text": [
            "torch.Size([2, 8, 256, 256])\n"
          ]
        },
        {
          "output_type": "display_data",
          "data": {
            "text/plain": [
              "<Figure size 640x480 with 1 Axes>"
            ],
            "image/png": "[encoded data removed]"
          },
          "metadata": {}
        }
      ]
    }
  ]
}