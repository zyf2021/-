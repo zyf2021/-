{
  "nbformat": 4,
  "nbformat_minor": 0,
  "metadata": {
    "colab": {
      "provenance": [],
      "authorship_tag": "ABX9TyNCUGuB9SlCKuONl+Q1nGd+",
      "include_colab_link": true
    },
    "kernelspec": {
      "name": "python3",
      "display_name": "Python 3"
    },
    "language_info": {
      "name": "python"
    },
    "accelerator": "GPU",
    "gpuClass": "standard"
  },
  "cells": [
    {
      "cell_type": "markdown",
      "metadata": {
        "id": "view-in-github",
        "colab_type": "text"
      },
      "source": [
        "<a href=\"https://colab.research.google.com/github/zyf2021/-/blob/main/01_PyTorch_Workflow_Fundamentals.ipynb\" target=\"_parent\"><img src=\"https://colab.research.google.com/assets/colab-badge.svg\" alt=\"Open In Colab\"/></a>"
      ]
    },
    {
      "cell_type": "code",
      "execution_count": null,
      "metadata": {
        "id": "m94VP7iECHB1"
      },
      "outputs": [],
      "source": [
        "import torch\n",
        "from torch import nn\n",
        "import matplotlib.pyplot as plt"
      ]
    },
    {
      "cell_type": "code",
      "source": [
        "weight = 0.7\n",
        "bias = 0.3\n",
        "\n",
        "start = 0\n",
        "end = 1\n",
        "step = 0.02\n",
        "X = torch.arange(start, end, step).unsqueeze(dim = 1)\n",
        "y = weight * X + bias\n"
      ],
      "metadata": {
        "id": "PapoIaYyF7_z"
      },
      "execution_count": null,
      "outputs": []
    },
    {
      "cell_type": "code",
      "source": [
        "train_split = int(0.8 * len(y))\n",
        "X_train, y_train = X[:train_split], y[:train_split]\n",
        "X_test, y_test = X[train_split:], y[train_split:]\n",
        "len(X_test)"
      ],
      "metadata": {
        "colab": {
          "base_uri": "https://localhost:8080/"
        },
        "id": "9DtwyhJ6IHnj",
        "outputId": "13efeb96-3666-4622-b21a-dfa6d1fac938"
      },
      "execution_count": null,
      "outputs": [
        {
          "output_type": "execute_result",
          "data": {
            "text/plain": [
              "10"
            ]
          },
          "metadata": {},
          "execution_count": 3
        }
      ]
    },
    {
      "cell_type": "code",
      "source": [
        "def plot_predictions(train_data=X_train, \n",
        "                     train_labels=y_train, \n",
        "                     test_data=X_test, \n",
        "                     test_labels=y_test, \n",
        "                     predictions=None):\n",
        "  \"\"\"\n",
        "  Plots training data, test data and compares predictions.\n",
        "  \"\"\"\n",
        "  plt.figure(figsize=(10, 7))\n",
        "\n",
        "  # Plot training data in blue\n",
        "  plt.scatter(train_data, train_labels, c=\"b\", s=4, label=\"Training data\")\n",
        "  \n",
        "  # Plot test data in green\n",
        "  plt.scatter(test_data, test_labels, c=\"g\", s=4, label=\"Testing data\")\n",
        "\n",
        "  if predictions is not None:\n",
        "    # Plot the predictions in red (predictions were made on the test data)\n",
        "    plt.scatter(test_data, predictions, c=\"r\", s=4, label=\"Predictions\")\n",
        "\n",
        "  # Show the legend\n",
        "  plt.legend(prop={\"size\": 14});"
      ],
      "metadata": {
        "id": "TYYudNlFvLQ0"
      },
      "execution_count": null,
      "outputs": []
    },
    {
      "cell_type": "code",
      "source": [
        "plot_predictions()"
      ],
      "metadata": {
        "colab": {
          "base_uri": "https://localhost:8080/",
          "height": 428
        },
        "id": "kgtq_baYvm2i",
        "outputId": "553d9e26-9da9-4017-846c-c663779c76ab"
      },
      "execution_count": null,
      "outputs": [
        {
          "output_type": "display_data",
          "data": {
            "text/plain": [
              "<Figure size 720x504 with 1 Axes>"
            ],
            "image/png": "[encoded data removed]"
          },
          "metadata": {
            "needs_background": "light"
          }
        }
      ]
    },
    {
      "cell_type": "code",
      "source": [
        "# Create a Linear Regression model class\n",
        "class LinearRegressionModel(nn.Module): # <- almost everything in PyTorch is a nn.Module (think of this as neural network lego blocks)\n",
        "    def __init__(self):\n",
        "        super().__init__() \n",
        "        self.weights = nn.Parameter(torch.randn(1, # <- start with random weights (this will get adjusted as the model learns)\n",
        "                                                dtype=torch.float), # <- PyTorch loves float32 by default\n",
        "                                   requires_grad=True) # <- can we update this value with gradient descent?)\n",
        "\n",
        "        self.bias = nn.Parameter(torch.randn(1, # <- start with random bias (this will get adjusted as the model learns)\n",
        "                                            dtype=torch.float), # <- PyTorch loves float32 by default\n",
        "                                requires_grad=True) # <- can we update this value with gradient descent?))\n",
        "\n",
        "    # Forward defines the computation in the model\n",
        "    def forward(self, x: torch.Tensor) -> torch.Tensor: # <- \"x\" is the input data (e.g. training/testing features)\n",
        "        return self.weights * x + self.bias # <- this is the linear regression formula (y = m*x + b)"
      ],
      "metadata": {
        "id": "XxtHQf4rvqZP"
      },
      "execution_count": null,
      "outputs": []
    },
    {
      "cell_type": "code",
      "source": [
        "# Set manual seed since nn.Parameter are randomly initialzied\n",
        "torch.manual_seed(36)\n",
        "\n",
        "# Create an instance of the model (this is a subclass of nn.Module that contains nn.Parameter(s))\n",
        "model_0 = LinearRegressionModel()\n",
        "\n",
        "# Check the nn.Parameter(s) within the nn.Module subclass we created\n",
        "list(model_0.parameters())"
      ],
      "metadata": {
        "colab": {
          "base_uri": "https://localhost:8080/"
        },
        "id": "Sj9pynGOxpMD",
        "outputId": "1a7724de-ba8a-47b2-b736-c02ee4b7712c"
      },
      "execution_count": null,
      "outputs": [
        {
          "output_type": "execute_result",
          "data": {
            "text/plain": [
              "[Parameter containing:\n",
              " tensor([0.4704], requires_grad=True), Parameter containing:\n",
              " tensor([-0.0512], requires_grad=True)]"
            ]
          },
          "metadata": {},
          "execution_count": 7
        }
      ]
    },
    {
      "cell_type": "code",
      "source": [
        "# List named parameters \n",
        "model_0.state_dict()"
      ],
      "metadata": {
        "colab": {
          "base_uri": "https://localhost:8080/"
        },
        "id": "ZHb-4nzESLd7",
        "outputId": "0aef5494-5343-4620-eea8-df01fcdb7779"
      },
      "execution_count": null,
      "outputs": [
        {
          "output_type": "execute_result",
          "data": {
            "text/plain": [
              "OrderedDict([('weights', tensor([0.4704])), ('bias', tensor([-0.0512]))])"
            ]
          },
          "metadata": {},
          "execution_count": 8
        }
      ]
    },
    {
      "cell_type": "code",
      "source": [
        "with torch.inference_mode(): \n",
        "  y_preds = model_0(X_test)"
      ],
      "metadata": {
        "id": "JzabUjZ6SOiP"
      },
      "execution_count": null,
      "outputs": []
    },
    {
      "cell_type": "code",
      "source": [
        "print(f\"Number of testing samples: {len(X_test)}\") \n",
        "print(f\"Number of predictions made: {len(y_preds)}\")\n",
        "print(f\"Predicted values:\\n{y_preds}\")"
      ],
      "metadata": {
        "colab": {
          "base_uri": "https://localhost:8080/"
        },
        "id": "rGPwAaU8ToU0",
        "outputId": "412ba5e5-a48a-41f2-8387-ae2cc84265b7"
      },
      "execution_count": null,
      "outputs": [
        {
          "output_type": "stream",
          "name": "stdout",
          "text": [
            "Number of testing samples: 10\n",
            "Number of predictions made: 10\n",
            "Predicted values:\n",
            "tensor([[0.3251],\n",
            "        [0.3345],\n",
            "        [0.3439],\n",
            "        [0.3533],\n",
            "        [0.3627],\n",
            "        [0.3721],\n",
            "        [0.3815],\n",
            "        [0.3909],\n",
            "        [0.4003],\n",
            "        [0.4097]])\n"
          ]
        }
      ]
    },
    {
      "cell_type": "code",
      "source": [
        "plot_predictions(predictions=y_preds)"
      ],
      "metadata": {
        "colab": {
          "base_uri": "https://localhost:8080/",
          "height": 428
        },
        "id": "MG00e14eUrX7",
        "outputId": "071970f1-3c75-443b-db25-07fa24b9f23b"
      },
      "execution_count": null,
      "outputs": [
        {
          "output_type": "display_data",
          "data": {
            "text/plain": [
              "<Figure size 720x504 with 1 Axes>"
            ],
            "image/png": "[encoded data removed]"
          },
          "metadata": {
            "needs_background": "light"
          }
        }
      ]
    },
    {
      "cell_type": "code",
      "source": [
        "y_test - y_preds"
      ],
      "metadata": {
        "colab": {
          "base_uri": "https://localhost:8080/"
        },
        "id": "udQT_Gx3XxJL",
        "outputId": "eb26c4bc-3586-4dd2-990d-bad44658c125"
      },
      "execution_count": null,
      "outputs": [
        {
          "output_type": "execute_result",
          "data": {
            "text/plain": [
              "tensor([[0.5349],\n",
              "        [0.5395],\n",
              "        [0.5441],\n",
              "        [0.5487],\n",
              "        [0.5533],\n",
              "        [0.5579],\n",
              "        [0.5625],\n",
              "        [0.5671],\n",
              "        [0.5717],\n",
              "        [0.5763]])"
            ]
          },
          "metadata": {},
          "execution_count": 12
        }
      ]
    },
    {
      "cell_type": "code",
      "source": [
        "loss_fn = nn.L1Loss()\n",
        "\n",
        "optimizer = torch.optim.SGD(params=model_0.parameters(), \n",
        "                            lr=0.01)"
      ],
      "metadata": {
        "id": "emD7QJ7vXx1M"
      },
      "execution_count": null,
      "outputs": []
    },
    {
      "cell_type": "code",
      "source": [
        "torch.manual_seed(42)\n",
        "\n",
        "# Set the number of epochs (how many times the model will pass over the training data)\n",
        "epochs = 220\n",
        "\n",
        "# Create empty loss lists to track values\n",
        "train_loss_values = []\n",
        "test_loss_values = []\n",
        "epoch_count = []\n",
        "\n",
        "for epoch in range(epochs):\n",
        "    ### Training\n",
        "\n",
        "    # Put model in training mode (this is the default state of a model)\n",
        "    model_0.train()\n",
        "\n",
        "    # 1. Forward pass on train data using the forward() method inside \n",
        "    y_pred = model_0(X_train)\n",
        "    # print(y_pred)\n",
        "\n",
        "    # 2. Calculate the loss (how different are our models predictions to the ground truth)\n",
        "    loss = loss_fn(y_pred, y_train)\n",
        "\n",
        "    # 3. Zero grad of the optimizer\n",
        "    optimizer.zero_grad()\n",
        "\n",
        "    # 4. Loss backwards\n",
        "    loss.backward()\n",
        "\n",
        "    # 5. Progress the optimizer\n",
        "    optimizer.step()\n",
        "\n",
        "    ### Testing\n",
        "\n",
        "    # Put the model in evaluation mode\n",
        "    model_0.eval()\n",
        "\n",
        "    with torch.inference_mode():\n",
        "      # 1. Forward pass on test data\n",
        "      test_pred = model_0(X_test)\n",
        "\n",
        "      # 2. Caculate loss on test data\n",
        "      test_loss = loss_fn(test_pred, y_test.type(torch.float)) # predictions come in torch.float datatype, so comparisons need to be done with tensors of the same type\n",
        "\n",
        "      # Print out what's happening\n",
        "      if epoch % 10 == 0:\n",
        "            epoch_count.append(epoch)\n",
        "            train_loss_values.append(loss.detach().numpy())\n",
        "            test_loss_values.append(test_loss.detach().numpy())\n",
        "            print(f\"Epoch: {epoch} | MAE Train Loss: {loss} | MAE Test Loss: {test_loss} \")"
      ],
      "metadata": {
        "colab": {
          "base_uri": "https://localhost:8080/"
        },
        "id": "KNGQqVBmlM_M",
        "outputId": "e62776f6-fba0-41bd-fa8c-17a0fdb15e0c"
      },
      "execution_count": null,
      "outputs": [
        {
          "output_type": "stream",
          "name": "stdout",
          "text": [
            "Epoch: 0 | MAE Train Loss: 0.44079118967056274 | MAE Test Loss: 0.5421218872070312 \n",
            "Epoch: 10 | MAE Train Loss: 0.32558122277259827 | MAE Test Loss: 0.40741196274757385 \n",
            "Epoch: 20 | MAE Train Loss: 0.21037128567695618 | MAE Test Loss: 0.27270203828811646 \n",
            "Epoch: 30 | MAE Train Loss: 0.09516123682260513 | MAE Test Loss: 0.13799205422401428 \n",
            "Epoch: 40 | MAE Train Loss: 0.015368292108178139 | MAE Test Loss: 0.037895649671554565 \n",
            "Epoch: 50 | MAE Train Loss: 0.011517633683979511 | MAE Test Loss: 0.02622426673769951 \n",
            "Epoch: 60 | MAE Train Loss: 0.008079780265688896 | MAE Test Loss: 0.0179517213255167 \n",
            "Epoch: 70 | MAE Train Loss: 0.00464413920417428 | MAE Test Loss: 0.010366052389144897 \n",
            "Epoch: 80 | MAE Train Loss: 0.0016544871032238007 | MAE Test Loss: 0.0034387886989861727 \n",
            "Epoch: 90 | MAE Train Loss: 0.006500396877527237 | MAE Test Loss: 0.0034387886989861727 \n",
            "Epoch: 100 | MAE Train Loss: 0.006500396877527237 | MAE Test Loss: 0.0034387886989861727 \n",
            "Epoch: 110 | MAE Train Loss: 0.006500396877527237 | MAE Test Loss: 0.0034387886989861727 \n",
            "Epoch: 120 | MAE Train Loss: 0.006500396877527237 | MAE Test Loss: 0.0034387886989861727 \n",
            "Epoch: 130 | MAE Train Loss: 0.006500396877527237 | MAE Test Loss: 0.0034387886989861727 \n",
            "Epoch: 140 | MAE Train Loss: 0.006500396877527237 | MAE Test Loss: 0.0034387886989861727 \n",
            "Epoch: 150 | MAE Train Loss: 0.006500396877527237 | MAE Test Loss: 0.0034387886989861727 \n",
            "Epoch: 160 | MAE Train Loss: 0.006500396877527237 | MAE Test Loss: 0.0034387886989861727 \n",
            "Epoch: 170 | MAE Train Loss: 0.006500396877527237 | MAE Test Loss: 0.0034387886989861727 \n",
            "Epoch: 180 | MAE Train Loss: 0.006500396877527237 | MAE Test Loss: 0.0034387886989861727 \n",
            "Epoch: 190 | MAE Train Loss: 0.006500396877527237 | MAE Test Loss: 0.0034387886989861727 \n",
            "Epoch: 200 | MAE Train Loss: 0.006500396877527237 | MAE Test Loss: 0.0034387886989861727 \n",
            "Epoch: 210 | MAE Train Loss: 0.006500396877527237 | MAE Test Loss: 0.0034387886989861727 \n"
          ]
        }
      ]
    },
    {
      "cell_type": "code",
      "source": [
        "# Plot the loss curves\n",
        "plt.plot(epoch_count, train_loss_values, label=\"Train loss\")\n",
        "plt.plot(epoch_count, test_loss_values, label=\"Test loss\")\n",
        "plt.title(\"Training and test loss curves\")\n",
        "plt.ylabel(\"Loss\")\n",
        "plt.xlabel(\"Epochs\")\n",
        "plt.legend();"
      ],
      "metadata": {
        "colab": {
          "base_uri": "https://localhost:8080/",
          "height": 295
        },
        "id": "X25qsR-u7EeT",
        "outputId": "01ab0b87-f657-4459-9c07-f78204a8b1e1"
      },
      "execution_count": null,
      "outputs": [
        {
          "output_type": "display_data",
          "data": {
            "text/plain": [
              "<Figure size 432x288 with 1 Axes>"
            ],
            "image/png": "[encoded data removed]"
          },
          "metadata": {
            "needs_background": "light"
          }
        }
      ]
    },
    {
      "cell_type": "code",
      "source": [
        "# Find our model's learned parameters\n",
        "print(\"The model learned the following values for weights and bias:\")\n",
        "print(model_0.state_dict())\n",
        "print(\"\\nAnd the original values for weights and bias are:\")\n",
        "print(f\"weights: {weight}, bias: {bias}\")"
      ],
      "metadata": {
        "colab": {
          "base_uri": "https://localhost:8080/"
        },
        "id": "rj4uWFwl7e5j",
        "outputId": "60d4db55-a6f0-4ccb-ef6d-f055620f58cb"
      },
      "execution_count": null,
      "outputs": [
        {
          "output_type": "stream",
          "name": "stdout",
          "text": [
            "The model learned the following values for weights and bias:\n",
            "OrderedDict([('weights', tensor([0.6929])), ('bias', tensor([0.2963]))])\n",
            "\n",
            "And the original values for weights and bias are:\n",
            "weights: 0.7, bias: 0.3\n"
          ]
        }
      ]
    },
    {
      "cell_type": "markdown",
      "source": [
        "###4. Making predictions with a trained PyTorch model (inference)"
      ],
      "metadata": {
        "id": "nguMatMg00jd"
      }
    },
    {
      "cell_type": "code",
      "source": [
        "# 1. Установить режим прогноза\n",
        "model_0.eval()\n",
        "\n",
        "with torch.inference_mode():\n",
        "  # 3. перенос данных на устройство\n",
        "  # model_0.to(device)\n",
        "  # X_test = X_test.to(device)\n",
        "  y_preds = model_0(X_test)\n",
        "y_preds"
      ],
      "metadata": {
        "id": "L9wm6d2y7fnp",
        "colab": {
          "base_uri": "https://localhost:8080/"
        },
        "outputId": "29164fbf-bb8f-478a-999d-d35b92da246a"
      },
      "execution_count": null,
      "outputs": [
        {
          "output_type": "execute_result",
          "data": {
            "text/plain": [
              "tensor([[0.8506],\n",
              "        [0.8645],\n",
              "        [0.8783],\n",
              "        [0.8922],\n",
              "        [0.9060],\n",
              "        [0.9199],\n",
              "        [0.9338],\n",
              "        [0.9476],\n",
              "        [0.9615],\n",
              "        [0.9753]])"
            ]
          },
          "metadata": {},
          "execution_count": 17
        }
      ]
    },
    {
      "cell_type": "code",
      "source": [
        "plot_predictions(predictions = y_preds)"
      ],
      "metadata": {
        "colab": {
          "base_uri": "https://localhost:8080/",
          "height": 428
        },
        "id": "1EDvhAYDnJHy",
        "outputId": "ead557d6-6f84-4b48-ebac-60729c1510a5"
      },
      "execution_count": null,
      "outputs": [
        {
          "output_type": "display_data",
          "data": {
            "text/plain": [
              "<Figure size 720x504 with 1 Axes>"
            ],
            "image/png": "[encoded data removed]"
          },
          "metadata": {
            "needs_background": "light"
          }
        }
      ]
    },
    {
      "cell_type": "code",
      "source": [
        "from pathlib import Path\n",
        "MODEL_PATH = Path(\"models\")\n",
        "MODEL_PATH.mkdir(parents = True, exist_ok =True)\n",
        "\n",
        "MODEL_NAME = \"01_pytorch_workflow_model_0.pth\"\n",
        "MODEL_SAVE_PATH = MODEL_PATH / MODEL_NAME\n",
        "\n",
        "print(f\"Saving model to: {MODEL_SAVE_PATH}\")\n",
        "torch.save(obj=model_0.state_dict(), # сохранение словаря моделей\n",
        "           f=MODEL_SAVE_PATH)\n"
      ],
      "metadata": {
        "colab": {
          "base_uri": "https://localhost:8080/"
        },
        "id": "it4LXPfnnPvb",
        "outputId": "37ca2a7c-7e71-4ceb-9fb6-52bbb10f520e"
      },
      "execution_count": null,
      "outputs": [
        {
          "output_type": "stream",
          "name": "stdout",
          "text": [
            "Saving model to: models/01_pytorch_workflow_model_0.pth\n"
          ]
        }
      ]
    },
    {
      "cell_type": "code",
      "source": [
        "loaded_model_0 = LinearRegressionModel()\n",
        "loaded_model_0.load_state_dict(torch.load(f = MODEL_SAVE_PATH))\n"
      ],
      "metadata": {
        "colab": {
          "base_uri": "https://localhost:8080/"
        },
        "id": "BDZww4GhsHV8",
        "outputId": "fb67c488-3ccd-4f5d-e2a2-c0a9620d2342"
      },
      "execution_count": null,
      "outputs": [
        {
          "output_type": "execute_result",
          "data": {
            "text/plain": [
              "<All keys matched successfully>"
            ]
          },
          "metadata": {},
          "execution_count": 21
        }
      ]
    },
    {
      "cell_type": "code",
      "source": [
        "loaded_model_0.eval()\n",
        "with torch.inference_mode():\n",
        "  loaded_m_preds = loaded_model_0(X_test)\n"
      ],
      "metadata": {
        "id": "SM0WH-0mt_X_"
      },
      "execution_count": null,
      "outputs": []
    },
    {
      "cell_type": "code",
      "source": [
        "y_preds == loaded_m_preds"
      ],
      "metadata": {
        "colab": {
          "base_uri": "https://localhost:8080/"
        },
        "id": "w0MGqs26ucj9",
        "outputId": "bbd0488a-b073-4d42-cdb4-cc554c9f7243"
      },
      "execution_count": null,
      "outputs": [
        {
          "output_type": "execute_result",
          "data": {
            "text/plain": [
              "tensor([[True],\n",
              "        [True],\n",
              "        [True],\n",
              "        [True],\n",
              "        [True],\n",
              "        [True],\n",
              "        [True],\n",
              "        [True],\n",
              "        [True],\n",
              "        [True]])"
            ]
          },
          "metadata": {},
          "execution_count": 23
        }
      ]
    },
    {
      "cell_type": "markdown",
      "source": [
        "##6. Putting it all together"
      ],
      "metadata": {
        "id": "giy27vYcu39N"
      }
    },
    {
      "cell_type": "code",
      "source": [
        "import torch\n",
        "from torch import nn\n",
        "import matplotlib.pyplot as plt"
      ],
      "metadata": {
        "id": "Ow0r3rKcul3I"
      },
      "execution_count": 1,
      "outputs": []
    },
    {
      "cell_type": "code",
      "source": [
        "device = \"cuda\" if torch.cuda.is_available() else \"cpu\"\n",
        "print(f\"Используемое устройство {device}\")"
      ],
      "metadata": {
        "colab": {
          "base_uri": "https://localhost:8080/"
        },
        "id": "36bR_xc6yNOJ",
        "outputId": "e9098b95-f42c-4aa0-cb29-979e75f5b995"
      },
      "execution_count": 2,
      "outputs": [
        {
          "output_type": "stream",
          "name": "stdout",
          "text": [
            "Используемое устройство cuda\n"
          ]
        }
      ]
    },
    {
      "cell_type": "code",
      "source": [
        "weight1 = 0.9\n",
        "weight2 = 0.5\n",
        "bias = 0.3\n",
        "\n",
        "start = 0\n",
        "end = 1\n",
        "step = 0.03\n",
        "\n",
        "X = torch.arange(start, end, step).unsqueeze(dim = 1)\n",
        "y = weight1 * X + bias\n",
        "X[10:20], y[10:20]"
      ],
      "metadata": {
        "colab": {
          "base_uri": "https://localhost:8080/"
        },
        "id": "-Rv2-WBdyi_5",
        "outputId": "e6a39d22-fdb9-4182-983b-5bead495a5d4"
      },
      "execution_count": 50,
      "outputs": [
        {
          "output_type": "execute_result",
          "data": {
            "text/plain": [
              "(tensor([[0.3000],\n",
              "         [0.3300],\n",
              "         [0.3600],\n",
              "         [0.3900],\n",
              "         [0.4200],\n",
              "         [0.4500],\n",
              "         [0.4800],\n",
              "         [0.5100],\n",
              "         [0.5400],\n",
              "         [0.5700]]), tensor([[0.5700],\n",
              "         [0.5970],\n",
              "         [0.6240],\n",
              "         [0.6510],\n",
              "         [0.6780],\n",
              "         [0.7050],\n",
              "         [0.7320],\n",
              "         [0.7590],\n",
              "         [0.7860],\n",
              "         [0.8130]]))"
            ]
          },
          "metadata": {},
          "execution_count": 50
        }
      ]
    },
    {
      "cell_type": "code",
      "source": [
        "train_split  = int(len(X) * 0.8)\n",
        "X_train, y_train = X[:train_split], y[:train_split]\n",
        "X_test, y_test = X[train_split:], y[train_split:]"
      ],
      "metadata": {
        "id": "D6zxJTRxzZg0"
      },
      "execution_count": 51,
      "outputs": []
    },
    {
      "cell_type": "code",
      "source": [
        "def plot_predictions(train_data=X_train, \n",
        "                     train_labels=y_train, \n",
        "                     test_data=X_test, \n",
        "                     test_labels=y_test, \n",
        "                     predictions=None):\n",
        "  \"\"\"\n",
        "  Plots training data, test data and compares predictions.\n",
        "  \"\"\"\n",
        "  plt.figure(figsize=(10, 7))\n",
        "\n",
        "  # Plot training data in blue\n",
        "  plt.scatter(train_data, train_labels, c=\"b\", s=4, label=\"Training data\")\n",
        "  \n",
        "  # Plot test data in green\n",
        "  plt.scatter(test_data, test_labels, c=\"g\", s=4, label=\"Testing data\")\n",
        "\n",
        "  if predictions is not None:\n",
        "    # Plot the predictions in red (predictions were made on the test data)\n",
        "    plt.scatter(test_data, predictions, c=\"r\", s=4, label=\"Predictions\")\n",
        "\n",
        "  # Show the legend\n",
        "  plt.legend(prop={\"size\": 14});"
      ],
      "metadata": {
        "id": "3WztBtQkz1cQ"
      },
      "execution_count": 52,
      "outputs": []
    },
    {
      "cell_type": "code",
      "source": [
        "plot_predictions(X_train, y_train, X_test, y_test)"
      ],
      "metadata": {
        "colab": {
          "base_uri": "https://localhost:8080/",
          "height": 427
        },
        "id": "vt0HSBjzz7of",
        "outputId": "d7d9b621-fa94-442b-8b2e-5eeb055ed78b"
      },
      "execution_count": 53,
      "outputs": [
        {
          "output_type": "display_data",
          "data": {
            "text/plain": [
              "<Figure size 720x504 with 1 Axes>"
            ],
            "image/png": "[encoded data removed]"
          },
          "metadata": {
            "needs_background": "light"
          }
        }
      ]
    },
    {
      "cell_type": "code",
      "source": [
        "class LinearRegressionModelV2(nn.Module):\n",
        "  def __init__(self):\n",
        "    super().__init__()\n",
        "    self.linear_layer = nn.Linear(in_features=1,\n",
        "                                  out_features = 1)\n",
        "  def forward(self, x: torch.Tensor) -> torch.Tensor:\n",
        "    return self.linear_layer(x)\n",
        "\n",
        "\n"
      ],
      "metadata": {
        "id": "gqmniq4J0G2m"
      },
      "execution_count": 54,
      "outputs": []
    },
    {
      "cell_type": "markdown",
      "source": [
        "https://www.learnpytorch.io/01_pytorch_workflow/#4-making-predictions-with-a-trained-pytorch-model-inference"
      ],
      "metadata": {
        "id": "5dhP8hG74cT6"
      }
    },
    {
      "cell_type": "code",
      "source": [
        "torch.manual_seed(42)\n",
        "model_1 = LinearRegressionModelV2()\n",
        "model_1, model_1.state_dict()"
      ],
      "metadata": {
        "id": "50VmvaxJyfjB",
        "colab": {
          "base_uri": "https://localhost:8080/"
        },
        "outputId": "5e916542-403e-4980-cb3d-102b8d7d6c06"
      },
      "execution_count": 55,
      "outputs": [
        {
          "output_type": "execute_result",
          "data": {
            "text/plain": [
              "(LinearRegressionModelV2(\n",
              "   (linear_layer): Linear(in_features=1, out_features=1, bias=True)\n",
              " ),\n",
              " OrderedDict([('linear_layer.weight', tensor([[0.7645]])),\n",
              "              ('linear_layer.bias', tensor([0.8300]))]))"
            ]
          },
          "metadata": {},
          "execution_count": 55
        }
      ]
    },
    {
      "cell_type": "code",
      "source": [
        "model_1.to(device)\n",
        "next(model_1.parameters()).device"
      ],
      "metadata": {
        "colab": {
          "base_uri": "https://localhost:8080/"
        },
        "id": "RDpWReYYHzkf",
        "outputId": "ab7adad0-7b9c-43ae-8517-23e3df7f5395"
      },
      "execution_count": 56,
      "outputs": [
        {
          "output_type": "execute_result",
          "data": {
            "text/plain": [
              "device(type='cuda', index=0)"
            ]
          },
          "metadata": {},
          "execution_count": 56
        }
      ]
    },
    {
      "cell_type": "code",
      "source": [
        "loss_fn = nn.L1Loss()\n",
        "optimizer = torch.optim.SGD(params = model_1.parameters(),\n",
        "                             lr = 0.01)"
      ],
      "metadata": {
        "id": "XccrcoGHIF2b"
      },
      "execution_count": 57,
      "outputs": []
    },
    {
      "cell_type": "code",
      "source": [
        "torch.manual_seed(42)\n",
        "\n",
        "epochs = 1000\n",
        "\n",
        "X_train = X_train.to(device)\n",
        "X_test = X_test.to(device)\n",
        "\n",
        "y_train = y_train.to(device)\n",
        "y_test = y_test.to(device)\n",
        "\n",
        "for epoch in range(epochs):\n",
        "  model_1.train()\n",
        "  y_pred = model_1(X_train)\n",
        "\n",
        "  loss = loss_fn(y_pred, y_train)\n",
        "\n",
        "  optimizer.zero_grad()\n",
        "\n",
        "  loss.backward()\n",
        "\n",
        "  optimizer.step()\n",
        "\n",
        "  model_1.eval()\n",
        "\n",
        "  with torch.inference_mode():\n",
        "    test_pred = model_1(X_test)\n",
        "    test_loss = loss_fn(test_pred, y_test)\n",
        "\n",
        "  if epoch % 100 == 0:\n",
        "        print(f\"Epoch: {epoch} | Train loss: {loss} | Test loss: {test_loss}\")"
      ],
      "metadata": {
        "colab": {
          "base_uri": "https://localhost:8080/"
        },
        "id": "agvhhQsgIdIb",
        "outputId": "2f5e0821-bbd7-498c-afea-34cb9e8aa5d9"
      },
      "execution_count": 58,
      "outputs": [
        {
          "output_type": "stream",
          "name": "stdout",
          "text": [
            "Epoch: 0 | Train loss: 0.4771779477596283 | Test loss: 0.3945826292037964\n",
            "Epoch: 100 | Train loss: 0.037725694477558136 | Test loss: 0.08838061988353729\n",
            "Epoch: 200 | Train loss: 0.0025808492209762335 | Test loss: 0.00541477557271719\n",
            "Epoch: 300 | Train loss: 0.005975355859845877 | Test loss: 0.007962942123413086\n",
            "Epoch: 400 | Train loss: 0.005975355859845877 | Test loss: 0.007962942123413086\n",
            "Epoch: 500 | Train loss: 0.005975355859845877 | Test loss: 0.007962942123413086\n",
            "Epoch: 600 | Train loss: 0.005975355859845877 | Test loss: 0.007962942123413086\n",
            "Epoch: 700 | Train loss: 0.005975355859845877 | Test loss: 0.007962942123413086\n",
            "Epoch: 800 | Train loss: 0.005975355859845877 | Test loss: 0.007962942123413086\n",
            "Epoch: 900 | Train loss: 0.005975355859845877 | Test loss: 0.007962942123413086\n"
          ]
        }
      ]
    },
    {
      "cell_type": "code",
      "source": [
        "\n",
        "from pprint import pprint \n",
        "print(\"Модель обучилась со следующими параметрами:\")\n",
        "pprint(model_1.state_dict())\n",
        "print(\"\\nНастоящие значение были:\")\n",
        "print(f\"weights: {weight1, weight2}, bias: {bias}\")"
      ],
      "metadata": {
        "colab": {
          "base_uri": "https://localhost:8080/"
        },
        "id": "nZr8DI2dKE84",
        "outputId": "c5fe6714-958d-4c71-9251-df71832d6409"
      },
      "execution_count": 59,
      "outputs": [
        {
          "output_type": "stream",
          "name": "stdout",
          "text": [
            "Модель обучилась со следующими параметрами:\n",
            "OrderedDict([('linear_layer.weight', tensor([[0.8992]], device='cuda:0')),\n",
            "             ('linear_layer.bias', tensor([0.3063], device='cuda:0'))])\n",
            "\n",
            "Настоящие значение были:\n",
            "weights: (0.9, 0.5), bias: 0.3\n"
          ]
        }
      ]
    },
    {
      "cell_type": "code",
      "source": [
        "model_1.eval()\n",
        "with torch.inference_mode():\n",
        "  y_preds = model_1(X_test)\n",
        "\n",
        "plot_predictions(predictions = y_preds.cpu())"
      ],
      "metadata": {
        "colab": {
          "base_uri": "https://localhost:8080/",
          "height": 427
        },
        "id": "Pux0WaCXLVHP",
        "outputId": "fb6cf640-883d-4529-ae7a-2c49126ac3b8"
      },
      "execution_count": 60,
      "outputs": [
        {
          "output_type": "display_data",
          "data": {
            "text/plain": [
              "<Figure size 720x504 with 1 Axes>"
            ],
            "image/png": "[encoded data removed]"
          },
          "metadata": {
            "needs_background": "light"
          }
        }
      ]
    },
    {
      "cell_type": "code",
      "source": [
        "from pathlib import Path\n",
        "M_P = Path('model')\n",
        "M_P.mkdir(parents = True, exist_ok = True)\n",
        "\n",
        "M_N = '01_model_1.pth'\n",
        "M_S_P = M_P / M_N\n",
        "\n",
        "torch.save(obj = model_1.state_dict(), f = M_S_P)"
      ],
      "metadata": {
        "id": "VKSIN443Lwd9"
      },
      "execution_count": 61,
      "outputs": []
    },
    {
      "cell_type": "code",
      "source": [
        "l_model_1 = LinearRegressionModelV2()\n",
        "\n",
        "l_model_1.load_state_dict(torch.load(M_S_P))\n",
        "\n",
        "l_model_1.to(device)\n",
        "\n",
        "print(f\"Loaded model:\\n{l_model_1}\")\n",
        "print(f\"Model on device:\\n{next(l_model_1.parameters()).device}\")"
      ],
      "metadata": {
        "colab": {
          "base_uri": "https://localhost:8080/"
        },
        "id": "9f2i5KkONKGq",
        "outputId": "4905d897-d6cc-4c9f-c187-1475648b77f5"
      },
      "execution_count": 63,
      "outputs": [
        {
          "output_type": "stream",
          "name": "stdout",
          "text": [
            "Loaded model:\n",
            "LinearRegressionModelV2(\n",
            "  (linear_layer): Linear(in_features=1, out_features=1, bias=True)\n",
            ")\n",
            "Model on device:\n",
            "cuda:0\n"
          ]
        }
      ]
    },
    {
      "cell_type": "code",
      "source": [
        "l_model_1.eval()\n",
        "with torch.inference_mode():\n",
        "  l_model_1_pred = l_model_1(X_test)\n",
        "\n",
        "y_preds == l_model_1_pred"
      ],
      "metadata": {
        "colab": {
          "base_uri": "https://localhost:8080/"
        },
        "id": "s-IroNUwNctc",
        "outputId": "418ea36c-f8aa-4d18-c948-9a0cb2d6f70b"
      },
      "execution_count": 64,
      "outputs": [
        {
          "output_type": "execute_result",
          "data": {
            "text/plain": [
              "tensor([[True],\n",
              "        [True],\n",
              "        [True],\n",
              "        [True],\n",
              "        [True],\n",
              "        [True],\n",
              "        [True]], device='cuda:0')"
            ]
          },
          "metadata": {},
          "execution_count": 64
        }
      ]
    },
    {
      "cell_type": "markdown",
      "source": [
        "##Exercises"
      ],
      "metadata": {
        "id": "W0neDMpCO2KI"
      }
    },
    {
      "cell_type": "code",
      "source": [
        "import torch\n",
        "from torch import nn\n",
        "import matplotlib.pyplot as plt\n"
      ],
      "metadata": {
        "id": "1dUuz_8zVoRA"
      },
      "execution_count": 1,
      "outputs": []
    },
    {
      "cell_type": "code",
      "source": [
        "device = \"cuda\" if torch.cuda.is_available() else \"cpu\""
      ],
      "metadata": {
        "id": "MLpVdErTbS0X"
      },
      "execution_count": 2,
      "outputs": []
    },
    {
      "cell_type": "code",
      "source": [
        "weight = 0.3\n",
        "bias = 0.9\n",
        "start = 0\n",
        "end = 2\n",
        "step = 0.01\n",
        "\n",
        "X = torch.arange(start, end, step)\n",
        "y = weight*X + bias\n",
        "\n",
        "\n",
        "split = int(len(X) * 0.8)\n",
        "\n",
        "X_train, y_train = X[:split], y[:split]\n",
        "X_test, y_test = X[split:], y[split:]\n"
      ],
      "metadata": {
        "id": "Bi1_FGu9O1t1"
      },
      "execution_count": 3,
      "outputs": []
    },
    {
      "cell_type": "code",
      "source": [
        "class LRModelEx(nn.Module):\n",
        "  def __init__(self):\n",
        "    super().__init__()\n",
        "    self.weights = nn.Parameter(torch.randn(1, requires_grad = True, dtype = torch.float))\n",
        "    self.bias = nn.Parameter(torch.randn(1, requires_grad = True, dtype = torch.float))\n",
        "\n",
        "  def forward(self, x: torch.Tensor) -> torch.Tensor:\n",
        "    return self.weights * x + self.bias"
      ],
      "metadata": {
        "id": "yvpiEb_6WBuh"
      },
      "execution_count": 4,
      "outputs": []
    },
    {
      "cell_type": "code",
      "source": [
        "model_Ex = LRModelEx()\n",
        "model_Ex.to(device)\n",
        "next(model_Ex.parameters()).device"
      ],
      "metadata": {
        "colab": {
          "base_uri": "https://localhost:8080/"
        },
        "id": "4KqL3zymYDkG",
        "outputId": "39fe0d01-bbf8-4bd3-a521-aab49237726d"
      },
      "execution_count": 6,
      "outputs": [
        {
          "output_type": "execute_result",
          "data": {
            "text/plain": [
              "device(type='cuda', index=0)"
            ]
          },
          "metadata": {},
          "execution_count": 6
        }
      ]
    },
    {
      "cell_type": "code",
      "source": [
        "loss_function = nn.L1Loss()\n",
        "optimizer = torch.optim.Adam(params = model_Ex.parameters(),\n",
        "                             lr = 0.02)"
      ],
      "metadata": {
        "id": "MNfmx_TLXEER"
      },
      "execution_count": 7,
      "outputs": []
    },
    {
      "cell_type": "code",
      "source": [
        "torch.manual_seed(42)\n",
        "epochs = 300\n",
        "\n",
        "X_train = X_train.to(device)\n",
        "X_test = X_test.to(device)\n",
        "y_train = y_train.to(device)\n",
        "y_test = y_test.to(device)\n",
        "\n",
        "for epoch in range(epochs):\n",
        "  model_Ex.train()\n",
        "  y_pred = model_Ex(X_train)\n",
        "  loss = loss_function(y_pred, y_train)\n",
        "  optimizer.zero_grad()\n",
        "  loss.backward()\n",
        "  optimizer.step()\n",
        "  model_Ex.eval()\n",
        "  with torch.inference_mode():\n",
        "    test_pred = model_Ex(X_test)\n",
        "    test_loss = loss_function(test_pred, y_test)\n",
        "\n",
        "  if epoch % 20 == 0:\n",
        "    print(f\"Epoch: {epoch} | Train loss: {loss} | Test loss: {test_loss}\")\n",
        "\n"
      ],
      "metadata": {
        "colab": {
          "base_uri": "https://localhost:8080/"
        },
        "id": "Ue-vNf1_Xqbc",
        "outputId": "dd75e537-457f-4d4c-dccb-a9a5fa2b51cb"
      },
      "execution_count": 8,
      "outputs": [
        {
          "output_type": "stream",
          "name": "stdout",
          "text": [
            "Epoch: 0 | Train loss: 0.9313678741455078 | Test loss: 0.8890497088432312\n",
            "Epoch: 20 | Train loss: 0.22847819328308105 | Test loss: 0.225081205368042\n",
            "Epoch: 40 | Train loss: 0.1824304610490799 | Test loss: 0.47505664825439453\n",
            "Epoch: 60 | Train loss: 0.11067920178174973 | Test loss: 0.15799467265605927\n",
            "Epoch: 80 | Train loss: 0.04112926870584488 | Test loss: 0.0720859095454216\n",
            "Epoch: 100 | Train loss: 0.011071830987930298 | Test loss: 0.024845797568559647\n",
            "Epoch: 120 | Train loss: 0.0026148620527237654 | Test loss: 0.0018679797649383545\n",
            "Epoch: 140 | Train loss: 0.008347325026988983 | Test loss: 0.012734904885292053\n",
            "Epoch: 160 | Train loss: 0.006631001830101013 | Test loss: 0.0011585861211642623\n",
            "Epoch: 180 | Train loss: 0.019270339980721474 | Test loss: 0.029789745807647705\n",
            "Epoch: 200 | Train loss: 0.013361635617911816 | Test loss: 0.02368273213505745\n",
            "Epoch: 220 | Train loss: 0.0008432302856817842 | Test loss: 0.0013824403285980225\n",
            "Epoch: 240 | Train loss: 0.0019246608717367053 | Test loss: 0.005751627963036299\n",
            "Epoch: 260 | Train loss: 0.0036737676709890366 | Test loss: 0.001463520573452115\n",
            "Epoch: 280 | Train loss: 0.003650988219305873 | Test loss: 0.0009680599323473871\n"
          ]
        }
      ]
    },
    {
      "cell_type": "code",
      "source": [
        "def plot_predictions(train_data=X_train, \n",
        "                     train_labels=y_train, \n",
        "                     test_data=X_test, \n",
        "                     test_labels=y_test, \n",
        "                     predictions=None):\n",
        "  \"\"\"\n",
        "  Plots training data, test data and compares predictions.\n",
        "  \"\"\"\n",
        "  plt.figure(figsize=(10, 7))\n",
        "\n",
        "  # Plot training data in blue\n",
        "  plt.scatter(train_data, train_labels, c=\"b\", s=4, label=\"Training data\")\n",
        "  \n",
        "  # Plot test data in green\n",
        "  plt.scatter(test_data, test_labels, c=\"g\", s=4, label=\"Testing data\")\n",
        "\n",
        "  if predictions is not None:\n",
        "    # Plot the predictions in red (predictions were made on the test data)\n",
        "    plt.scatter(test_data, predictions, c=\"r\", s=4, label=\"Predictions\")\n",
        "\n",
        "  # Show the legend\n",
        "  plt.legend(prop={\"size\": 14});"
      ],
      "metadata": {
        "id": "8U6LX01GVngC"
      },
      "execution_count": 9,
      "outputs": []
    },
    {
      "cell_type": "code",
      "source": [
        "from pprint import pprint \n",
        "print(\"Модель обучилась со следующими параметрами:\")\n",
        "pprint(model_Ex.state_dict())\n",
        "print(\"\\nНастоящие значение были:\")\n",
        "print(f\"weights: {weight}, bias: {bias}\")"
      ],
      "metadata": {
        "colab": {
          "base_uri": "https://localhost:8080/"
        },
        "id": "UFltHm7CWzmN",
        "outputId": "9eca445e-86c2-4703-f2fe-f31eee522b56"
      },
      "execution_count": 10,
      "outputs": [
        {
          "output_type": "stream",
          "name": "stdout",
          "text": [
            "Модель обучилась со следующими параметрами:\n",
            "OrderedDict([('weights', tensor([0.3051], device='cuda:0')),\n",
            "             ('bias', tensor([0.9029], device='cuda:0'))])\n",
            "\n",
            "Настоящие значение были:\n",
            "weights: 0.3, bias: 0.9\n"
          ]
        }
      ]
    },
    {
      "cell_type": "code",
      "source": [
        "model_Ex.eval()\n",
        "with torch.inference_mode():\n",
        "  y_preds = model_Ex(X_test)\n",
        "y_preds"
      ],
      "metadata": {
        "colab": {
          "base_uri": "https://localhost:8080/"
        },
        "id": "0Su5pMLqZ-Je",
        "outputId": "d2454ac4-3acd-4351-afd0-d91e75d5c760"
      },
      "execution_count": 11,
      "outputs": [
        {
          "output_type": "execute_result",
          "data": {
            "text/plain": [
              "tensor([1.3910, 1.3941, 1.3971, 1.4002, 1.4032, 1.4063, 1.4093, 1.4124, 1.4154,\n",
              "        1.4185, 1.4215, 1.4246, 1.4276, 1.4307, 1.4337, 1.4368, 1.4398, 1.4429,\n",
              "        1.4459, 1.4490, 1.4520, 1.4551, 1.4581, 1.4612, 1.4642, 1.4673, 1.4703,\n",
              "        1.4734, 1.4765, 1.4795, 1.4826, 1.4856, 1.4887, 1.4917, 1.4948, 1.4978,\n",
              "        1.5009, 1.5039, 1.5070, 1.5100], device='cuda:0')"
            ]
          },
          "metadata": {},
          "execution_count": 11
        }
      ]
    },
    {
      "cell_type": "code",
      "source": [
        "plot_predictions(X_train.cpu(), y_train.cpu(), X_test.cpu(), y_test.cpu())"
      ],
      "metadata": {
        "colab": {
          "base_uri": "https://localhost:8080/",
          "height": 427
        },
        "id": "326K07L6cNhZ",
        "outputId": "3a2c4671-2807-4c8e-f4c9-1233d9af370a"
      },
      "execution_count": 12,
      "outputs": [
        {
          "output_type": "display_data",
          "data": {
            "text/plain": [
              "<Figure size 720x504 with 1 Axes>"
            ],
            "image/png": "[encoded data removed]"
          },
          "metadata": {
            "needs_background": "light"
          }
        }
      ]
    },
    {
      "cell_type": "code",
      "source": [
        "y_cpu = y_preds.cpu().numpy()\n",
        "y_cpu\n"
      ],
      "metadata": {
        "colab": {
          "base_uri": "https://localhost:8080/"
        },
        "id": "wwnZgQxEZRr4",
        "outputId": "ba5ae4d2-b562-41bc-a1ab-f2780a726285"
      },
      "execution_count": 13,
      "outputs": [
        {
          "output_type": "execute_result",
          "data": {
            "text/plain": [
              "array([1.3910229, 1.394074 , 1.397125 , 1.4001759, 1.4032269, 1.4062779,\n",
              "       1.4093289, 1.41238  , 1.4154309, 1.4184818, 1.4215329, 1.4245839,\n",
              "       1.4276348, 1.4306858, 1.4337368, 1.4367878, 1.4398389, 1.4428899,\n",
              "       1.4459409, 1.4489918, 1.4520428, 1.4550939, 1.4581448, 1.4611958,\n",
              "       1.4642467, 1.4672978, 1.4703488, 1.4733999, 1.4764508, 1.4795017,\n",
              "       1.4825528, 1.4856038, 1.4886547, 1.4917057, 1.4947567, 1.4978077,\n",
              "       1.5008588, 1.5039098, 1.5069607, 1.5100117], dtype=float32)"
            ]
          },
          "metadata": {},
          "execution_count": 13
        }
      ]
    },
    {
      "cell_type": "markdown",
      "source": [
        "###Графика прогноза нет, потому что потому. Ругается на cpu()."
      ],
      "metadata": {
        "id": "ulwBNHeMfMm2"
      }
    },
    {
      "cell_type": "code",
      "source": [
        "plt.figure(figsize=(10, 7))\n",
        "plt.scatter(X_test.cpu(), y_test.cpu(), c=\"g\", s=4, label=\"Testing data\")\n",
        "plt.scatter(X_test.cpu(), y_preds.cpu(), c=\"r\", s=4, label=\"Predictions\")"
      ],
      "metadata": {
        "colab": {
          "base_uri": "https://localhost:8080/",
          "height": 445
        },
        "id": "tzoyVpBei8j3",
        "outputId": "617983b1-e336-443e-c935-48d0a714c40a"
      },
      "execution_count": 18,
      "outputs": [
        {
          "output_type": "execute_result",
          "data": {
            "text/plain": [
              "<matplotlib.collections.PathCollection at 0x7f2c801c8190>"
            ]
          },
          "metadata": {},
          "execution_count": 18
        },
        {
          "output_type": "display_data",
          "data": {
            "text/plain": [
              "<Figure size 720x504 with 1 Axes>"
            ],
            "image/png": "[encoded data removed]"
          },
          "metadata": {
            "needs_background": "light"
          }
        }
      ]
    },
    {
      "cell_type": "code",
      "source": [],
      "metadata": {
        "id": "5_a9V4-0jF3f"
      },
      "execution_count": null,
      "outputs": []
    }
  ]
}