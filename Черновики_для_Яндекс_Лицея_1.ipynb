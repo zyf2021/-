{
  "nbformat": 4,
  "nbformat_minor": 0,
  "metadata": {
    "colab": {
      "provenance": [],
      "collapsed_sections": [
        "S9TKTpJkHNtY",
        "9osSa7zaXz-k",
        "LqCuGMR5X5z1",
        "mYcfJ8BIXmTH",
        "LKMGExAlZay-",
        "BoT7xf_5ZdX_",
        "nzh5pkTFZgWa",
        "PMfyGVeuZnK3",
        "xG4Tvo_k58mH",
        "q6zVjv-hZoz8",
        "vDMmVDE4Tt_X",
        "cYkHaB1m_qzl",
        "bCHgRduEc4Dv",
        "lBSKSn4YcWjA",
        "TZU0yA2Hba6V",
        "Qsx4w9QkcZJM",
        "3hYJJq8PgBP_",
        "ouibkPvCnKmC",
        "kORfwyidcdmg",
        "WNJcMSPxsaap",
        "iqEPxdXaVGXG"
      ],
      "authorship_tag": "ABX9TyOs1Gjf0ZoYBFid83uZ3GzF",
      "include_colab_link": true
    },
    "kernelspec": {
      "name": "python3",
      "display_name": "Python 3"
    },
    "language_info": {
      "name": "python"
    }
  },
  "cells": [
    {
      "cell_type": "markdown",
      "metadata": {
        "id": "view-in-github",
        "colab_type": "text"
      },
      "source": [
        "<a href=\"https://colab.research.google.com/github/zyf2021/-/blob/main/%D0%A7%D0%B5%D1%80%D0%BD%D0%BE%D0%B2%D0%B8%D0%BA%D0%B8_%D0%B4%D0%BB%D1%8F_%D0%AF%D0%BD%D0%B4%D0%B5%D0%BA%D1%81_%D0%9B%D0%B8%D1%86%D0%B5%D1%8F_1.ipynb\" target=\"_parent\"><img src=\"https://colab.research.google.com/assets/colab-badge.svg\" alt=\"Open In Colab\"/></a>"
      ]
    },
    {
      "cell_type": "markdown",
      "source": [
        "#Часть 2"
      ],
      "metadata": {
        "id": "fPrWONlTXiPI"
      }
    },
    {
      "cell_type": "markdown",
      "source": [
        "##2.4.Списки\n"
      ],
      "metadata": {
        "id": "S9TKTpJkHNtY"
      }
    },
    {
      "cell_type": "markdown",
      "source": [
        "###Только кратные\n",
        "Из введенных чисел в последовательности выберите только те, которые кратны длине этой последовательности."
      ],
      "metadata": {
        "id": "pBfwozMmHYgx"
      }
    },
    {
      "cell_type": "code",
      "source": [
        "n = 0\n",
        "start_list = []\n",
        "end_list = []\n",
        "num = int(input())\n",
        "while num != 0:\n",
        "  n = n + 1\n",
        "  start_list.append(num)\n",
        "  num = int(input())\n",
        "\n",
        "for i in range(n):\n",
        "  if start_list[i] % n == 0:\n",
        "    end_list.append(start_list[i])\n",
        "print(end_list)"
      ],
      "metadata": {
        "colab": {
          "base_uri": "https://localhost:8080/"
        },
        "id": "4CpjE79cHRPK",
        "outputId": "290a4925-a468-4570-ae51-ca44a7fc5b1c"
      },
      "execution_count": null,
      "outputs": [
        {
          "output_type": "stream",
          "name": "stdout",
          "text": [
            "12\n",
            "3\n",
            "42\n",
            "15\n",
            "7\n",
            "6\n",
            "0\n",
            "[12, 42, 6]\n"
          ]
        }
      ]
    },
    {
      "cell_type": "markdown",
      "source": [
        "###Все равны\n",
        "Все должны стать равны по длине. То есть из введенных строк нужно найти самую длинную и все остальные выровнять по ней, добавив в начало и конец необходимое количество дефисов (в случае нечетного количества добавляемых дефисов слева добавляется на один дефис меньше)."
      ],
      "metadata": {
        "id": "MoAkAaEzIgzm"
      }
    },
    {
      "cell_type": "code",
      "source": [
        "max_len = -1\n",
        "words = []\n",
        "word = input()\n",
        "while word != '':\n",
        "  words.append(word)\n",
        "  if len(word) > max_len:\n",
        "    max_len = len(word)\n",
        "  word = input()\n",
        "for i in range(len(words) - 1, -1 , -1):\n",
        "  if len(words[i]) < max_len:\n",
        "    diff = max_len - len(words[i])\n",
        "    n_slash = diff // 2\n",
        "    if diff % 2 == 1:\n",
        "      print('-'*(n_slash) + words[i] + '-' * (n_slash + 1))\n",
        "    else:\n",
        "      print('-' * n_slash + words[i] + '-' * n_slash)\n",
        "  else:\n",
        "    print(words[i])\n",
        "  #if (len(words[i]) % 2 == 1):\n",
        "  #  print(words[i].center(max_len - 1, '-'), end = '')\n",
        "  #  print('--', end = '')\n",
        "  #else:\n",
        "  #  print(words[i].center(max_len, '-'), end = '')\n",
        "  #print()\n"
      ],
      "metadata": {
        "colab": {
          "base_uri": "https://localhost:8080/"
        },
        "id": "9bXR_d-BI_K8",
        "outputId": "53fa6418-ff8d-455d-9612-65f1c06dab93"
      },
      "execution_count": null,
      "outputs": [
        {
          "output_type": "stream",
          "name": "stdout",
          "text": [
            "dickery\n",
            "the\n",
            "air\n",
            "in\n",
            "up\n",
            "flew\n",
            "\n",
            "-flew--\n",
            "--up---\n",
            "--in---\n",
            "--air--\n",
            "--the--\n",
            "dickery\n"
          ]
        }
      ]
    },
    {
      "cell_type": "markdown",
      "source": [
        "###На своем месте\n",
        "Нужно найти место слову в упорядоченном по алфавиту списке."
      ],
      "metadata": {
        "id": "PbQ6IdlvNCE-"
      }
    },
    {
      "cell_type": "code",
      "source": [
        "n = int(input())\n",
        "words = []\n",
        "for i in range(n):\n",
        "  words.append(input())\n",
        "words.sort()\n",
        "\n",
        "find_word = input()\n",
        "\n",
        "index = 0\n",
        "\n",
        "for i in range(len(words)):\n",
        "  if words[i] == find_word:\n",
        "    index = i\n",
        "\n",
        "if index == 0:\n",
        "  words.append(find_word)\n",
        "  words.sort()\n",
        "  index = words.index(find_word)\n",
        "  print(index)\n",
        "  #print(words)\n",
        "else:\n",
        "  end = words[index + 1::]\n",
        "  #print(end)\n",
        "  start = words[0:index + 1:]\n",
        "  #print(start)\n",
        "\n",
        "  words = start\n",
        "  words.append(find_word)\n",
        "  words.extend(end)\n",
        "  for i in range(len(words)):\n",
        "    if words[i] == find_word:\n",
        "      index = i\n",
        "  print(index)\n",
        "  #print(words)"
      ],
      "metadata": {
        "colab": {
          "base_uri": "https://localhost:8080/"
        },
        "id": "4NBMB3VPNLk0",
        "outputId": "4cdd83aa-93cf-4a4f-a259-1916ae7727fb"
      },
      "execution_count": null,
      "outputs": [
        {
          "output_type": "stream",
          "name": "stdout",
          "text": [
            "6\n",
            "на\n",
            "златом\n",
            "златом\n",
            "крыльце\n",
            "сидели\n",
            "царь\n",
            "златом\n",
            "['крыльце', 'на', 'сидели', 'царь']\n",
            "['златом', 'златом']\n",
            "2\n",
            "['златом', 'златом', 'златом', 'крыльце', 'на', 'сидели', 'царь']\n"
          ]
        }
      ]
    },
    {
      "cell_type": "markdown",
      "source": [
        "##2.5. Кортежи. Преобразование коллекций"
      ],
      "metadata": {
        "id": "9osSa7zaXz-k"
      }
    },
    {
      "cell_type": "markdown",
      "source": [
        "###Старик и море"
      ],
      "metadata": {
        "id": "LqCuGMR5X5z1"
      }
    },
    {
      "cell_type": "code",
      "source": [
        "n = int(input())\n",
        "cort_list = []\n",
        "num_pred = -1\n",
        "text_pred = ''\n",
        "num_s = -1\n",
        "text_s = ''\n",
        "for i in range(n + 1):\n",
        "  if i != n:\n",
        "    s = input()\n",
        "  if num_pred < num_s:\n",
        "    cort_list.append((i - 1, text_pred))\n",
        "  num_pred = num_s\n",
        "  text_pred = text_s\n",
        "  num_s = int(s[-1])\n",
        "  text_s = s[:-2]\n",
        "\n",
        "for i in range(1, len(cort_list)):\n",
        "  print(cort_list[i])\n",
        "\n",
        "text_s\n"
      ],
      "metadata": {
        "colab": {
          "base_uri": "https://localhost:8080/"
        },
        "id": "dROARRluX8ps",
        "outputId": "e7b0dd6d-271b-4591-9ac0-6454d8af7e6c"
      },
      "execution_count": null,
      "outputs": [
        {
          "output_type": "stream",
          "name": "stdout",
          "text": [
            "11\n",
            "грозно 9\n",
            "два 8\n",
            "частотах 5\n",
            "опять 2\n",
            "пять раз 4\n",
            "много раз 8\n",
            "снова 5\n",
            "шумно 6\n",
            "медленно 4\n",
            "снова и снова 1\n",
            "радостно 2\n",
            "(4, 'опять')\n",
            "(5, 'пять раз')\n",
            "(7, 'снова')\n",
            "(10, 'снова и снова')\n"
          ]
        },
        {
          "output_type": "execute_result",
          "data": {
            "text/plain": [
              "'радостно'"
            ],
            "application/vnd.google.colaboratory.intrinsic+json": {
              "type": "string"
            }
          },
          "metadata": {},
          "execution_count": 26
        }
      ]
    },
    {
      "cell_type": "markdown",
      "source": [
        "###Старик и лодка"
      ],
      "metadata": {
        "id": "NpdWXh7DX84s"
      }
    },
    {
      "cell_type": "code",
      "source": [
        "n = int(input())\n",
        "for i in range(n):\n",
        "  word = input()\n",
        "  simb_pred = ''\n",
        "  for j in range(len(word)):\n",
        "    if word[j] < simb_pred:\n",
        "      print((i, j))\n",
        "    simb_pred = word[j]"
      ],
      "metadata": {
        "colab": {
          "base_uri": "https://localhost:8080/"
        },
        "id": "ayhKhD5rYB9h",
        "outputId": "14cd06ce-17c9-43eb-ebff-3872988c1df1"
      },
      "execution_count": null,
      "outputs": [
        {
          "output_type": "stream",
          "name": "stdout",
          "text": [
            "4\n",
            "boat\n",
            "(0, 2)\n",
            "ocaen\n",
            "(1, 1)\n",
            "(1, 2)\n",
            "oldster\n",
            "(2, 1)\n",
            "(2, 2)\n",
            "(2, 5)\n",
            "sunrise\n",
            "(3, 2)\n",
            "(3, 4)\n",
            "(3, 6)\n"
          ]
        }
      ]
    },
    {
      "cell_type": "markdown",
      "source": [
        "###Наборщик"
      ],
      "metadata": {
        "id": "Dr6ttIUPYCNI"
      }
    },
    {
      "cell_type": "code",
      "source": [
        "lathin_alphabet = list('ABCDEFGHIJKLMNOPQRSTUVWXYZabcdefghijklmnopqrstuvwxyz')\n",
        "russian_alphabet = list('АБВГДЕЁЖЗИЙКЛМНОПРСТУФХЦЧШЩЪЫЬЭЮЯабвгдеёжзийклмнопрстуфхцчшщъыьэюя')\n",
        "\n",
        "cort_list = []\n",
        "\n",
        "s = input()\n",
        "\n",
        "\n",
        "for i in range(len(s)):\n",
        "  if s[i] in lathin_alphabet:\n",
        "    #print(s[i], end = ' ')\n",
        "    for j in range(len(lathin_alphabet)):\n",
        "      if s[i] == lathin_alphabet[j]:\n",
        "        #print(s[i], j + 1)\n",
        "        cort_list.append((s[i], j + 1))\n",
        "  if s[i] in russian_alphabet:\n",
        "    #print(s[i], end = ' ')\n",
        "    for j in range(len(russian_alphabet)):\n",
        "      if s[i] == russian_alphabet[j]:\n",
        "        #print(s[i], j + 1)\n",
        "        cort_list.append((s[i], j + 1))    \n",
        "cort_list = set(cort_list)\n",
        "for item in cort_list:\n",
        "  print(item)\n",
        "\n"
      ],
      "metadata": {
        "colab": {
          "base_uri": "https://localhost:8080/"
        },
        "id": "Ar0LTh8OYDhn",
        "outputId": "8d205781-f7b4-4727-a750-1e2910627753"
      },
      "execution_count": null,
      "outputs": [
        {
          "output_type": "stream",
          "name": "stdout",
          "text": [
            "Говорит и показывает Москва.\n",
            "('о', 49)\n",
            "('с', 52)\n",
            "('Г', 4)\n",
            "('к', 45)\n",
            "('з', 42)\n",
            "('М', 14)\n",
            "('п', 50)\n",
            "('в', 36)\n",
            "('т', 53)\n",
            "('ы', 62)\n",
            "('а', 34)\n",
            "('р', 51)\n",
            "('и', 43)\n",
            "('е', 39)\n"
          ]
        }
      ]
    },
    {
      "cell_type": "markdown",
      "source": [
        "##2.6. Методы split и join. Списочные выражения"
      ],
      "metadata": {
        "id": "mYcfJ8BIXmTH"
      }
    },
    {
      "cell_type": "markdown",
      "source": [
        "###Опять сумма цифр\n",
        "\n",
        "Найдите сумму цифр введенного числа. Решите задачу в одну строку. Используйте списочное выражение."
      ],
      "metadata": {
        "id": "21eZ6karXqLn"
      }
    },
    {
      "cell_type": "code",
      "source": [
        "\n",
        "\n",
        "print(sum([int(num) for num in input()]))\n"
      ],
      "metadata": {
        "id": "XvS9but_XmHm",
        "colab": {
          "base_uri": "https://localhost:8080/"
        },
        "outputId": "c3d001fd-5565-4c3b-ddea-e43aa9190393"
      },
      "execution_count": null,
      "outputs": [
        {
          "output_type": "stream",
          "name": "stdout",
          "text": [
            "204501\n",
            "12\n"
          ]
        }
      ]
    },
    {
      "cell_type": "markdown",
      "source": [
        "###Подарки феи"
      ],
      "metadata": {
        "id": "r55bCcLEXuJ1"
      }
    },
    {
      "cell_type": "code",
      "source": [
        "final = '; '.join(['flower' if  i % 2 == 0 else 'gemstone' for i in range(len(input().split(',')))])\n",
        "#final = ['gemstone' for i in range(len(input().split(','))) if i % 2 == 1]\n",
        "final"
      ],
      "metadata": {
        "colab": {
          "base_uri": "https://localhost:8080/",
          "height": 53
        },
        "id": "eZAZ7XP3E6Yh",
        "outputId": "3b7cead2-b5c6-4f54-9a56-5fa1845694ee"
      },
      "execution_count": null,
      "outputs": [
        {
          "name": "stdout",
          "output_type": "stream",
          "text": [
            "Drink, to, your, health\n"
          ]
        },
        {
          "output_type": "execute_result",
          "data": {
            "text/plain": [
              "'flower; gemstone; flower; gemstone'"
            ],
            "application/vnd.google.colaboratory.intrinsic+json": {
              "type": "string"
            }
          },
          "metadata": {},
          "execution_count": 15
        }
      ]
    },
    {
      "cell_type": "code",
      "execution_count": null,
      "metadata": {
        "id": "dRiCHaTLXcoA",
        "colab": {
          "base_uri": "https://localhost:8080/",
          "height": 53
        },
        "outputId": "9fca098f-42af-4936-9474-a05a6ab9c57b"
      },
      "outputs": [
        {
          "name": "stdout",
          "output_type": "stream",
          "text": [
            "Drink, to, your, health\n"
          ]
        },
        {
          "output_type": "execute_result",
          "data": {
            "text/plain": [
              "'flower; gemstone; flower; gemstone'"
            ],
            "application/vnd.google.colaboratory.intrinsic+json": {
              "type": "string"
            }
          },
          "metadata": {},
          "execution_count": 19
        }
      ],
      "source": [
        "words = input()\n",
        "list_words = words.split(',')\n",
        "for i in range(len(list_words)):\n",
        "  if i % 2 == 0:\n",
        "    list_words[i] = 'flower'\n",
        "  if i % 2 == 1:\n",
        "    list_words[i] = 'gemstone'\n",
        "  \n",
        "final_word = '; '.join([word for word in list_words])\n",
        "final_word"
      ]
    },
    {
      "cell_type": "code",
      "source": [
        "a = [int(x) for x in '976, 929, 289, 809, 7677'.split(',')]\n",
        "a"
      ],
      "metadata": {
        "colab": {
          "base_uri": "https://localhost:8080/"
        },
        "id": "BnAOjzSxEBxx",
        "outputId": "742c055c-4cc8-43e9-b644-01dc581df495"
      },
      "execution_count": null,
      "outputs": [
        {
          "output_type": "execute_result",
          "data": {
            "text/plain": [
              "[976, 929, 289, 809, 7677]"
            ]
          },
          "metadata": {},
          "execution_count": 7
        }
      ]
    },
    {
      "cell_type": "markdown",
      "source": [
        "###Золушка\n",
        "Помогите Золушке перебрать крупу, то есть выбрать из предложения только слова с указанной подстрокой."
      ],
      "metadata": {
        "id": "uY9ljy-jXxCt"
      }
    },
    {
      "cell_type": "code",
      "source": [
        "substr = input()\n",
        "full_str = input()\n",
        "content_substr = [word for word in full_str.split() if substr in word]\n",
        "for word in content_substr:\n",
        "  print(word, end = ' ')\n"
      ],
      "metadata": {
        "id": "Ijy2BnJ9XlfP",
        "colab": {
          "base_uri": "https://localhost:8080/"
        },
        "outputId": "c2b5c78f-3208-4eb9-a93d-fcc960519661"
      },
      "execution_count": null,
      "outputs": [
        {
          "output_type": "stream",
          "name": "stdout",
          "text": [
            "рис\n",
            "Актриса Беатриса ест ириску сидя под кипарисом\n",
            "Актриса\n",
            "Беатриса\n",
            "ириску\n",
            "кипарисом\n"
          ]
        }
      ]
    },
    {
      "cell_type": "markdown",
      "source": [
        "###Короче\n",
        "\n",
        "Вводится очень длинное число. Выведите процесс его укорачивания справа и слева по одной цифре за раз, каждый результат с новой строки."
      ],
      "metadata": {
        "id": "eIqnnSrgmUWM"
      }
    },
    {
      "cell_type": "code",
      "source": [
        "n = input()\n",
        "if len(n) % 2 == 0:\n",
        "  shorted_list = [n[i:len(n) - i] for i in range(len(n) // 2)]\n",
        "else:\n",
        "  shorted_list = [n[i:len(n) - i] for i in range(len(n) // 2 + 1)]\n",
        "\n",
        "for i in shorted_list:\n",
        "  print(i)"
      ],
      "metadata": {
        "id": "fNcTOOYJmXpS",
        "colab": {
          "base_uri": "https://localhost:8080/"
        },
        "outputId": "fae61acd-901d-4af2-bdb1-a75e7aeb1096"
      },
      "execution_count": null,
      "outputs": [
        {
          "output_type": "stream",
          "name": "stdout",
          "text": [
            "123456789\n",
            "123456789\n",
            "2345678\n",
            "34567\n",
            "456\n",
            "123456789\n",
            "2345678\n",
            "34567\n",
            "456\n",
            "5\n"
          ]
        }
      ]
    },
    {
      "cell_type": "markdown",
      "source": [
        "###Гирлянда\n",
        "\n",
        "Гирлянды очень украшают помещение к празднику. Создают ощущение леса, свисающих лиан, тропиков…\n",
        "\n",
        "Напишите программу, которая из введенного предложения сделает гирлянду: каждое слово будет выводить вертикально вниз по букве, между словами, а также в начале и в конце – нижнее подчеркивание – веревочка, за которую гирлянду можно подвесить куда-нибудь повыше.\n",
        "\n",
        "И еще после пустой строки нужно вывести антигирлянду – ее отражение в натертом до блеска полу."
      ],
      "metadata": {
        "id": "uaCj3kPjmPw0"
      }
    },
    {
      "cell_type": "code",
      "source": [
        "s = 'Beautiful Soup, so rich and green, Waiting in a hot tureen!' #input()\n",
        "s_list = s.split()\n",
        "max_len = -1\n",
        "for i in range(len(s_list)):\n",
        "  if len(s_list[i]) > max_len:\n",
        "    max_len = len(s_list[i])\n",
        "\n",
        "#print('max_len =', max_len)\n",
        "\n",
        "girlynd = []\n",
        "\n",
        "for j in range(max_len):\n",
        "  curr = ''\n",
        "  for i in range(len(s_list)):\n",
        "    if len(s_list[i]) > j:\n",
        "      #print(s_list[i][j], end = ' ')\n",
        "      if j == 0:\n",
        "        curr += '_'+(s_list[i][j])\n",
        "      else:\n",
        "        curr += ' '+(s_list[i][j])\n",
        "    else:\n",
        "      #print(' ', end = ' ')\n",
        "      if j == 0:\n",
        "        curr += '_'+'_'  \n",
        "      else:\n",
        "        curr += ' '+' '\n",
        "  girlynd.append(curr)\n",
        "  #print()\n",
        "\n",
        "for i in girlynd:\n",
        "  print(i)\n",
        "print()\n",
        "for i in range(len(girlynd)-1, -1, -1):\n",
        "  print(girlynd[i])"
      ],
      "metadata": {
        "id": "WacxjDdHmPic"
      },
      "execution_count": null,
      "outputs": []
    },
    {
      "cell_type": "code",
      "source": [
        "s = input()\n",
        "s_list = s.split()\n",
        "max_len = -1\n",
        "for i in range(len(s_list)):\n",
        "  if len(s_list[i]) > max_len:\n",
        "    max_len = len(s_list[i])\n",
        "\n",
        "#print('max_len =', max_len)\n",
        "\n",
        "girlynd = []\n",
        "for i in range(len(s_list)):\n",
        "  if len(s_list[i]) > max_len:\n",
        "    max_len = len(s_list[i])\n",
        "girlynd = []\n",
        "\n",
        "#girlynd = [' '+(s_list[i][j]) if len(s_list[i]) > j else ' '+' ' for j in range(max_len) for i in range(len(s_list))]\n",
        "girlynd_1 = '_'.join([(s_list[i][0]) if len(s_list[i]) > 0 else ' ' for i in range(len(s_list))])\n",
        "girlynd.append(girlynd_1)\n",
        "girlynd = ['_' + '_'.join([(s_list[i][j]) if len(s_list[i]) > j else '_' for i in range(len(s_list))]) + '_' if j == 0 else ' ' + ' '.join([(s_list[i][j]) if len(s_list[i]) > j else ' ' for i in range(len(s_list))]) + ' ' for j in range(0, max_len)]\n",
        "for i in girlynd:\n",
        "  print(i)\n",
        "print()\n",
        "for i in range(len(girlynd)-1, -1, -1):\n",
        "  print(girlynd[i])"
      ],
      "metadata": {
        "colab": {
          "base_uri": "https://localhost:8080/"
        },
        "id": "YfxyzGaSVPvQ",
        "outputId": "270180e4-c41f-46e8-fdb2-c428d906881f"
      },
      "execution_count": null,
      "outputs": [
        {
          "output_type": "stream",
          "name": "stdout",
          "text": [
            "_B_S_s_r_a_g_W_i_a_h_t_\n",
            " e o o i n r a n   o u \n",
            " a u   c d e i     t r \n",
            " u p   h   e t       e \n",
            " t ,       n i       e \n",
            " i         , n       n \n",
            " f           g       ! \n",
            " u                     \n",
            " l                     \n",
            "\n",
            " l                     \n",
            " u                     \n",
            " f           g       ! \n",
            " i         , n       n \n",
            " t ,       n i       e \n",
            " u p   h   e t       e \n",
            " a u   c d e i     t r \n",
            " e o o i n r a n   o u \n",
            "_B_S_s_r_a_g_W_i_a_h_t_\n"
          ]
        }
      ]
    },
    {
      "cell_type": "markdown",
      "source": [
        "##2.7. Методы списков и строк"
      ],
      "metadata": {
        "id": "BtvHeYi-ZXDX"
      }
    },
    {
      "cell_type": "markdown",
      "source": [
        "###В трех соснах\n",
        "Найдите в строке первое и последнее вхождение слова сосна и выведите часть строки между ними (без начального и конечного пробелов)."
      ],
      "metadata": {
        "id": "LKMGExAlZay-"
      }
    },
    {
      "cell_type": "code",
      "source": [
        "s = 'Первая сосна елка вторая сосна кедр третья сосна и прочие хвойные деревья'.split() #input()\n",
        "first_enter = s.index('сосна')\n",
        "last_enter = 0\n",
        "for i in range(len(s)):\n",
        "  if s[i] == 'сосна':\n",
        "    last_enter = i\n",
        "s = s[first_enter + 1:last_enter]\n",
        "for el in s:\n",
        "  print(el, end = ' ')\n",
        "\n"
      ],
      "metadata": {
        "colab": {
          "base_uri": "https://localhost:8080/"
        },
        "id": "XLUXbf8ajy9X",
        "outputId": "cc4a97c0-94e4-4c7b-8100-38e90e71b374"
      },
      "execution_count": null,
      "outputs": [
        {
          "output_type": "stream",
          "name": "stdout",
          "text": [
            "елка вторая сосна кедр третья "
          ]
        }
      ]
    },
    {
      "cell_type": "code",
      "source": [
        "s = input().split()\n",
        "first_enter = s.index(\"сосна\")\n",
        "last_enter = 0\n",
        "for i in range(len(s)):\n",
        "    if s[i] == \"сосна\":\n",
        "        last_enter = i\n",
        "s = s[first_enter + 1:last_enter]\n",
        "for el in s:\n",
        "    print(el, end=\" \")\n",
        "\n"
      ],
      "metadata": {
        "colab": {
          "base_uri": "https://localhost:8080/"
        },
        "id": "JCJly5u1pupl",
        "outputId": "15c4cda9-d897-499a-cd62-abc71e9e6963"
      },
      "execution_count": null,
      "outputs": [
        {
          "output_type": "stream",
          "name": "stdout",
          "text": [
            "Первая сосна елка вторая сосна кедр третья сосна и прочие хвойные деревья\n",
            "елка вторая сосна кедр третья "
          ]
        }
      ]
    },
    {
      "cell_type": "markdown",
      "source": [
        "###Позвать друга"
      ],
      "metadata": {
        "id": "BoT7xf_5ZdX_"
      }
    },
    {
      "cell_type": "code",
      "source": [
        "dialog = []\n",
        "curr = input()\n",
        "while curr != \"\":\n",
        "    dialog.append(curr)\n",
        "    curr = input()\n",
        "name = \"@\" + input()\n",
        "\n",
        "dialog = [s[len(name) + 1:].capitalize() for s in dialog if name in s]\n",
        "dialog.sort()\n",
        "print(dialog)\n",
        "for i in dialog:\n",
        "    print(i)"
      ],
      "metadata": {
        "colab": {
          "base_uri": "https://localhost:8080/"
        },
        "id": "Oy1sEPRongru",
        "outputId": "1e4671da-59ae-4143-eae2-b81eb0b11407"
      },
      "execution_count": null,
      "outputs": [
        {
          "output_type": "stream",
          "name": "stdout",
          "text": [
            "@Lucy do as you would be done by\n",
            "@Lucy fools never know when they are well\n",
            "@Lucy a thief knows a thief as a wolf knows a wolf\n",
            "\n",
            "Lucy\n",
            "['A thief knows a thief as a wolf knows a wolf', 'Do as you would be done by', 'Fools never know when they are well']\n",
            "A thief knows a thief as a wolf knows a wolf\n",
            "Do as you would be done by\n",
            "Fools never know when they are well\n"
          ]
        }
      ]
    },
    {
      "cell_type": "markdown",
      "source": [
        "###Перспектива\n",
        "\n",
        "Если смотреть вдаль, то видеть мы будем хотя бы частично только дома, которые выше стоящих ближе. Напишите программу, выводящую высоты зданий, которые видны из данной точки в порядке их расположения. Выводить через »."
      ],
      "metadata": {
        "id": "nzh5pkTFZgWa"
      }
    },
    {
      "cell_type": "code",
      "source": [
        "buildings = input().split()\n",
        "buildings = [int(el) for el in buildings]\n",
        "show_build = []\n",
        "max = -1\n",
        "for el in buildings:\n",
        "  if el > max:\n",
        "    show_build.append(el)\n",
        "    max = el\n",
        "s = '>>'.join([str(el) for el in show_build])\n",
        "print(s)"
      ],
      "metadata": {
        "colab": {
          "base_uri": "https://localhost:8080/"
        },
        "id": "x9GyspqXqMUy",
        "outputId": "1cfad8cf-1494-4089-98de-5005cadc2238"
      },
      "execution_count": null,
      "outputs": [
        {
          "output_type": "stream",
          "name": "stdout",
          "text": [
            "8 2 12 12 3 15\n",
            "8>>12>>15\n"
          ]
        }
      ]
    },
    {
      "cell_type": "markdown",
      "source": [
        "###Подстроки\n",
        "\n",
        "Интересно, на какие повторяющиеся части можно разделить слово? И сколько таких повторений? Понятно, что частей с длиной, большей половины длины исходного слова, не может быть больше одной, поэтому их не рассматриваем. А вот для подстрок с длиной не большей половины и встречающихся в слове больше одного раза выведите значения в любом порядке в виде:\n",
        "<подстрока>: <количество повторений>"
      ],
      "metadata": {
        "id": "PMfyGVeuZnK3"
      }
    },
    {
      "cell_type": "code",
      "source": [
        "s = input()\n",
        "max_len_substr = len(s) // 2\n",
        "list_substr = []\n",
        "\n",
        "#s[0:1:2]\n",
        "for i in range(len(s)):\n",
        "  for j in range(len(s)):\n",
        "    list_substr.append(s[i:j:1])\n",
        "list_substr = list(set(list_substr))\n",
        "list_substr.sort()\n",
        "for el in list_substr:\n",
        "  if el != '' and s.count(el) > 1:\n",
        "    print(el + ': ' + str(s.count(el)))\n"
      ],
      "metadata": {
        "colab": {
          "base_uri": "https://localhost:8080/"
        },
        "id": "5W41_2Ass4e3",
        "outputId": "6e81a198-6474-4aa1-b2a8-06b04a8e0c15"
      },
      "execution_count": null,
      "outputs": [
        {
          "output_type": "stream",
          "name": "stdout",
          "text": [
            "hillbillies\n",
            "i: 3\n",
            "il: 2\n",
            "ill: 2\n",
            "l: 4\n",
            "ll: 2\n"
          ]
        }
      ]
    },
    {
      "cell_type": "markdown",
      "source": [
        "###Палочки и колбочки"
      ],
      "metadata": {
        "id": "xG4Tvo_k58mH"
      }
    },
    {
      "cell_type": "code",
      "source": [
        "start_s = input()\n",
        "level = int(input())\n",
        "if level > 100:\n",
        "  start_s = start_s.replace('0000', '|||')\n",
        "else:\n",
        "  start_s = start_s.replace('|||', '00', 3)\n",
        "start_s\n",
        "index = start_s.find('|0|')\n",
        "if index != -1:\n",
        "  first_part = start_s[:index:]\n",
        "  last_part = start_s[index+3::]\n",
        "  start_s = first_part + '|00|' + last_part\n",
        "print(start_s)"
      ],
      "metadata": {
        "colab": {
          "base_uri": "https://localhost:8080/",
          "height": 70
        },
        "id": "Q56WYjaC6HKY",
        "outputId": "9a7c57bc-c9f6-42ff-c4e1-48aa5620c788"
      },
      "execution_count": null,
      "outputs": [
        {
          "name": "stdout",
          "output_type": "stream",
          "text": [
            "0000|||||00000|0|||0|000|||0000|0|||0|00\n",
            "17\n"
          ]
        },
        {
          "output_type": "execute_result",
          "data": {
            "text/plain": [
              "'000000||00000|0000|000000000|00|||0|00'"
            ],
            "application/vnd.google.colaboratory.intrinsic+json": {
              "type": "string"
            }
          },
          "metadata": {},
          "execution_count": 4
        }
      ]
    },
    {
      "cell_type": "markdown",
      "source": [
        "###Отделить зерна от плевел"
      ],
      "metadata": {
        "id": "q6zVjv-hZoz8"
      }
    },
    {
      "cell_type": "code",
      "source": [
        "full_str = input().split()\n",
        "litera = ''\n",
        "sign = ''\n",
        "for s in full_str:\n",
        "  if s.isalpha():\n",
        "    litera += s.capitalize() + ' '\n",
        "  elif s.isdigit():\n",
        "    sign += s + ' '\n",
        "  #elif s.isalnum():\n",
        "  elif s == ' ':\n",
        "    sign += ''\n",
        "  else:\n",
        "    #sign += s + ' '\n",
        "    sub_word = ''\n",
        "    sub_sign = ''\n",
        "    for el in s:\n",
        "      if el.isalpha():\n",
        "        sub_word += el\n",
        "      else: #el.isdigit():\n",
        "        sub_sign += el\n",
        "    #print(sub_word, sub_sign)\n",
        "    if len(sub_word) != 0:\n",
        "      litera += sub_word.capitalize() + ' '\n",
        "    if len(sub_sign) != 0:\n",
        "      sign += sub_sign + ' '\n",
        "print(litera)\n",
        "print(sign)"
      ],
      "metadata": {
        "colab": {
          "base_uri": "https://localhost:8080/"
        },
        "id": "o2ZZdl-NVPoE",
        "outputId": "1d980738-b5ab-40cf-bb2f-b1ec065233a8"
      },
      "execution_count": null,
      "outputs": [
        {
          "output_type": "stream",
          "name": "stdout",
          "text": [
            "a?#$Ah -LlXxWc?VT mTan @>~ Zs@tfIxr LKi\"D*a,bI cIWc#\\f(E >QTcXJI` /\"]=f< <h-EC#htPL )VY-#S ]pVHWoO hH%OkOZ| :m f|umHc% @uD i%@dub.) /Er AX@phlAHw= &*wBREj(u jMe?g?P$ x_%nz- W~& D#Xll), wgT/\"NGFtn KG ZB XVQ km;T~l <gLgq/}\n",
            "Aah Llxxwcvt Mtan Zstfixr Lkidabi Ciwcfe Qtcxji F Hechtpl Vys Pvhwoo Hhokoz M Fumhc Ud Idub Er Axphlahw Wbreju Jmegp Xnz W Dxll Wgtngftn Kg Zb Xvq Kmtl Glgq \n",
            "?#$ -? @>~ @ \"*, #\\( >` /\"]=< <-# )-# ] %| : |% @ %@.) / @= &*( ??$ _%- ~& #), /\" ;~ </} \n"
          ]
        }
      ]
    },
    {
      "cell_type": "markdown",
      "source": [
        "###Скажи по буквам\n",
        "Когда плохо слышно, часто просят проговорить все слова по буквам. Напишите программу, которая запишет во всех словах предложения запишет буквы через указанный символ."
      ],
      "metadata": {
        "id": "vDMmVDE4Tt_X"
      }
    },
    {
      "cell_type": "code",
      "source": [
        "diff = input()\n",
        "s_list = input().split()\n",
        "for i in range(len(s_list)):\n",
        "  s_list[i] = list(s_list[i].upper())\n",
        "  print(diff.join([el for el in s_list[i]]), end = ' ')\n"
      ],
      "metadata": {
        "colab": {
          "base_uri": "https://localhost:8080/"
        },
        "id": "2HJa-n4qTy6n",
        "outputId": "e420746d-f994-46ed-e07c-1d39f7a6ef9a"
      },
      "execution_count": null,
      "outputs": [
        {
          "output_type": "stream",
          "name": "stdout",
          "text": [
            "-\n",
            "I thought   a thought\n",
            "I T-H-O-U-G-H-T A T-H-O-U-G-H-T [['I'], ['T', 'H', 'O', 'U', 'G', 'H', 'T'], ['A'], ['T', 'H', 'O', 'U', 'G', 'H', 'T']]\n"
          ]
        }
      ]
    },
    {
      "cell_type": "markdown",
      "source": [
        "###Эники-бэники\n",
        "Найдите, сколько раз указанная буква встречается в строке, если не учитывать ее регистр."
      ],
      "metadata": {
        "id": "cYkHaB1m_qzl"
      }
    },
    {
      "cell_type": "code",
      "source": [
        "letter = input().lower()\n",
        "s = input().lower()\n",
        "print(s.count(letter))\n"
      ],
      "metadata": {
        "colab": {
          "base_uri": "https://localhost:8080/"
        },
        "id": "5arrr-si_qgi",
        "outputId": "af11bd03-c7fe-4012-88fa-73c961c556ae"
      },
      "execution_count": null,
      "outputs": [
        {
          "output_type": "stream",
          "name": "stdout",
          "text": [
            "E\n",
            "If he hollers, let him go. Eeny, meeny, miney moe.\n",
            "9\n"
          ]
        }
      ]
    },
    {
      "cell_type": "markdown",
      "source": [
        "##2.8. Вложенные списки"
      ],
      "metadata": {
        "id": "bCHgRduEc4Dv"
      }
    },
    {
      "cell_type": "markdown",
      "source": [
        "###Лесопосадки"
      ],
      "metadata": {
        "id": "z4ISRfvbc7Gm"
      }
    },
    {
      "cell_type": "code",
      "source": [
        "forest = []\n",
        "s = input()\n",
        "while s != '':\n",
        "  #row = [int(el) for el in input().split(' : ')]\n",
        "  row = s.split(' : ')\n",
        "  #print(row)\n",
        "  row = [int(el) for el in row]\n",
        "  #print(row)\n",
        "  forest.append(row)\n",
        "  s = input()\n",
        "\n",
        "crit = int(input())\n",
        "\n",
        "for i in range(len(forest)):\n",
        "  for j in range(len(forest[i])):\n",
        "    if forest[i][j] < crit:\n",
        "      forest[i][j] = 0\n",
        "\n",
        "for i in range(len(forest)):\n",
        "  for j in range(len(forest[i])):\n",
        "    print(forest[i][j], end = '\\t')\n",
        "  print()"
      ],
      "metadata": {
        "colab": {
          "base_uri": "https://localhost:8080/"
        },
        "id": "of_2CfkBc76U",
        "outputId": "d55bc537-5114-49e6-9a22-92ad2f711707"
      },
      "execution_count": null,
      "outputs": [
        {
          "output_type": "stream",
          "name": "stdout",
          "text": [
            "8 : 12 : 6 : 3\n",
            "1 : 5 : 8 : 7\n",
            "14 : 12 : 9 : 1\n",
            "\n",
            "8\n",
            "8\t12\t0\t0\t\n",
            "0\t0\t8\t0\t\n",
            "14\t12\t9\t0\t\n"
          ]
        }
      ]
    },
    {
      "cell_type": "markdown",
      "source": [
        "###Левый сын, правый сын\n",
        "\n",
        "Двоичное дерево – это такая структура данных, в которой у каждой вершины может быть не более двух потомков, которых и называют сыновьями. Соответственно, левым и правым.\n",
        "\n",
        "Постройте такое двоичное дерево из списка чисел, на каждом следующем уровне суммируя попарно рядом стоящие числа, если в списке нечетное число значений, последнее суммируется с нулем."
      ],
      "metadata": {
        "id": "K2c3P7aUnlko"
      }
    },
    {
      "cell_type": "code",
      "source": [
        "num_list = []\n",
        "num_list.append([0,1,2,3,4,5,6])\n",
        "num_list.append([3,7,11])\n",
        "num_list.append([10,11])\n",
        "num_list.append([21])\n",
        "num_list"
      ],
      "metadata": {
        "colab": {
          "base_uri": "https://localhost:8080/"
        },
        "id": "Vo_BiFE7RmiF",
        "outputId": "ac102ca4-f956-4bb2-bed4-cc9d0f5048cc"
      },
      "execution_count": null,
      "outputs": [
        {
          "output_type": "execute_result",
          "data": {
            "text/plain": [
              "[[1, 2, 3, 4, 5, 6], [3, 7, 11], [10, 11], [21]]"
            ]
          },
          "metadata": {},
          "execution_count": 1
        }
      ]
    },
    {
      "cell_type": "code",
      "source": [
        "num_list = []\n",
        "row = [int(el) for el in input().split()]\n",
        "len_row = len(row)\n",
        "num_list.append(row)\n",
        "while len(row) != 1:\n",
        "  new_row = []\n",
        "  for i in range(0, len(row) - 1, 2):\n",
        "    new_row.append(row[i] + row[i+1])\n",
        "  if len(row) % 2 == 1:\n",
        "    new_row.append(row[len(row) - 1])\n",
        "  row = new_row\n",
        "  num_list.append(row)\n",
        "\n",
        "for i in range(len(num_list) - 1, -1, -1):\n",
        "  for j in num_list[i]:\n",
        "    print(j, end=' ')\n",
        "  print()"
      ],
      "metadata": {
        "colab": {
          "base_uri": "https://localhost:8080/"
        },
        "id": "Cqq-cdyMR9uK",
        "outputId": "2563ebc8-9832-4e02-af33-cd88f626c786"
      },
      "execution_count": null,
      "outputs": [
        {
          "output_type": "stream",
          "name": "stdout",
          "text": [
            "1 2 3 5 7 6 4\n",
            "28 \n",
            "11 17 \n",
            "3 8 13 4 \n",
            "1 2 3 5 7 6 4 \n"
          ]
        }
      ]
    },
    {
      "cell_type": "markdown",
      "source": [
        "###Грядки"
      ],
      "metadata": {
        "id": "hRDEQ6hxVGd9"
      }
    },
    {
      "cell_type": "code",
      "source": [
        "list_cort = []\n",
        "\n",
        "n_gryd = int(input())\n",
        "n_plant = int(input())\n",
        "\n",
        "for i in range(n_plant):\n",
        "  plant = input()\n",
        "  list_cort.append((len(plant), plant))\n",
        "\n",
        "list_cort.sort()\n",
        "\n"
      ],
      "metadata": {
        "colab": {
          "base_uri": "https://localhost:8080/"
        },
        "id": "D79Jo82sVPTA",
        "outputId": "6c8366b6-3b5b-4e91-c079-c2426f915dcc"
      },
      "execution_count": null,
      "outputs": [
        {
          "name": "stdout",
          "output_type": "stream",
          "text": [
            "5\n",
            "13\n",
            "Tomatillo\n",
            "Sorrel\n",
            "Dandelion\n",
            "Spinach\n",
            "Binung\n",
            "Breadfruit\n",
            "Mallow\n",
            "Catsear\n",
            "Cucamelon\n",
            "Turnip\n",
            "Radicchio\n",
            "Luffa\n",
            "Kiwano\n"
          ]
        }
      ]
    },
    {
      "cell_type": "code",
      "source": [
        "for i in range(n_plant):\n",
        "  print(i, list_cort[i])"
      ],
      "metadata": {
        "colab": {
          "base_uri": "https://localhost:8080/"
        },
        "id": "_59FqKPXWt_6",
        "outputId": "e6297d57-1a01-4ede-9744-9239c5bdbbcc"
      },
      "execution_count": null,
      "outputs": [
        {
          "output_type": "stream",
          "name": "stdout",
          "text": [
            "0 (5, 'Luffa')\n",
            "1 (6, 'Binung')\n",
            "2 (6, 'Kiwano')\n",
            "3 (6, 'Mallow')\n",
            "4 (6, 'Sorrel')\n",
            "5 (6, 'Turnip')\n",
            "6 (7, 'Catsear')\n",
            "7 (7, 'Spinach')\n",
            "8 (9, 'Cucamelon')\n",
            "9 (9, 'Dandelion')\n",
            "10 (9, 'Radicchio')\n",
            "11 (9, 'Tomatillo')\n",
            "12 (10, 'Breadfruit')\n"
          ]
        }
      ]
    },
    {
      "cell_type": "code",
      "source": [
        "list_cort = []\n",
        "\n",
        "n_gryd = int(input())\n",
        "n_plant = int(input())\n",
        "\n",
        "for i in range(n_plant):\n",
        "  plant = input()\n",
        "  list_cort.append((len(plant), plant))\n",
        "\n",
        "list_cort.sort()\n",
        "new_list = []\n",
        "for j in range(5): # n_plant // n_gryd\n",
        "  row = [] \n",
        "  for i in range(2):\n",
        "    row.append(list_cort[i * 5 + j])\n",
        "  new_list.append(row)\n",
        "\n",
        "for i in range(2, 3, 1): # n_plant // n_gryd \n",
        "  for j in range(n_plant % n_gryd):\n",
        "    new_list[j].append(list_cort[i * 5 + j])\n",
        "\n",
        "for row in new_list:\n",
        "  for i in range(len(row)):\n",
        "    if i != len(row) - 1:\n",
        "      print(row[i][1], end = \", \")\n",
        "    else:\n",
        "      print(row[i][1], end = \" \")\n",
        "  print()"
      ],
      "metadata": {
        "colab": {
          "base_uri": "https://localhost:8080/"
        },
        "id": "uDQ-ahOyXWYa",
        "outputId": "e508b074-5586-47d0-fca7-dc70a818bceb"
      },
      "execution_count": null,
      "outputs": [
        {
          "output_type": "stream",
          "name": "stdout",
          "text": [
            "Luffa, Turnip, Radicchio \n",
            "Binung, Catsear, Tomatillo \n",
            "Kiwano, Spinach, Breadfruit \n",
            "Mallow, Cucamelon \n",
            "Sorrel, Dandelion \n"
          ]
        }
      ]
    },
    {
      "cell_type": "markdown",
      "source": [
        "###Дороги, дороги…\n",
        "Несколько городов сказочной страны связаны дорогами, причем некоторые дороги ведут только в одну сторону: так сделано специально, чтобы по узкому горному серпантину все могли двигаться без пробок. Составьте схему движения в стране, то есть матрицу, в которой 1 обозначено наличие дороги из города в строке в город в столбце, а 0 – отсутствие такой дороги."
      ],
      "metadata": {
        "id": "G7BqXQF68q-E"
      }
    },
    {
      "cell_type": "code",
      "source": [
        "n = 3\n",
        "m = 4\n",
        "a = [[0] * m for i in range(n)]\n",
        "a"
      ],
      "metadata": {
        "colab": {
          "base_uri": "https://localhost:8080/"
        },
        "id": "yJ2pqSlEB7Db",
        "outputId": "614b1b1a-0d65-4ba8-b42e-b6142d6ae088"
      },
      "execution_count": null,
      "outputs": [
        {
          "output_type": "execute_result",
          "data": {
            "text/plain": [
              "[[0, 0, 0, 0], [0, 0, 0, 0], [0, 0, 0, 0]]"
            ]
          },
          "metadata": {},
          "execution_count": 13
        }
      ]
    },
    {
      "cell_type": "code",
      "source": [
        "s_marsh =  []\n",
        "\n",
        "set_points = set()\n",
        "marsh = input()\n",
        "while marsh != '':\n",
        "  s_marsh.append([marsh[0], marsh[1]])\n",
        "  set_points.add(marsh[0])\n",
        "  set_points.add(marsh[1])\n",
        "  marsh = input()\n",
        "s_marsh.sort()\n",
        "set_points = list(set_points)\n",
        "set_points.sort()\n",
        "\n",
        "n = len(set_points)\n",
        "\n",
        "matrix = [[0] * n for i in range(n)]\n",
        "\n",
        "for k in range(len(s_marsh)):\n",
        "  for i in range(n):\n",
        "    for j in range(n):\n",
        "      if s_marsh[k][0] == set_points[i] and s_marsh[k][1] == set_points[j]:\n",
        "        #print(s_marsh[k][0], set_points[i], s_marsh[k][1], set_points[j] )\n",
        "        matrix[i][j] = 1\n",
        "\n",
        "\n",
        "#print(s_marsh)\n",
        "print(' ', end = '')\n",
        "for el in set_points:\n",
        "  print(' ' + el, end = '')\n",
        "print()\n",
        "for i in range(n):\n",
        "  print(set_points[i], end = ' ')\n",
        "  for j in range(n):\n",
        "    print(matrix[i][j], end = ' ')\n",
        "  print()\n",
        "#print(matrix)"
      ],
      "metadata": {
        "colab": {
          "base_uri": "https://localhost:8080/"
        },
        "id": "JYFbgKPY8v73",
        "outputId": "d52b61d7-a231-40c9-db42-b0367626d98b"
      },
      "execution_count": null,
      "outputs": [
        {
          "output_type": "stream",
          "name": "stdout",
          "text": [
            "kl\n",
            "lm\n",
            "nn\n",
            "op\n",
            "po\n",
            "\n",
            "  k l m n o p\n",
            "k 0 1 0 0 0 0 \n",
            "l 0 0 1 0 0 0 \n",
            "m 0 0 0 0 0 0 \n",
            "n 0 0 0 1 0 0 \n",
            "o 0 0 0 0 0 1 \n",
            "p 0 0 0 0 1 0 \n"
          ]
        }
      ]
    },
    {
      "cell_type": "markdown",
      "source": [
        "##2.9. Знакомство со словарями"
      ],
      "metadata": {
        "id": "7NJij0fXcSzi"
      }
    },
    {
      "cell_type": "markdown",
      "source": [
        "###Палеонтология"
      ],
      "metadata": {
        "id": "lBSKSn4YcWjA"
      }
    },
    {
      "cell_type": "code",
      "source": [
        "epochs = {\"Archaea\": 2800000, \"Proterozoic\": 635000, \"Paleozoic\": 300000, \"Mesozoic\": 145000, \"Cenozoic\": 0}\n",
        "ages = []\n",
        "age = input()\n",
        "while age != '':\n",
        "  ages.append(int(age))\n",
        "  age = input()\n",
        "\n",
        "for age in ages:\n",
        "  for name, years in epochs.items():\n",
        "    if age > years:\n",
        "      print(name)\n",
        "      break\n"
      ],
      "metadata": {
        "colab": {
          "base_uri": "https://localhost:8080/"
        },
        "id": "XlcmnD7KYY0V",
        "outputId": "76f369a7-69ce-4f76-ae05-2de231b36e1a"
      },
      "execution_count": null,
      "outputs": [
        {
          "output_type": "stream",
          "name": "stdout",
          "text": [
            "3664034\n",
            "1999114\n",
            "4160094\n",
            "335\n",
            "2406460\n",
            "\n",
            "Archaea\n",
            "Proterozoic\n",
            "Archaea\n",
            "Cenozoic\n",
            "Proterozoic\n"
          ]
        }
      ]
    },
    {
      "cell_type": "markdown",
      "source": [
        "###Орнитология"
      ],
      "metadata": {
        "id": "TZU0yA2Hba6V"
      }
    },
    {
      "cell_type": "code",
      "source": [
        "s = input()\n",
        "ornit = {}\n",
        "while s != '':\n",
        "  key, value = s.split(': ')\n",
        "  if key not in ornit:\n",
        "    ornit[key] = value\n",
        "  else:\n",
        "    ornit[key] += value\n",
        "  s = input()\n",
        "print(ornit)"
      ],
      "metadata": {
        "colab": {
          "base_uri": "https://localhost:8080/"
        },
        "id": "Cj5jsUU8beaa",
        "outputId": "b2ecd939-c605-4c6b-c289-0950b6384770"
      },
      "execution_count": null,
      "outputs": [
        {
          "output_type": "stream",
          "name": "stdout",
          "text": [
            "Swallow: 2\n",
            "Goldfinch: 10\n",
            "Heron: 5\n",
            "Heron: 3\n",
            "\n",
            "{'Swallow:': '2', 'Goldfinch:': '10', 'Heron:': '3'}\n"
          ]
        }
      ]
    },
    {
      "cell_type": "markdown",
      "source": [
        "###Разные цвета\n",
        "\n",
        "В растровом изображении каждый пиксель имеет какой-либо цвет. В цветовой модели RGB цвета задаются кортежем из интенсивностей трех компонент: красной, зеленой и синей.\n",
        "Напишите программу, которая подсчитает количество различных цветов в изображении и количество пикселей каждого цвета."
      ],
      "metadata": {
        "id": "Qsx4w9QkcZJM"
      }
    },
    {
      "cell_type": "code",
      "source": [
        "n = int(input())\n",
        "pixel_list = []\n",
        "for i in range(n):\n",
        "  pixel_list.append(input().split('\\t'))\n",
        "pixel_list"
      ],
      "metadata": {
        "colab": {
          "base_uri": "https://localhost:8080/"
        },
        "id": "AxNLDuUGcSYV",
        "outputId": "0b74c461-c0b2-43de-b1a5-09612c57e809"
      },
      "execution_count": null,
      "outputs": [
        {
          "name": "stdout",
          "output_type": "stream",
          "text": [
            "5\n",
            "255 0 255\t0 255 0\t0 255 255\t255 0 255\n",
            "255 0 255\t0 255 0\t0 255 0\t255 255 0\n",
            "255 0 0\t0 255 255\t0 255 255\t255 0 255\n",
            "0 0 255\t0 0 0\t255 255 255\t0 255 255\n",
            "255 0 0\t0 0 255\t255 255 0\t0 255 0\n"
          ]
        },
        {
          "output_type": "execute_result",
          "data": {
            "text/plain": [
              "[['255 0 255', '0 255 0', '0 255 255', '255 0 255'],\n",
              " ['255 0 255', '0 255 0', '0 255 0', '255 255 0'],\n",
              " ['255 0 0', '0 255 255', '0 255 255', '255 0 255'],\n",
              " ['0 0 255', '0 0 0', '255 255 255', '0 255 255'],\n",
              " ['255 0 0', '0 0 255', '255 255 0', '0 255 0']]"
            ]
          },
          "metadata": {},
          "execution_count": 5
        }
      ]
    },
    {
      "cell_type": "code",
      "source": [
        "n = int(input())\n",
        "pixel_list = []\n",
        "for i in range(n):\n",
        "  pixel_list.append(input().split('\\t'))\n",
        "color_dict = {}\n",
        "for i in range(len(pixel_list)):\n",
        "  for j in pixel_list[i]:\n",
        "    color_dict[j] = 0\n",
        "for i in range(n):\n",
        "  for j in pixel_list[i]:\n",
        "    color_dict[j] += 1\n",
        "all_color_conts = list(color_dict.values())\n",
        "max_value = max(all_color_conts)\n",
        "for key, value in color_dict.items():\n",
        "  if value == max_value:\n",
        "    print(key)"
      ],
      "metadata": {
        "colab": {
          "base_uri": "https://localhost:8080/"
        },
        "id": "uU5-uSvid9DC",
        "outputId": "3f0f9d99-dde3-42c8-c21d-c49933dd1803"
      },
      "execution_count": null,
      "outputs": [
        {
          "output_type": "stream",
          "name": "stdout",
          "text": [
            "255 0 255\n",
            "0 255 0\n",
            "0 255 255\n"
          ]
        }
      ]
    },
    {
      "cell_type": "markdown",
      "source": [
        "###Характеристики двоичных чисел\n",
        "\n",
        "В строке через пробел записано некоторое количество целых десятичных чисел.\n",
        "\n",
        "Напишите программу, которая составит список словарей, в которых каждое число будет характеризоваться количеством разрядов, нулей и единиц в двоичном представлении. Формат вывода смотрите в примерах."
      ],
      "metadata": {
        "id": "3hYJJq8PgBP_"
      }
    },
    {
      "cell_type": "code",
      "source": [
        "list_dict = []\n",
        "list_numbers = [int(el) for el in input().split()]\n",
        "for el in list_numbers:\n",
        "  digit = str(bin(el))[2::]\n",
        "  unit = str(digit).count('1')\n",
        "  zero = str(digit).count('0')\n",
        "  list_dict.append({'digits': len(digit), 'units': unit, 'zeros': zero})\n",
        "print(list_dict)"
      ],
      "metadata": {
        "colab": {
          "base_uri": "https://localhost:8080/"
        },
        "id": "fYKK4WvggOVU",
        "outputId": "4a37a8ef-8281-4036-8bf0-b6e0ae0625b6"
      },
      "execution_count": null,
      "outputs": [
        {
          "name": "stdout",
          "output_type": "stream",
          "text": [
            "5 8 12\n"
          ]
        },
        {
          "output_type": "execute_result",
          "data": {
            "text/plain": [
              "[5, 8, 12]"
            ]
          },
          "metadata": {},
          "execution_count": 14
        }
      ]
    },
    {
      "cell_type": "markdown",
      "source": [
        "###Стартап\n",
        "Маша увлекается изготовлением handmade украшений интерьера. Неожиданно у нее появилось много заказов на создание арт-номеров для нумерации квартир, домов, комнат. Определите, какие цифры в заказанных номерах встречаются чаще всего. Если таких несколько, выведите их все в порядке возрастания."
      ],
      "metadata": {
        "id": "ouibkPvCnKmC"
      }
    },
    {
      "cell_type": "code",
      "source": [
        "s_list = [int(el) for el in input().split()]"
      ],
      "metadata": {
        "colab": {
          "base_uri": "https://localhost:8080/"
        },
        "id": "Cda6hCz0lVyd",
        "outputId": "45dc8fcd-3b31-4deb-963f-323a376ff835"
      },
      "execution_count": null,
      "outputs": [
        {
          "name": "stdout",
          "output_type": "stream",
          "text": [
            "165 514 8059 352 100500 11\n"
          ]
        }
      ]
    },
    {
      "cell_type": "code",
      "source": [
        "s_list = [int(el) for el in input().split()]\n",
        "dict_num = {}\n",
        "for el in s_list:\n",
        "  while el != 0:\n",
        "    numb = el % 10\n",
        "    if numb not in dict_num:\n",
        "      dict_num[numb] = 0\n",
        "    else:\n",
        "      dict_num[numb] += 1\n",
        "    el //= 10\n",
        "print(dict_num)\n",
        "\n",
        "all_number_counts = list(dict_num.values())\n",
        "max_value = max(all_number_counts)\n",
        "final = []\n",
        "for key, value in dict_num.items():\n",
        "  if value == max_value:\n",
        "    final.append(key)\n",
        "final.sort()\n",
        "for el in final:\n",
        "  print(el, end = ' ')"
      ],
      "metadata": {
        "colab": {
          "base_uri": "https://localhost:8080/"
        },
        "id": "_Auc8gTlntxr",
        "outputId": "5c547037-9504-44ad-a96b-837aa989c687"
      },
      "execution_count": null,
      "outputs": [
        {
          "output_type": "stream",
          "name": "stdout",
          "text": [
            "{5: 4, 6: 0, 1: 4, 4: 0, 9: 0, 0: 4, 8: 0, 2: 0, 3: 0}\n",
            "0 1 5 "
          ]
        }
      ]
    },
    {
      "cell_type": "markdown",
      "source": [
        "###Марсианин\n",
        "Вводится количество расходных материалов, затем они сами в формате: название количество.\n",
        "\n",
        "Затем строки (в таком же количестве) с их расходом на 1 день пути.\n",
        "\n",
        "Выведите, на сколько дней он обеспечен припасами по этим нормам."
      ],
      "metadata": {
        "id": "kORfwyidcdmg"
      }
    },
    {
      "cell_type": "code",
      "source": [
        "n_material = int(input())\n",
        "materials = {}\n",
        "for i in range(n_material):\n",
        "    key, value = input().split()\n",
        "    # if materials[key] not in materials:\n",
        "    materials[key] = int(value)\n",
        "materials_per_day = {}\n",
        "for i in range(n_material):\n",
        "    key, value = input().split()\n",
        "    # if materials_per_day[key] not in materials_per_day:\n",
        "    materials_per_day[key] = int(value)\n",
        "days = materials\n",
        "for key in days.keys():\n",
        "    days[key] = materials[key] // materials_per_day[key]\n",
        "\n",
        "list_days = list(days.values())\n",
        "print(min(list_days))"
      ],
      "metadata": {
        "colab": {
          "base_uri": "https://localhost:8080/"
        },
        "id": "Y7L-5bffyY17",
        "outputId": "d4b07caa-3d65-48de-fbd4-5bf5e384de3e"
      },
      "execution_count": null,
      "outputs": [
        {
          "output_type": "stream",
          "name": "stdout",
          "text": [
            "5\n",
            "water 1500\n",
            "energy 6000\n",
            "potato 923\n",
            "air 3000\n",
            "vitamin 8520\n",
            "air 5\n",
            "water 4\n",
            "potato 6\n",
            "vitamin 3\n",
            "energy 7\n",
            "153\n"
          ]
        }
      ]
    },
    {
      "cell_type": "code",
      "source": [
        "n_material = int(input())\n",
        "materials = {}\n",
        "for i in range(n):\n",
        "  key, value = input().split()\n",
        "  #if materials[key] not in materials:\n",
        "  materials[key] = int(value)\n",
        "materials_per_day = {}\n",
        "for i in range(n):\n",
        "  key, value = input().split()\n",
        "  #if materials_per_day[key] not in materials_per_day:\n",
        "  materials_per_day[key] = int(value) \n",
        "days = materials\n",
        "for key in days.keys():\n",
        "  days[key] = materials[key] // materials_per_day[key]\n",
        "\n",
        "list_days = list(days.values())\n",
        "print(min(list_days))"
      ],
      "metadata": {
        "colab": {
          "base_uri": "https://localhost:8080/"
        },
        "id": "W8uTD6InqUev",
        "outputId": "96127450-2416-4a97-c847-70a54de55c68"
      },
      "execution_count": null,
      "outputs": [
        {
          "name": "stdout",
          "output_type": "stream",
          "text": [
            "5\n",
            "water 1500\n",
            "energy 6000\n",
            "potato 923\n",
            "air 3000\n",
            "vitamin 8520\n",
            "air 5\n",
            "water 4\n",
            "potato 6\n",
            "vitamin 3\n",
            "energy 7\n"
          ]
        },
        {
          "output_type": "execute_result",
          "data": {
            "text/plain": [
              "{'water': 375, 'energy': 857, 'potato': 153, 'air': 600, 'vitamin': 2840}"
            ]
          },
          "metadata": {},
          "execution_count": 27
        }
      ]
    },
    {
      "cell_type": "code",
      "source": [
        "list_days = list(days.values())\n",
        "print(min(list_days))"
      ],
      "metadata": {
        "colab": {
          "base_uri": "https://localhost:8080/"
        },
        "id": "INQrMdMzsJzm",
        "outputId": "dab3c044-91f9-4bc0-8709-ed9f7bf75060"
      },
      "execution_count": null,
      "outputs": [
        {
          "output_type": "stream",
          "name": "stdout",
          "text": [
            "153\n"
          ]
        }
      ]
    },
    {
      "cell_type": "markdown",
      "source": [
        "###Смузи"
      ],
      "metadata": {
        "id": "WNJcMSPxsaap"
      }
    },
    {
      "cell_type": "code",
      "source": [
        "reciepties = {'Сладкоежка': ['банан', 'молоко', 'мороженое'],\n",
        "              'Клубнично-банановый': ['клубника', 'молоко', 'банан', 'мороженое'],\n",
        "              'Клубничный': ['клубника', 'молоко', 'мороженое'],\n",
        "              'Хушаф':['финики', 'молоко'],\n",
        "              'Банановый': ['банан', 'молоко', 'финики']}\n",
        "\n",
        "reserve = {}\n",
        "for i in range(5):\n",
        "  key, value = input().split(': ')\n",
        "  reserve[key] = int(value)\n",
        "n = int(input())\n",
        "list_order = []\n",
        "for i in range(n):\n",
        "  list_order.append(input())\n"
      ],
      "metadata": {
        "colab": {
          "base_uri": "https://localhost:8080/"
        },
        "id": "GRbBWqLksu9-",
        "outputId": "59fec3a7-1633-43d9-e72c-e9a97f4114ed"
      },
      "execution_count": null,
      "outputs": [
        {
          "name": "stdout",
          "output_type": "stream",
          "text": [
            "молоко: 12\n",
            "клубника: 3\n",
            "финики: 9\n",
            "банан: 5\n",
            "мороженое: 2\n",
            "20\n",
            "Клубнично-банановый\n",
            "Клубнично-банановый\n",
            "Банановый\n",
            "Хушаф\n",
            "Хушаф\n",
            "Сладкоежка\n",
            "Клубничный\n",
            "Банановый\n",
            "Хушаф\n",
            "Банановый\n",
            "Хушаф\n",
            "Сладкоежка\n",
            "Хушаф\n",
            "Клубнично-банановый\n",
            "Хушаф\n",
            "Клубничный\n",
            "Сладкоежка\n",
            "Клубничный\n",
            "Хушаф\n",
            "Сладкоежка\n"
          ]
        }
      ]
    },
    {
      "cell_type": "markdown",
      "source": [],
      "metadata": {
        "id": "RAIJ3Vo83H0b"
      }
    },
    {
      "cell_type": "code",
      "source": [
        "reciepties = {'Сладкоежка': ['банан', 'молоко', 'мороженое'],\n",
        "              'Клубнично-банановый': ['клубника', 'молоко', 'банан', 'мороженое'],\n",
        "              'Клубничный': ['клубника', 'молоко', 'мороженое'],\n",
        "              'Хушаф':['финики', 'молоко'],\n",
        "              'Банановый': ['банан', 'молоко', 'финики']}"
      ],
      "metadata": {
        "id": "QZeS5Rf63IrZ"
      },
      "execution_count": null,
      "outputs": []
    },
    {
      "cell_type": "code",
      "source": [
        "reserve = {}\n",
        "s = '''молоко: 12\n",
        "клубника: 3\n",
        "финики: 9\n",
        "банан: 5\n",
        "мороженое: 2'''.split('\\n')\n",
        "for i in s:\n",
        "  key, value = i.split(': ')\n",
        "  reserve[key] = int(value)\n",
        "\n",
        "reserve"
      ],
      "metadata": {
        "colab": {
          "base_uri": "https://localhost:8080/"
        },
        "id": "AppkWmW92x06",
        "outputId": "9ee508cf-ba3d-4079-9590-94ea025ab23a"
      },
      "execution_count": null,
      "outputs": [
        {
          "output_type": "execute_result",
          "data": {
            "text/plain": [
              "{'молоко': 12, 'клубника': 3, 'финики': 9, 'банан': 5, 'мороженое': 2}"
            ]
          },
          "metadata": {},
          "execution_count": 12
        }
      ]
    },
    {
      "cell_type": "code",
      "source": [
        "s = '''Клубнично-банановый\n",
        "Клубнично-банановый\n",
        "Банановый\n",
        "Хушаф\n",
        "Хушаф\n",
        "Сладкоежка\n",
        "Клубничный\n",
        "Банановый\n",
        "Хушаф\n",
        "Банановый\n",
        "Хушаф\n",
        "Сладкоежка\n",
        "Хушаф\n",
        "Клубнично-банановый\n",
        "Хушаф\n",
        "Клубничный\n",
        "Сладкоежка\n",
        "Клубничный\n",
        "Хушаф\n",
        "Сладкоежка'''\n",
        "list_order = s.split('\\n')\n",
        "list_order"
      ],
      "metadata": {
        "colab": {
          "base_uri": "https://localhost:8080/"
        },
        "id": "2e8myhDM2Oqk",
        "outputId": "b9fcaa0d-d77c-4c70-d6e7-768a85d81f2f"
      },
      "execution_count": null,
      "outputs": [
        {
          "output_type": "execute_result",
          "data": {
            "text/plain": [
              "['Клубнично-банановый',\n",
              " 'Клубнично-банановый',\n",
              " 'Банановый',\n",
              " 'Хушаф',\n",
              " 'Хушаф',\n",
              " 'Сладкоежка',\n",
              " 'Клубничный',\n",
              " 'Банановый',\n",
              " 'Хушаф',\n",
              " 'Банановый',\n",
              " 'Хушаф',\n",
              " 'Сладкоежка',\n",
              " 'Хушаф',\n",
              " 'Клубнично-банановый',\n",
              " 'Хушаф',\n",
              " 'Клубничный',\n",
              " 'Сладкоежка',\n",
              " 'Клубничный',\n",
              " 'Хушаф',\n",
              " 'Сладкоежка']"
            ]
          },
          "metadata": {},
          "execution_count": 13
        }
      ]
    },
    {
      "cell_type": "code",
      "source": [
        "for i in list_order:\n",
        "  ingreds = reciepties[i]\n",
        "  k = 0\n",
        "  # flag = -1\n",
        "  for el in ingreds:\n",
        "    if reserve[el] > 0:\n",
        "      k += 1\n",
        "  if k == len(ingreds):\n",
        "    for el in ingreds:\n",
        "      reserve[el] -= 1\n",
        "    print('Пожалуйста, ваш ' + i +'. Приятного аппетита!', reserve)\n",
        "  else:\n",
        "    print('Извините, не можем выполнить заказ.', reserve)\n",
        "\n"
      ],
      "metadata": {
        "colab": {
          "base_uri": "https://localhost:8080/"
        },
        "id": "YaW7hk88uKd8",
        "outputId": "27c58184-e286-486e-ea2e-429446191f11"
      },
      "execution_count": null,
      "outputs": [
        {
          "output_type": "stream",
          "name": "stdout",
          "text": [
            "Пожалуйста, ваш Клубнично-банановый. Приятного аппетита! {'молоко': 11, 'клубника': 2, 'финики': 9, 'банан': 4, 'мороженое': 1}\n",
            "Пожалуйста, ваш Клубнично-банановый. Приятного аппетита! {'молоко': 10, 'клубника': 1, 'финики': 9, 'банан': 3, 'мороженое': 0}\n",
            "Пожалуйста, ваш Банановый. Приятного аппетита! {'молоко': 9, 'клубника': 1, 'финики': 8, 'банан': 2, 'мороженое': 0}\n",
            "Пожалуйста, ваш Хушаф. Приятного аппетита! {'молоко': 8, 'клубника': 1, 'финики': 7, 'банан': 2, 'мороженое': 0}\n",
            "Пожалуйста, ваш Хушаф. Приятного аппетита! {'молоко': 7, 'клубника': 1, 'финики': 6, 'банан': 2, 'мороженое': 0}\n",
            "Извините, не можем выполнить заказ. {'молоко': 7, 'клубника': 1, 'финики': 6, 'банан': 2, 'мороженое': 0}\n",
            "Извините, не можем выполнить заказ. {'молоко': 7, 'клубника': 1, 'финики': 6, 'банан': 2, 'мороженое': 0}\n",
            "Пожалуйста, ваш Банановый. Приятного аппетита! {'молоко': 6, 'клубника': 1, 'финики': 5, 'банан': 1, 'мороженое': 0}\n",
            "Пожалуйста, ваш Хушаф. Приятного аппетита! {'молоко': 5, 'клубника': 1, 'финики': 4, 'банан': 1, 'мороженое': 0}\n",
            "Пожалуйста, ваш Банановый. Приятного аппетита! {'молоко': 4, 'клубника': 1, 'финики': 3, 'банан': 0, 'мороженое': 0}\n",
            "Пожалуйста, ваш Хушаф. Приятного аппетита! {'молоко': 3, 'клубника': 1, 'финики': 2, 'банан': 0, 'мороженое': 0}\n",
            "Извините, не можем выполнить заказ. {'молоко': 3, 'клубника': 1, 'финики': 2, 'банан': 0, 'мороженое': 0}\n",
            "Пожалуйста, ваш Хушаф. Приятного аппетита! {'молоко': 2, 'клубника': 1, 'финики': 1, 'банан': 0, 'мороженое': 0}\n",
            "Извините, не можем выполнить заказ. {'молоко': 2, 'клубника': 1, 'финики': 1, 'банан': 0, 'мороженое': 0}\n",
            "Пожалуйста, ваш Хушаф. Приятного аппетита! {'молоко': 1, 'клубника': 1, 'финики': 0, 'банан': 0, 'мороженое': 0}\n",
            "Извините, не можем выполнить заказ. {'молоко': 1, 'клубника': 1, 'финики': 0, 'банан': 0, 'мороженое': 0}\n",
            "Извините, не можем выполнить заказ. {'молоко': 1, 'клубника': 1, 'финики': 0, 'банан': 0, 'мороженое': 0}\n",
            "Извините, не можем выполнить заказ. {'молоко': 1, 'клубника': 1, 'финики': 0, 'банан': 0, 'мороженое': 0}\n",
            "Извините, не можем выполнить заказ. {'молоко': 1, 'клубника': 1, 'финики': 0, 'банан': 0, 'мороженое': 0}\n",
            "Извините, не можем выполнить заказ. {'молоко': 1, 'клубника': 1, 'финики': 0, 'банан': 0, 'мороженое': 0}\n"
          ]
        }
      ]
    },
    {
      "cell_type": "markdown",
      "source": [
        "###Опоздание\n",
        "Петя все время опаздывает на автобус, который ходит по расписанию. Помогите Пете понять, когда ему нужно выходить из дома, чтобы не опоздать."
      ],
      "metadata": {
        "id": "2enYS0Hfcgk_"
      }
    },
    {
      "cell_type": "code",
      "source": [
        "s = '''31 12:00\n",
        "14 13:45\n",
        "46 14:15\n",
        "31 14:30\n",
        "28 20:00'''.split('\\n')\n",
        "dict_marsh = {}\n",
        "for el in s:\n",
        "  value, key  = el.split()\n",
        "  hours, minutes = key.split(':')\n",
        "  time = int(hours) * 60 + int(minutes)\n",
        "  dict_marsh[time] = value\n",
        "\n",
        "#print(dict_marsh)\n",
        "\n",
        "hours1, minutes1 = '13:40'.split(':')\n",
        "curr_time = int(hours1) * 60 + int(minutes1)\n",
        "list_marh = ['31', '14']\n",
        "\n",
        "#print(curr_time)\n",
        "\n",
        "min_time = 24 * 60 + 1\n",
        "\n",
        "for time_arrive, marsh in dict_marsh.items():\n",
        "  for suit_marsh in list_marh:\n",
        "    if suit_marsh == marsh:\n",
        "      #time_arrive = time\n",
        "      time_out = time_arrive - curr_time - 6\n",
        "      #print(time_out)\n",
        "      if time_out < min_time and time_out >= 0:\n",
        "        min_time = time_out\n",
        "\n",
        "if (min_time == 24 * 60 + 1):\n",
        "  print('None')\n",
        "else:\n",
        "  print(min_time)"
      ],
      "metadata": {
        "colab": {
          "base_uri": "https://localhost:8080/"
        },
        "id": "wZo-J0dR5HXo",
        "outputId": "448ef06f-3d60-4ef3-b183-aefec6a35762"
      },
      "execution_count": null,
      "outputs": [
        {
          "output_type": "stream",
          "name": "stdout",
          "text": [
            "44\n"
          ]
        }
      ]
    },
    {
      "cell_type": "code",
      "source": [
        "dict_marsh = {}\n",
        "s = input()\n",
        "while s != '':\n",
        "  value, key  = s.split()\n",
        "  hours, minutes = key.split(':')\n",
        "  time = int(hours) * 60 + int(minutes)\n",
        "  dict_marsh[time] = value\n",
        "  s = input()\n",
        "#print(dict_marsh)\n",
        "\n",
        "hours, minutes = input().split(':')\n",
        "curr_time = int(hours) * 60 + int(minutes)\n",
        "list_marh = input().split()\n",
        "#print(curr_time)\n",
        "\n",
        "min_time = 24 * 60 + 1\n",
        "\n",
        "for time_arrive, marsh in dict_marsh.items():\n",
        "  for suit_marsh in list_marh:\n",
        "    if suit_marsh == marsh:\n",
        "      time_out = time_arrive - curr_time - 6\n",
        "      #print(time_out)\n",
        "      if time_out < min_time and time_out >= 0:\n",
        "        min_time = time_out\n",
        "\n",
        "if (min_time == 24 * 60 + 1):\n",
        "  print('None')\n",
        "else:\n",
        "  print(min_time)"
      ],
      "metadata": {
        "colab": {
          "base_uri": "https://localhost:8080/"
        },
        "id": "TCtQrg0f9-6K",
        "outputId": "301debd0-c06b-47e7-a115-b5ef1177f443"
      },
      "execution_count": null,
      "outputs": [
        {
          "output_type": "stream",
          "name": "stdout",
          "text": [
            "31 12:00\n",
            "14 13:45\n",
            "46 14:15\n",
            "31 14:30\n",
            "28 20:00\n",
            "\n",
            "{720: '31', 825: '14', 855: '46', 870: '31', 1200: '28'}\n",
            "13:40\n",
            "31 14\n",
            "820\n",
            "-106\n",
            "-1\n",
            "44\n",
            "44\n"
          ]
        }
      ]
    },
    {
      "cell_type": "markdown",
      "source": [
        "## Для школьников"
      ],
      "metadata": {
        "id": "iqEPxdXaVGXG"
      }
    },
    {
      "cell_type": "code",
      "source": [
        "num = int(input())\n",
        "nok = num\n",
        "next_num = int(input())\n",
        "while next_num != 0:\n",
        "    a, b = max(nok, next_num), min(nok, next_num)\n",
        "    while b != 0:\n",
        "        a, b = b, a % b\n",
        "    nok = nok * next_num // a\n",
        "    next_num = int(input())\n",
        "print(nok)"
      ],
      "metadata": {
        "id": "A-F9JOzzumrd"
      },
      "execution_count": null,
      "outputs": []
    },
    {
      "cell_type": "code",
      "source": [
        "num_is_composite = True\n",
        "while num_is_composite:\n",
        "    num = int(input())\n",
        "    num_is_composite = False\n",
        "    for i in range(2, num):\n",
        "        if num % i == 0:\n",
        "            num_is_composite = True\n",
        "print(num)"
      ],
      "metadata": {
        "id": "FegGFWBMunZz"
      },
      "execution_count": null,
      "outputs": []
    }
  ]
}