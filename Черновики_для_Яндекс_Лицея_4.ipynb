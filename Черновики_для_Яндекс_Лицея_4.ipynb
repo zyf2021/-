{
  "nbformat": 4,
  "nbformat_minor": 0,
  "metadata": {
    "colab": {
      "provenance": [],
      "collapsed_sections": [
        "4GSeOvOIsFl4"
      ],
      "toc_visible": true,
      "authorship_tag": "ABX9TyMLduyOE6LuOKZOfxaHkGGg",
      "include_colab_link": true
    },
    "kernelspec": {
      "name": "python3",
      "display_name": "Python 3"
    },
    "language_info": {
      "name": "python"
    }
  },
  "cells": [
    {
      "cell_type": "markdown",
      "metadata": {
        "id": "view-in-github",
        "colab_type": "text"
      },
      "source": [
        "<a href=\"https://colab.research.google.com/github/zyf2021/-/blob/main/%D0%A7%D0%B5%D1%80%D0%BD%D0%BE%D0%B2%D0%B8%D0%BA%D0%B8_%D0%B4%D0%BB%D1%8F_%D0%AF%D0%BD%D0%B4%D0%B5%D0%BA%D1%81_%D0%9B%D0%B8%D1%86%D0%B5%D1%8F_4.ipynb\" target=\"_parent\"><img src=\"https://colab.research.google.com/assets/colab-badge.svg\" alt=\"Open In Colab\"/></a>"
      ]
    },
    {
      "cell_type": "markdown",
      "source": [
        " # Модуль 5"
      ],
      "metadata": {
        "id": "MjqGcXmBUzQe"
      }
    },
    {
      "cell_type": "markdown",
      "source": [
        "## 5.1. Введение в ООП"
      ],
      "metadata": {
        "id": "RUYgA9PHU4tN"
      }
    },
    {
      "cell_type": "markdown",
      "source": [
        "### Поболтать с котенком"
      ],
      "metadata": {
        "id": "FA80H5jRU9_Q"
      }
    },
    {
      "cell_type": "code",
      "execution_count": null,
      "metadata": {
        "colab": {
          "base_uri": "https://localhost:8080/"
        },
        "id": "DxV1vxpJUsKT",
        "outputId": "b0c74a87-e4d1-4510-c240-ecff02a6e58f"
      },
      "outputs": [
        {
          "output_type": "stream",
          "name": "stdout",
          "text": [
            "moore-moore\n",
            "meow-meow\n",
            "moore-moore\n",
            "Pussy says \"yes\" 2 times, \"no\" 1 times\n"
          ]
        }
      ],
      "source": [
        "class Talking:\n",
        "    \n",
        "    def __init__(self, name):  \n",
        "        self.name = name\n",
        "        self.answers = 0\n",
        "        self.yes = 0\n",
        "        self.no = 0\n",
        "    \n",
        "    def to_answer(self):\n",
        "        if self.answers == 0:\n",
        "            self.answers = 1\n",
        "            self.yes += 1\n",
        "            return 'moore-moore'\n",
        "        else:\n",
        "            self.answers = 0\n",
        "            self.no += 1\n",
        "            return 'meow-meow'\n",
        "    \n",
        "    def number_yes(self):\n",
        "        return self.yes\n",
        "    \n",
        "    def number_no(self):\n",
        "        return self.no\n",
        "\n",
        "\n",
        "tk = Talking('Pussy')\n",
        "print(tk.to_answer())\n",
        "print(tk.to_answer())\n",
        "print(tk.to_answer())\n",
        "print(f'{tk.name} says \"yes\" {tk.number_yes()} times, \"no\" {tk.number_no()} times')"
      ]
    },
    {
      "cell_type": "markdown",
      "source": [],
      "metadata": {
        "id": "3PU2jg8rdiV9"
      }
    },
    {
      "cell_type": "code",
      "source": [
        "class BlackCat:\n",
        "  def __init__(self, name):\n",
        "    self.name = name\n",
        "    self.k_wool = 0\n",
        "    self.k_tail = 0\n",
        "\n",
        "  def play(self, kind, n):\n",
        "    if kind == 'wool':\n",
        "      self.k_wool += n\n",
        "    elif kind == 'tail':\n",
        "      self.k_tail += n\n",
        "    else:\n",
        "      self.k_tail = 0\n",
        "      self.k_wool = 0\n",
        "\n",
        "  def get_play(self):\n",
        "    return (self.k_wool, self.k_tail)\n",
        "\n",
        "\n",
        "\n",
        "\n",
        "bc = BlackCat('Kitty')\n",
        "bc.play('wool', 5)\n",
        "bc.play('wool', 3)\n",
        "bc.play('tail', 2)\n",
        "bc.play('wool', 1)\n",
        "print(bc.get_play())\n",
        "bc.play('hand', 8)\n",
        "print(bc.get_play())\n",
        "\n",
        "\n",
        "bc = BlackCat('Snowy')\n",
        "bc.play('tail', 5)\n",
        "bc.play('wool', 3)\n",
        "bc.play('tail', 2)\n",
        "res = bc.get_play()\n",
        "print(f'{bc.name} plays with wool {res[0]} times,\\nwith tail {res[1]} times.')"
      ],
      "metadata": {
        "colab": {
          "base_uri": "https://localhost:8080/"
        },
        "id": "6ZRN6rHOdtAm",
        "outputId": "e26c45fb-14ab-4f41-899f-b43e13e6a81a"
      },
      "execution_count": null,
      "outputs": [
        {
          "output_type": "stream",
          "name": "stdout",
          "text": [
            "(9, 2)\n",
            "(0, 0)\n",
            "Snowy plays with wool 3 times,\n",
            "with tail 7 times.\n"
          ]
        }
      ]
    },
    {
      "cell_type": "markdown",
      "source": [
        "### То ли пчела, то ли слон"
      ],
      "metadata": {
        "id": "SKy3K3VefnJ8"
      }
    },
    {
      "cell_type": "code",
      "source": [
        "class BeeElephant:\n",
        "  def __init__(self, a, b):\n",
        "    self.bee = a\n",
        "    self.eleph = b\n",
        "\n",
        "  def fly(self):\n",
        "    if self.bee>=self.eleph:\n",
        "      return True\n",
        "    else:\n",
        "      return False\n",
        "\n",
        "  def trumpet(self):\n",
        "    if self.eleph >= self.bee:\n",
        "      return 'tu-tu-doo-doo!'\n",
        "    else:\n",
        "      return 'wzzzzz'\n",
        "\n",
        "\n",
        "  def eat(self, meal, value):\n",
        "    if meal == 'nectar':\n",
        "      self.eleph -= value\n",
        "      self.bee += value\n",
        "      \n",
        "    elif meal == 'grass':\n",
        "      self.eleph += value\n",
        "      self.bee -= value\n",
        "\n",
        "\n",
        "    if self.eleph > 100:\n",
        "      self.eleph = 100\n",
        "    if self.eleph < 0:\n",
        "      self.eleph = 0\n",
        "    if self.bee > 100:\n",
        "      self.bee = 100\n",
        "    if self.bee < 0:\n",
        "      self.bee = 0\n",
        "\n",
        "  def get_parts(self):\n",
        "    return (self.bee, self.eleph)\n",
        "  \n",
        "\n",
        "be = BeeElephant(3, 2)\n",
        "print(be.fly())\n",
        "print(be.trumpet())\n",
        "be.eat('grass', 4)\n",
        "print(be.get_parts())\n",
        "\n",
        "be = BeeElephant(13, 87)\n",
        "print(be.fly())\n",
        "print(be.trumpet())\n",
        "be.eat('nectar', 90)\n",
        "print(be.trumpet())\n",
        "print(be.get_parts())"
      ],
      "metadata": {
        "colab": {
          "base_uri": "https://localhost:8080/"
        },
        "id": "wlZf_yWffod6",
        "outputId": "8b4b6732-2a04-4578-bd06-814e9193b47a"
      },
      "execution_count": null,
      "outputs": [
        {
          "output_type": "stream",
          "name": "stdout",
          "text": [
            "True\n",
            "wzzzzz\n",
            "(0, 6)\n",
            "False\n",
            "tu-tu-doo-doo!\n",
            "wzzzzz\n",
            "(100, 0)\n"
          ]
        }
      ]
    },
    {
      "cell_type": "markdown",
      "source": [
        "### Тигровая лилия"
      ],
      "metadata": {
        "id": "xqlDHEUDjF1s"
      }
    },
    {
      "cell_type": "code",
      "source": [
        "class TigerLily:\n",
        "  def __init__(self, cort):\n",
        "    self.themes = cort\n",
        "\n",
        "  def add_theme(self, value):\n",
        "    current = list(self.themes)\n",
        "    current.append(value)\n",
        "    self.themes = tuple(current)\n",
        "\n",
        "  def shift_one(self):\n",
        "    current = list(self.themes)\n",
        "    shift = []\n",
        "    shift.append(current[-1])\n",
        "    shift += current[0:-1]\n",
        "    self.themes = tuple(shift)\n",
        "\n",
        "  def reverse_order(self):\n",
        "    current = list(self.themes)\n",
        "    reverse = current[::-1]\n",
        "    self.themes = tuple(reverse)\n",
        "\n",
        "\n",
        "  def get_themes(self):\n",
        "    return self.themes\n",
        "\n",
        "  def get_first(self):\n",
        "    return self.themes[0]\n",
        "\n",
        "\n",
        "tl = TigerLily(('weather', 'rain'))\n",
        "tl.add_theme('warm')\n",
        "print(tl.get_themes())\n",
        "tl.shift_one()\n",
        "print(tl.get_first())\n",
        "\n",
        "tl = TigerLily(('sun', 'feeding'))\n",
        "tl.add_theme('cool')\n",
        "tl.shift_one()\n",
        "print(tl.get_first())\n",
        "tl.reverse_order()\n",
        "print(tl.get_themes())\n",
        "\n"
      ],
      "metadata": {
        "colab": {
          "base_uri": "https://localhost:8080/"
        },
        "id": "iA_h6LQ0jIXC",
        "outputId": "ccaee187-1bf8-403e-8b59-acdcd28ccc0b"
      },
      "execution_count": null,
      "outputs": [
        {
          "output_type": "stream",
          "name": "stdout",
          "text": [
            "('weather', 'rain', 'warm')\n",
            "warm\n",
            "cool\n",
            "('feeding', 'sun', 'cool')\n"
          ]
        }
      ]
    },
    {
      "cell_type": "code",
      "source": [
        "themes = ('weather', 'rain', 'warm')\n",
        "current = list(themes)\n",
        "print(themes)\n",
        "shift = []\n",
        "shift.append(current[-1])\n",
        "shift += current[0:-1]\n",
        "themes = tuple(shift)\n",
        "print(themes)\n",
        "themes"
      ],
      "metadata": {
        "colab": {
          "base_uri": "https://localhost:8080/"
        },
        "id": "jCGJAQvDli-I",
        "outputId": "fe9d5c65-5178-4aa1-eb86-f7311c3c7496"
      },
      "execution_count": null,
      "outputs": [
        {
          "output_type": "stream",
          "name": "stdout",
          "text": [
            "('weather', 'rain', 'warm')\n",
            "('warm', 'weather', 'rain')\n"
          ]
        },
        {
          "output_type": "execute_result",
          "data": {
            "text/plain": [
              "('warm', 'weather', 'rain')"
            ]
          },
          "metadata": {},
          "execution_count": 26
        }
      ]
    },
    {
      "cell_type": "markdown",
      "source": [
        "### Исполнитель Робот"
      ],
      "metadata": {
        "id": "yPKs_Basn_og"
      }
    },
    {
      "cell_type": "code",
      "source": [
        "class Robot:\n",
        "  def __init__(self, coords):\n",
        "    self.x = coords[0]\n",
        "    self.y = coords[1]\n",
        "    self.pathes = [(self.x, self.y)]\n",
        "    self.k = 0\n",
        "\n",
        "  def move(self, s):\n",
        "    if self.k>0:\n",
        "      self.pathes = [self.pathes[-1]]\n",
        "    for el in s:\n",
        "      if el == 'N':\n",
        "        self.y += 1\n",
        "      elif el == 'S':\n",
        "        self.y -= 1\n",
        "      elif el == 'E':\n",
        "        self.x += 1\n",
        "      elif el == 'W':\n",
        "        self.x -= 1\n",
        "\n",
        "      if self.y < 0:\n",
        "        self.y = 0\n",
        "      if self.y > 100:\n",
        "        self.y = 100\n",
        "\n",
        "      if self.x < 0:\n",
        "        self.x = 0\n",
        "      if self.x > 100:\n",
        "        self.x = 100\n",
        "      self.pathes.append((self.x, self.y))\n",
        "    self.k += 1\n",
        "    return (self.x, self.y)\n",
        "  \n",
        "  def path(self):\n",
        "    return self.pathes\n",
        "\n",
        "\n",
        "r = Robot((0, 0))\n",
        "print(r.move('NENWEE'))\n",
        "print(*r.path())\n",
        "print()\n",
        "print(r.move('ENWEWSNN'))\n",
        "print(*r.path())\n",
        "print()\n",
        "print(r.move('NNNNNNNSSWENWEWSNN'))\n",
        "print(*r.path())"
      ],
      "metadata": {
        "colab": {
          "base_uri": "https://localhost:8080/"
        },
        "id": "qEo2V6pLoCE8",
        "outputId": "c2b52d4b-e3bc-4eee-e41f-97e96277696d"
      },
      "execution_count": null,
      "outputs": [
        {
          "output_type": "stream",
          "name": "stdout",
          "text": [
            "(2, 2)\n",
            "(0, 0) (0, 1) (1, 1) (1, 2) (0, 2) (1, 2) (2, 2)\n",
            "\n",
            "(2, 4)\n",
            "(2, 2) (3, 2) (3, 3) (2, 3) (3, 3) (2, 3) (2, 2) (2, 3) (2, 4)\n",
            "\n",
            "(1, 11)\n",
            "(2, 4) (2, 5) (2, 6) (2, 7) (2, 8) (2, 9) (2, 10) (2, 11) (2, 10) (2, 9) (1, 9) (2, 9) (2, 10) (1, 10) (2, 10) (1, 10) (1, 9) (1, 10) (1, 11)\n"
          ]
        }
      ]
    },
    {
      "cell_type": "markdown",
      "source": [
        "### Квадратичная функция"
      ],
      "metadata": {
        "id": "bQRUX9XCsMhE"
      }
    },
    {
      "cell_type": "code",
      "source": [
        "class Quadratic:\n",
        "  def __init__(self, a,b,c):\n",
        "    self.a = a\n",
        "    self.b = b\n",
        "    self.c = c\n",
        "    self.D = (b*b - 4*a*c)**(1/2)\n",
        "    \n",
        "\n",
        "  def branch(self):\n",
        "    if self.a>0:\n",
        "      return 'up'\n",
        "    if self.a<0:\n",
        "      return 'down'\n",
        "    \n",
        "\n",
        "  def x_sect(self):\n",
        "    if (isinstance(self.D, int)) or (isinstance(self.D, float)):\n",
        "      if self.D > 0:\n",
        "        x1 = ((-1)*self.b + self.D) / (2*self.a)\n",
        "        x2 = ((-1)*self.b - self.D) / (2*self.a)\n",
        "        return 2  \n",
        "      elif self.D == 0:\n",
        "        x1 = ((-1)*self.b) / (2*self.a)\n",
        "        return 1\n",
        "      else:\n",
        "        return 0\n",
        "    return 0\n",
        "\n",
        "  def sections(self):\n",
        "    if (isinstance(self.D, int)) or (isinstance(self.D, float)):\n",
        "      if self.D > 0:\n",
        "        x1 = ((-1)*self.b + self.D) / (2*self.a)\n",
        "        x2 = ((-1)*self.b - self.D) / (2*self.a)\n",
        "        y = self.a*x1*x1+self.b*x1+self.c\n",
        "        if x2>x1:\n",
        "          return (x1, 0.0, x2, 0.0)\n",
        "        else:\n",
        "          return (x2, 0.0, x1,0.0)\n",
        "      elif self.D == 0:\n",
        "        x1 = ((-1)*self.b) / (2*self.a)\n",
        "        return (x1, 0)\n",
        "      else:\n",
        "        return\n",
        "    return\n",
        "\n",
        "\n",
        "  def top(self):\n",
        "    x = (-1)*self.b / (2*self.a)\n",
        "    y = self.a * x*x + self.b * x + self.c\n",
        "    return (x, y)\n",
        "\n",
        "  def y_sect(self):\n",
        "    y = self.a * 0 + self.b*0 + self.c\n",
        "    return (0, self.c)\n",
        "\n",
        "\n",
        "equation = Quadratic(-8, 6, -5)\n",
        "print(equation.sections())\n",
        "print(equation.x_sect())\n",
        "\n",
        "\n",
        "equation = Quadratic(1, -6, 9)\n",
        "print(equation.x_sect())\n",
        "print(equation.branch())\n",
        "print(equation.top())\n",
        "print(equation.y_sect())\n",
        "print(equation.sections())\n",
        "\n",
        "print()\n",
        "\n",
        "equation = Quadratic(1.6, 0, -3)\n",
        "print(equation.branch())\n",
        "print(equation.sections())\n",
        "print(equation.x_sect())\n",
        "print(equation.y_sect())\n"
      ],
      "metadata": {
        "colab": {
          "base_uri": "https://localhost:8080/"
        },
        "id": "iTNloTtujQXG",
        "outputId": "d1c3254c-02d5-407c-ba72-68083b83672a"
      },
      "execution_count": null,
      "outputs": [
        {
          "output_type": "stream",
          "name": "stdout",
          "text": [
            "(6.818544805346488e-16+11.135528725660043j)\n",
            "None\n",
            "0\n",
            "1\n",
            "up\n",
            "(3.0, 0.0)\n",
            "(0, 9)\n",
            "0.0\n",
            "(3.0, 0)\n",
            "\n",
            "up\n",
            "4.3817804600413295\n",
            "(-1.3693063937629153, 0.0, 1.3693063937629153, 0.0)\n",
            "2\n",
            "(0, -3)\n"
          ]
        }
      ]
    },
    {
      "cell_type": "markdown",
      "source": [
        "### Джеймс Уэбб"
      ],
      "metadata": {
        "id": "c2T1F2Nwr_Ie"
      }
    },
    {
      "cell_type": "code",
      "source": [
        "class JamesWebb:\n",
        "  def __init__(self, data):\n",
        "    self.data = data\n",
        "    self.h = len(data)\n",
        "    self.w = len(data[0])\n",
        "\n",
        "  def brightest_star(self):\n",
        "    max_star = -1\n",
        "    max_x = -1\n",
        "    max_y = -1\n",
        "    for i in range(self.h):\n",
        "      for j in range(self.w):\n",
        "        if self.data[i][j] < 0:\n",
        "          if abs(self.data[i][j]) > max_star:\n",
        "            max_star = abs(self.data[i][j])\n",
        "            max_x = i\n",
        "            max_y = j\n",
        "    return (max_x, max_y)\n",
        "\n",
        "  def brightest_galaxy(self):\n",
        "    max_galaxy = -1\n",
        "    max_x = -1\n",
        "    max_y = -1\n",
        "    for i in range(self.h):\n",
        "      for j in range(self.w):\n",
        "        if self.data[i][j] > 0:\n",
        "          if abs(self.data[i][j]) > max_galaxy:\n",
        "            max_galaxy = abs(self.data[i][j])\n",
        "            max_x = i\n",
        "            max_y = j\n",
        "    return (max_x, max_y)\n",
        "\n",
        "  def stars(self):\n",
        "    k = 0\n",
        "    for i in range(self.h):\n",
        "      for j in range(self.w):\n",
        "        if self.data[i][j] < 0:\n",
        "          k += 1\n",
        "    return k\n",
        "\n",
        "  def galaxies(self):\n",
        "    k = 0\n",
        "    for i in range(self.h):\n",
        "      for j in range(self.w):\n",
        "        if self.data[i][j] > 0:\n",
        "          k += 1\n",
        "    return k\n",
        "\n",
        "  def voids(self):\n",
        "    k = 0\n",
        "    for i in range(self.h):\n",
        "      for j in range(self.w):\n",
        "        if self.data[i][j] == 0:\n",
        "          k += 1\n",
        "    return k\n",
        "\n",
        "\n",
        "\n",
        "\n",
        "\n",
        "data = [[0, 0, 1, 2],\n",
        "        [3, 1, -1, -1],\n",
        "        [0, 3, -1, 0]]\n",
        "jw = JamesWebb(data)\n",
        "print(jw.brightest_star())\n",
        "print(jw.brightest_galaxy())\n",
        "print(jw.stars())\n",
        "print(jw.galaxies())\n",
        "print(jw.voids())"
      ],
      "metadata": {
        "colab": {
          "base_uri": "https://localhost:8080/"
        },
        "id": "Qh7HyQDlsBqv",
        "outputId": "dfc98a78-7ca2-4682-fd28-efbeddc64cd9"
      },
      "execution_count": 50,
      "outputs": [
        {
          "output_type": "stream",
          "name": "stdout",
          "text": [
            "(1, 2)\n",
            "(1, 0)\n",
            "3\n",
            "5\n",
            "4\n"
          ]
        }
      ]
    },
    {
      "cell_type": "markdown",
      "source": [
        "### Лавина"
      ],
      "metadata": {
        "id": "vp8x3_uDvvIP"
      }
    },
    {
      "cell_type": "code",
      "source": [
        "class Avalanche:\n",
        "  def __init__(self):\n",
        "    self.ava = 'O'\n",
        "\n",
        "  def go(self):\n",
        "    print(self.ava)\n",
        "    new_ava = ''\n",
        "    for el in self.ava:\n",
        "      if el == 'O':\n",
        "        new_ava += 'ooOoo'\n",
        "      if el == 'o':\n",
        "        new_ava += 'oOo'\n",
        "    self.ava = new_ava\n",
        "    \n",
        "\n",
        "ava = Avalanche()\n",
        "ava.go()\n",
        "ava.go()\n",
        "ava.go()"
      ],
      "metadata": {
        "colab": {
          "base_uri": "https://localhost:8080/"
        },
        "id": "Yfj0cyKKvxVs",
        "outputId": "92d998af-df3a-4a04-acbf-24871371fcde"
      },
      "execution_count": 53,
      "outputs": [
        {
          "output_type": "stream",
          "name": "stdout",
          "text": [
            "O\n",
            "ooOoo\n",
            "oOooOoooOoooOooOo\n"
          ]
        }
      ]
    },
    {
      "cell_type": "markdown",
      "source": [
        "##5.2. Введение в ООП. Полиморфизм"
      ],
      "metadata": {
        "id": "iIPGam-w7IhR"
      }
    },
    {
      "cell_type": "markdown",
      "source": [
        "### Преобразование"
      ],
      "metadata": {
        "id": "RgngLUXwqIju"
      }
    },
    {
      "cell_type": "code",
      "source": [
        "from math import pi\n",
        "\n",
        "class SquareIntoCircle:\n",
        "  def __init__(self, a):\n",
        "    self.a = a\n",
        "    self.r = (4 * self.a) / (2 * pi) # c = 2piR => R = C / 2pi = > 4a / 2pi\n",
        "    print(self.r)\n",
        "\n",
        "  def size(self):\n",
        "    return round(self.r, 3)\n",
        "\n",
        "  def area(self):\n",
        "    return round(pi * self.r**2, 3)\n",
        "\n",
        "\n",
        "class CircleIntoSquare:\n",
        "  def __init__(self, r):\n",
        "    self.r = r\n",
        "    self.a = 2 * pi * self.r / 4 # p = 4a => c = 2piR => 2piR / 4\n",
        "\n",
        "  def size(self):\n",
        "    return round(self.a, 3)\n",
        "\n",
        "  def area(self):\n",
        "    return round(self.a**2, 3)\n",
        "\n",
        "\n",
        "sq = SquareIntoCircle(1)\n",
        "print(sq.size(), sq.area(), sep='\\n')\n",
        "print()\n",
        "circle = CircleIntoSquare(sq.size())\n",
        "print(circle.size(), circle.area(), sep='\\n')"
      ],
      "metadata": {
        "colab": {
          "base_uri": "https://localhost:8080/"
        },
        "id": "mVTen8gFqLdG",
        "outputId": "2f4965ab-1e04-4a91-9ec0-eb423b9f8359"
      },
      "execution_count": null,
      "outputs": [
        {
          "output_type": "stream",
          "name": "stdout",
          "text": [
            "0.6366197723675814\n",
            "0.637\n",
            "1.273\n",
            "\n",
            "1.001\n",
            "1.001\n"
          ]
        }
      ]
    },
    {
      "cell_type": "markdown",
      "source": [
        "### Заметки"
      ],
      "metadata": {
        "id": "e7BN1K_57Km9"
      }
    },
    {
      "cell_type": "code",
      "source": [
        "import datetime as dt\n",
        "\n",
        "class ShoppingList:\n",
        "  def __init__(self, *corts):\n",
        "    self.corts = list(corts)\n",
        "\n",
        "  def values(self):\n",
        "    return self.corts\n",
        "  \n",
        "  def append(self, value):\n",
        "    self.corts.append((value, False))\n",
        "\n",
        "  def check(self, value):\n",
        "    for i in range(len(self.corts)):\n",
        "      if self.corts[i][0] == value:\n",
        "        self.corts[i] = list(self.corts[i])\n",
        "        self.corts[i][1] = True\n",
        "        # print(self.corts[i])\n",
        "        self.corts[i] = tuple(self.corts[i])\n",
        "\n",
        "  def checked_values(self):\n",
        "    checked = [cort for cort in self.corts if cort[1] is True]\n",
        "    return checked\n",
        "\n",
        "  def rest_values(self):\n",
        "    unchecked = [cort for cort in self.corts if cort[1] is False]\n",
        "    return unchecked\n",
        "\n",
        "class TODOList:\n",
        "  def __init__(self, *corts):\n",
        "    self.corts = list(corts) # ('dfs', 1, False)\n",
        "\n",
        "  def values(self):\n",
        "    self.corts = sorted(self.corts, key=lambda cort: cort[1], reverse=True)\n",
        "    return self.corts\n",
        "  \n",
        "  def append(self, value, urgency):\n",
        "    self.corts.append((value,urgency, False))\n",
        "    self.corts = sorted(self.corts, key=lambda cort: cort[1], reverse=True)\n",
        "\n",
        "  def check(self, value):\n",
        "    for i in range(len(self.corts)):\n",
        "      if self.corts[i][0] == value:\n",
        "        self.corts[i] = list(self.corts[i])\n",
        "        self.corts[i][2] = True\n",
        "        # print(self.corts[i])\n",
        "        self.corts[i] = tuple(self.corts[i])\n",
        "\n",
        "  def checked_values(self):\n",
        "    checked = [cort for cort in self.corts if cort[2] is True]\n",
        "    return checked\n",
        "\n",
        "  def rest_values(self):\n",
        "    unchecked = [cort for cort in self.corts if cort[2] is False]\n",
        "    return unchecked\n",
        "\n",
        "class Route:\n",
        "  def __init__(self, *corts):\n",
        "    self.corts = list(corts) # (название остановки, время, маркер выполнения)\n",
        "\n",
        "  def values(self):\n",
        "    return self.corts\n",
        "  \n",
        "  def append(self, value, time):\n",
        "    t = dt.time.fromisoformat(time)\n",
        "    if len(self.corts) > 0:\n",
        "      last_t = dt.time.fromisoformat(self.corts[-1][1])\n",
        "      if t > last_t:\n",
        "        self.corts.append((value, time, False))\n",
        "    else:\n",
        "      self.corts.append((value, time, False))\n",
        "\n",
        "  def check(self, value):\n",
        "    for i in range(len(self.corts)):\n",
        "      if self.corts[i][0] == value:\n",
        "        self.corts[i] = list(self.corts[i])\n",
        "        self.corts[i][2] = True\n",
        "        # print(self.corts[i])\n",
        "        self.corts[i] = tuple(self.corts[i])\n",
        "        \n",
        "\n",
        "  def checked_values(self):\n",
        "    checked = [cort for cort in self.corts if cort[2] is True]\n",
        "    return checked\n",
        "\n",
        "  def rest_values(self):\n",
        "    unchecked = [cort for cort in self.corts if cort[2] is False]\n",
        "    return unchecked\n",
        "\n",
        "\n",
        "shop = ShoppingList((\"potato\", False),\n",
        "                    (\"milk\", False),\n",
        "                    (\"bread\", False))\n",
        "shop.append(\"apple\")\n",
        "shop.check(\"bread\")\n",
        "print(*shop.values(), sep=\"\\n\")\n",
        "shop.check(\"milk\")\n",
        "print()\n",
        "print(*[x[0] for x in shop.checked_values()],\n",
        "      sep=\"\\n\")\n",
        "print()\n",
        "print(*[x[0] for x in shop.rest_values()],\n",
        "      sep=\"\\n\")\n",
        "\n",
        "print()\n",
        "\n",
        "td = TODOList((\"buy car\", 5, False),\n",
        "              (\"make lessons\", 1, False),\n",
        "              (\"wright poem\", 4, False))\n",
        "td.append(\"wash pet\", 4)\n",
        "td.check(\"buy car\")\n",
        "print(*td.checked_values(), sep=\"\\n\")\n",
        "print()\n",
        "print(*td.values(), sep=\"\\n\")\n",
        "\n",
        "\n",
        "print()\n",
        "\n",
        "path = Route((\"Stratford\", \"12:15\", False),\n",
        "             (\"Hackney Central\", \"12:24\", False),\n",
        "             (\"Dalston Kingsland\", \"12:36\", False))\n",
        "path.append(\"Camden Road\", \"12:45\")\n",
        "path.append(\"Richmond\", \"11:52\")\n",
        "print(*path.values(), sep=\"\\n\")\n",
        "print()\n",
        "path.check(\"Stratford\")\n",
        "path.check(\"Hackney Central\")\n",
        "print(*[x[0] for x in path.rest_values()], sep=\"\\n\")"
      ],
      "metadata": {
        "colab": {
          "base_uri": "https://localhost:8080/"
        },
        "id": "aSQRGQsf7QB-",
        "outputId": "6efe7b06-cf00-411e-88ef-5ecd8cb04dd8"
      },
      "execution_count": null,
      "outputs": [
        {
          "output_type": "stream",
          "name": "stdout",
          "text": [
            "('potato', False)\n",
            "('milk', False)\n",
            "('bread', True)\n",
            "('apple', False)\n",
            "\n",
            "milk\n",
            "bread\n",
            "\n",
            "potato\n",
            "apple\n",
            "\n",
            "('buy car', 5, True)\n",
            "\n",
            "('buy car', 5, True)\n",
            "('wright poem', 4, False)\n",
            "('wash pet', 4, False)\n",
            "('make lessons', 1, False)\n",
            "\n",
            "('Stratford', '12:15', False)\n",
            "('Hackney Central', '12:24', False)\n",
            "('Dalston Kingsland', '12:36', False)\n",
            "('Camden Road', '12:45', False)\n",
            "\n",
            "Dalston Kingsland\n",
            "Camden Road\n"
          ]
        }
      ]
    },
    {
      "cell_type": "code",
      "source": [
        "path = Route()\n",
        "path.append(\"Kew Gardens\", \"11:53\")\n",
        "path.append(\"Willesden Junction\", \"11:59\")\n",
        "path.append(\"Acton Central\", \"12:01\")\n",
        "print(*path.values(), sep=\"\\n\")\n",
        "print()\n",
        "path.append(\"Richmond\", \"12:12\")\n",
        "path.check(\"Kew Gardens\")\n",
        "print(*[x[0] for x in path.rest_values()], sep=\"\\n\")\n",
        "print()\n",
        "print(*path.checked_values(), sep=\"\\n\")"
      ],
      "metadata": {
        "colab": {
          "base_uri": "https://localhost:8080/"
        },
        "id": "4y_kSAlIW46u",
        "outputId": "91ac0de7-46b9-4be9-f047-ac98b82ff2df"
      },
      "execution_count": null,
      "outputs": [
        {
          "output_type": "stream",
          "name": "stdout",
          "text": [
            "('Kew Gardens', '11:53', False)\n",
            "('Willesden Junction', '11:59', False)\n",
            "('Acton Central', '12:01', False)\n",
            "\n",
            "Willesden Junction\n",
            "Acton Central\n",
            "Richmond\n",
            "\n",
            "('Kew Gardens', '11:53', True)\n"
          ]
        }
      ]
    },
    {
      "cell_type": "code",
      "source": [
        "import datetime as dt\n",
        "t = dt.time.fromisoformat(\"12:35\")\n",
        "t.hour"
      ],
      "metadata": {
        "colab": {
          "base_uri": "https://localhost:8080/"
        },
        "id": "K8j7hMFiEHJK",
        "outputId": "e98a491b-7cb3-47f2-f719-49cee792cbb3"
      },
      "execution_count": null,
      "outputs": [
        {
          "output_type": "execute_result",
          "data": {
            "text/plain": [
              "12"
            ]
          },
          "metadata": {},
          "execution_count": 2
        }
      ]
    },
    {
      "cell_type": "markdown",
      "source": [
        "### В таблицу и обратно"
      ],
      "metadata": {
        "id": "xC9Pcu8cIuAz"
      }
    },
    {
      "cell_type": "code",
      "source": [
        "class LineToTable:\n",
        "  def __init__(self, list_val, n,m):\n",
        "    self.list_val = list_val\n",
        "    self.n = n\n",
        "    self.m = m\n",
        "    self.final = []\n",
        "\n",
        "  def resize(self):\n",
        "    for i in range(self.n):\n",
        "      self.final.append([])\n",
        "      for j in range(self.m):\n",
        "        self.final[i].append(self.list_val[self.m*i + j])\n",
        "    return self.final, self.n, self.m\n",
        "\n",
        "\n",
        "class TableToLine:\n",
        "  def __init__(self, list_val):\n",
        "    self.list_val = list_val\n",
        "    self.n = len(self.list_val)\n",
        "    self.m = len(self.list_val[0])\n",
        "    self.final = []\n",
        "\n",
        "  def resize(self):\n",
        "    for i in range(self.n):\n",
        "      for j in range(self.m):\n",
        "        self.final.append(self.list_val[i][j])\n",
        "    return self.final, self.n, self.m\n",
        "\n",
        "\n",
        "ltt = LineToTable([1, 2, 3, 4, 5, 6], 3, 2)\n",
        "matrix, a, b = ltt.resize()\n",
        "print(*matrix, sep='\\n')\n",
        "print(f'Sizes: {a}x{b}')\n",
        "\n",
        "\n",
        "ttl = TableToLine([[1, 2], [3, 4], [5, 6]])\n",
        "arr, n, m = ttl.resize()\n",
        "print(arr)\n",
        "print(f'Resized from {n}x{m}')"
      ],
      "metadata": {
        "colab": {
          "base_uri": "https://localhost:8080/"
        },
        "id": "63YUZn21Iwvl",
        "outputId": "d7f99ec5-1980-43d5-fa7f-22a8c1c4f6c9"
      },
      "execution_count": null,
      "outputs": [
        {
          "output_type": "stream",
          "name": "stdout",
          "text": [
            "[1, 2]\n",
            "[3, 4]\n",
            "[5, 6]\n",
            "Sizes: 3x2\n",
            "[1, 2, 3, 4, 5, 6]\n",
            "Resized from 3x2\n"
          ]
        }
      ]
    },
    {
      "cell_type": "markdown",
      "source": [
        "### Зеркала"
      ],
      "metadata": {
        "id": "rEqDYG44UAEj"
      }
    },
    {
      "cell_type": "code",
      "source": [
        "class RightMirror:\n",
        "  def __init__(self, matrix):\n",
        "    self.matrix = matrix\n",
        "\n",
        "  def reflect(self):\n",
        "    for i in range(len(self.matrix)):\n",
        "      self.matrix[i] = self.matrix[i][::-1]\n",
        "\n",
        "\n",
        "class BottomMirror:\n",
        "  def __init__(self, matrix):\n",
        "    self.matrix = matrix\n",
        "\n",
        "  def reflect(self):\n",
        "    self.matrix = self.matrix[::-1]\n",
        "    for i in range(len(self.matrix)):\n",
        "      self.matrix[i] = self.matrix[i][::-1]\n",
        "\n",
        "    \n",
        "\n",
        "arr = [[1, 2, 3, 4, 5],\n",
        "       [6, 7, 8, 9, 0]]\n",
        "rm = RightMirror(arr)\n",
        "bm = BottomMirror(arr)\n",
        "rm.reflect()\n",
        "for item in rm.matrix:\n",
        "    print(*item, sep='\\t')\n",
        "print()\n",
        "bm.reflect()\n",
        "for item in bm.matrix:\n",
        "    print(*item, sep='\\t')\n",
        "\n"
      ],
      "metadata": {
        "colab": {
          "base_uri": "https://localhost:8080/"
        },
        "id": "eVFxrAoCUBMF",
        "outputId": "c0796cdd-5458-4144-f344-ad50ac224c5e"
      },
      "execution_count": null,
      "outputs": [
        {
          "output_type": "stream",
          "name": "stdout",
          "text": [
            "5\t4\t3\t2\t1\n",
            "0\t9\t8\t7\t6\n",
            "\n",
            "6\t7\t8\t9\t0\n",
            "1\t2\t3\t4\t5\n"
          ]
        }
      ]
    },
    {
      "cell_type": "code",
      "source": [
        "class RightMirror:\n",
        "    def __init__(self, matrix):\n",
        "        self.matrix = matrix\n",
        "    \n",
        "    def reflect(self):\n",
        "        for i in range(len(self.matrix)):\n",
        "            self.matrix[i] = self.matrix[i][::-1]\n",
        " \n",
        "            \n",
        "class BottomMirror:\n",
        "    def __init__(self, matrix):\n",
        "        self.matrix = matrix\n",
        " \n",
        "    def reflect(self):\n",
        "        self.matrix = self.matrix[::-1]\n",
        "        for i in range(len(self.matrix)):\n",
        "            self.matrix[i] = self.matrix[i][::-1]\n",
        "\n",
        "arr = [[1, 2, 3, 4, 5],\n",
        "       [6, 7, 8, 9, 0]]\n",
        "rm = RightMirror(arr)\n",
        "bm = BottomMirror(arr)\n",
        "rm.reflect()\n",
        "for item in rm.matrix:\n",
        "    print(*item, sep='\\t')\n",
        "print()\n",
        "bm.reflect()\n",
        "for item in bm.matrix:\n",
        "    print(*item, sep='\\t')"
      ],
      "metadata": {
        "colab": {
          "base_uri": "https://localhost:8080/"
        },
        "id": "RvaF6z32WMF_",
        "outputId": "d6d7cb41-f5bf-442a-f5f5-d05e7d965b62"
      },
      "execution_count": null,
      "outputs": [
        {
          "output_type": "stream",
          "name": "stdout",
          "text": [
            "5\t4\t3\t2\t1\n",
            "0\t9\t8\t7\t6\n",
            "\n",
            "6\t7\t8\t9\t0\n",
            "1\t2\t3\t4\t5\n"
          ]
        }
      ]
    },
    {
      "cell_type": "markdown",
      "source": [
        "### Ромб из букв"
      ],
      "metadata": {
        "id": "8hB9Jm6XX2GK"
      }
    },
    {
      "cell_type": "code",
      "source": [
        "import string\n",
        "\n",
        "class LettersRhombus:\n",
        "  def __init__(self, letter, separator=' '):\n",
        "    self.letter = letter\n",
        "    self.separator = separator\n",
        "    self.arr = []\n",
        "    self.alphabet = string.ascii_uppercase\n",
        "    k = self.alphabet.index(self.letter)\n",
        "    for i in range(k+1):\n",
        "      if i == 0:\n",
        "        self.arr.append(self.separator * (k-i) + self.alphabet[i] + self.separator * (k-i))\n",
        "      else:\n",
        "        self.arr.append(self.separator * (k-i) + self.alphabet[i] + self.separator * ((i-1)*2 + 1) + self.alphabet[i] + self.separator * (k-i))\n",
        "    bottom = self.arr[-2::-1]\n",
        "    self.arr += bottom\n",
        "  \n",
        "  def rows(self):\n",
        "    return(self.arr)\n",
        "\n",
        "  def cols(self):\n",
        "    curr = []\n",
        "    for i in range(len(self.arr[0])):\n",
        "     #curr.append([])\n",
        "      s = ''\n",
        "      for j in range(len(self.arr)):\n",
        "        #curr[i].append(self.arr[j][i])\n",
        "        s += self.arr[j][i]\n",
        "      curr.append(s)\n",
        "    return(curr)\n",
        "\n",
        "lines = LettersRhombus(\"D\", \"-\")\n",
        "print(*lines.rows(), sep=\"\\n\")\n",
        "\n",
        "print()\n",
        "\n",
        "lines = LettersRhombus(\"C\")\n",
        "print(*lines.cols(), sep=\"\\n\")"
      ],
      "metadata": {
        "colab": {
          "base_uri": "https://localhost:8080/"
        },
        "id": "QLB6Uw-TX6SN",
        "outputId": "86a304f7-b1b0-413b-c3e4-82d6c5e8fced"
      },
      "execution_count": null,
      "outputs": [
        {
          "output_type": "stream",
          "name": "stdout",
          "text": [
            "---A---\n",
            "--B-B--\n",
            "-C---C-\n",
            "D-----D\n",
            "-C---C-\n",
            "--B-B--\n",
            "---A---\n",
            "\n",
            "  C  \n",
            " B B \n",
            "A   A\n",
            " B B \n",
            "  C  \n"
          ]
        }
      ]
    },
    {
      "cell_type": "markdown",
      "source": [
        "### Двуручная пила"
      ],
      "metadata": {
        "id": "Fqnw9HCFIMpe"
      }
    },
    {
      "cell_type": "code",
      "source": [],
      "metadata": {
        "id": "vRvBWcA_IOho"
      },
      "execution_count": null,
      "outputs": []
    },
    {
      "cell_type": "markdown",
      "source": [
        "### Число е"
      ],
      "metadata": {
        "id": "J8KJESlYIkxO"
      }
    },
    {
      "cell_type": "code",
      "source": [
        "import math\n",
        "\n",
        "class EulerNumber:\n",
        "  def __init__(self, n):\n",
        "    self.n = n\n",
        "    self.e = 0\n",
        "\n",
        "\n",
        "  def get_number(self, x = 1):\n",
        "    for i in range(self.n):\n",
        "      self.e += x**i / math.factorial(i)\n",
        "\n",
        "    return self.e\n",
        "\n",
        "\n",
        "e = EulerNumber(2)\n",
        "print(e.get_number())\n",
        "\n",
        "e = EulerNumber(105)\n",
        "print(e.get_number(0.3))"
      ],
      "metadata": {
        "colab": {
          "base_uri": "https://localhost:8080/"
        },
        "id": "VBsILxnKImI9",
        "outputId": "fc3d61cb-fd98-4278-bbab-b525beb4bbde"
      },
      "execution_count": null,
      "outputs": [
        {
          "output_type": "stream",
          "name": "stdout",
          "text": [
            "2.0\n",
            "1.349858807576003\n"
          ]
        }
      ]
    },
    {
      "cell_type": "markdown",
      "source": [
        "## 5.3. Определение операторов"
      ],
      "metadata": {
        "id": "RT4gvS_nNxh3"
      }
    },
    {
      "cell_type": "markdown",
      "source": [
        "### Гипербола"
      ],
      "metadata": {
        "id": "NWEiiAscNzY9"
      }
    },
    {
      "cell_type": "code",
      "source": [
        "class Hyperbole:\n",
        "  def __init__(self, a, b):\n",
        "    self.a =a\n",
        "    self.b = b\n",
        "\n",
        "  def __str__(self):\n",
        "    return f'y = {self.a} + {self.b}/x'\n",
        "\n",
        "  def __repr__(self):\n",
        "    return f'Hyp({self.a}, {self.b})'\n",
        "\n",
        "  def __call__(self, x):\n",
        "    if x != 0:\n",
        "      return round(self.a + self.b / x, 6)\n",
        "    else:\n",
        "      return\n",
        "\n",
        "hyp = Hyperbole(2.5, 3)\n",
        "print(hyp(2))\n",
        "print(hyp.__repr__())\n",
        "print(hyp)"
      ],
      "metadata": {
        "colab": {
          "base_uri": "https://localhost:8080/"
        },
        "id": "LqMkXtB2NyjC",
        "outputId": "5e3a6b32-ac2b-4f29-ce7b-c30c53eb490f"
      },
      "execution_count": null,
      "outputs": [
        {
          "output_type": "stream",
          "name": "stdout",
          "text": [
            "4.0\n",
            "Hyp(2.5, 3)\n",
            "y = 2.5 + 3/x\n"
          ]
        }
      ]
    },
    {
      "cell_type": "markdown",
      "source": [
        "### Текучий прямоугольник"
      ],
      "metadata": {
        "id": "hpv5OmOhRNPS"
      }
    },
    {
      "cell_type": "code",
      "source": [
        "class FlowingRectangle:\n",
        "  def __init__(self, a, b):\n",
        "    self.a = a\n",
        "    self.b = b\n",
        "    self.S = a*b\n",
        "    self.k = self.a / self.b\n",
        "\n",
        "  def __add__(self, other):\n",
        "    self.S = self.S + other.S\n",
        "    self.b = (self.S / self.k) ** (1/2)\n",
        "    self.a = (self.S * self.k) ** (1/2)\n",
        "\n",
        "  def __sub__(self, other):\n",
        "    if other.S >= self.S:\n",
        "      self.S, self.a, self.b = 0, 0, 0\n",
        "    else:\n",
        "      self.S -= other.S\n",
        "      self.b = (self.S / self.k) ** (1/2)\n",
        "      self.a = (self.S * self.k) ** (1/2)\n",
        "\n",
        "  def get_width(self):\n",
        "    return round (self.a, 2)\n",
        "\n",
        "  def get_height (self):\n",
        "    return round(self.b, 2)\n",
        "\n",
        "\n",
        "fr_1 = FlowingRectangle(12, 5)\n",
        "fr_2 = FlowingRectangle(60, 1)\n",
        "fr_1 + fr_2\n",
        "print(fr_1.get_width(), fr_1.get_height())\n",
        "fr_1 - fr_2\n",
        "print(fr_1.get_width(), fr_1.get_height())"
      ],
      "metadata": {
        "colab": {
          "base_uri": "https://localhost:8080/"
        },
        "id": "80FbDkbtRShe",
        "outputId": "e1d0ae96-948d-4a56-eb54-d027fa5ff894"
      },
      "execution_count": null,
      "outputs": [
        {
          "output_type": "stream",
          "name": "stdout",
          "text": [
            "16.97 7.07\n",
            "12.0 5.0\n"
          ]
        }
      ]
    },
    {
      "cell_type": "markdown",
      "source": [
        "### Три богатыря"
      ],
      "metadata": {
        "id": "n-lN4antUthD"
      }
    },
    {
      "cell_type": "code",
      "source": [
        "def equality(a,b):\n",
        "  return (a.num_win == b.num_win) and (len(a.list_weapon) == len(b.list_weapon)) and (len(a.name) == len(b.name)) and (a.name == b.name)\n",
        "def more_then(a,b):\n",
        "  if (a.num_win > b.num_win) or (a.num_win == b.num_win and len(a.list_weapon) > len(b.list_weapon)) or (\n",
        "          a.num_win == b.num_win and len(a.list_weapon) == len(b.list_weapon) and len(a.name) < len(\n",
        "                  b.name)) or (\n",
        "          a.num_win == b.num_win and len(a.list_weapon) == len(b.list_weapon) and len(a.name) == len(\n",
        "                  b.name) and a.name > b.name):\n",
        "    return True\n",
        "  else:\n",
        "    return False\n",
        "def less_then(a,b):\n",
        "  if (a.num_win < b.num_win) or (a.num_win == b.num_win and len(a.list_weapon) < len(b.list_weapon)) or (\n",
        "          a.num_win == b.num_win and len(a.list_weapon) == len(b.list_weapon) and len(a.name) > len(\n",
        "                  b.name)) or (\n",
        "          a.num_win == b.num_win and len(a.list_weapon) == len(b.list_weapon) and len(a.name) == len(\n",
        "                  b.name) and a.name < b.name):\n",
        "    return True\n",
        "  else:\n",
        "    return False\n",
        "\n",
        "\n",
        "class EpicHero:\n",
        "  def __init__(self, name, num_win, list_weapon):\n",
        "    self.name = name\n",
        "    self.num_win = num_win\n",
        "    self.list_weapon = list_weapon\n",
        "\n",
        "  def __str__(self):\n",
        "    return f'Epic Hero {self.name}, {self.num_win}'\n",
        "  \n",
        "  def __repr__(self):\n",
        "    self.list_weapon = sorted(self.list_weapon)\n",
        "    return f'EpicHero(\\'{self.name}\\', {self.num_win}, {self.list_weapon})'\n",
        "\n",
        "  def __eq__(self, other):\n",
        "        return equality(self, other)\n",
        " \n",
        "  def __ne__(self, other):\n",
        "      return not equality(self, other)\n",
        "\n",
        "  def __gt__(self, other):\n",
        "      return more_then(self, other)\n",
        "\n",
        "  def __lt__(self, other):\n",
        "      return less_then(self, other)\n",
        "\n",
        "  def __le__(self, other):\n",
        "      return less_then(self, other) or equality(self, other)\n",
        "\n",
        "  def __ge__(self, other):\n",
        "      return more_then(self, other) or equality(self, other) \n",
        "\n",
        "  def add_win(self):\n",
        "    self.num_win += 1\n",
        "\n",
        "  def add_weapon(self, item):\n",
        "    self.list_weapon.append(item)\n",
        "\n",
        "  def del_weapon(self, item):\n",
        "    if item in self.list_weapon:\n",
        "      self.list_weapon.remove(item)\n",
        "  \n",
        "eh_1 = EpicHero('Ilya', 2, ['mace', 'bow'])\n",
        "eh_2 = EpicHero('Dobrynya', 2, ['knife'])\n",
        "print(eh_1, eh_2, sep='\\n')\n",
        "print([eh_1, eh_2])\n",
        "eh_2.add_weapon('sword')\n",
        "print(eh_1 >= eh_2)\n",
        "\n",
        "print()\n",
        "\n",
        "eh_1 = EpicHero('Ilya', 1, ['mace', 'bow'])\n",
        "eh_2 = EpicHero('Dobrynya', 2, ['knife', 'sword'])\n",
        "print(eh_2 < eh_1)\n",
        "eh_1.add_win()\n",
        "print(eh_1 >= eh_2)\n",
        "eh_1.del_weapon('bow')\n",
        "print(eh_1 > eh_2)\n",
        "eh_3 = EpicHero('Ilya', 2, ['lash'])\n",
        "print(eh_1 == eh_3)\n",
        "print([eh_1, eh_2, eh_3])"
      ],
      "metadata": {
        "colab": {
          "base_uri": "https://localhost:8080/"
        },
        "id": "3ltsNZuIUtCT",
        "outputId": "8b333375-48d9-49b2-bdb3-a80644bad448"
      },
      "execution_count": null,
      "outputs": [
        {
          "output_type": "stream",
          "name": "stdout",
          "text": [
            "Epic Hero Ilya, 2\n",
            "Epic Hero Dobrynya, 2\n",
            "[EpicHero('Ilya', 2, ['bow', 'mace']), EpicHero('Dobrynya', 2, ['knife'])]\n",
            "True\n",
            "\n",
            "False\n",
            "True\n",
            "False\n",
            "True\n",
            "[EpicHero('Ilya', 2, ['mace']), EpicHero('Dobrynya', 2, ['knife', 'sword']), EpicHero('Ilya', 2, ['lash'])]\n"
          ]
        }
      ]
    },
    {
      "cell_type": "markdown",
      "source": [
        "### Поезд"
      ],
      "metadata": {
        "id": "15DwoosNbomQ"
      }
    },
    {
      "cell_type": "code",
      "source": [
        "class Wagon:\n",
        "  def __init__(self, num):\n",
        "    self.num = num\n",
        "\n",
        "  def __str__(self):\n",
        "    return f'№{self.num}'\n",
        "  \n",
        "  \n",
        "  def get_number(self):\n",
        "    return self.num\n",
        "\n",
        "\n",
        "class Train:\n",
        "  def __init__(self, num, wagons=[]):\n",
        "    self.num = num\n",
        "    self.wagons = wagons\n",
        "\n",
        "  def get_number(self):\n",
        "    return self.num\n",
        "\n",
        "  def get_wagons(self):\n",
        "    return self.wagons\n",
        "\n",
        "  def append(self, item):\n",
        "    self.wagons.append(item)\n",
        "\n",
        "  def __len__(self):\n",
        "    return len(self.wagons)\n",
        "\n",
        "  def __str__(self):\n",
        "    return f'Train {self.num} has {len(self.wagons)} wagons'\n",
        "\n",
        "  def __getitem__(self, key):\n",
        "    return self.wagons[key]\n",
        "\n",
        "  def __setitem__(self, key, value):\n",
        "    self.wagons[key] = value\n",
        "\n",
        "  def  __delitem__(self, key):\n",
        "    if key == len(self.wagons) - 1:\n",
        "      del self.wagons[key]\n",
        "\n",
        "  def __iter__(self):\n",
        "    return iter(self.wagons)\n",
        "\n",
        "w1, w2, w3 = Wagon(1), Wagon(2), Wagon(3)\n",
        "tr = Train(206)\n",
        "tr.append(w1)\n",
        "tr.append(w3)\n",
        "tr.append(w2)\n",
        "for item in tr:\n",
        "    print(item)\n",
        "print(f\"This train has number {tr.get_number()}.\")\n",
        "tr[1] = Wagon(5)\n",
        "del tr[2]\n",
        "print(tr[-1])\n",
        "\n",
        "\n",
        "tr = Train(206, [Wagon(1), Wagon(2), Wagon(3)])\n",
        "print(', '.join([str(item.get_number()) for item in tr]))\n",
        "print(f\"This train has number {tr.get_number()}.\")\n",
        "for i in range(4, 10):\n",
        "    tr.append(Wagon(i))\n",
        "print(*tr.get_wagons())"
      ],
      "metadata": {
        "colab": {
          "base_uri": "https://localhost:8080/"
        },
        "id": "zDDtH1DBRgnh",
        "outputId": "f0a78a43-f61c-47d7-bb2b-4efd21a8ca01"
      },
      "execution_count": null,
      "outputs": [
        {
          "output_type": "stream",
          "name": "stdout",
          "text": [
            "№1\n",
            "№3\n",
            "№2\n",
            "This train has number 206.\n",
            "№5\n",
            "1, 2, 3\n",
            "This train has number 206.\n",
            "№1 №2 №3 №4 №5 №6 №7 №8 №9\n"
          ]
        }
      ]
    },
    {
      "cell_type": "markdown",
      "source": [
        "### Корзина с грушами"
      ],
      "metadata": {
        "id": "sH12qlD-iKM0"
      }
    },
    {
      "cell_type": "code",
      "source": [
        "class PearsBasket:\n",
        "  def __init__(self, num):\n",
        "    self.num = num\n",
        "\n",
        "  def __repr__(self):\n",
        "    return f'PearsBasket({self.num})'\n",
        "\n",
        "  def __str__(self):\n",
        "    return str(self.num)\n",
        "\n",
        "  def __floordiv__(self, num_corz):\n",
        "    part = self.num // num_corz\n",
        "    ost = self.num % num_corz\n",
        "    corz = [PearsBasket(part) for i in range(num_corz)]\n",
        "    if ost > 0:\n",
        "      corz.append(PearsBasket(ost))\n",
        "    return corz\n",
        "\n",
        "  def __mod__(self, other):\n",
        "    return self.num % other\n",
        "\n",
        "  def __add__(self, other):\n",
        "    return PearsBasket(self.num + other.num)\n",
        "\n",
        "  def __sub__(self, n):\n",
        "    if self.num > n:\n",
        "      self.num = self.num - n\n",
        "    else:\n",
        "      self.num = 0\n",
        "    return self.num\n",
        "\n",
        "pb = PearsBasket(17)\n",
        "array = pb // 4\n",
        "print(array)\n",
        "pb_2 = PearsBasket(13)\n",
        "pb_3 = pb + pb_2\n",
        "print(pb_3)\n",
        "print(pb_3 % 7)\n",
        "pb - 2\n",
        "print([pb])"
      ],
      "metadata": {
        "colab": {
          "base_uri": "https://localhost:8080/"
        },
        "id": "PAcH2A9fiOH2",
        "outputId": "2cdb2ecc-5bf6-4e0f-cd12-841a69de001b"
      },
      "execution_count": 34,
      "outputs": [
        {
          "output_type": "stream",
          "name": "stdout",
          "text": [
            "[PearsBasket(4), PearsBasket(4), PearsBasket(4), PearsBasket(4), PearsBasket(1)]\n",
            "30\n",
            "2\n",
            "[PearsBasket(15)]\n"
          ]
        }
      ]
    },
    {
      "cell_type": "markdown",
      "source": [
        "### Модульная арифметика"
      ],
      "metadata": {
        "id": "_zUMXBD2mm4x"
      }
    },
    {
      "cell_type": "code",
      "source": [
        "class ModularArithmetic:\n",
        "  def __init__(self, val, module):\n",
        "    self.val = val\n",
        "    self.module = module\n",
        "\n",
        "  def __call__(self, x):\n",
        "    return x // self.module\n",
        "  \n",
        "  def __str__(self):\n",
        "    return f'{self.val}({self.module})'\n",
        "\n",
        "  def __repr__(self):\n",
        "    return f'{self.val}({self.module})'\n",
        "\n",
        "  def __add__(self, other):\n",
        "    new_val = self.val + other.val\n",
        "\n",
        "    return ModularArithmetic(new_val % self.module, self.module)\n",
        "\n",
        "  def __sub__(self, other):\n",
        "    new_val = self.val - other.val\n",
        "    return ModularArithmetic(new_val % self.module, self.module)\n",
        "\n",
        "  def __lshift__(self, n): # <<\n",
        "    new_val = self.val - n\n",
        "    return ModularArithmetic(new_val % self.module, self.module)    \n",
        "    \n",
        "  def __rshift__(self, n): # >>\n",
        "    new_val = self.val + n\n",
        "    return ModularArithmetic(new_val % self.module, self.module) \n",
        "\n",
        "\n",
        "ma_1 = ModularArithmetic(3, 12)\n",
        "ma_2 = ModularArithmetic(11, 12)\n",
        "ma_3 = ma_1 + ma_2\n",
        "print(ma_3)\n",
        "ma_4 = ma_1 - ma_2\n",
        "print(ma_4)\n",
        "\n",
        "print()\n",
        "\n",
        "ma_1 = ModularArithmetic(3, 12)\n",
        "ma_2 = ModularArithmetic(11, 12)\n",
        "ma_5 = ma_2 >> 4\n",
        "print(ma_5)\n",
        "ma_6 = ma_1 << 6\n",
        "print(ma_6)\n",
        "print(ma_1(60))"
      ],
      "metadata": {
        "colab": {
          "base_uri": "https://localhost:8080/"
        },
        "id": "ptWBJ_A2mpIO",
        "outputId": "1c19a9b7-09e4-4ba4-ecd4-e26c003991b4"
      },
      "execution_count": 46,
      "outputs": [
        {
          "output_type": "stream",
          "name": "stdout",
          "text": [
            "2(12)\n",
            "4(12)\n",
            "\n",
            "3(12)\n",
            "9(12)\n",
            "5\n"
          ]
        }
      ]
    },
    {
      "cell_type": "markdown",
      "source": [
        "## 5.4. ООП. Наследование"
      ],
      "metadata": {
        "id": "ULS3vsGhv_EE"
      }
    },
    {
      "cell_type": "markdown",
      "source": [
        "### Круговорот файлов"
      ],
      "metadata": {
        "id": "BRdbgQOewDMl"
      }
    },
    {
      "cell_type": "code",
      "source": [
        "class Rewrite:\n",
        "  def __init__(self, input_name, output_name):\n",
        "    self.input_name = input_name\n",
        "    self.output_name = output_name\n",
        "\n",
        "  def done(self):\n",
        "    f_i = open(self.input_name, 'r')\n",
        "    s = f_i.read()\n",
        "    f = open(self.output, 'w')\n",
        "    f .write(s)\n",
        "    f_i.close()\n",
        "    f.close()\n",
        "\n",
        "\n",
        "\n",
        "class Calculus(Rewrite):\n",
        "  def five_per_line(self):\n",
        "    f1 = open(self.input_name, 'r')\n",
        "    s = f1.read()\n",
        "    s = s.split()\n",
        "    digital = [int(s[i]) for i in range(len(s)) if s[i].isdigit()]\n",
        "    f2 = open(self.output_name, 'w')\n",
        "    # if len(digital) %  == 0:\n",
        "    \n",
        "    for i in range(len(digital) // 5):\n",
        "      s = ''.join([el for el in digital[i:i+5]])\n",
        "\n",
        "class Align(Rewrite):\n",
        "  def to_right(self):\n",
        "    \n",
        "\n"
      ],
      "metadata": {
        "id": "HjgRtlG5wCf3"
      },
      "execution_count": null,
      "outputs": []
    },
    {
      "cell_type": "markdown",
      "source": [
        "### Принцип соответствия"
      ],
      "metadata": {
        "id": "0UgMT--iizNU"
      }
    },
    {
      "cell_type": "code",
      "source": [
        "class ClassicalMechanics:\n",
        "  def __init__(self, v):\n",
        "    self.v = v\n",
        "    self.va = v\n",
        "    self.c = 1\n",
        "\n",
        "  def __call__(self, vr):\n",
        "    self.va = self.v + vr\n",
        "    return self.va\n",
        "  \n",
        "  def __str__(self):\n",
        "    return f'Object {self.__class__.__name__}, velocity {self.v} c'\n",
        "\n",
        "\n",
        "class SpecialTheoryRelativity(ClassicalMechanics):\n",
        "  def __call__(self, vr):\n",
        "    if self.v < self.c * 0.1 and vr < self.c * 0.1:\n",
        "      self.va = self.v + vr\n",
        "    else:\n",
        "      self.va = (self.v + vr) / (1 + (self.v*vr)/self.c)\n",
        "    return self.va\n",
        "\n",
        "\n",
        "\n",
        "\n",
        "\n",
        "\n",
        "cm = ClassicalMechanics(0.05)\n",
        "st = SpecialTheoryRelativity(0.05)\n",
        "print(cm(0.05))\n",
        "print(st(0.05))\n",
        "print(cm, st, sep='\\n')"
      ],
      "metadata": {
        "colab": {
          "base_uri": "https://localhost:8080/"
        },
        "id": "0Z5ctHGHi0s4",
        "outputId": "866400cc-d8f1-4660-c676-4c1f85568e3a"
      },
      "execution_count": 7,
      "outputs": [
        {
          "output_type": "stream",
          "name": "stdout",
          "text": [
            "0.1\n",
            "0.1\n",
            "Object ClassicalMechanics, velocity 0.05 c\n",
            "Object SpecialTheoryRelativity, velocity 0.05 c\n"
          ]
        }
      ]
    },
    {
      "cell_type": "markdown",
      "source": [
        "### Шкаф\n"
      ],
      "metadata": {
        "id": "axvDz2PUmnZW"
      }
    },
    {
      "cell_type": "code",
      "source": [
        "class Wardrobe:\n",
        "  def __init__(self, *args):\n",
        "    self.items = args\n",
        "\n",
        "  def __eq__(self, other):\n",
        "    if self.__class__.__name__ == other.__class__.__name__:\n",
        "      if len(self.items) == len(other.items):\n",
        "        return True\n",
        "      else:\n",
        "        return False\n",
        "    else:\n",
        "      return False\n",
        "\n",
        "  def __ne__(self, other):\n",
        "    if self.__class__.__name__ == other.__class__.__name__:\n",
        "      if len(self.items) == len(other.items):\n",
        "        return False\n",
        "      else: \n",
        "        return True\n",
        "    else: \n",
        "      return True  \n",
        "\n",
        "  def __lt__(self, other): \n",
        "    if self.__class__.__name__ == other.__class__.__name__:\n",
        "      return len(self.items) < len(other.items)\n",
        "    elif self.__class__.__name__ == \"MagicWardrobe\":\n",
        "      return False\n",
        "    else:\n",
        "      return True\n",
        "\n",
        "  def __le__(self, other): \n",
        "    if self.__class__.__name__ == other.__class__.__name__:\n",
        "      return len(self.items) <= len(other.items)\n",
        "    elif self.__class__.__name__ == \"MagicWardrobe\":\n",
        "      return False\n",
        "    else:\n",
        "      return True\n",
        "\n",
        "  def __gt__(self, other):\n",
        "    if self.__class__.__name__ == other.__class__.__name__:\n",
        "      return len(self.items) > len(other.items)\n",
        "    elif self.__class__.__name__ == \"MagicWardrobe\":\n",
        "      return True\n",
        "    else:\n",
        "      return False\n",
        "\n",
        "  def __ge__(self, other): \n",
        "    if self.__class__.__name__ == other.__class__.__name__:\n",
        "      return len(self.items) >= len(other.items)\n",
        "    elif self.__class__.__name__ == \"MagicWardrobe\":\n",
        "      return True\n",
        "    else:\n",
        "      return False\n",
        "\n",
        "  def __str__(self):\n",
        "    return ' '.join(el for el in self.items)\n",
        "\n",
        "class JustWardrobe(Wardrobe):\n",
        "  \n",
        "  def __str__(self):\n",
        "    return (', '.join(el for el in self.items) + '.').capitalize()\n",
        "\n",
        "class MagicWardrobe(Wardrobe):\n",
        "  def __str__(self):\n",
        "    self.items = sorted(self.items)\n",
        "    return (', '.join(el.capitalize() for el in self.items) + '.')\n",
        "\n",
        "\n",
        "\n",
        "wa = Wardrobe(\"socks\", \"jacket\", \"hat\")\n",
        "jw = JustWardrobe(\"trousers\", \"blouse\")\n",
        "mw = MagicWardrobe(\"Narnia\", \"Wonderland\", \"Dreamland\")\n",
        "\n",
        "print(*[wa, jw, mw], sep='\\n')\n",
        "\n",
        "\n",
        "jw1 = JustWardrobe(\"socks\", \"jacket\", \"hat\")\n",
        "jw2 = JustWardrobe(\"trousers\", \"blouse\")\n",
        "mw1 = MagicWardrobe(\"Narnia\", \"Wonderland\", \"Dreamland\")\n",
        "mw2 = MagicWardrobe(\"Kingdom\", \"Mordor\", \"Middle Earth\")\n",
        "print(jw1 > jw2)\n",
        "print(jw1 == mw1)\n",
        "print(jw2 <= mw2)\n",
        "print(mw1 != mw2)"
      ],
      "metadata": {
        "colab": {
          "base_uri": "https://localhost:8080/"
        },
        "id": "MNA-gkKrmq5f",
        "outputId": "f802cbfd-9803-4df7-ffc4-06d3dd44c24a"
      },
      "execution_count": 24,
      "outputs": [
        {
          "output_type": "stream",
          "name": "stdout",
          "text": [
            "socks jacket hat\n",
            "Trousers, blouse.\n",
            "Dreamland, Narnia, Wonderland.\n",
            "True\n",
            "False\n",
            "True\n",
            "False\n"
          ]
        }
      ]
    },
    {
      "cell_type": "markdown",
      "source": [
        "### Зоопарк частиц"
      ],
      "metadata": {
        "id": "JXYlbl0Prb8R"
      }
    },
    {
      "cell_type": "code",
      "source": [
        "class Particles:\n",
        "  pass\n",
        "\n",
        "class Fermions(Particles):\n",
        "  pass\n",
        "\n",
        "class Bosons(Particles):\n",
        "  pass\n",
        "\n",
        "class Hadrons(Fermions):\n",
        "  pass\n",
        "\n",
        "class Mesons(Hadrons):\n",
        "  pass\n",
        "\n",
        "class Baryons(Hadrons):\n",
        "  pass\n",
        "\n",
        "class Leptons(Fermions):\n",
        "  pass \n",
        "\n",
        "class Electrons(Leptons):\n",
        "  pass\n",
        "\n",
        "class Muons(Leptons):\n",
        "  pass\n",
        "\n",
        "class Neutrino(Leptons):\n",
        "  pass\n",
        "\n",
        "class Photons(Bosons):\n",
        "  pass \n",
        "\n",
        "class Gluons(Bosons):\n",
        "  pass\n",
        "\n",
        "class VectorBosons(Bosons):\n",
        "  pass"
      ],
      "metadata": {
        "id": "oTGpa8Gcreei"
      },
      "execution_count": null,
      "outputs": []
    },
    {
      "cell_type": "markdown",
      "source": [
        "### Мимимишный мимиметр"
      ],
      "metadata": {
        "id": "4GSeOvOIsFl4"
      }
    },
    {
      "cell_type": "code",
      "source": [
        "from os import set_blocking\n",
        "class Liked:\n",
        "  def __init__(self, *emodji):\n",
        "    self.emodji = emodji\n",
        "    self.emodji_dict = {\n",
        "        \":)\":0,\n",
        "        \")\":0,\n",
        "        \"(\":0,\n",
        "        \";)\":0,\n",
        "        \":(\" :0,\n",
        "        \";(\":0,\n",
        "    }\n",
        "    self.curr_dict = dict()\n",
        "\n",
        "  def likes(self):\n",
        "    if self.__class__.__name__ == \"Liked\":\n",
        "      for key, value in self.emodji_dict.items():\n",
        "        for i in range(len(self.emodji)):\n",
        "          self.emodji_dict[key] += self.emodji[i].count(key)\n",
        "          #print(self.emodji[i], key, self.emodji[i].count(key))\n",
        "    else:\n",
        "      for key, value in self.emodji_dict.items():\n",
        "        for i in range(len(self.emodji)):\n",
        "          if \"cat\" in self.emodji[i] or \"kitten\" in self.emodji[i]:\n",
        "            self.emodji_dict[key] += self.emodji[i].count(key)\n",
        "\n",
        "    \n",
        "    \n",
        "    s_negative = 0\n",
        "    s_positive = 0\n",
        "    total = 0\n",
        "    for key, value in self.emodji_dict.items():\n",
        "      if key ==  \":)\" or key == \";)\":\n",
        "        s_positive += value\n",
        "      if key ==  \";(\" or key == \":(\":\n",
        "        s_negative += value\n",
        "      total += value\n",
        "    \n",
        "    self.emodji_dict[\")\"] -= s_positive\n",
        "    self.emodji_dict[\"(\"] -= s_negative\n",
        "    \n",
        "    for key, value in self.emodji_dict.items():\n",
        "      if value > 0:\n",
        "        self.curr_dict[key] = value\n",
        "    return self.curr_dict\n",
        "\n",
        "class MiMiMi(Liked):\n",
        "  pass\n",
        "\n",
        "lines = [\"Hi, ;)!\", \"How are you))\", \"Well ;)?\"]\n",
        "lk = Liked(*lines)\n",
        "print(lk.likes())\n",
        "\n",
        "lines = [\"What a cute kitten :):)\", \"I love it:)\",\n",
        "         \"So pretty cat:))))\", \"See, kitty :)\",\n",
        "         \"What happened to the cat ;(\"]\n",
        "mi = MiMiMi(*lines)\n",
        "print(mi.likes())"
      ],
      "metadata": {
        "colab": {
          "base_uri": "https://localhost:8080/"
        },
        "id": "5E1y25r5sG3B",
        "outputId": "7f7fdff8-156c-4ef4-f78f-bf64405dee41"
      },
      "execution_count": 75,
      "outputs": [
        {
          "output_type": "stream",
          "name": "stdout",
          "text": [
            "{')': 2, ';)': 2}\n",
            "{':)': 3, ')': 3, ';(': 1}\n"
          ]
        }
      ]
    },
    {
      "cell_type": "markdown",
      "source": [
        "## 5.5. ООП. Наследование. Часть 2"
      ],
      "metadata": {
        "id": "X16H3Qpw5bay"
      }
    },
    {
      "cell_type": "code",
      "source": [
        "import datetime\n",
        "\n",
        "\n",
        "class Greeter:\n",
        "    def greet(self):\n",
        "        print(\"Good news, everyone\")\n",
        "\n",
        "\n",
        "class GreeterWithDate(Greeter):\n",
        "    def greet(self):\n",
        "        print(datetime.datetime.now())\n",
        "        super().greet()\n",
        "\n",
        "\n",
        "g = GreeterWithDate()\n",
        "g.greet()"
      ],
      "metadata": {
        "colab": {
          "base_uri": "https://localhost:8080/"
        },
        "id": "Fdc1l9yL98nv",
        "outputId": "79c6ea87-d7e6-40f4-a826-fb89b5107bde"
      },
      "execution_count": 78,
      "outputs": [
        {
          "output_type": "stream",
          "name": "stdout",
          "text": [
            "Good news, everyone\n"
          ]
        }
      ]
    },
    {
      "cell_type": "markdown",
      "source": [
        "### Рыба моя"
      ],
      "metadata": {
        "id": "yZ1bebjA5fSi"
      }
    },
    {
      "cell_type": "code",
      "source": [
        "class Fish:\n",
        "  def __init__(self):\n",
        "    pass\n",
        "\n",
        "  def swim(self):\n",
        "    return self.swim.__name__\n",
        "\n",
        "  def dive(self):\n",
        "    return self.dive.__name__\n",
        "\n",
        "  def breathe_with_gills (self):\n",
        "    return self.breathe_with_gills.__name__\n",
        "\n",
        "\n",
        "\n",
        "class LandAnimal:\n",
        "  def __init__(self):\n",
        "    pass\n",
        "\n",
        "  def walk_on_land(self):\n",
        "    return self.walk_on_land.__name__\n",
        "  def breathe_air(self):\n",
        "    return self.breathe_air.__name__\n",
        "  def feed_cubs(self):\n",
        "    return self.feed_cubs.__name__\n",
        "\n",
        "class Whale(Fish, LandAnimal):\n",
        "  def __init__(self):\n",
        "    pass\n",
        "\n",
        "  def filter_food(self, array, num):\n",
        "    ans = [el for el in array if el<=num]\n",
        "    return ans\n",
        "\n",
        "  def breathe_with_gills (self):\n",
        "    return\n",
        "\n",
        "  def walk_on_land(self):\n",
        "    return\n",
        "\n",
        "fish = Fish()\n",
        "print(fish.breathe_with_gills())\n",
        "bear = LandAnimal()\n",
        "print(bear.walk_on_land())\n",
        "whale = Whale()\n",
        "print(whale.breathe_air())\n",
        "\n",
        "whale = Whale()\n",
        "print(whale.breathe_with_gills())\n",
        "array = [8, 21, 15, 3, 42, 17]\n",
        "print(whale.filter_food(array, 15))\n",
        "print(whale.dive())"
      ],
      "metadata": {
        "colab": {
          "base_uri": "https://localhost:8080/"
        },
        "id": "VFdsEnUO5e5A",
        "outputId": "c51cb314-7299-4c85-b564-8d14cda26198"
      },
      "execution_count": 99,
      "outputs": [
        {
          "output_type": "stream",
          "name": "stdout",
          "text": [
            "breathe_with_gills\n",
            "walk_on_land\n",
            "breathe_air\n",
            "None\n",
            "[8, 15, 3]\n",
            "dive\n"
          ]
        }
      ]
    },
    {
      "cell_type": "markdown",
      "source": [
        "### Абстрактный кот"
      ],
      "metadata": {
        "id": "2WAox0bkC0jW"
      }
    },
    {
      "cell_type": "code",
      "source": [
        "class AbstractCat:\n",
        "  def __init__(self):\n",
        "    self.weight = 0\n",
        "    self.save = 0\n",
        "  \n",
        "  def eat(self, food):\n",
        "    food += self.save\n",
        "    self.weight += food // 10\n",
        "    if self.weight >= 100:\n",
        "      self.weight = 100\n",
        "    self.save = food % 10\n",
        "\n",
        "  def __str__(self):\n",
        "    return f'{self.__class__.__name__} ({self.weight})'\n",
        "\n",
        "class Kitten(AbstractCat):\n",
        "  def __init__(self, weight):\n",
        "    super().__init__() \n",
        "    self.weight = weight\n",
        "    \n",
        "\n",
        "  def meow(self):\n",
        "    return 'meow...'\n",
        "\n",
        "  def sleep(self):\n",
        "    n = self.weight // 5\n",
        "    return 'Snore'* n \n",
        "\n",
        "class Cat(Kitten):\n",
        "  def __init__(self, weight, name):\n",
        "    super().__init__(self)\n",
        "    self.weight = weight\n",
        "    self.name = name\n",
        "     \n",
        "  \n",
        "  def meow(self):\n",
        "    return 'MEOW...'\n",
        "\n",
        "  def get_name(self):\n",
        "    return self.name\n",
        "  \n",
        "  def catch_mice(self):\n",
        "    return 'Got it!'\n",
        "\n",
        "\n",
        "\n",
        "abscat = AbstractCat()\n",
        "abscat.eat(125)\n",
        "abscat.eat(17)\n",
        "print(abscat)\n",
        "kit = Kitten(21)\n",
        "print(kit)\n",
        "print(kit.sleep())\n",
        "cat = Cat(83, 'Molly')\n",
        "print(cat.meow())\n",
        "print(cat.get_name())\n",
        "\n",
        "kit = Kitten(15)\n",
        "kit.eat(24)\n",
        "print(kit)\n",
        "cat = Cat(41, 'Molly')\n",
        "print(cat.catch_mice())\n",
        "print(cat)\n",
        "\n",
        "print()\n",
        "\n",
        "kit = Kitten(15)\n",
        "kit.eat(24)\n",
        "print(kit.sleep())\n",
        "cat = Cat(41, 'Molly')\n",
        "cat.eat(600)\n",
        "print(cat.catch_mice())\n",
        "print(cat)\n",
        "print(cat.get_name())"
      ],
      "metadata": {
        "colab": {
          "base_uri": "https://localhost:8080/"
        },
        "id": "UN4rFuL-C2pk",
        "outputId": "129df701-89b3-4c85-c3cf-d099087faa04"
      },
      "execution_count": 101,
      "outputs": [
        {
          "output_type": "stream",
          "name": "stdout",
          "text": [
            "AbstractCat (14)\n",
            "Kitten (21)\n",
            "SnoreSnoreSnoreSnore\n",
            "MEOW...\n",
            "Molly\n",
            "Kitten (17)\n",
            "Got it!\n",
            "Cat (41)\n",
            "\n",
            "SnoreSnoreSnore\n",
            "Got it!\n",
            "Cat (100)\n",
            "Molly\n"
          ]
        }
      ]
    },
    {
      "cell_type": "markdown",
      "source": [
        "### Службы быстрого реагирования"
      ],
      "metadata": {
        "id": "HyEaDPRNLb8y"
      }
    },
    {
      "cell_type": "code",
      "source": [
        "class Service:\n",
        "  def __init__(self, address, id):\n",
        "    self.address = address\n",
        "    self.id = id\n",
        "\n",
        "  def arrival_time(self):\n",
        "    return len(self.address)\n",
        "\n",
        "  def get(self):\n",
        "    return self.__dict__\n",
        "  \n",
        "class Ambulance(Service):\n",
        "  def __init__(self, address, id, mode,severity):\n",
        "    super().__init__(address, id)\n",
        "    self.mode = mode\n",
        "    self.severity = severity\n",
        "\n",
        "class Firefighters(Service):\n",
        "  def __init__(self, address, id, mode,victims):\n",
        "    super().__init__(address, id,) \n",
        "    self.mode = mode\n",
        "    self.victims = victims\n",
        "\n",
        "class Police(Service):\n",
        "  def __init__(self, address, id, mode, victims, armament_required):\n",
        "    super().__init__(address, id,) \n",
        "    self.mode = mode\n",
        "    self.victims = victims\n",
        "    self.armament_required = armament_required\n",
        "\n",
        "\n",
        "serv = Service(\"Red Square, 1\", 1)\n",
        "print(serv.get())\n",
        "print(serv.arrival_time())\n",
        "print()\n",
        "amb = Ambulance(\"Bolshaya Gruzinskaya str., 1\", 2, 5, 0)\n",
        "print(amb.get())\n",
        "print(amb.arrival_time())\n",
        "print()\n",
        "pol = Police(\"Tverskaya St., 13, Moscow, Russia\", 3, 1, 0, False)\n",
        "print(pol.get())\n",
        "print(pol.arrival_time())"
      ],
      "metadata": {
        "colab": {
          "base_uri": "https://localhost:8080/"
        },
        "id": "LRqA3u_TLd9t",
        "outputId": "fa693b39-3bea-4aea-8125-21d7d9644c3b"
      },
      "execution_count": 106,
      "outputs": [
        {
          "output_type": "stream",
          "name": "stdout",
          "text": [
            "{'address': 'Red Square, 1', 'id': 1}\n",
            "13\n",
            "\n",
            "{'address': 'Bolshaya Gruzinskaya str., 1', 'id': 2, 'mode': 5, 'severity': 0}\n",
            "28\n",
            "\n",
            "{'address': 'Tverskaya St., 13, Moscow, Russia', 'id': 3, 'mode': 1, 'victims': 0, 'armament_required': False}\n",
            "33\n"
          ]
        }
      ]
    },
    {
      "cell_type": "markdown",
      "source": [
        "### Огурцы и помидоры"
      ],
      "metadata": {
        "id": "SbpzvhYaO_kL"
      }
    },
    {
      "cell_type": "code",
      "source": [
        "class Cucumber:\n",
        "  def __init__(self):\n",
        "    pass\n",
        "  def crunch(self):\n",
        "    return \"crunch\"\n",
        "  def refresh(self):\n",
        "    return \"Cucumber refresh.\"\n",
        "\n",
        "class Tomato:\n",
        "  def __init__(self):\n",
        "    pass\n",
        "  def melt(self):\n",
        "    return 'crunch'\n",
        "\n",
        "  def refresh(self):\n",
        "    return 'Tomato refresh.'\n",
        "\n",
        "class Salad(Tomato, Cucumber):\n",
        "  pass\n",
        "\n",
        "class Smoothie(Cucumber, Tomato):\n",
        "  pass\n",
        "\n",
        "sal = Salad()\n",
        "sm = Smoothie()\n",
        "print(sal.refresh())\n",
        "print(sm.refresh())"
      ],
      "metadata": {
        "colab": {
          "base_uri": "https://localhost:8080/"
        },
        "id": "DNGiOPTZPBTr",
        "outputId": "474f8331-821b-47da-8aea-0085d7b69cc0"
      },
      "execution_count": 107,
      "outputs": [
        {
          "output_type": "stream",
          "name": "stdout",
          "text": [
            "Tomato refresh.\n",
            "Cucumber refresh.\n"
          ]
        }
      ]
    },
    {
      "cell_type": "markdown",
      "source": [
        "### Комары"
      ],
      "metadata": {
        "id": "-ngOB76ZSucX"
      }
    },
    {
      "cell_type": "code",
      "source": [
        "class Mosquito:\n",
        "  def __init__(self, age):\n",
        "    self.age = age\n",
        "\n",
        "  def __str__(self):\n",
        "    return f'{self.__class__.__name__}, {self.age} days'\n",
        "\n",
        "class MaleMosquito(Mosquito):\n",
        "  def __init__(self, age):\n",
        "    super().__init__(age)\n",
        "    self.feed = 'nectar'\n",
        "    self.lives = 'on land'\n",
        "  def hearing(self):\n",
        "    return f'I hear and see everything {self.lives}'\n",
        "\n",
        "\n",
        "class FemaleMosquito(Mosquito):\n",
        "  def __init__(self, age):\n",
        "    super().__init__(age)\n",
        "    self.feed = 'blood'\n",
        "    self.lives = 'on land'\n",
        "\n",
        "  def squeak(self):\n",
        "    return f'The thin squeak of a mosquito after eating {self.feed}'\n",
        "\n",
        "class MosquitoLarva(MaleMosquito, FemaleMosquito):\n",
        "  def __init__(self, age):\n",
        "    super().__init__(age)\n",
        "    self.feed = 'algae'\n",
        "    self.lives = 'in water'\n",
        "\n",
        "mm = MaleMosquito(19)\n",
        "fm = FemaleMosquito(42)\n",
        "ml = MosquitoLarva(3)\n",
        "print(mm, fm, ml, sep='\\n') \n",
        "\n",
        "print()\n",
        "\n",
        "mm = MaleMosquito(19)\n",
        "fm = FemaleMosquito(42)\n",
        "ml = MosquitoLarva(3)\n",
        "for item in (mm, fm, ml):\n",
        "    print(f'{item}, I feed {item.feed}, I lives {item.lives}')\n",
        "m = Mosquito(13)\n",
        "print(m)"
      ],
      "metadata": {
        "colab": {
          "base_uri": "https://localhost:8080/"
        },
        "id": "7lnMFw1jSv2D",
        "outputId": "198802a9-0236-42ea-c499-83e36878521a"
      },
      "execution_count": 108,
      "outputs": [
        {
          "output_type": "stream",
          "name": "stdout",
          "text": [
            "MaleMosquito, 19 days\n",
            "FemaleMosquito, 42 days\n",
            "MosquitoLarva, 3 days\n",
            "\n",
            "MaleMosquito, 19 days, I feed nectar, I lives on land\n",
            "FemaleMosquito, 42 days, I feed blood, I lives on land\n",
            "MosquitoLarva, 3 days, I feed algae, I lives in water\n",
            "Mosquito, 13 days\n"
          ]
        }
      ]
    },
    {
      "cell_type": "markdown",
      "source": [
        "### Клеточное поле"
      ],
      "metadata": {
        "id": "drOJMo4gbLfU"
      }
    },
    {
      "cell_type": "code",
      "source": [
        "0 % 2 "
      ],
      "metadata": {
        "colab": {
          "base_uri": "https://localhost:8080/"
        },
        "id": "Lmbmu5RGieQN",
        "outputId": "863bf192-d5c0-4553-9608-bb8d22383415"
      },
      "execution_count": 134,
      "outputs": [
        {
          "output_type": "execute_result",
          "data": {
            "text/plain": [
              "0"
            ]
          },
          "metadata": {},
          "execution_count": 134
        }
      ]
    },
    {
      "cell_type": "code",
      "source": [
        "class Board:\n",
        "  def __init__(self, num_rows, num_cols, full=\"0\"):\n",
        "    self.num_rows = num_rows\n",
        "    self.num_cols = num_cols\n",
        "    self.full = full\n",
        "    self.field = [[self.full for j in range(self.num_cols)] for i in range(self.num_rows)]\n",
        "\n",
        "  def __str__(self):\n",
        "    s = ''\n",
        "    for i in range(len(self.field)-1, -1, -1):\n",
        "      s += ''.join(str(z) for z in self.field[i]) + '\\n'\n",
        "    s = s[:len(s) - 1:]\n",
        "    return s\n",
        "\n",
        "class Checker(Board):\n",
        "  def __init__(self, size, full_white, full_black = \"0\"):\n",
        "    super().__init__(size, size)\n",
        "    self.full_black = full_black\n",
        "    self.full_white = full_white\n",
        "\n",
        "    for i in range(len(self.field)):\n",
        "      for j in range(len(self.field[i])):\n",
        "        if i % 2 == 0:\n",
        "          if j % 2 == 0:\n",
        "            self.field[i][j] = self.full_black\n",
        "          else:\n",
        "            self.field[i][j] = self.full_white\n",
        "        else:\n",
        "          if j % 2 == 0:\n",
        "            self.field[i][j] = self.full_white\n",
        "          else:\n",
        "            self.field[i][j] = self.full_black  \n",
        "  \n",
        "  def put_on(self, full_black, full_white):\n",
        "    for i in range(3):\n",
        "      for j in range(len(self.field[i])):\n",
        "        if self.field[i][j] == self.full_black:\n",
        "          self.field[i][j] = full_white\n",
        "\n",
        "    for i in range(self.num_rows - 1, self.num_rows - 4, -1):\n",
        "      for j in range(len(self.field[i])):\n",
        "        if self.field[i][j] == self.full_black:\n",
        "          self.field[i][j] = full_black\n",
        "\n",
        "class Chess(Checker):\n",
        "  def __init__(self):\n",
        "    super().__init__(8, \"1\", \"0\")\n",
        "\n",
        "  def put_on(self, f_b=str.lower, f_w=str.upper):\n",
        "    for i in range(len(self.field)):\n",
        "      if i == 0:\n",
        "        fig_list = list(map(f_w, 'RNBKQBNR'))\n",
        "      elif i == 1:\n",
        "        fig_list = list(map(f_w, 'PPPPPPPP'))\n",
        "\n",
        "      elif i == len(self.field) - 1:\n",
        "        fig_list = list(map(f_b, 'RNBKQBNR'))\n",
        "      elif i == len(self.field) - 2:\n",
        "        fig_list = list(map(f_b, 'PPPPPPPP'))\n",
        "      else:\n",
        "        continue\n",
        "            \n",
        "      for j in range(len(self.field[i])):\n",
        "        self.field[i][j] = fig_list[j]\n",
        "      \n",
        "   \n",
        "ch = Checker(8, \"1\")\n",
        "print(ch)\n",
        "  \n",
        "ch = Checker(8, \"1\")\n",
        "ch.put_on(\"B\", \"W\")\n",
        "print(ch)\n",
        "\n",
        "chess = Chess()\n",
        "chess.put_on()\n",
        "print(chess)"
      ],
      "metadata": {
        "colab": {
          "base_uri": "https://localhost:8080/"
        },
        "id": "pfW_TDyEbNYz",
        "outputId": "e1de9a77-03ca-41b6-e7f4-d25a8abcebf4"
      },
      "execution_count": 158,
      "outputs": [
        {
          "output_type": "stream",
          "name": "stdout",
          "text": [
            "10101010\n",
            "01010101\n",
            "10101010\n",
            "01010101\n",
            "10101010\n",
            "01010101\n",
            "10101010\n",
            "01010101\n",
            "1B1B1B1B\n",
            "B1B1B1B1\n",
            "1B1B1B1B\n",
            "01010101\n",
            "10101010\n",
            "W1W1W1W1\n",
            "1W1W1W1W\n",
            "W1W1W1W1\n",
            "rnbkqbnr\n",
            "pppppppp\n",
            "10101010\n",
            "01010101\n",
            "10101010\n",
            "01010101\n",
            "PPPPPPPP\n",
            "RNBKQBNR\n"
          ]
        }
      ]
    },
    {
      "cell_type": "markdown",
      "source": [
        "## 5.6. Проектирование и разработка классов"
      ],
      "metadata": {
        "id": "LqlW9tUBn-tE"
      }
    },
    {
      "cell_type": "markdown",
      "source": [
        "### Конь"
      ],
      "metadata": {
        "id": "RZcmn_Hsou30"
      }
    },
    {
      "cell_type": "code",
      "source": [
        "def correct_coords(row, col):\n",
        "    \"\"\"Функция проверяет, что координаты (row, col) лежат\n",
        "    внутри доски\"\"\"\n",
        "    return 0 <= row < 8 and 0 <= col < 8\n",
        "\n",
        "WHITE = 1\n",
        "BLACK = 2\n",
        "  \n",
        "class Pawn:\n",
        " \n",
        "    def __init__(self, row, col, color):\n",
        "        self.row = row\n",
        "        self.col = col\n",
        "        self.color = color\n",
        " \n",
        "    def set_position(self, row, col):\n",
        "        self.row = row\n",
        "        self.col = col\n",
        " \n",
        "    def char(self):\n",
        "        return 'P'\n",
        " \n",
        "    def get_color(self):\n",
        "        return self.color\n",
        " \n",
        "    def can_move(self, row, col):\n",
        "        # Пешка может ходить только по вертикали\n",
        "        # \"взятие на проходе\" не реализовано\n",
        "        if self.col != col:\n",
        "            return False\n",
        " \n",
        "        # Пешка может сделать из начального положения ход на 2 клетки\n",
        "        # вперёд, поэтому поместим индекс начального ряда в start_row.\n",
        "        if self.color == WHITE:\n",
        "            direction = 1\n",
        "            start_row = 1\n",
        "        else:\n",
        "            direction = -1\n",
        "            start_row = 6\n",
        " \n",
        "        # ход на 1 клетку\n",
        "        if self.row + direction == row:\n",
        "            return True\n",
        " \n",
        "        # ход на 2 клетки из начального положения\n",
        "        if self.row == start_row and self.row + 2 * direction == row:\n",
        "            return True\n",
        " \n",
        "        return False\n",
        "\n",
        "class Rook:\n",
        " \n",
        "    def __init__(self, row, col, color):\n",
        "        self.row = row\n",
        "        self.col = col\n",
        "        self.color = color\n",
        " \n",
        "    def set_position(self, row, col):\n",
        "        self.row = row\n",
        "        self.col = col\n",
        " \n",
        "    def char(self):\n",
        "        return 'R'\n",
        " \n",
        "    def get_color(self):\n",
        "        return self.color\n",
        " \n",
        "    def can_move(self, row, col):\n",
        "        # Невозможно сделать ход в клетку, которая не лежит в том же ряду\n",
        "        # или столбце клеток.\n",
        "        if self.row != row and self.col != col:\n",
        "            return False\n",
        " \n",
        "        return True\n",
        "\n",
        "class Board:\n",
        "    def __init__(self):\n",
        "        self.color = WHITE\n",
        "        self.field = []\n",
        "        for row in range(8):\n",
        "            self.field.append([None] * 8)\n",
        "        # Пешка белого цвета в клетке E2.\n",
        "        self.field[1][4] = Pawn(1, 4, WHITE)  \n",
        "\n",
        "    def current_player_color(self):\n",
        "        return self.color\n",
        "\n",
        "    def cell(self, row, col):\n",
        "        \"\"\"Возвращает строку из двух символов. Если в клетке (row, col)\n",
        "        находится фигура, символы цвета и фигуры. Если клетка пуста,\n",
        "        то два пробела.\"\"\"\n",
        "        piece = self.field[row][col]\n",
        "        if piece is None:\n",
        "            return '  '\n",
        "        color = piece.get_color()\n",
        "        c = 'w' if color == WHITE else 'b'\n",
        "        return c + piece.char()\n",
        "\n",
        "    def move_piece(self, row, col, row1, col1):\n",
        "        \"\"\"Переместить фигуру из точки (row, col) в точку (row1, col1).\n",
        "        Если перемещение возможно, метод выполнит его и вернет True.\n",
        "        Если нет --- вернет False\"\"\"\n",
        "\n",
        "        if not correct_coords(row, col) or not correct_coords(row1, col1):\n",
        "            return False\n",
        "        if row == row1 and col == col1:\n",
        "            return False  # нельзя пойти в ту же клетку\n",
        "        piece = self.field[row][col]\n",
        "        if piece is None:\n",
        "            return False\n",
        "        if piece.get_color() != self.color:\n",
        "            return False\n",
        "        if not piece.can_move(row1, col1):\n",
        "            return False\n",
        "        self.field[row][col] = None  # Снять фигуру.\n",
        "        self.field[row1][col1] = piece  # Поставить на новое место.\n",
        "        piece.set_position(row1, col1)\n",
        "        self.color = opponent(self.color)\n",
        "        return True\n",
        "\n",
        "def print_board(board): # Распечатать доску в текстовом виде (см. скриншот)\n",
        "    print('     +----+----+----+----+----+----+----+----+')\n",
        "    for row in range(7, -1, -1):\n",
        "        print(' ', row, end='  ')\n",
        "        for col in range(8):\n",
        "            print('|', board.cell(row, col), end=' ')\n",
        "        print('|')\n",
        "        print('     +----+----+----+----+----+----+----+----+')\n",
        "    print(end='        ')\n",
        "    for col in range(8):\n",
        "        print(col, end='    ')\n",
        "    print()\n",
        " \n",
        "\n",
        "def main():\n",
        "    # Создаём шахматную доску\n",
        "    board = Board()\n",
        "    # Цикл ввода команд игроков\n",
        "    while True:\n",
        "        # Выводим положение фигур на доске\n",
        "        print_board(board)\n",
        "        # Подсказка по командам\n",
        "        print('Команды:')\n",
        "        print('    exit                               -- выход')\n",
        "        print('    move <row> <col> <row1> <col1>     -- ход из клетки (row, col)')\n",
        "        print('                                          в клетку (row1, col1)')\n",
        "        # Выводим приглашение игроку нужного цвета\n",
        "        if board.current_player_color() == WHITE:\n",
        "            print('Ход белых:')\n",
        "        else:\n",
        "            print('Ход черных:')\n",
        "        command = input()\n",
        "        if command == 'exit':\n",
        "            break\n",
        "        move_type, row, col, row1, col1 = command.split()\n",
        "        row, col, row1, col1 = int(row), int(col), int(row1), int(col1)\n",
        "        if board.move_piece(row, col, row1, col1):\n",
        "            print('Ход успешен')\n",
        "        else:\n",
        "            print('Координаты некорректы! Попробуйте другой ход!')\n",
        "\n",
        "main()"
      ],
      "metadata": {
        "colab": {
          "base_uri": "https://localhost:8080/",
          "height": 762
        },
        "id": "sKEd1owmoADB",
        "outputId": "08b26dc0-13a2-4993-b1ff-3f6143bb3400"
      },
      "execution_count": 6,
      "outputs": [
        {
          "output_type": "stream",
          "name": "stdout",
          "text": [
            "     +----+----+----+----+----+----+----+----+\n",
            "  7  |    |    |    |    |    |    |    |    |\n",
            "     +----+----+----+----+----+----+----+----+\n",
            "  6  |    |    |    |    |    |    |    |    |\n",
            "     +----+----+----+----+----+----+----+----+\n",
            "  5  |    |    |    |    |    |    |    |    |\n",
            "     +----+----+----+----+----+----+----+----+\n",
            "  4  |    |    |    |    |    |    |    |    |\n",
            "     +----+----+----+----+----+----+----+----+\n",
            "  3  |    |    |    |    |    |    |    |    |\n",
            "     +----+----+----+----+----+----+----+----+\n",
            "  2  |    |    |    |    |    |    |    |    |\n",
            "     +----+----+----+----+----+----+----+----+\n",
            "  1  |    |    |    |    | wP |    |    |    |\n",
            "     +----+----+----+----+----+----+----+----+\n",
            "  0  |    |    |    |    |    |    |    |    |\n",
            "     +----+----+----+----+----+----+----+----+\n",
            "        0    1    2    3    4    5    6    7    \n",
            "Команды:\n",
            "    exit                               -- выход\n",
            "    move <row> <col> <row1> <col1>     -- ход из клетки (row, col)\n",
            "                                          в клетку (row1, col1)\n",
            "Ход белых:\n"
          ]
        },
        {
          "output_type": "error",
          "ename": "KeyboardInterrupt",
          "evalue": "ignored",
          "traceback": [
            "\u001b[0;31m---------------------------------------------------------------------------\u001b[0m",
            "\u001b[0;31mKeyboardInterrupt\u001b[0m                         Traceback (most recent call last)",
            "\u001b[0;32m<ipython-input-6-8aea9d83f4e1>\u001b[0m in \u001b[0;36m<cell line: 162>\u001b[0;34m()\u001b[0m\n\u001b[1;32m    160\u001b[0m             \u001b[0mprint\u001b[0m\u001b[0;34m(\u001b[0m\u001b[0;34m'Координаты некорректы! Попробуйте другой ход!'\u001b[0m\u001b[0;34m)\u001b[0m\u001b[0;34m\u001b[0m\u001b[0;34m\u001b[0m\u001b[0m\n\u001b[1;32m    161\u001b[0m \u001b[0;34m\u001b[0m\u001b[0m\n\u001b[0;32m--> 162\u001b[0;31m \u001b[0mmain\u001b[0m\u001b[0;34m(\u001b[0m\u001b[0;34m)\u001b[0m\u001b[0;34m\u001b[0m\u001b[0;34m\u001b[0m\u001b[0m\n\u001b[0m",
            "\u001b[0;32m<ipython-input-6-8aea9d83f4e1>\u001b[0m in \u001b[0;36mmain\u001b[0;34m()\u001b[0m\n\u001b[1;32m    150\u001b[0m         \u001b[0;32melse\u001b[0m\u001b[0;34m:\u001b[0m\u001b[0;34m\u001b[0m\u001b[0;34m\u001b[0m\u001b[0m\n\u001b[1;32m    151\u001b[0m             \u001b[0mprint\u001b[0m\u001b[0;34m(\u001b[0m\u001b[0;34m'Ход черных:'\u001b[0m\u001b[0;34m)\u001b[0m\u001b[0;34m\u001b[0m\u001b[0;34m\u001b[0m\u001b[0m\n\u001b[0;32m--> 152\u001b[0;31m         \u001b[0mcommand\u001b[0m \u001b[0;34m=\u001b[0m \u001b[0minput\u001b[0m\u001b[0;34m(\u001b[0m\u001b[0;34m)\u001b[0m\u001b[0;34m\u001b[0m\u001b[0;34m\u001b[0m\u001b[0m\n\u001b[0m\u001b[1;32m    153\u001b[0m         \u001b[0;32mif\u001b[0m \u001b[0mcommand\u001b[0m \u001b[0;34m==\u001b[0m \u001b[0;34m'exit'\u001b[0m\u001b[0;34m:\u001b[0m\u001b[0;34m\u001b[0m\u001b[0;34m\u001b[0m\u001b[0m\n\u001b[1;32m    154\u001b[0m             \u001b[0;32mbreak\u001b[0m\u001b[0;34m\u001b[0m\u001b[0;34m\u001b[0m\u001b[0m\n",
            "\u001b[0;32m/usr/local/lib/python3.10/dist-packages/ipykernel/kernelbase.py\u001b[0m in \u001b[0;36mraw_input\u001b[0;34m(self, prompt)\u001b[0m\n\u001b[1;32m    849\u001b[0m                 \u001b[0;34m\"raw_input was called, but this frontend does not support input requests.\"\u001b[0m\u001b[0;34m\u001b[0m\u001b[0;34m\u001b[0m\u001b[0m\n\u001b[1;32m    850\u001b[0m             )\n\u001b[0;32m--> 851\u001b[0;31m         return self._input_request(str(prompt),\n\u001b[0m\u001b[1;32m    852\u001b[0m             \u001b[0mself\u001b[0m\u001b[0;34m.\u001b[0m\u001b[0m_parent_ident\u001b[0m\u001b[0;34m,\u001b[0m\u001b[0;34m\u001b[0m\u001b[0;34m\u001b[0m\u001b[0m\n\u001b[1;32m    853\u001b[0m             \u001b[0mself\u001b[0m\u001b[0;34m.\u001b[0m\u001b[0m_parent_header\u001b[0m\u001b[0;34m,\u001b[0m\u001b[0;34m\u001b[0m\u001b[0;34m\u001b[0m\u001b[0m\n",
            "\u001b[0;32m/usr/local/lib/python3.10/dist-packages/ipykernel/kernelbase.py\u001b[0m in \u001b[0;36m_input_request\u001b[0;34m(self, prompt, ident, parent, password)\u001b[0m\n\u001b[1;32m    893\u001b[0m             \u001b[0;32mexcept\u001b[0m \u001b[0mKeyboardInterrupt\u001b[0m\u001b[0;34m:\u001b[0m\u001b[0;34m\u001b[0m\u001b[0;34m\u001b[0m\u001b[0m\n\u001b[1;32m    894\u001b[0m                 \u001b[0;31m# re-raise KeyboardInterrupt, to truncate traceback\u001b[0m\u001b[0;34m\u001b[0m\u001b[0;34m\u001b[0m\u001b[0m\n\u001b[0;32m--> 895\u001b[0;31m                 \u001b[0;32mraise\u001b[0m \u001b[0mKeyboardInterrupt\u001b[0m\u001b[0;34m(\u001b[0m\u001b[0;34m\"Interrupted by user\"\u001b[0m\u001b[0;34m)\u001b[0m \u001b[0;32mfrom\u001b[0m \u001b[0;32mNone\u001b[0m\u001b[0;34m\u001b[0m\u001b[0;34m\u001b[0m\u001b[0m\n\u001b[0m\u001b[1;32m    896\u001b[0m             \u001b[0;32mexcept\u001b[0m \u001b[0mException\u001b[0m \u001b[0;32mas\u001b[0m \u001b[0me\u001b[0m\u001b[0;34m:\u001b[0m\u001b[0;34m\u001b[0m\u001b[0;34m\u001b[0m\u001b[0m\n\u001b[1;32m    897\u001b[0m                 \u001b[0mself\u001b[0m\u001b[0;34m.\u001b[0m\u001b[0mlog\u001b[0m\u001b[0;34m.\u001b[0m\u001b[0mwarning\u001b[0m\u001b[0;34m(\u001b[0m\u001b[0;34m\"Invalid Message:\"\u001b[0m\u001b[0;34m,\u001b[0m \u001b[0mexc_info\u001b[0m\u001b[0;34m=\u001b[0m\u001b[0;32mTrue\u001b[0m\u001b[0;34m)\u001b[0m\u001b[0;34m\u001b[0m\u001b[0;34m\u001b[0m\u001b[0m\n",
            "\u001b[0;31mKeyboardInterrupt\u001b[0m: Interrupted by user"
          ]
        }
      ]
    },
    {
      "cell_type": "markdown",
      "source": [
        "### Конь"
      ],
      "metadata": {
        "id": "1il1xbksV-Lj"
      }
    },
    {
      "cell_type": "code",
      "source": [
        "class Knight:\n",
        "  def __init__(self, row, col, color):\n",
        "    self.row = row\n",
        "    self.col = col\n",
        "    self.color = color\n",
        "  def set_position(self, row, col):\n",
        "    # if self.can_move(row, col)\n",
        "    self.row = row\n",
        "    self.col = col\n",
        "\n",
        "  def char(self):\n",
        "    return 'N'\n",
        "\n",
        "  def get_color(self):\n",
        "    return self.color\n",
        "\n",
        "  def can_move(self, row, col):\n",
        "    if not (0 <= row < 8 and 0 <= col < 8):\n",
        "      return False\n",
        "    if abs(self.col - col) * abs(self.row - row) == 2 and self.row != row and self.col != col:\n",
        "      return True\n",
        "    return False\n",
        "   \n",
        "\n",
        "\n",
        "\n",
        "WHITE=1\n",
        "BLACK=2\n",
        "\n",
        "row0_W = 0\n",
        "col0_W = 1\n",
        "knight_W = Knight(row0_W, col0_W, WHITE)\n",
        "\n",
        "row0_B = 7\n",
        "col0_B = 6\n",
        "knight_B = Knight(row0_B, col0_B, BLACK)\n",
        "\n",
        "print('white' if knight_W.get_color() == WHITE else 'black')\n",
        "print('white' if knight_B.get_color() == WHITE else 'black')\n",
        "for row in range(7, -1, -1):\n",
        "    for col in range(8):\n",
        "        if (row0_W, col0_W) == (row, col):\n",
        "            print(knight_W.char(), end='')\n",
        "        elif (row0_B, col0_B) == (row, col):\n",
        "            print(knight_B.char(), end='')\n",
        "        elif knight_W.can_move(row, col) or knight_B.can_move(row, col):\n",
        "            print('x', end='')\n",
        "        else:\n",
        "            print('-', end='')\n",
        "    print()"
      ],
      "metadata": {
        "colab": {
          "base_uri": "https://localhost:8080/"
        },
        "id": "LoE9fRMvV_3Q",
        "outputId": "1821c1a3-3dad-4bf0-9cde-694c0d480767"
      },
      "execution_count": 9,
      "outputs": [
        {
          "output_type": "stream",
          "name": "stdout",
          "text": [
            "white\n",
            "black\n",
            "------N-\n",
            "----x---\n",
            "-----x-x\n",
            "--------\n",
            "--------\n",
            "x-x-----\n",
            "---x----\n",
            "-N------\n"
          ]
        }
      ]
    },
    {
      "cell_type": "markdown",
      "source": [
        "### Слон"
      ],
      "metadata": {
        "id": "8Mm635LMXUIn"
      }
    },
    {
      "cell_type": "code",
      "source": [
        "class Bishop:\n",
        "  def __init__(self, row, col, color):\n",
        "    self.row = row\n",
        "    self.col = col\n",
        "    self.color = color\n",
        "\n",
        "  def set_position(self, row, col):\n",
        "    self.row = row\n",
        "    self.col = col\n",
        "\n",
        "  def char(self):\n",
        "    return 'B'\n",
        "\n",
        "  def get_color(self):\n",
        "    return self.color\n",
        "\n",
        "  def can_move(self, row, col):\n",
        "    if not (0 <= row < 8 and 0 <= col < 8):\n",
        "      return False\n",
        "    if abs(row - self.row) == abs(col - self.col) :\n",
        "      return True\n",
        "    return False\n",
        "\n",
        "WHITE=1\n",
        "BLACK=2\n",
        "\n",
        "row0 = 0\n",
        "col0 = 2\n",
        "bishop = Bishop(row0, col0, WHITE)\n",
        "\n",
        "print('white' if bishop.get_color() == WHITE else 'black')\n",
        "for row in range(7, -1, -1):\n",
        "    for col in range(8):\n",
        "        if row == row0 and col == col0:\n",
        "            print(bishop.char(), end='')\n",
        "        elif bishop.can_move(row, col):\n",
        "            print('x', end='')\n",
        "        else:\n",
        "            print('-', end='')\n",
        "    print()"
      ],
      "metadata": {
        "colab": {
          "base_uri": "https://localhost:8080/"
        },
        "id": "4YHjeXB-XYO8",
        "outputId": "335cfc97-8cd4-447e-bd76-7ecd4ff5e614"
      },
      "execution_count": 12,
      "outputs": [
        {
          "output_type": "stream",
          "name": "stdout",
          "text": [
            "white\n",
            "--------\n",
            "--------\n",
            "-------x\n",
            "------x-\n",
            "-----x--\n",
            "x---x---\n",
            "-x-x----\n",
            "--B-----\n"
          ]
        }
      ]
    },
    {
      "cell_type": "markdown",
      "source": [
        "### Ферзь"
      ],
      "metadata": {
        "id": "Yj_IhWt6acyF"
      }
    },
    {
      "cell_type": "code",
      "source": [
        "class Queen:\n",
        "  def __init__(self, row, col, color):\n",
        "    self.row = row\n",
        "    self.col = col\n",
        "    self.color = color\n",
        "\n",
        "  def set_position(self, row, col):\n",
        "    self.row = row\n",
        "    self.col = col\n",
        "\n",
        "  def char(self):\n",
        "    return 'Q'\n",
        "\n",
        "  def get_color(self):\n",
        "    return self.color\n",
        "\n",
        "  def can_move(self, row, col):\n",
        "    if not (0 <= row < 8 and 0 <= col < 8):\n",
        "      return False\n",
        "      # abs(x1 - x2) == abs(y1 - y2) or x1 == x2 or y1 == y2\n",
        "    if abs(row - self.row) == abs(col - self.col) or self.row == row or self.col == col: \n",
        "      return True\n",
        "    return False\n",
        "\n",
        "\n",
        "    \n",
        "\n",
        "\n",
        "WHITE=1\n",
        "BLACK=2\n",
        "\n",
        "row0 = 0\n",
        "col0 = 3\n",
        "queen = Queen(row0, col0, WHITE)\n",
        "\n",
        "print('white' if queen.get_color() == WHITE else 'black')\n",
        "for row in range(7, -1, -1):\n",
        "    for col in range(8):\n",
        "        if row == row0 and col == col0:\n",
        "            print(queen.char(), end='')\n",
        "        elif queen.can_move(row, col):\n",
        "            print('x', end='')\n",
        "        else:\n",
        "            print('-', end='')\n",
        "    print()\n",
        "\n",
        "\n",
        "WHITE=1\n",
        "BLACK=2\n",
        "\n",
        "row0 = 4\n",
        "col0 = 5\n",
        "queen = Queen(row0, col0, BLACK)\n",
        "\n",
        "print('white' if queen.get_color() == WHITE else 'black')\n",
        "for row in range(7, -1, -1):\n",
        "    for col in range(8):\n",
        "        if row == row0 and col == col0:\n",
        "            print(queen.char(), end='')\n",
        "        elif queen.can_move(row, col):\n",
        "            print('x', end='')\n",
        "        else:\n",
        "            print('-', end='')\n",
        "    print()\n",
        "\n",
        "\n",
        "WHITE=1\n",
        "BLACK=2\n",
        "\n",
        "row0 = 7\n",
        "col0 = 3\n",
        "queen = Queen(row0, col0, BLACK)\n",
        "\n",
        "print('white' if queen.get_color() == WHITE else 'black')\n",
        "for row in range(8, -2, -1):\n",
        "    for col in range(-1, 9):\n",
        "        if row == row0 and col == col0:\n",
        "            print(queen.char(), end='')\n",
        "        elif queen.can_move(row, col):\n",
        "            print('x', end='')\n",
        "        else:\n",
        "            print('-', end='')\n",
        "    print()"
      ],
      "metadata": {
        "colab": {
          "base_uri": "https://localhost:8080/"
        },
        "id": "15mmMOFkaclO",
        "outputId": "07b5ce8b-ba90-424b-cd6d-feae00947ed8"
      },
      "execution_count": 19,
      "outputs": [
        {
          "output_type": "stream",
          "name": "stdout",
          "text": [
            "white\n",
            "---x----\n",
            "---x----\n",
            "---x----\n",
            "---x---x\n",
            "x--x--x-\n",
            "-x-x-x--\n",
            "--xxx---\n",
            "xxxQxxxx\n",
            "black\n",
            "--x--x--\n",
            "---x-x-x\n",
            "----xxx-\n",
            "xxxxxQxx\n",
            "----xxx-\n",
            "---x-x-x\n",
            "--x--x--\n",
            "-x---x--\n",
            "black\n",
            "----------\n",
            "-xxxQxxxx-\n",
            "---xxx----\n",
            "--x-x-x---\n",
            "-x--x--x--\n",
            "----x---x-\n",
            "----x-----\n",
            "----x-----\n",
            "----x-----\n",
            "----------\n"
          ]
        }
      ]
    },
    {
      "cell_type": "markdown",
      "source": [
        "### Поля под боем"
      ],
      "metadata": {
        "id": "Lq3vYzDPcaiy"
      }
    },
    {
      "cell_type": "code",
      "source": [
        "class Queen:\n",
        "  def __init__(self, row, col, color):\n",
        "    self.row = row\n",
        "    self.col = col\n",
        "    self.color = color\n",
        "\n",
        "  def set_position(self, row, col):\n",
        "    self.row = row\n",
        "    self.col = col\n",
        "\n",
        "  def char(self):\n",
        "    return 'Q'\n",
        "\n",
        "  def get_color(self):\n",
        "    return self.color\n",
        "\n",
        "  def can_move(self, row, col):\n",
        "    if not (0 <= row < 8 and 0 <= col < 8):\n",
        "      return False\n",
        "      # abs(x1 - x2) == abs(y1 - y2) or x1 == x2 or y1 == y2\n",
        "    if abs(row - self.row) == abs(col - self.col) or self.row == row or self.col == col: \n",
        "      return True\n",
        "    return False\n",
        "\n",
        "class Bishop:\n",
        "  def __init__(self, row, col, color):\n",
        "    self.row = row\n",
        "    self.col = col\n",
        "    self.color = color\n",
        "\n",
        "  def set_position(self, row, col):\n",
        "    self.row = row\n",
        "    self.col = col\n",
        "\n",
        "  def char(self):\n",
        "    return 'B'\n",
        "\n",
        "  def get_color(self):\n",
        "    return self.color\n",
        "\n",
        "  def can_move(self, row, col):\n",
        "    if not (0 <= row < 8 and 0 <= col < 8):\n",
        "      return False\n",
        "    if abs(row - self.row) == abs(col - self.col) :\n",
        "      return True\n",
        "    return False\n",
        "\n",
        "class Knight:\n",
        "  def __init__(self, row, col, color):\n",
        "    self.row = row\n",
        "    self.col = col\n",
        "    self.color = color\n",
        "  def set_position(self, row, col):\n",
        "    # if self.can_move(row, col)\n",
        "    self.row = row\n",
        "    self.col = col\n",
        "\n",
        "  def char(self):\n",
        "    return 'N'\n",
        "\n",
        "  def get_color(self):\n",
        "    return self.color\n",
        "\n",
        "  def can_move(self, row, col):\n",
        "    if not (0 <= row < 8 and 0 <= col < 8):\n",
        "      return False\n",
        "    if abs(self.col - col) * abs(self.row - row) == 2 and self.row != row and self.col != col:\n",
        "      return True\n",
        "    return False\n",
        "\n",
        "\n",
        "class Rook:\n",
        "  def __init__(self, row, col, color):\n",
        "    self.row = row\n",
        "    self.col = col\n",
        "    self.color = color\n",
        "\n",
        "  def set_position(self, row, col):\n",
        "    self.row = row\n",
        "    self.col = col\n",
        "\n",
        "  def char(self):\n",
        "    return 'R'\n",
        "\n",
        "  def get_color(self):\n",
        "    return self.color\n",
        "\n",
        "  def can_move(self, row, col):\n",
        "    # Невозможно сделать ход в клетку, которая не лежит в том же ряду\n",
        "    # или столбце клеток.\n",
        "    if self.row != row and self.col != col:\n",
        "      return False\n",
        "    return True\n",
        "\n",
        "def opponent(color):\n",
        "    if color == WHITE:\n",
        "        return BLACK\n",
        "    else:\n",
        "        return WHITE\n",
        " \n",
        "    \n",
        "def correct_coords(row, col):\n",
        "    return 0 <= row < 8 and 0 <= col < 8\n",
        "\n",
        "class Board:\n",
        "  def __init__(self):\n",
        "    self.color = WHITE\n",
        "    self.field = []\n",
        "    for row in range(8):\n",
        "        self.field.append([None] * 8)\n",
        "    # Пешка белого цвета в клетке E2.\n",
        "    #self.field[1][4] = Pawn(1, 4, WHITE)\n",
        "\n",
        "  def current_player_color(self):\n",
        "    return self.color\n",
        "\n",
        "  def cell(self, row, col):\n",
        "    \"\"\"Возвращает строку из двух символов. Если в клетке (row, col)\n",
        "    находится фигура, символы цвета и фигуры. Если клетка пуста,\n",
        "    то два пробела.\"\"\"\n",
        "    piece = self.field[row][col]\n",
        "    if piece is None:\n",
        "        return '  '\n",
        "    color = piece.get_color()\n",
        "    c = 'w' if color == WHITE else 'b'\n",
        "    return c + piece.char()\n",
        "  def move_piece(self, row, col, row1, col1):\n",
        "    \"\"\"Переместить фигуру из точки (row, col) в точку (row1, col1).\n",
        "    Если перемещение возможно, метод выполнит его и вернет True.\n",
        "    Если нет --- вернет False\"\"\"\n",
        "    if not correct_coords(row, col) or not correct_coords(row1, col1):\n",
        "        return False\n",
        "    if row == row1 and col == col1:\n",
        "        return False  # нельзя пойти в ту же клетку\n",
        "    piece = self.field[row][col]\n",
        "    if piece is None:\n",
        "        return False\n",
        "    if piece.get_color() != self.color:\n",
        "        return False\n",
        "    if not piece.can_move(row1, col1):\n",
        "        return False\n",
        "    self.field[row][col] = None  # Снять фигуру.\n",
        "    self.field[row1][col1] = piece  # Поставить на новое место.\n",
        "    piece.set_position(row1, col1)\n",
        "    self.color = opponent(self.color)\n",
        "    return True\n",
        "  def is_under_attack(self, row, col, color):\n",
        "    for i in range(8):\n",
        "      for j in range(8):\n",
        "        if self.field[i][j] is not None:\n",
        "          piece = self.field[i][j]\n",
        "          if piece.get_color() == color:\n",
        "            if piece.can_move(row, col):\n",
        "              return True\n",
        "\n",
        "board = Board()\n",
        "\n",
        "board.field = [([None] * 8) for i in range(8)]\n",
        "board.field[0][0] = Rook(0, 0, WHITE)\n",
        "board.field[1][2] = Bishop(1, 2, WHITE)\n",
        "coords = ((0, 0), (1, 2))\n",
        "\n",
        "print('White:')\n",
        "for row in range(7, -1, -1):\n",
        "    for col in range(8):\n",
        "        if (row, col) in coords:\n",
        "            print('W', end='')\n",
        "        elif board.is_under_attack(row, col, WHITE):\n",
        "            print('x', end='')\n",
        "        else:\n",
        "            print('-', end='')\n",
        "    print()             "
      ],
      "metadata": {
        "colab": {
          "base_uri": "https://localhost:8080/"
        },
        "id": "WEK-BCUPccyQ",
        "outputId": "6e1e76fb-5c76-487b-c368-16ef953cf3c3"
      },
      "execution_count": 20,
      "outputs": [
        {
          "output_type": "stream",
          "name": "stdout",
          "text": [
            "White:\n",
            "x-------\n",
            "x------x\n",
            "x-----x-\n",
            "x----x--\n",
            "x---x---\n",
            "xx-x----\n",
            "x-W-----\n",
            "Wxxxxxxx\n"
          ]
        }
      ]
    },
    {
      "cell_type": "markdown",
      "source": [
        "### 5.7. Проектирование и разработка классов. Часть 2"
      ],
      "metadata": {
        "id": "5yUuNEmAgihf"
      }
    },
    {
      "cell_type": "code",
      "source": [],
      "metadata": {
        "id": "DX-GQki-gka0"
      },
      "execution_count": null,
      "outputs": []
    }
  ]
}