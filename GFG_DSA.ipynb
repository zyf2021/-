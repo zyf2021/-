{
  "nbformat": 4,
  "nbformat_minor": 0,
  "metadata": {
    "colab": {
      "provenance": [],
      "authorship_tag": "ABX9TyMRepihP0GBgT3oLTOmYEJi",
      "include_colab_link": true
    },
    "kernelspec": {
      "name": "python3",
      "display_name": "Python 3"
    },
    "language_info": {
      "name": "python"
    }
  },
  "cells": [
    {
      "cell_type": "markdown",
      "metadata": {
        "id": "view-in-github",
        "colab_type": "text"
      },
      "source": [
        "<a href=\"https://colab.research.google.com/github/zyf2021/-/blob/main/GFG_DSA.ipynb\" target=\"_parent\"><img src=\"https://colab.research.google.com/assets/colab-badge.svg\" alt=\"Open In Colab\"/></a>"
      ]
    },
    {
      "cell_type": "markdown",
      "source": [
        "### Search an Element in an array"
      ],
      "metadata": {
        "id": "z29WjjHjkK-O"
      }
    },
    {
      "cell_type": "code",
      "execution_count": null,
      "metadata": {
        "id": "3G2T4AJJkHI-"
      },
      "outputs": [],
      "source": [
        "class Solution:\n",
        "    #Complete the below function\n",
        "    def search(self,arr, N, X):\n",
        "        for i in range(N):\n",
        "            if arr[i] == X:\n",
        "                return i\n",
        "        return -1"
      ]
    },
    {
      "cell_type": "markdown",
      "source": [
        "### Find minimum and maximum element in array"
      ],
      "metadata": {
        "id": "NVO0cFfNkVco"
      }
    },
    {
      "cell_type": "code",
      "source": [],
      "metadata": {
        "id": "J_J9NIcmkWAa"
      },
      "execution_count": null,
      "outputs": []
    },
    {
      "cell_type": "markdown",
      "source": [
        "### Missing number in array"
      ],
      "metadata": {
        "id": "qbVuB4TQkWVx"
      }
    },
    {
      "cell_type": "code",
      "source": [],
      "metadata": {
        "id": "2GJpvkMdkX8Y"
      },
      "execution_count": null,
      "outputs": []
    },
    {
      "cell_type": "markdown",
      "source": [
        "Wave Array"
      ],
      "metadata": {
        "id": "EwPXLeVxkYey"
      }
    },
    {
      "cell_type": "code",
      "source": [
        "class Solution:\n",
        "    def convertToWave(self, n : int, a : List[int]) -> None:\n",
        "        new_list = []\n",
        "        for i in range(n // 2):\n",
        "            a[i * 2], a[i * 2 + 1] = a[i * 2 + 1], a[i * 2]"
      ],
      "metadata": {
        "id": "AQizuGBJkY4B"
      },
      "execution_count": null,
      "outputs": []
    }
  ]
}