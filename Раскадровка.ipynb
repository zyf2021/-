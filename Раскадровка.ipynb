{
  "nbformat": 4,
  "nbformat_minor": 0,
  "metadata": {
    "colab": {
      "provenance": [],
      "authorship_tag": "ABX9TyOlejGIAnhHHDXerWn/9Lkl",
      "include_colab_link": true
    },
    "kernelspec": {
      "name": "python3",
      "display_name": "Python 3"
    },
    "language_info": {
      "name": "python"
    }
  },
  "cells": [
    {
      "cell_type": "markdown",
      "metadata": {
        "id": "view-in-github",
        "colab_type": "text"
      },
      "source": [
        "<a href=\"https://colab.research.google.com/github/zyf2021/-/blob/main/%D0%A0%D0%B0%D1%81%D0%BA%D0%B0%D0%B4%D1%80%D0%BE%D0%B2%D0%BA%D0%B0.ipynb\" target=\"_parent\"><img src=\"https://colab.research.google.com/assets/colab-badge.svg\" alt=\"Open In Colab\"/></a>"
      ]
    },
    {
      "cell_type": "code",
      "execution_count": null,
      "metadata": {
        "colab": {
          "base_uri": "https://localhost:8080/"
        },
        "id": "xzq1c_ZPc50o",
        "outputId": "b8a17d48-59cd-4d51-c541-a3d43094045d"
      },
      "outputs": [
        {
          "output_type": "stream",
          "name": "stdout",
          "text": [
            "Mounted at /content/drive\n"
          ]
        }
      ],
      "source": [
        "from google.colab import drive\n",
        "\n",
        "drive.mount('/content/drive')"
      ]
    },
    {
      "cell_type": "code",
      "source": [
        "import pandas as pd\n",
        "import numpy as np\n",
        "import cv2\n"
      ],
      "metadata": {
        "id": "Ut3jqWLcc7nv"
      },
      "execution_count": null,
      "outputs": []
    },
    {
      "cell_type": "code",
      "source": [
        "capture = cv2.VideoCapture('/content/drive/MyDrive/Виноградники/Виноградники/MVI_8523.MOV')"
      ],
      "metadata": {
        "id": "MK8SylJMdX4x"
      },
      "execution_count": null,
      "outputs": []
    },
    {
      "cell_type": "code",
      "source": [
        "frameNr = 0\n",
        " \n",
        "while (True):\n",
        " \n",
        "    success, frame = capture.read()\n",
        " \n",
        "    if success:\n",
        "        cv2.imwrite(f'/content/drive/MyDrive/Виноградники/Виноградники/Раскадровка/frame_{frameNr}.jpg', frame)\n",
        " \n",
        "    else:\n",
        "        break\n",
        " \n",
        "    frameNr = frameNr+1\n",
        " \n",
        "capture.release()"
      ],
      "metadata": {
        "id": "u2SgK3yadfFo"
      },
      "execution_count": null,
      "outputs": []
    },
    {
      "cell_type": "code",
      "source": [
        "print(\",fkf\", '\\n','fksdjf')"
      ],
      "metadata": {
        "colab": {
          "base_uri": "https://localhost:8080/"
        },
        "id": "Dvlg8ttMeR8t",
        "outputId": "8db4c0da-1d2e-422e-a637-5dfe7a619c6f"
      },
      "execution_count": null,
      "outputs": [
        {
          "output_type": "stream",
          "name": "stdout",
          "text": [
            ",fkf \n",
            " fksdjf\n"
          ]
        }
      ]
    },
    {
      "cell_type": "code",
      "source": [
        "contry = input()\n",
        "capital = input()\n",
        "print(\"Cтрана:\", contry, \"\\nСтолица:\", capital)"
      ],
      "metadata": {
        "colab": {
          "base_uri": "https://localhost:8080/"
        },
        "id": "vpTWucwLkcx8",
        "outputId": "20c91c5b-fde8-4380-d090-07ddc9a01ca0"
      },
      "execution_count": null,
      "outputs": [
        {
          "output_type": "stream",
          "name": "stdout",
          "text": [
            "F<fhf\n",
            "Lklfklf\n",
            "Cтрана: F<fhf \n",
            "Столица: Lklfklf\n"
          ]
        }
      ]
    }
  ]
}