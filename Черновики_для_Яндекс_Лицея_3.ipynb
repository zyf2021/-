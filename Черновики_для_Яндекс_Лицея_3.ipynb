{
  "nbformat": 4,
  "nbformat_minor": 0,
  "metadata": {
    "colab": {
      "provenance": [],
      "collapsed_sections": [
        "Afwla5-xMLMS",
        "4jFZNBAPQCJN"
      ],
      "authorship_tag": "ABX9TyMkP3fRjVtrw//d2pi8i5mS",
      "include_colab_link": true
    },
    "kernelspec": {
      "name": "python3",
      "display_name": "Python 3"
    },
    "language_info": {
      "name": "python"
    }
  },
  "cells": [
    {
      "cell_type": "markdown",
      "metadata": {
        "id": "view-in-github",
        "colab_type": "text"
      },
      "source": [
        "<a href=\"https://colab.research.google.com/github/zyf2021/-/blob/main/%D0%A7%D0%B5%D1%80%D0%BD%D0%BE%D0%B2%D0%B8%D0%BA%D0%B8_%D0%B4%D0%BB%D1%8F_%D0%AF%D0%BD%D0%B4%D0%B5%D0%BA%D1%81_%D0%9B%D0%B8%D1%86%D0%B5%D1%8F_3.ipynb\" target=\"_parent\"><img src=\"https://colab.research.google.com/assets/colab-badge.svg\" alt=\"Open In Colab\"/></a>"
      ]
    },
    {
      "cell_type": "markdown",
      "source": [
        "#Тема 4"
      ],
      "metadata": {
        "id": "Ln8dt7AiL_7F"
      }
    },
    {
      "cell_type": "markdown",
      "source": [
        "##4.1. Библиотеки Python. Встроенные модули"
      ],
      "metadata": {
        "id": "jstEde7HMFfi"
      }
    },
    {
      "cell_type": "markdown",
      "source": [
        "###Количество информации\n",
        "\n",
        "Напишите программу, которая определит количество различных символов в сообщении и найдет количество информации в нем, считая, что каждый символ кодируется одинаковым и минимально возможным количеством бит (не обязательно целым)."
      ],
      "metadata": {
        "id": "Afwla5-xMLMS"
      }
    },
    {
      "cell_type": "code",
      "execution_count": 1,
      "metadata": {
        "colab": {
          "base_uri": "https://localhost:8080/",
          "height": 397
        },
        "id": "sGfvXPExL8fG",
        "outputId": "5273e2d9-427c-4e14-f077-270402bc5330"
      },
      "outputs": [
        {
          "output_type": "error",
          "ename": "KeyboardInterrupt",
          "evalue": "ignored",
          "traceback": [
            "\u001b[0;31m---------------------------------------------------------------------------\u001b[0m",
            "\u001b[0;31mKeyboardInterrupt\u001b[0m                         Traceback (most recent call last)",
            "\u001b[0;32m<ipython-input-1-fc2bf98ce69d>\u001b[0m in \u001b[0;36m<cell line: 2>\u001b[0;34m()\u001b[0m\n\u001b[1;32m      1\u001b[0m \u001b[0;32mimport\u001b[0m \u001b[0mmath\u001b[0m\u001b[0;34m\u001b[0m\u001b[0;34m\u001b[0m\u001b[0m\n\u001b[0;32m----> 2\u001b[0;31m \u001b[0ms\u001b[0m \u001b[0;34m=\u001b[0m \u001b[0minput\u001b[0m\u001b[0;34m(\u001b[0m\u001b[0;34m)\u001b[0m\u001b[0;34m\u001b[0m\u001b[0;34m\u001b[0m\u001b[0m\n\u001b[0m\u001b[1;32m      3\u001b[0m \u001b[0mn\u001b[0m \u001b[0;34m=\u001b[0m \u001b[0mlen\u001b[0m\u001b[0;34m(\u001b[0m\u001b[0mset\u001b[0m\u001b[0;34m(\u001b[0m\u001b[0mlist\u001b[0m\u001b[0;34m(\u001b[0m\u001b[0ms\u001b[0m\u001b[0;34m)\u001b[0m\u001b[0;34m)\u001b[0m\u001b[0;34m)\u001b[0m\u001b[0;34m\u001b[0m\u001b[0;34m\u001b[0m\u001b[0m\n\u001b[1;32m      4\u001b[0m \u001b[0mi\u001b[0m \u001b[0;34m=\u001b[0m \u001b[0mmath\u001b[0m\u001b[0;34m.\u001b[0m\u001b[0mlog\u001b[0m\u001b[0;34m(\u001b[0m\u001b[0mn\u001b[0m\u001b[0;34m,\u001b[0m \u001b[0;36m2\u001b[0m\u001b[0;34m)\u001b[0m\u001b[0;34m\u001b[0m\u001b[0;34m\u001b[0m\u001b[0m\n\u001b[1;32m      5\u001b[0m \u001b[0mvolume\u001b[0m \u001b[0;34m=\u001b[0m \u001b[0mi\u001b[0m \u001b[0;34m*\u001b[0m \u001b[0mlen\u001b[0m\u001b[0;34m(\u001b[0m\u001b[0ms\u001b[0m\u001b[0;34m)\u001b[0m\u001b[0;34m\u001b[0m\u001b[0;34m\u001b[0m\u001b[0m\n",
            "\u001b[0;32m/usr/local/lib/python3.10/dist-packages/ipykernel/kernelbase.py\u001b[0m in \u001b[0;36mraw_input\u001b[0;34m(self, prompt)\u001b[0m\n\u001b[1;32m    849\u001b[0m                 \u001b[0;34m\"raw_input was called, but this frontend does not support input requests.\"\u001b[0m\u001b[0;34m\u001b[0m\u001b[0;34m\u001b[0m\u001b[0m\n\u001b[1;32m    850\u001b[0m             )\n\u001b[0;32m--> 851\u001b[0;31m         return self._input_request(str(prompt),\n\u001b[0m\u001b[1;32m    852\u001b[0m             \u001b[0mself\u001b[0m\u001b[0;34m.\u001b[0m\u001b[0m_parent_ident\u001b[0m\u001b[0;34m,\u001b[0m\u001b[0;34m\u001b[0m\u001b[0;34m\u001b[0m\u001b[0m\n\u001b[1;32m    853\u001b[0m             \u001b[0mself\u001b[0m\u001b[0;34m.\u001b[0m\u001b[0m_parent_header\u001b[0m\u001b[0;34m,\u001b[0m\u001b[0;34m\u001b[0m\u001b[0;34m\u001b[0m\u001b[0m\n",
            "\u001b[0;32m/usr/local/lib/python3.10/dist-packages/ipykernel/kernelbase.py\u001b[0m in \u001b[0;36m_input_request\u001b[0;34m(self, prompt, ident, parent, password)\u001b[0m\n\u001b[1;32m    893\u001b[0m             \u001b[0;32mexcept\u001b[0m \u001b[0mKeyboardInterrupt\u001b[0m\u001b[0;34m:\u001b[0m\u001b[0;34m\u001b[0m\u001b[0;34m\u001b[0m\u001b[0m\n\u001b[1;32m    894\u001b[0m                 \u001b[0;31m# re-raise KeyboardInterrupt, to truncate traceback\u001b[0m\u001b[0;34m\u001b[0m\u001b[0;34m\u001b[0m\u001b[0m\n\u001b[0;32m--> 895\u001b[0;31m                 \u001b[0;32mraise\u001b[0m \u001b[0mKeyboardInterrupt\u001b[0m\u001b[0;34m(\u001b[0m\u001b[0;34m\"Interrupted by user\"\u001b[0m\u001b[0;34m)\u001b[0m \u001b[0;32mfrom\u001b[0m \u001b[0;32mNone\u001b[0m\u001b[0;34m\u001b[0m\u001b[0;34m\u001b[0m\u001b[0m\n\u001b[0m\u001b[1;32m    896\u001b[0m             \u001b[0;32mexcept\u001b[0m \u001b[0mException\u001b[0m \u001b[0;32mas\u001b[0m \u001b[0me\u001b[0m\u001b[0;34m:\u001b[0m\u001b[0;34m\u001b[0m\u001b[0;34m\u001b[0m\u001b[0m\n\u001b[1;32m    897\u001b[0m                 \u001b[0mself\u001b[0m\u001b[0;34m.\u001b[0m\u001b[0mlog\u001b[0m\u001b[0;34m.\u001b[0m\u001b[0mwarning\u001b[0m\u001b[0;34m(\u001b[0m\u001b[0;34m\"Invalid Message:\"\u001b[0m\u001b[0;34m,\u001b[0m \u001b[0mexc_info\u001b[0m\u001b[0;34m=\u001b[0m\u001b[0;32mTrue\u001b[0m\u001b[0;34m)\u001b[0m\u001b[0;34m\u001b[0m\u001b[0;34m\u001b[0m\u001b[0m\n",
            "\u001b[0;31mKeyboardInterrupt\u001b[0m: Interrupted by user"
          ]
        }
      ],
      "source": [
        "import math\n",
        "s = input()\n",
        "n = len(set(list(s)))\n",
        "i = math.log(n, 2)\n",
        "volume = i * len(s)\n",
        "print(volume)"
      ]
    },
    {
      "cell_type": "markdown",
      "source": [
        "###Умножатор"
      ],
      "metadata": {
        "id": "4jFZNBAPQCJN"
      }
    },
    {
      "cell_type": "code",
      "source": [
        "import math\n",
        "\n",
        "def multiplier(*arg, key = lambda x: x):\n",
        "    #s = list(filter(arg, key))\n",
        "    #print(*filter(key, arg))\n",
        "    return math.prod(filter(key, arg))\n",
        "\n",
        "print(multiplier(2, 3, 4, 5, key=lambda x: x % 2))"
      ],
      "metadata": {
        "id": "9SDfCGr1QDe7"
      },
      "execution_count": null,
      "outputs": []
    },
    {
      "cell_type": "markdown",
      "source": [
        "###Мир фэнтези"
      ],
      "metadata": {
        "id": "7OfJkDz4VA1A"
      }
    },
    {
      "cell_type": "code",
      "source": [
        "from random import randrange, randint\n",
        "\n",
        "# возвращаем случайное целое из диапазона\n",
        "print(randrange(100))\n",
        "print(randrange(40, 100, 5))\n",
        "print(randint(10, 20))"
      ],
      "metadata": {
        "id": "YWvIhOuZ1t9E"
      },
      "execution_count": null,
      "outputs": []
    },
    {
      "cell_type": "code",
      "source": [
        "import random\n",
        "from random import randrange, randint, choice, choices, sample\n",
        "\n",
        "def generate_fandom(n, names):\n",
        "  names = sample(names, n)\n",
        "  sizes = choices(range(10, 20), k = n)\n",
        "  populations = choices(range(10000, 1000000, 10000), k = n)\n",
        "  distances = sample(range(100, 500), n)\n",
        "  cities = []\n",
        "  for i in range(n):\n",
        "    c = []\n",
        "    c.extend([names[i], sizes[i], populations[i], distances[i]])\n",
        "    cities.append(c) \n",
        "    \n",
        "  print(cities)\n",
        "  return cities\n",
        "\n",
        "\n",
        "names = ['Ankh-Morpork', 'Twin Peaks', 'Atlantis', 'Springfield', 'Zion']\n",
        "for item in generate_fandom(3, names):\n",
        "    print(*item)"
      ],
      "metadata": {
        "id": "x17qcrgIVGpq"
      },
      "execution_count": null,
      "outputs": []
    },
    {
      "cell_type": "code",
      "source": [
        "numbers = [-15, -10, -5, 0, 5, 10, 15]\n",
        "\n",
        "numbers[4:] = numbers[-5::-1]\n",
        "\n",
        "print(numbers)"
      ],
      "metadata": {
        "id": "kJbjHbIKdY9M"
      },
      "execution_count": null,
      "outputs": []
    },
    {
      "cell_type": "markdown",
      "source": [
        "###Ожидание\n",
        "\n",
        "Ждать и догонять всегда не очень приятно. Напишите функцию **days_left()**, которая определит, сколько осталось дней от сегодняшнего дня до переданной даты.\n",
        "\n",
        "Дата в функцию передается в виде строки из трех чисел, разделенных точками, – дня, месяца и года."
      ],
      "metadata": {
        "id": "HyQTlglzlbC9"
      }
    },
    {
      "cell_type": "code",
      "source": [
        "import datetime as dt\n",
        "\n",
        "def days_left(s):\n",
        "  dd, mm, yyyy = s.split('.')\n",
        "  dd, mm, yyyy = int(dd), int(mm), int(yyyy)\n",
        "  s_date = dt.date(yyyy, mm, dd)\n",
        "  today_date = dt.date.today()\n",
        "  delta = str(today_date - s_date).split()[0]\n",
        "  return delta\n",
        "\n",
        "print(days_left('31.12.2022'))\n",
        "print(days_left('28.01.2022'))"
      ],
      "metadata": {
        "id": "umqRNeUElhRk"
      },
      "execution_count": null,
      "outputs": []
    },
    {
      "cell_type": "markdown",
      "source": [
        "###Имена для зеленых человечков\n",
        "\n",
        "\n",
        "Правила такие:\n",
        "\n",
        "\n",
        "– имя должно состоять из двух частей, то есть содержать один пробел; первая часть не может быть короче 2 символов, вторая может состоять из одного символа;\n",
        "\n",
        "\n",
        "– в первой части обязательно должна быть цифра, но она не должна стоять на первом месте; остальные символы могут быть буквами латинского алфавита в любом регистре или цифрами;\n",
        "\n",
        "\n",
        "– вторая часть должна начинаться с буквы из первой половины латинского алфавита в верхнем регистре; остальные символы могут быть любыми буквами латинского алфавита в нижнем регистре."
      ],
      "metadata": {
        "id": "cCPNf8zqq_Bm"
      }
    },
    {
      "cell_type": "code",
      "source": [
        "import string\n",
        "from random import randrange, randint, choice, choices, sample\n",
        "\n",
        "\n",
        "def name(lenght_name):\n",
        "  list_digit = list(string.digits)\n",
        "  list_letters = list(string.ascii_letters)\n",
        "  list_upper_2 = list(string.ascii_uppercase)[0:len(list(string.ascii_uppercase)) // 2]\n",
        "  list_lower = list(string.ascii_lowercase)\n",
        "\n",
        "\n",
        "  first_part = []\n",
        "  len_first = randint(2, lenght_name - 2)\n",
        "  print(len_first)\n",
        "  last_part = []\n",
        "  len_last = lenght_name - len_first - 1\n",
        "  print(len_last)\n",
        "  first_part = choices(list_letters, k=1) + choices(list_letters, k = len_first - 2)\n",
        "  first_part.insert(randint(1, lenght_name - 1), choices(list_digit, k=1)[0])\n",
        "  last_part = choices(list_upper_2, k = 1) + choices(list_lower, k = len_last - 1)\n",
        "\n",
        "  s_name = first_part + [' '] + last_part\n",
        "\n",
        "  s_name = ''.join(el for el in s_name)\n",
        "\n",
        "  return s_name\n",
        "  \n",
        "\n",
        "print(name(4))"
      ],
      "metadata": {
        "id": "d-Fh8Xptq-3M"
      },
      "execution_count": null,
      "outputs": []
    },
    {
      "cell_type": "code",
      "source": [
        "import string\n",
        "from random import randrange, randint, choice, choices, sample\n",
        "\n",
        "\n",
        "def name(lenght_name):\n",
        "    list_digit = list(string.digits)\n",
        "    list_letters = list(string.ascii_letters)\n",
        "    list_upper_2 = list(string.ascii_uppercase)[\n",
        "        0:len(list(string.ascii_uppercase)) // 2\n",
        "    ]\n",
        "    list_lower = list(string.ascii_lowercase)\n",
        "\n",
        "    first_part = []\n",
        "    len_first = randint(2, lenght_name - 2)\n",
        "    print(len_first)\n",
        "    last_part = []\n",
        "    len_last = lenght_name - len_first - 1\n",
        "    print(len_last)\n",
        "    first_part = choices(list_letters, k=1) + choices(list_letters, k=len_first - 2)\n",
        "    first_part.insert(randint(1, lenght_name - 1), choices(list_digit, k=1)[0])\n",
        "    last_part = choices(list_upper_2, k=1) + choices(list_lower, k=len_last - 1)\n",
        "\n",
        "    s_name = first_part + [\" \"] + last_part\n",
        "\n",
        "    s_name = \"\".join(el for el in s_name)\n",
        "\n",
        "    return s_name\n",
        "\n",
        "print(name(4))"
      ],
      "metadata": {
        "id": "kcdBytTYHsuU"
      },
      "execution_count": null,
      "outputs": []
    },
    {
      "cell_type": "markdown",
      "source": [
        "###Астероид"
      ],
      "metadata": {
        "id": "0OFNKhI1HaLn"
      }
    },
    {
      "cell_type": "code",
      "source": [
        "def asteroid_angle():\n",
        "   return"
      ],
      "metadata": {
        "id": "F4jKWUckHcPl"
      },
      "execution_count": null,
      "outputs": []
    },
    {
      "cell_type": "markdown",
      "source": [
        "###Сырный день\n",
        "\n",
        "Три раза в месяц на Луну из Солнечного города улетает ракета. Это всегда происходит строго по расписанию кроме тех дней, в которые вылет приходится на четверг. Четверг — сырный день, а Луна очень похожа на сыр с аппетитными дырками. Вылет приходится переносить на ближайшую субботу. Ну и прямо сегодня точно не полетим.\n",
        "\n"
      ],
      "metadata": {
        "id": "3OdFpSk8H3wi"
      }
    },
    {
      "cell_type": "code",
      "source": [
        "import datetime as dt\n",
        "import calendar\n",
        "\n",
        "def days_to_the_next_flight(first, second, third):\n",
        "    today_date = dt.date.today()\n",
        "    today_dd = 9#today_date.day\n",
        "    today_mm = 1#today_date.month\n",
        "    today_yyyy = 2940#today_date.year\n",
        "    days_start = sorted([first, second, third])\n",
        "    print(days_start)\n",
        "    min_delta = 40\n",
        "    for dd in days_start:\n",
        "        if today_dd < dd:\n",
        "            num_days = calendar.monthrange(today_yyyy, today_mm)[1]\n",
        "        #print(num_days, dd)\n",
        "            if dd <= num_days:\n",
        "                #print(num_days)\n",
        "                cur_date = dt.date(today_yyyy, today_mm, dd)\n",
        "                if cur_date.strftime(\"%A\") == \"Thursday\":\n",
        "                    delta = dd + 2 - today_dd\n",
        "                    #print(delta)\n",
        "                    if delta < min_delta:\n",
        "                        min_delta = delta\n",
        "                else:\n",
        "                    delta = dd - today_dd\n",
        "                    #print(delta)\n",
        "                    if delta < min_delta:\n",
        "                        min_delta = delta\n",
        "        else:\n",
        "            print('else')\n",
        "            if today_mm == 12:\n",
        "              today_mm = 1\n",
        "            else:\n",
        "              today_mm += 1\n",
        "            num_days = calendar.monthrange(today_yyyy, today_mm)[1]\n",
        "            print(num_days, dd)\n",
        "            if dd <= num_days:\n",
        "                #print(num_days)\n",
        "                cur_date = dt.date(today_yyyy, today_mm - 1, dd)\n",
        "                print(cur_date, dt.date(today_yyyy, today_mm, today_dd))\n",
        "                if cur_date.strftime(\"%A\") == \"Thursday\":\n",
        "                    delta = today_dd - dd + 2\n",
        "                    print(delta)\n",
        "                    if delta < min_delta:\n",
        "                        min_delta = delta\n",
        "                else:\n",
        "                    delta = cur_date - dt.date(today_yyyy, today_mm, today_dd)\n",
        "                    print(int(str(delta).split()[0]))\n",
        "                    if int(str(delta).split()[0]) < min_delta and int(str(delta).split()[0]) > 0:\n",
        "                        min_delta = int(str(delta).split()[0])\n",
        "    if min_delta == 40:\n",
        "        min_delta = today_mm\n",
        "\n",
        "    return min_delta\n",
        "\n",
        "\n",
        "##print(days_to_the_next_flight(9, 16, 23))\n",
        "#print(days_to_the_next_flight(31, 1, 29))\n",
        "#print(days_to_the_next_flight(5, 13, 20))\n",
        "print(days_to_the_next_flight(28, 25, 6))"
      ],
      "metadata": {
        "id": "S1FbbZkFH6Bh"
      },
      "execution_count": null,
      "outputs": []
    },
    {
      "cell_type": "markdown",
      "source": [
        "###Будильник"
      ],
      "metadata": {
        "id": "ck_RKV0vNwFe"
      }
    },
    {
      "cell_type": "code",
      "source": [
        "##weekday() — день недели (нумерация с 0).\n",
        "\n",
        "import datetime as dt\n",
        "\n",
        "def alarm(str_date,  delta = 10):\n",
        "  alarms = tuple()\n",
        "  \n",
        "  dd, mm, yyyy  = str_date.split('-')\n",
        "  yyyy, mm, dd = int(dd), int(mm), int(yyyy)\n",
        "  curr_date = dt.date(yyyy, mm, dd)\n",
        "\n",
        "  start_date = dt.date(2021, 1, 4)\n",
        "  start_week = 1\n",
        "\n",
        "  curr_week = start_week + (curr_date - start_date).days // 7\n",
        "  \n",
        "  date_format_str = '%H:%M'\n",
        "\n",
        "\n",
        "  if curr_week % 2 == 1:\n",
        "    if curr_date.weekday() < 5:\n",
        "      if curr_date.weekday() == 3:\n",
        "        my_time =dt.datetime.strptime('7:45', date_format_str) + dt.timedelta(minutes=delta)\n",
        "        alarms += ('7:45', my_time.strftime(\"%H:%M\"))\n",
        "      else: \n",
        "        my_time = dt.datetime.strptime('8:30', date_format_str) + dt.timedelta(minutes=delta)\n",
        "        alarms += ('8:30', my_time.strftime(\"%H:%M\"))\n",
        "    else: \n",
        "      #my_time = dt.datetime.strptime('10:00', date_format_str) + dt.timedelta(minutes=delta)\n",
        "      alarms += ('10:00',)\n",
        "  else: \n",
        "    if curr_date.weekday() in [0,1,4]:\n",
        "      my_time = dt.datetime.strptime('9:00', date_format_str) + dt.timedelta(minutes=delta)\n",
        "      alarms += ('9:00', my_time.strftime(\"%H:%M\"))\n",
        "    elif curr_date.weekday() in [2, 3]:\n",
        "      my_time = dt.datetime.strptime('9:30', date_format_str) + dt.timedelta(minutes=delta)\n",
        "      alarms += ('9:30', my_time.strftime(\"%H:%M\"))\n",
        "    else: \n",
        "      #my_time = dt.datetime.strptime('11:00', date_format_str) + dt.timedelta(minutes=delta)\n",
        "      alarms += ('11:00',)\n",
        "  return alarms\n",
        "\n",
        "print(alarm(\"2021-1-4\", 15))\n",
        "print(alarm(\"2021-1-10\"))\n",
        "print(alarm(\"2021-1-11\", 25))"
      ],
      "metadata": {
        "id": "y08ANH-fNxxp"
      },
      "execution_count": null,
      "outputs": []
    },
    {
      "cell_type": "markdown",
      "source": [
        "##4.2. Библиотеки Python: графическая библиотека PIL (обработка изображений)\n",
        "\n"
      ],
      "metadata": {
        "id": "A1XtecExqSyS"
      }
    },
    {
      "cell_type": "code",
      "source": [
        "!pip install pillow"
      ],
      "metadata": {
        "id": "9rdT9ak8qyvA"
      },
      "execution_count": null,
      "outputs": []
    },
    {
      "cell_type": "code",
      "source": [
        "from PIL import Image\n",
        " \n",
        "im = Image.open(\"/content/image.png\")\n",
        "rgb_im = im.convert('RGB')\n",
        "pixels = rgb_im.load() # список с пикселями\n",
        "x, y = rgb_im.size # ширина (x) и высота (y) изображения\n",
        " \n",
        "\n",
        "\n",
        "for i in range(x):  \n",
        "    for j in range(y):\n",
        "        r, g, b = pixels[i, j]\n",
        "        bw = (r + g + b) // 3\n",
        "        pixels[i, j] = 255 - bw, 255 - bw, 255 - bw\n",
        "        print(pixels[i, j])\n",
        "         \n",
        "rgb_im.save(\"riana2.png\")"
      ],
      "metadata": {
        "id": "fMKUsmtuq7m-"
      },
      "execution_count": null,
      "outputs": []
    },
    {
      "cell_type": "markdown",
      "source": [
        "###Черно-белый негатив"
      ],
      "metadata": {
        "id": "gc6ZmBZ1qUTD"
      }
    },
    {
      "cell_type": "code",
      "source": [
        "def wb_negative(name):\n",
        "  im = Image.open(name)\n",
        "  rgb_im = im.convert('RGB')\n",
        "  pixels = rgb_im.load() # список с пикселями\n",
        "  x, y = rgb_im.size # ширина (x) и высота (y) изображения\n",
        "  for i in range(x):  \n",
        "      for j in range(y):\n",
        "          r, g, b = pixels[i, j]\n",
        "          bw = (r + g + b) // 3\n",
        "          pixels[i, j] = 255 - bw, 255 - bw, 255 - bw \n",
        "  rgb_im.save(\"out.png\")\n"
      ],
      "metadata": {
        "id": "sBmyF9HIqWXf"
      },
      "execution_count": null,
      "outputs": []
    },
    {
      "cell_type": "markdown",
      "source": [
        "###Отражения"
      ],
      "metadata": {
        "id": "RD7LSHZWtnTD"
      }
    },
    {
      "cell_type": "code",
      "source": [
        "from PIL import Image\n",
        "\n",
        "def reflect(name, kind=1):\n",
        "  image = Image.open(name)\n",
        "  if kind == 1:\n",
        "    out = image.transpose(Image.FLIP_TOP_BOTTOM)\n",
        "  elif kind == 2:\n",
        "    out = image.transpose(Image.FLIP_LEFT_RIGHT)\n",
        "  elif kind == 3: \n",
        "    out = image.transpose(Image.ROTATE_180)\n",
        "  out.save(\"result.png\")\n",
        "\n",
        "\n",
        "\n",
        "reflect(\"/content/image.png\", kind = 3)"
      ],
      "metadata": {
        "id": "7JUfsWPjtqYP"
      },
      "execution_count": null,
      "outputs": []
    },
    {
      "cell_type": "markdown",
      "source": [
        "###Меньше разнообразия"
      ],
      "metadata": {
        "id": "T7CinucaHXkb"
      }
    },
    {
      "cell_type": "code",
      "source": [
        "from PIL import Image\n",
        "\n",
        "def less_variety(input_name, output_name):\n",
        "  image = Image.open(input_name)\n",
        "  pixels = image.load()\n",
        "  x, y = image.size\n",
        "  un_colors = set()\n",
        "  for i in range(x):\n",
        "    for j in range(y):\n",
        "      r,g,b = pixels[i, j]\n",
        "      un_colors.add((r,g,b))\n",
        "\n",
        "  num_colors = len(un_colors)\n",
        "  while num_colors > 256:\n",
        "    num_colors //= 2\n",
        "\n",
        "  image = image.resize((x//2, y//2)).quantize(num_colors)\n",
        "\n",
        "  image.save(output_name)\n",
        "\n",
        "less_variety(\"/content/image.png\", \"/content/out.png\")"
      ],
      "metadata": {
        "id": "EkS1686LHZ76"
      },
      "execution_count": null,
      "outputs": []
    },
    {
      "cell_type": "markdown",
      "source": [
        "###Переход цвета"
      ],
      "metadata": {
        "id": "8v2l7EIgKMNT"
      }
    },
    {
      "cell_type": "code",
      "source": [
        "from PIL import Image\n",
        "\n",
        "def color_gradient(name, params, kind = \"linear\", color = \"r\"):\n",
        "  if kind == \"linear\":\n",
        "    image = Image.linear_gradient(\"L\").convert('RGB')\n",
        "  if kind == \"radial\":\n",
        "    image = Image.radial_gradient(\"L\").convert('RGB')\n",
        "  image = image.crop(params)\n",
        "  pixels = image.load()\n",
        "  x, y = image.size\n",
        "  for i in range(x):\n",
        "    for j in range(y):\n",
        "      r,g,b = pixels[i, j]\n",
        "\n",
        "      if color == \"b\":\n",
        "        r,g,b = 0,0,b\n",
        "      if color == \"r\":\n",
        "        r,g,b = r,0,0\n",
        "      if color == \"g\":\n",
        "        r,g,b = 0,g,0\n",
        "      pixels[i, j] = (r,g,b)\n",
        "  image.save(name)\n",
        "\n",
        "#color_gradient(\"/content/res.png\", (100, 100, 256, 256))\n",
        "color_gradient(\"/content/res.png\", (0, 56, 256, 256), kind=\"radial\", color=\"r\")"
      ],
      "metadata": {
        "id": "BEc_i0t9KNDk"
      },
      "execution_count": null,
      "outputs": []
    },
    {
      "cell_type": "markdown",
      "source": [
        "###Лес в снегу"
      ],
      "metadata": {
        "id": "Zl0EDDktTHPy"
      }
    },
    {
      "cell_type": "code",
      "source": [
        "from PIL import Image\n",
        "\n",
        "\n",
        "def snow_forest(coord, percent):\n",
        "  w, h = coord[0], coord[1]\n",
        "  forest = Image.open('/content/forest.png')\n",
        "  pixels_forest = forest.load()\n",
        "  xf, yf = forest.size\n",
        "  snow = Image.open('/content/snow.png')\n",
        "  snow = snow.resize((100,100))\n",
        "  pixels_snow = snow.load()\n",
        "  print(type(pixels_snow))\n",
        "  #output = forest\n",
        "\n",
        "  \n",
        "  for i in range(100):\n",
        "    for j in range(100):\n",
        "      rf,gf,bf = pixels_forest[w+i, h+j]\n",
        "      rs, gs, bs = pixels_snow[i, j]\n",
        "      rf = int(rf * (1-percent/100) + rs * percent/100)\n",
        "      gf = int(gf * (1-percent/100) + gs * percent/100)\n",
        "      bf = int(bf * (1-percent/100) + bs * percent/100)\n",
        "      pixels_forest[w+i, h+j] = rf,gf,bf\n",
        "  forest.save('output.png')\n",
        "\n",
        "snow_forest((450, 300), 30)"
      ],
      "metadata": {
        "colab": {
          "base_uri": "https://localhost:8080/"
        },
        "id": "xwvs-IYyTJVn",
        "outputId": "64aef73e-d129-4c11-c20b-5d3adcf467ca"
      },
      "execution_count": 136,
      "outputs": [
        {
          "output_type": "stream",
          "name": "stdout",
          "text": [
            "<class 'PixelAccess'>\n"
          ]
        }
      ]
    },
    {
      "cell_type": "markdown",
      "source": [
        "###Попугайские цвета"
      ],
      "metadata": {
        "id": "i8OS3dZGXvup"
      }
    },
    {
      "cell_type": "code",
      "source": [
        "from PIL import Image\n",
        "\n",
        "\n",
        "\n",
        "def direction(image, color):\n",
        "  ## найти массив пикселей проверять пиксел на цвет, если тот, то суммированать и считать количество, \n",
        "  ## найти среднее, вычесть среднее от координат центра, вернуть результат\n",
        "  pixels = image.load()\n",
        "  x, y = image.size\n",
        "\n",
        "  rc, gc, bc = color[0], color[1], color[2]\n",
        "  k = 0\n",
        "  sumi = 0\n",
        "  sumj = 0\n",
        "  for i in range(x):\n",
        "    for j in range(y):\n",
        "      r,g,b = pixels[i, j]\n",
        "      if r == rc and g == gc and b == bc:\n",
        "        sumi += i\n",
        "        sumj += j\n",
        "        k += 1\n",
        "\n",
        "  sumi = sumi // k\n",
        "  sumj = sumj // k\n",
        "\n",
        "  dirx = abs(sumi - x//2)\n",
        "  diry = abs(sumj - y//2)\n",
        "\n",
        "  return (dirx, diry)\n",
        "\n",
        "\n",
        "\n",
        "image = Image.open(input())  \n",
        "#color = tuple(map(int, input().split()))  \n",
        "print(*direction(image, (255, 0, 0)))"
      ],
      "metadata": {
        "colab": {
          "base_uri": "https://localhost:8080/",
          "height": 373
        },
        "id": "PWGQhd97XwCb",
        "outputId": "299fe729-7d5a-4082-ee5a-865ba848997f"
      },
      "execution_count": 168,
      "outputs": [
        {
          "name": "stdout",
          "output_type": "stream",
          "text": [
            "20\n"
          ]
        },
        {
          "output_type": "error",
          "ename": "FileNotFoundError",
          "evalue": "ignored",
          "traceback": [
            "\u001b[0;31m---------------------------------------------------------------------------\u001b[0m",
            "\u001b[0;31mFileNotFoundError\u001b[0m                         Traceback (most recent call last)",
            "\u001b[0;32m<ipython-input-168-c84a754be2d4>\u001b[0m in \u001b[0;36m<cell line: 33>\u001b[0;34m()\u001b[0m\n\u001b[1;32m     31\u001b[0m \u001b[0;34m\u001b[0m\u001b[0m\n\u001b[1;32m     32\u001b[0m \u001b[0;34m\u001b[0m\u001b[0m\n\u001b[0;32m---> 33\u001b[0;31m \u001b[0mimage\u001b[0m \u001b[0;34m=\u001b[0m \u001b[0mImage\u001b[0m\u001b[0;34m.\u001b[0m\u001b[0mopen\u001b[0m\u001b[0;34m(\u001b[0m\u001b[0minput\u001b[0m\u001b[0;34m(\u001b[0m\u001b[0;34m)\u001b[0m\u001b[0;34m)\u001b[0m\u001b[0;34m\u001b[0m\u001b[0;34m\u001b[0m\u001b[0m\n\u001b[0m\u001b[1;32m     34\u001b[0m \u001b[0;31m#color = tuple(map(int, input().split()))\u001b[0m\u001b[0;34m\u001b[0m\u001b[0;34m\u001b[0m\u001b[0m\n\u001b[1;32m     35\u001b[0m \u001b[0mprint\u001b[0m\u001b[0;34m(\u001b[0m\u001b[0;34m*\u001b[0m\u001b[0mdirection\u001b[0m\u001b[0;34m(\u001b[0m\u001b[0mimage\u001b[0m\u001b[0;34m,\u001b[0m \u001b[0;34m(\u001b[0m\u001b[0;36m255\u001b[0m\u001b[0;34m,\u001b[0m \u001b[0;36m0\u001b[0m\u001b[0;34m,\u001b[0m \u001b[0;36m0\u001b[0m\u001b[0;34m)\u001b[0m\u001b[0;34m)\u001b[0m\u001b[0;34m)\u001b[0m\u001b[0;34m\u001b[0m\u001b[0;34m\u001b[0m\u001b[0m\n",
            "\u001b[0;32m/usr/local/lib/python3.10/dist-packages/PIL/Image.py\u001b[0m in \u001b[0;36mopen\u001b[0;34m(fp, mode, formats)\u001b[0m\n\u001b[1;32m   2973\u001b[0m \u001b[0;34m\u001b[0m\u001b[0m\n\u001b[1;32m   2974\u001b[0m     \u001b[0;32mif\u001b[0m \u001b[0mfilename\u001b[0m\u001b[0;34m:\u001b[0m\u001b[0;34m\u001b[0m\u001b[0;34m\u001b[0m\u001b[0m\n\u001b[0;32m-> 2975\u001b[0;31m         \u001b[0mfp\u001b[0m \u001b[0;34m=\u001b[0m \u001b[0mbuiltins\u001b[0m\u001b[0;34m.\u001b[0m\u001b[0mopen\u001b[0m\u001b[0;34m(\u001b[0m\u001b[0mfilename\u001b[0m\u001b[0;34m,\u001b[0m \u001b[0;34m\"rb\"\u001b[0m\u001b[0;34m)\u001b[0m\u001b[0;34m\u001b[0m\u001b[0;34m\u001b[0m\u001b[0m\n\u001b[0m\u001b[1;32m   2976\u001b[0m         \u001b[0mexclusive_fp\u001b[0m \u001b[0;34m=\u001b[0m \u001b[0;32mTrue\u001b[0m\u001b[0;34m\u001b[0m\u001b[0;34m\u001b[0m\u001b[0m\n\u001b[1;32m   2977\u001b[0m \u001b[0;34m\u001b[0m\u001b[0m\n",
            "\u001b[0;31mFileNotFoundError\u001b[0m: [Errno 2] No such file or directory: '20'"
          ]
        }
      ]
    },
    {
      "cell_type": "markdown",
      "source": [
        "###Ландышеуборщик"
      ],
      "metadata": {
        "id": "L5Y9lRgeg58g"
      }
    },
    {
      "cell_type": "code",
      "source": [
        "from PIL import Image\n",
        "\n",
        "\n",
        "\n",
        "def search_for_lilies(image, color):\n",
        "  image = Image.open(image)\n",
        "  \n",
        "  pixels = image.load()\n",
        "  x, y = image.size\n",
        "\n",
        "  rc, gc, bc = color[0], color[1], color[2]\n",
        "  list_k = []\n",
        "\n",
        "  for j in range(y):\n",
        "    list_k.append([j, 0])\n",
        "    for i in range(x):\n",
        "      r,g,b,e = pixels[j, i]\n",
        "      if r == rc and g == gc and b == bc:\n",
        "        list_k[j][1] += 1\n",
        "  print(list_k)\n",
        "  max_k = -1\n",
        "  max_el = []\n",
        "  for i in range(len(list_k)):\n",
        "    if list_k[i][1] > max_k:\n",
        "      max_k = list_k[i][1]\n",
        "      max_el = list_k[i]\n",
        "\n",
        "  print(x, y, max_el, max_k)\n",
        "  #if max_el[0] != 0:\n",
        "  shift = (max_el[0] * 1001) // y - 500\n",
        "  #else:\n",
        "  #  shift = ((max_el[0] + 100) * 1001) // y - 500\n",
        "\n",
        "  return shift\n",
        "\n",
        "\n",
        "\n",
        "#image = Image.open(input())  \n",
        "#color = tuple(map(int, input().split()))  \n",
        "print(search_for_lilies('/content/test1.png', (255, 0, 0)))\n",
        "print(search_for_lilies('/content/test1.png', (175, 238, 238)))"
      ],
      "metadata": {
        "colab": {
          "base_uri": "https://localhost:8080/"
        },
        "id": "IKEw0I-Hg8ez",
        "outputId": "82ebf0a2-fc88-4055-ed2a-3c5b4a3190ed"
      },
      "execution_count": 189,
      "outputs": [
        {
          "output_type": "stream",
          "name": "stdout",
          "text": [
            "[[0, 0], [1, 0], [2, 0], [3, 0], [4, 0], [5, 0], [6, 0], [7, 0], [8, 0], [9, 0], [10, 0], [11, 0], [12, 0], [13, 0], [14, 0], [15, 0], [16, 0], [17, 0], [18, 0], [19, 0], [20, 0], [21, 0], [22, 0], [23, 0], [24, 0], [25, 0], [26, 0], [27, 0], [28, 0], [29, 0], [30, 0], [31, 0], [32, 0], [33, 0], [34, 0], [35, 0], [36, 0], [37, 0], [38, 0], [39, 0], [40, 0], [41, 0], [42, 0], [43, 0], [44, 0], [45, 0], [46, 0], [47, 0], [48, 0], [49, 0], [50, 0], [51, 0], [52, 0], [53, 0], [54, 0], [55, 0], [56, 0], [57, 0], [58, 0], [59, 0], [60, 0], [61, 0], [62, 0], [63, 0], [64, 0], [65, 0], [66, 0], [67, 0], [68, 0], [69, 0], [70, 0], [71, 0], [72, 0], [73, 0], [74, 0], [75, 0], [76, 0], [77, 0], [78, 0], [79, 0], [80, 0], [81, 0], [82, 0], [83, 0], [84, 0], [85, 0], [86, 0], [87, 0], [88, 0], [89, 0], [90, 0], [91, 0], [92, 0], [93, 0], [94, 0], [95, 0], [96, 0], [97, 0], [98, 0], [99, 0], [100, 100], [101, 100], [102, 100], [103, 100], [104, 100], [105, 100], [106, 100], [107, 100], [108, 100], [109, 100], [110, 100], [111, 100], [112, 100], [113, 100], [114, 100], [115, 100], [116, 100], [117, 100], [118, 100], [119, 100], [120, 100], [121, 100], [122, 100], [123, 100], [124, 100], [125, 100], [126, 100], [127, 100], [128, 100], [129, 100], [130, 100], [131, 100], [132, 100], [133, 100], [134, 100], [135, 100], [136, 100], [137, 100], [138, 100], [139, 100], [140, 100], [141, 100], [142, 100], [143, 100], [144, 100], [145, 100], [146, 100], [147, 100], [148, 100], [149, 100], [150, 100], [151, 100], [152, 100], [153, 100], [154, 100], [155, 100], [156, 100], [157, 100], [158, 100], [159, 100], [160, 100], [161, 100], [162, 100], [163, 100], [164, 100], [165, 100], [166, 100], [167, 100], [168, 100], [169, 100], [170, 100], [171, 100], [172, 100], [173, 100], [174, 100], [175, 100], [176, 100], [177, 100], [178, 100], [179, 100], [180, 100], [181, 100], [182, 100], [183, 100], [184, 100], [185, 100], [186, 100], [187, 100], [188, 100], [189, 100], [190, 100], [191, 100], [192, 100], [193, 100], [194, 100], [195, 100], [196, 100], [197, 100], [198, 100], [199, 100], [200, 0], [201, 0], [202, 0], [203, 0], [204, 0], [205, 0], [206, 0], [207, 0], [208, 0], [209, 0], [210, 0], [211, 0], [212, 0], [213, 0], [214, 0], [215, 0], [216, 0], [217, 0], [218, 0], [219, 0], [220, 0], [221, 0], [222, 0], [223, 0], [224, 0], [225, 0], [226, 0], [227, 0], [228, 0], [229, 0], [230, 0], [231, 0], [232, 0], [233, 0], [234, 0], [235, 0], [236, 0], [237, 0], [238, 0], [239, 0], [240, 0], [241, 0], [242, 0], [243, 0], [244, 0], [245, 0], [246, 0], [247, 0], [248, 0], [249, 0], [250, 0], [251, 0], [252, 0], [253, 0], [254, 0], [255, 0], [256, 0], [257, 0], [258, 0], [259, 0], [260, 0], [261, 0], [262, 0], [263, 0], [264, 0], [265, 0], [266, 0], [267, 0], [268, 0], [269, 0], [270, 0], [271, 0], [272, 0], [273, 0], [274, 0], [275, 0], [276, 0], [277, 0], [278, 0], [279, 0], [280, 0], [281, 0], [282, 0], [283, 0], [284, 0], [285, 0], [286, 0], [287, 0], [288, 0], [289, 0], [290, 0], [291, 0], [292, 0], [293, 0], [294, 0], [295, 0], [296, 0], [297, 0], [298, 0], [299, 0]]\n",
            "300 300 [100, 100] 100\n",
            "-167\n",
            "[[0, 0], [1, 0], [2, 0], [3, 0], [4, 0], [5, 0], [6, 0], [7, 0], [8, 0], [9, 0], [10, 0], [11, 0], [12, 0], [13, 0], [14, 0], [15, 0], [16, 0], [17, 0], [18, 0], [19, 0], [20, 0], [21, 0], [22, 0], [23, 0], [24, 0], [25, 0], [26, 0], [27, 0], [28, 0], [29, 0], [30, 0], [31, 0], [32, 0], [33, 0], [34, 0], [35, 0], [36, 0], [37, 0], [38, 0], [39, 0], [40, 0], [41, 0], [42, 0], [43, 0], [44, 0], [45, 0], [46, 0], [47, 0], [48, 0], [49, 0], [50, 0], [51, 0], [52, 0], [53, 0], [54, 0], [55, 0], [56, 0], [57, 0], [58, 0], [59, 0], [60, 0], [61, 0], [62, 0], [63, 0], [64, 0], [65, 0], [66, 0], [67, 0], [68, 0], [69, 0], [70, 0], [71, 0], [72, 0], [73, 0], [74, 0], [75, 0], [76, 0], [77, 0], [78, 0], [79, 0], [80, 0], [81, 0], [82, 0], [83, 0], [84, 0], [85, 0], [86, 0], [87, 0], [88, 0], [89, 0], [90, 0], [91, 0], [92, 0], [93, 0], [94, 0], [95, 0], [96, 0], [97, 0], [98, 0], [99, 0], [100, 0], [101, 0], [102, 0], [103, 0], [104, 0], [105, 0], [106, 0], [107, 0], [108, 0], [109, 0], [110, 0], [111, 0], [112, 0], [113, 0], [114, 0], [115, 0], [116, 0], [117, 0], [118, 0], [119, 0], [120, 0], [121, 0], [122, 0], [123, 0], [124, 0], [125, 0], [126, 0], [127, 0], [128, 0], [129, 0], [130, 0], [131, 0], [132, 0], [133, 0], [134, 0], [135, 0], [136, 0], [137, 0], [138, 0], [139, 0], [140, 0], [141, 0], [142, 0], [143, 0], [144, 0], [145, 0], [146, 0], [147, 0], [148, 0], [149, 0], [150, 0], [151, 0], [152, 0], [153, 0], [154, 0], [155, 0], [156, 0], [157, 0], [158, 0], [159, 0], [160, 0], [161, 0], [162, 0], [163, 0], [164, 0], [165, 0], [166, 0], [167, 0], [168, 0], [169, 0], [170, 0], [171, 0], [172, 0], [173, 0], [174, 0], [175, 0], [176, 0], [177, 0], [178, 0], [179, 0], [180, 0], [181, 0], [182, 0], [183, 0], [184, 0], [185, 0], [186, 0], [187, 0], [188, 0], [189, 0], [190, 0], [191, 0], [192, 0], [193, 0], [194, 0], [195, 0], [196, 0], [197, 0], [198, 0], [199, 0], [200, 200], [201, 200], [202, 200], [203, 200], [204, 200], [205, 200], [206, 200], [207, 200], [208, 200], [209, 200], [210, 200], [211, 200], [212, 200], [213, 200], [214, 200], [215, 200], [216, 200], [217, 200], [218, 200], [219, 200], [220, 200], [221, 200], [222, 200], [223, 200], [224, 200], [225, 200], [226, 200], [227, 200], [228, 200], [229, 200], [230, 200], [231, 200], [232, 200], [233, 200], [234, 200], [235, 200], [236, 200], [237, 200], [238, 200], [239, 200], [240, 200], [241, 200], [242, 200], [243, 200], [244, 200], [245, 200], [246, 200], [247, 200], [248, 200], [249, 200], [250, 200], [251, 200], [252, 200], [253, 200], [254, 200], [255, 200], [256, 200], [257, 200], [258, 200], [259, 200], [260, 200], [261, 200], [262, 200], [263, 200], [264, 200], [265, 200], [266, 200], [267, 200], [268, 200], [269, 200], [270, 200], [271, 200], [272, 200], [273, 200], [274, 200], [275, 200], [276, 200], [277, 200], [278, 200], [279, 200], [280, 200], [281, 200], [282, 200], [283, 200], [284, 200], [285, 200], [286, 200], [287, 200], [288, 200], [289, 200], [290, 200], [291, 200], [292, 200], [293, 200], [294, 200], [295, 200], [296, 200], [297, 200], [298, 200], [299, 200]]\n",
            "300 300 [200, 200] 200\n",
            "167\n"
          ]
        }
      ]
    },
    {
      "cell_type": "code",
      "source": [
        "from PIL import Image\n",
        "\n",
        "\n",
        "\n",
        "def search_for_lilies(image, color):\n",
        "  image = Image.open(image)\n",
        "  \n",
        "    # Получаем размеры изображения\n",
        "  width, height = image.size\n",
        "\n",
        "  # Задаем цвет ландыша (в данном случае - желтый)\n",
        "  color_lilac = (255, 255, 0)\n",
        "\n",
        "  # Инициализируем переменные для хранения максимального количества пикселей цвета ландыша и номера столбца\n",
        "  max_lilac_pixels = 0\n",
        "  max_lilac_column = 0\n",
        "\n",
        "  # Проходим по столбцам изображения и находим количество пикселей цвета ландыша в каждом столбце\n",
        "  for x in range(width):\n",
        "      lilac_pixels = 0\n",
        "      for y in range(height):\n",
        "          if image.getpixel((x, y)) == color_lilac:\n",
        "              lilac_pixels += 1\n",
        "      if lilac_pixels > max_lilac_pixels:\n",
        "          max_lilac_pixels = lilac_pixels\n",
        "          max_lilac_column = x\n",
        "  print(max_lilac_column)\n",
        "  # Вычисляем смещение\n",
        "  offset = max_lilac_column * 1001 // width - 500\n",
        "\n",
        "  print(f'Смещение: {offset}')\n",
        "  return offset\n",
        "\n",
        "\n",
        "\n",
        "#image = Image.open(input())  \n",
        "#color = tuple(map(int, input().split()))  \n",
        "print(search_for_lilies('/content/test.png', (255, 0, 0)))\n",
        "print(search_for_lilies('/content/test.png', (175, 238, 238)))"
      ],
      "metadata": {
        "colab": {
          "base_uri": "https://localhost:8080/"
        },
        "id": "aQjtK8B0wvbz",
        "outputId": "2a9f1178-8c90-4dcd-b7fa-a21892e4b4bc"
      },
      "execution_count": 185,
      "outputs": [
        {
          "output_type": "stream",
          "name": "stdout",
          "text": [
            "0\n",
            "Смещение: -500\n",
            "-500\n",
            "0\n",
            "Смещение: -500\n",
            "-500\n"
          ]
        }
      ]
    },
    {
      "cell_type": "markdown",
      "source": [
        "##4.3. Библиотеки Python: графика (рисование)"
      ],
      "metadata": {
        "id": "W6EB9pboZDs1"
      }
    },
    {
      "cell_type": "code",
      "source": [
        "from PIL import Image\n",
        "\n",
        "im = Image.new(\"RGB\", (500, 500), (0, 255, 0))\n",
        "# Просто посмотрим, изображение какого размера у нас получилось\n",
        "print(im.size) \n",
        "im.save(\"5.jpg\")"
      ],
      "metadata": {
        "id": "7C09zI8_ZLrF"
      },
      "execution_count": null,
      "outputs": []
    },
    {
      "cell_type": "code",
      "source": [
        "from PIL import Image, ImageDraw\n",
        "\n",
        "# создание изображения  \n",
        "new_image = Image.new(\"RGB\", (100, 200), (0, 0, 0))  \n",
        "# на изображении создаем рисунок для рисования  \n",
        "draw = ImageDraw.Draw(new_image)  \n",
        "# рисуем линию  \n",
        "draw.line((0, 0, 100, 200), fill=(255, 0, 0), width=1)  \n",
        "# сохраним изображением в файл формата PNG  \n",
        "new_image.save('6.png', \"PNG\")"
      ],
      "metadata": {
        "id": "MDYbe01HZRNO"
      },
      "execution_count": null,
      "outputs": []
    },
    {
      "cell_type": "markdown",
      "source": [
        "###Зебра"
      ],
      "metadata": {
        "id": "70ny6DxZZFxm"
      }
    },
    {
      "cell_type": "code",
      "source": [
        "from PIL import Image, ImageDraw\n",
        "\n",
        "def stripes(n_stripes, sizes, direction = 'v'):\n",
        "  width, height = sizes\n",
        "  \n",
        "  white_color = (255, 255, 255) #'#FFFFFF'\n",
        "  black_color = (0, 0, 0) #'#000000'\n",
        "  image = Image.new(\"RGB\", (width, height))\n",
        "  drawer = ImageDraw.Draw(image)\n",
        "  if direction == 'h':\n",
        "    step_height = height / n_stripes\n",
        "    for i in range(n_stripes):\n",
        "      if i%2 == 0:\n",
        "        drawer.rectangle((0, int(step_height*i), width, int(step_height*(i+1))), 'black')\n",
        "      else:\n",
        "        drawer.rectangle((0, int(step_height*i), width, int(step_height*(i+1))), 'white')\n",
        "  if direction == 'v':\n",
        "    step_height = width / n_stripes\n",
        "    for i in range(n_stripes):\n",
        "      if i%2 == 0:\n",
        "        drawer.rectangle((int(step_height*i), 0, int(step_height*(i+1)), height), 'black')\n",
        "      else:\n",
        "        drawer.rectangle((int(step_height*i), 0, int(step_height*(i+1)), height), 'white')\n",
        "  image.save('/content/zebra.png')\n",
        "  \n",
        "\n",
        "stripes(5, (600, 400), direction=\"v\")"
      ],
      "metadata": {
        "id": "YwkrrumcZJw9"
      },
      "execution_count": null,
      "outputs": []
    },
    {
      "cell_type": "markdown",
      "source": [
        "###Паровозик"
      ],
      "metadata": {
        "id": "Cj2e3NPReEOf"
      }
    },
    {
      "cell_type": "code",
      "source": [
        "from PIL import Image, ImageDraw\n",
        "\n",
        "\n",
        "def train(name):\n",
        "  width, height = (280, 200)\n",
        "  image = Image.new(\"RGB\", (width, height))\n",
        "  drawer = ImageDraw.Draw(image)\n",
        "  drawer.rectangle((0,0,width, height), fill='#CCECFF')\n",
        "\n",
        "  drawer.rectangle(\n",
        "      (40, height - 90, 80, height - 50),\n",
        "      fill = '#C55A11'\n",
        "  )\n",
        "\n",
        "  drawer.rectangle(\n",
        "      (80, height - 50-60, 80+80,height - 50 ),\n",
        "      fill = '#0070C0'\n",
        "  )\n",
        "  drawer.rectangle(\n",
        "      (80+80, height - 50 -100, 80+80+80, height - 50),\n",
        "      fill = '#548235'\n",
        "  )\n",
        "\n",
        "  drawer.rectangle(\n",
        "      (80+80 - 10, height - 50 -100 - 10, 80+80+80 + 10, height - 50 -100),\n",
        "      fill = '#C55A11'\n",
        "  )\n",
        "\n",
        "  drawer.rectangle(\n",
        "      (80+80 + 25, height - 40 -100, 80+80 + 25 + 30, height - 100),\n",
        "      fill = 'white'\n",
        "  )\n",
        "\n",
        "  drawer.rectangle(\n",
        "      (80, height - 50-60-30, 80 + 30, height - 50-60),\n",
        "      fill = 'red'\n",
        "  )\n",
        "\n",
        "  drawer.polygon(\n",
        "      ((80, height - 50-60-30), (80+15, height - 50-60-30 - 26), (80 + 30, height - 50-60 - 30)),\n",
        "      fill = '#FFC000'\n",
        "  )\n",
        "\n",
        "  drawer.polygon(\n",
        "      # (40, height - 90, 80, height - 50),\n",
        "      ((40, height - 90), (40 + 20, height - 90 - 35), (80, height - 90)),\n",
        "      fill = '#FFC000'\n",
        "  )\n",
        "\n",
        "  drawer.ellipse(\n",
        "      (80, height - 50 - 10, 80 + 30, height - 50 - 10 + 30),\n",
        "      fill = 'black'\n",
        "  )\n",
        "\n",
        "  drawer.ellipse(\n",
        "      (160 + 20, height - 50 - 20, 160 + 20 + 40, height - 50 - 20 + 40),\n",
        "      fill = 'black'\n",
        "  )\n",
        "\n",
        "  drawer.ellipse(\n",
        "      (120, height - 50 - 20, 120 + 40, height - 50 - 20 + 40),\n",
        "      fill = 'black'\n",
        "  )\n",
        "\n",
        "\n",
        "  image.save(name)\n",
        "  return\n",
        "\n",
        "train(\"/content/out.png\")"
      ],
      "metadata": {
        "id": "8ACL4mX-eHBd"
      },
      "execution_count": 72,
      "outputs": []
    },
    {
      "cell_type": "code",
      "source": [
        "from PIL import Image, ImageDraw\n",
        "\n",
        "def human(background_color, line_color, scale, line_bold):\n",
        "  width, height = (16*scale, 21*scale)\n",
        "  image = Image.new(\"RGB\", (width, height))\n",
        "  drawer = ImageDraw.Draw(image)\n",
        "  drawer.rectangle((0,0,width, height), fill=background_color)\n",
        "\n",
        "  radius = scale // 5\n",
        "  # тушка\n",
        "  drawer.line(\n",
        "      (8*scale, 5*scale, 8*scale, 11*scale),\n",
        "      fill = line_color,\n",
        "      width=line_bold\n",
        "  )\n",
        "  #плечо\n",
        "  drawer.line(\n",
        "      (7*scale, 6*scale, 9*scale, 6*scale),\n",
        "      fill = line_color,\n",
        "      width=line_bold\n",
        "  )\n",
        "\n",
        "  drawer.ellipse(\n",
        "      (7*scale-radius, 6*scale-radius, 7*scale+radius, 6*scale+radius),\n",
        "      outline=line_color,\n",
        "      width=line_bold\n",
        "  )\n",
        "\n",
        "  drawer.ellipse(\n",
        "      (9*scale-radius, 6*scale-radius, 9*scale+radius, 6*scale+radius),\n",
        "      outline=line_color,\n",
        "      width=line_bold\n",
        "  )\n",
        "\n",
        "\n",
        "  #левая рука\n",
        "  drawer.line(\n",
        "      (7*scale, 6*scale, 4*scale,(4+6)*scale),\n",
        "      fill = line_color,\n",
        "      width=line_bold\n",
        "  )\n",
        "\n",
        "  drawer.ellipse(\n",
        "      (4*scale-radius, (4+6)*scale-radius, 4*scale+radius, (4+6)*scale+radius),\n",
        "      outline=line_color,\n",
        "      width=line_bold\n",
        "  )\n",
        "\n",
        "  drawer.line(\n",
        "      (4*scale,(4+6)*scale, 6*scale,(4+6+3)*scale,),\n",
        "      fill = line_color,\n",
        "      width=line_bold\n",
        "  )\n",
        "\n",
        "  # правая рука\n",
        "  drawer.line(\n",
        "      (9*scale, 6*scale, (9+3)*scale, (6+4)*scale),\n",
        "      fill = line_color,\n",
        "      width=line_bold\n",
        "  )\n",
        "\n",
        "  drawer.ellipse(\n",
        "      ((9+3)*scale-radius, (4+6)*scale-radius, (9+3)*scale+radius, (4+6)*scale+radius),\n",
        "      outline=line_color,\n",
        "      width=line_bold\n",
        "  )\n",
        "\n",
        "  drawer.line(\n",
        "      ((9+3)*scale, (6+4)*scale, (9+3+3)*scale, (6+4-3)*scale),\n",
        "      fill = line_color,\n",
        "      width=line_bold\n",
        "  )\n",
        "\n",
        "  # левая нога\n",
        "\n",
        "  drawer.ellipse(\n",
        "      ((8)*scale-radius, (11)*scale-radius, (8)*scale+radius, (11)*scale+radius),\n",
        "      outline=line_color,\n",
        "      width=line_bold\n",
        "  )\n",
        "\n",
        "  drawer.line(\n",
        "      (8*scale, 11*scale, (8-2)*scale, (11+4)*scale),\n",
        "      fill = line_color,\n",
        "      width=line_bold\n",
        "  )\n",
        "\n",
        "  drawer.ellipse(\n",
        "      ((8-2)*scale-radius, (11+4)*scale-radius, (8-2)*scale+radius, (11+4)*scale+radius),\n",
        "      outline=line_color,\n",
        "      width=line_bold\n",
        "  )\n",
        "\n",
        "  drawer.line(\n",
        "      ((8-2)*scale, (11+4)*scale, (8-2-1)*scale, (11+4+5)*scale),\n",
        "      fill = line_color,\n",
        "      width=line_bold\n",
        "  )\n",
        "\n",
        "  drawer.ellipse(\n",
        "      ((8-2 -1)*scale-radius, (11+4 +5)*scale-radius, (8-2 - 1)*scale+radius, (11+4+5)*scale+radius),\n",
        "      outline=line_color,\n",
        "      width=line_bold\n",
        "  )\n",
        "\n",
        "  drawer.line(\n",
        "      ((8-2-1)*scale, (11+4+5)*scale, (8-2-1+2)*scale, (11+4+5)*scale),\n",
        "      fill = line_color,\n",
        "      width=line_bold\n",
        "  )\n",
        "\n",
        "\n",
        "  # правая нога\n",
        "  drawer.line(\n",
        "      (8*scale, 11*scale, (8+3)*scale, (11-1)*scale),\n",
        "      fill = line_color,\n",
        "      width=line_bold\n",
        "  )\n",
        "\n",
        "  drawer.ellipse(\n",
        "      ((8+3)*scale-radius, (11-1)*scale-radius, (8+3)*scale+radius, (11-1)*scale+radius),\n",
        "      outline=line_color,\n",
        "      width=line_bold\n",
        "  )\n",
        "\n",
        "  drawer.line(\n",
        "      ((8+3)*scale, (11-1)*scale, (8+3+2)*scale, (11-1+5)*scale),\n",
        "      fill = line_color,\n",
        "      width=line_bold\n",
        "  )\n",
        "\n",
        "  drawer.ellipse(\n",
        "      ((8+3+2)*scale-radius, (11-1+5)*scale-radius, (8+3+2)*scale+radius, (11-1+5)*scale+radius),\n",
        "      outline=line_color,\n",
        "      width=line_bold\n",
        "  )\n",
        "\n",
        "  drawer.line(\n",
        "      ((8+3+2)*scale, (11-1+5)*scale, (8+3+2+2)*scale, (11-1+5-1)*scale),\n",
        "      fill = line_color,\n",
        "      width=line_bold\n",
        "  )\n",
        "\n",
        "\n",
        "  # бОшка\n",
        "  drawer.ellipse(\n",
        "      (6*scale, 1*scale, 10*scale, 5*scale),\n",
        "      outline=line_color,\n",
        "      width=line_bold\n",
        "  )\n",
        "\n",
        "  drawer.ellipse(\n",
        "      (7*scale-radius, 3*scale-radius, 7*scale+radius, 3*scale+radius),\n",
        "      fill=line_color,\n",
        "      outline=line_color,\n",
        "      width=line_bold\n",
        "  )\n",
        "\n",
        "  drawer.ellipse(\n",
        "      (9*scale-radius, 3*scale-radius, 9*scale+radius, 3*scale+radius),\n",
        "      fill=line_color,\n",
        "      outline=line_color,\n",
        "      width=line_bold\n",
        "  )\n",
        "\n",
        "  drawer.arc(\n",
        "      (6 * scale, 1 * scale - scale // 2, 10 * scale, 5 * scale - scale // 2), \n",
        "      45, 45 + 90, \n",
        "      width=line_bold, \n",
        "      fill=line_color\n",
        "  )\n",
        "\n",
        "\n",
        "\n",
        "\n",
        "\n",
        "\n",
        "  image.save('human.png')\n",
        "  return\n",
        "\n",
        "human('#00fAdc', (200, 0, 0), 50, 7)"
      ],
      "metadata": {
        "id": "f_I6RUXo-3xz"
      },
      "execution_count": 94,
      "outputs": []
    },
    {
      "cell_type": "markdown",
      "source": [
        "### Инопланетянин"
      ],
      "metadata": {
        "id": "3eOII-KiKqVC"
      }
    },
    {
      "cell_type": "code",
      "source": [
        "from PIL import Image, ImageDraw\n",
        "\n",
        "\n",
        "scale = int(input())\n",
        "\n",
        "width, height = 20*scale, 20*scale\n",
        "line_bold = int(round(scale*0.6))\n",
        "\n",
        "image = Image.new(\"RGB\", (width, height))\n",
        "drawer = ImageDraw.Draw(image)\n",
        "\n",
        "drawer.rectangle((0,0,width, height), fill='white') \n",
        "\n",
        "drawer.arc(\n",
        "    (3*scale, 1*scale, (3+14)*scale, (1+14)*scale),\n",
        "    start=180,\n",
        "    end=360,\n",
        "    width=line_bold,\n",
        "    fill='black'\n",
        ")\n",
        "\n",
        "drawer.arc(\n",
        "    (3*scale, (-3)*scale, (3+14)*scale, (-3+22)*scale),\n",
        "    start=0,\n",
        "    end=180,\n",
        "    width=line_bold,\n",
        "    fill = 'black'\n",
        ")\n",
        "\n",
        "drawer.chord(\n",
        "    (1*scale, height - 10*scale, 9*scale, height),\n",
        "    start = 270,\n",
        "    end = 360,\n",
        "    fill = 'black'\n",
        ")\n",
        "drawer.chord(\n",
        "    (5*scale, 5*scale, 13*scale, 15*scale),\n",
        "    start = 90,\n",
        "    end = 180,\n",
        "    fill = 'black'\n",
        ")\n",
        "\n",
        "\n",
        "drawer.chord(\n",
        "    (width - 9*scale, height - 10*scale, width - 1*scale, height),\n",
        "    start = 180,\n",
        "    end = 270,\n",
        "    fill = 'black'\n",
        ")\n",
        "drawer.chord(\n",
        "    (7*scale, 5*scale, 15*scale, 15*scale),\n",
        "    start = 0,\n",
        "    end = 90,\n",
        "    fill = 'black'\n",
        ")\n",
        "\n",
        "drawer.ellipse(\n",
        "    (6*scale, height-9*scale, 7*scale, height-8*scale),\n",
        "    fill = 'white'\n",
        ")\n",
        "drawer.ellipse(\n",
        "    (13*scale, height-9*scale, 14*scale, height-8*scale),\n",
        "    fill = 'white'\n",
        ")\n",
        "\n",
        "drawer.ellipse(\n",
        "    (9*scale, height-3*scale, 11*scale, height-2*scale),\n",
        "    fill = 'black',\n",
        ")\n",
        "\n",
        "image.save('alien.png')\n",
        "\n",
        "\n"
      ],
      "metadata": {
        "colab": {
          "base_uri": "https://localhost:8080/"
        },
        "id": "9m2zja3oKsKb",
        "outputId": "5cc8f804-2876-46aa-fbfd-9d342f226079"
      },
      "execution_count": 125,
      "outputs": [
        {
          "name": "stdout",
          "output_type": "stream",
          "text": [
            "20\n"
          ]
        }
      ]
    },
    {
      "cell_type": "markdown",
      "source": [
        "###Равнение на флюгер\n"
      ],
      "metadata": {
        "id": "zv8vp7hdJdoy"
      }
    },
    {
      "cell_type": "code",
      "source": [
        "from PIL import Image, ImageDraw\n",
        "\n",
        "def weather_vane_orientation(size, bg_color, *vanes):\n",
        "  width, height = size\n",
        "  image = Image.new(\"RGB\", (width, height))\n",
        "  drawer = ImageDraw.Draw(image)\n",
        "  drawer.rectangle((0,0,width, height), fill=bg_color)  \n",
        "  for el in vanes:\n",
        "    a = (el[2] % 10 * 4) // 2\n",
        "    drawer.rectangle(\n",
        "        (el[0] - a, el[1] - a, el[0] + a, el[1] + a),\n",
        "        fill=(el[2], el[2], el[2])\n",
        "    )\n",
        "  return image\n",
        "\n",
        "\n",
        "weather_vane_orientation(\n",
        "    (200, 200),\n",
        "    '#000000',\n",
        "    (20, 100, 255),\n",
        "    (100, 180, 252),\n",
        "    (180, 100, 248),\n",
        "    (100, 20, 224)\n",
        ").save('result.png')\n",
        "\n",
        "weather_vane_orientation(\n",
        "    (264, 254),\n",
        "    '#429f49',\n",
        "    (31, 251, 64),\n",
        "    (27, 87, 33),\n",
        "    (183, 74, 96),\n",
        "    (92, 165, 225),\n",
        "    (36, 64, 47)\n",
        ").save('UMKvZ.png')"
      ],
      "metadata": {
        "id": "7xqWolleJgNa"
      },
      "execution_count": 119,
      "outputs": []
    },
    {
      "cell_type": "markdown",
      "source": [
        "##4.4. Библиотеки Python. Морфология"
      ],
      "metadata": {
        "id": "oUqARo3iqL--"
      }
    },
    {
      "cell_type": "markdown",
      "source": [
        "###Русский как иностранный-1"
      ],
      "metadata": {
        "id": "17cWYkUdqN6B"
      }
    },
    {
      "cell_type": "code",
      "source": [
        "!pip install pymorphy2\n",
        "!pip install -U pymorphy2-dicts-ru"
      ],
      "metadata": {
        "id": "ecbyCkdaqRFz"
      },
      "execution_count": null,
      "outputs": []
    },
    {
      "cell_type": "code",
      "source": [],
      "metadata": {
        "id": "DmbKd4Derqil"
      },
      "execution_count": null,
      "outputs": []
    },
    {
      "cell_type": "code",
      "source": [
        "import pymorphy2\n",
        "morph = pymorphy2.MorphAnalyzer()\n",
        "\n",
        "def russian_noun(word, case=\"nomn\", number=\"sing\"):\n",
        "  return morph.parse(word)[0].inflect({number, case}).word\n",
        "\n",
        "\n",
        "for case in [\"nomn\", \"gent\", \"datv\", \"accs\", \"ablt\", \"loct\"]:\n",
        "    print(russian_noun(\"свечечки\", case=case))\n",
        "\n",
        "for case in [\"nomn\", \"gent\", \"datv\", \"accs\", \"ablt\", \"loct\"]:\n",
        "    print(russian_noun(\"свечечки\", case=case, number=\"plur\"))"
      ],
      "metadata": {
        "id": "JSb9CwJCr_ER"
      },
      "execution_count": null,
      "outputs": []
    },
    {
      "cell_type": "code",
      "source": [
        "\n",
        "case=\"gent\"\n",
        "number=\"sing\"\n",
        "morph.parse(\"свечечки\")[0].inflect({number, case}).word\n",
        "\n"
      ],
      "metadata": {
        "id": "zmmD1Z1Y3V5p"
      },
      "execution_count": null,
      "outputs": []
    },
    {
      "cell_type": "markdown",
      "source": [
        "###Добрый-злой"
      ],
      "metadata": {
        "id": "coR-wgW7mO-M"
      }
    },
    {
      "cell_type": "code",
      "source": [
        "import pymorphy2\n",
        "from sys import stdin\n",
        "\n",
        "morph = pymorphy2.MorphAnalyzer()\n",
        "\n",
        "s = '''добрая дракона\n",
        "злой волки\n",
        "котята милый\n",
        "весёлые собакой\n",
        "лес еловые\n",
        "глубокий обрывы\n",
        "глупые ухмылкам\n",
        "серенькое небом\n",
        "рыбы красивое'''\n",
        "\n",
        "s_list = [el.split() for el in list(map(str.strip, stdin))]\n",
        "\n",
        "for el in s_list:\n",
        "  p = morph.parse(el[0])[0]\n",
        "  if 'NOUN' in p.tag:\n",
        "    noun = p\n",
        "    adjective = morph.parse(el[1])[0]\n",
        "  else:\n",
        "    noun = morph.parse(el[1])[0]\n",
        "    adjective = p\n",
        "\n",
        "  if 'plur' in noun.tag:\n",
        "    noun_case = noun.tag.case\n",
        "    noun_number = noun.tag.number\n",
        "    adjective = adjective.inflect({noun_case, noun_number})\n",
        "  else:\n",
        "    noun_case = noun.tag.case\n",
        "    noun_number = noun.tag.number\n",
        "    noun_gender = noun.tag.gender\n",
        "    adjective = adjective.inflect({noun_case, noun_number, noun_gender})\n",
        "  print(adjective.word, noun.word)\n",
        "  ##получить из существительного род и число и падеж\n",
        "  ##сохранить их в переменные строки\n",
        "  ##применить метод butyavka.inflect({'plur', 'gent'}) \n",
        "\n",
        "  "
      ],
      "metadata": {
        "id": "_2hmjT6N3Vy4"
      },
      "execution_count": null,
      "outputs": []
    },
    {
      "cell_type": "markdown",
      "source": [
        "###Много мюмзиков"
      ],
      "metadata": {
        "id": "rv6FkC2Qt_tB"
      }
    },
    {
      "cell_type": "markdown",
      "source": [
        "###Русский как иностранный-2"
      ],
      "metadata": {
        "id": "GjNsmy-4vqH6"
      }
    },
    {
      "cell_type": "code",
      "source": [
        "import pymorphy2\n",
        "from sys import stdin\n",
        "\n",
        "\n",
        "\n",
        "def participle(word, **grammems):\n",
        "  params = ['gender', 'number', 'tens', 'case']\n",
        "  morph = pymorphy2.MorphAnalyzer()\n",
        "  anal = morph.parse(word)[0]\n",
        "  for param in params:\n",
        "    if param not in grammems:\n",
        "      if param == 'gender':\n",
        "        grammems[param] = anal.tag.gender\n",
        "      if param == 'number':\n",
        "        grammems[param] = anal.tag.number\n",
        "      if param == 'tens':\n",
        "        grammems[param] = anal.tag.tense\n",
        "      if param == 'case':\n",
        "        grammems[param] = anal.tag.case\n",
        "  s = anal.inflect({grammems['gender'], grammems['number'], grammems['tens'], grammems['case']}).word\n",
        "  return s\n",
        "\n",
        "\n",
        "grammems = {\n",
        "    'gender': 'femn',\n",
        "    'number': 'sing',\n",
        "    'tens': 'pres',\n",
        "    'case': 'datv'\n",
        "}\n",
        "print(participle(\"плавало\", **grammems))"
      ],
      "metadata": {
        "id": "pVmXkfVrt_aP"
      },
      "execution_count": null,
      "outputs": []
    },
    {
      "cell_type": "markdown",
      "source": [
        "###Имена"
      ],
      "metadata": {
        "id": "brWdzCJSwJQW"
      }
    },
    {
      "cell_type": "code",
      "source": [],
      "metadata": {
        "id": "DWYPX2PjrvHT"
      },
      "execution_count": null,
      "outputs": []
    },
    {
      "cell_type": "markdown",
      "source": [
        "###Что делать?"
      ],
      "metadata": {
        "id": "zI1ZgctTwM0e"
      }
    },
    {
      "cell_type": "code",
      "source": [],
      "metadata": {
        "id": "eTYu8FtowQ0N"
      },
      "execution_count": null,
      "outputs": []
    },
    {
      "cell_type": "markdown",
      "source": [
        "##4.5. Библиотеки Python. Документы"
      ],
      "metadata": {
        "id": "rH4VvSbkq9XA"
      }
    },
    {
      "cell_type": "markdown",
      "source": [
        "###Письмо"
      ],
      "metadata": {
        "id": "LzOVLmzmrADn"
      }
    },
    {
      "cell_type": "code",
      "source": [
        "pip install python-docx"
      ],
      "metadata": {
        "id": "8P14ODJyraRn"
      },
      "execution_count": null,
      "outputs": []
    },
    {
      "cell_type": "code",
      "source": [
        "s_list = '''Dear Kate and Nick,\n",
        "We are looking forward very much to your visit to our country this summer. We are expecting you at the beginning of July and are hoping that you may stay until the end of the month or longer.\n",
        "We consider it a privilege for us to receive you as guests in our house. We are very grateful indeed to you for consenting to come and stay with us. We are looking forward to oﬀering you hospitality in return for the hospitality you have kindly given us on many occasions.\n",
        "We want you to understand that we will see to all your needs while you are with us and to any expenses that may arise.\n",
        "Yours sincerely,\n",
        "John and Mary'''.split('\\n')\n",
        "print(s_list)"
      ],
      "metadata": {
        "id": "ltrCKDUUrbNa"
      },
      "execution_count": null,
      "outputs": []
    },
    {
      "cell_type": "code",
      "source": [
        "import docx\n",
        "from docx import Document\n",
        "from docx.shared import Pt\n",
        "from docx.enum.style import WD_STYLE_TYPE\n",
        "from docx.enum.text import WD_ALIGN_PARAGRAPH\n",
        "from docx.shared import Inches\n",
        "from sys import stdin\n",
        "\n",
        "#s_list = list(map(str.strip, sys.stdin))\n",
        "\n",
        "s_list = '''Dear Kate and Nick,\n",
        "We are looking forward very much to your visit to our country this summer. We are expecting you at the beginning of July and are hoping that you may stay until the end of the month or longer.\n",
        "We consider it a privilege for us to receive you as guests in our house. We are very grateful indeed to you for consenting to come and stay with us. We are looking forward to oﬀering you hospitality in return for the hospitality you have kindly given us on many occasions.\n",
        "We want you to understand that we will see to all your needs while you are with us and to any expenses that may arise.\n",
        "Yours sincerely,\n",
        "John and Mary'''.split('\\n')\n",
        "print(s_list)\n",
        "\n",
        "document = Document()\n",
        "\n",
        "style_head = document.styles.add_style('LetterHead1', WD_STYLE_TYPE.PARAGRAPH)\n",
        "style_head.font.name = 'Arial'\n",
        "style_head.font.size = Pt(11)\n",
        "style_head.font.italic = True\n",
        "style_head.paragraph_format.alignment = WD_ALIGN_PARAGRAPH.RIGHT\n",
        "document.add_paragraph(s_list[0], style = 'LetterHead1')\n",
        "\n",
        "style_order = document.styles.add_style('LetterParag1', WD_STYLE_TYPE.PARAGRAPH)\n",
        "style_order.font.name = 'Times New Roman'\n",
        "style_order.font.size = Pt(12)\n",
        "style_order.paragraph_format.alignment = WD_ALIGN_PARAGRAPH.JUSTIFY\n",
        "style_order.paragraph_format.first_line_indent = Inches(0.5)\n",
        "for i in range(1, len(s_list) - 2):\n",
        "  document.add_paragraph(s_list[i], style = 'LetterParag1')\n",
        "\n",
        "style_last = document.styles.add_style('LastParag1', WD_STYLE_TYPE.PARAGRAPH)\n",
        "style_last.paragraph_format.alignment = WD_ALIGN_PARAGRAPH.LEFT\n",
        "document.add_paragraph(s_list[-2], style = 'LastParag1')\n",
        "\n",
        "style_last_2 = document.styles.add_style('LastParag2', WD_STYLE_TYPE.PARAGRAPH)\n",
        "style_last_2.font.bold = True\n",
        "style_last_2.paragraph_format.alignment = WD_ALIGN_PARAGRAPH.LEFT\n",
        "\n",
        "document.add_paragraph(s_list[-1], style = 'LastParag2')\n",
        "\n",
        "document.save('/content/letter.docx')\n",
        "\n",
        "\n"
      ],
      "metadata": {
        "id": "TxbZLfW4q_g7"
      },
      "execution_count": null,
      "outputs": []
    },
    {
      "cell_type": "markdown",
      "source": [
        "### Анализ"
      ],
      "metadata": {
        "id": "d37m32m9MSdI"
      }
    },
    {
      "cell_type": "code",
      "source": [
        "s_list = '''WBC\n",
        "RBC\n",
        "HGB\n",
        "HTC\n",
        "MCV\n",
        "MCH\n",
        "MCHC\n",
        "RDW\n",
        "PLT\n",
        "MPV\n",
        "PTC\n",
        "NEU\n",
        "LYMP\n",
        "MONO\n",
        "EO\n",
        "Baso'''.split('\\n')"
      ],
      "metadata": {
        "id": "QZ6Nmmi-8SZS"
      },
      "execution_count": null,
      "outputs": []
    },
    {
      "cell_type": "code",
      "source": [
        "import docx\n",
        "from docx import Document\n",
        "from docx.shared import Pt\n",
        "from docx.enum.style import WD_STYLE_TYPE\n",
        "from docx.enum.text import WD_ALIGN_PARAGRAPH\n",
        "from docx.shared import Inches\n",
        "from sys import stdin\n",
        "\n",
        "s_list = list(map(str.strip, sys.stdin))\n",
        "\n",
        "\n",
        "document = Document()\n",
        "\n",
        "head = document.add_heading('Blood test', 0)\n",
        "head.alignment = WD_ALIGN_PARAGRAPH.CENTER\n",
        "\n",
        "heads = ['indicator', 'norm', 'value']\n",
        "\n",
        "table = document.add_table(1, len(heads))\n",
        "table.style = 'Table Grid'\n",
        "\n",
        "head_cells = table.rows[0].cells\n",
        "\n",
        "for i, item in enumerate(heads):\n",
        "    p = head_cells[i].paragraphs[0]\n",
        "    p.add_run(item).bold = True\n",
        "    p.alignment = WD_ALIGN_PARAGRAPH.CENTER\n",
        "\n",
        "for row in s_list:\n",
        "    cells = table.add_row().cells\n",
        "    cells[0].text = str(row)\n",
        "    cells[0].paragraphs[0].runs[0].alignment = WD_ALIGN_PARAGRAPH.LEFT\n",
        "\n",
        "\n",
        "document.save('/content/analysis.docx')\n"
      ],
      "metadata": {
        "id": "myuwb5OH2-Ep"
      },
      "execution_count": null,
      "outputs": []
    },
    {
      "cell_type": "markdown",
      "source": [
        "###Ведомость\n",
        "\n",
        "Напишите программу для расчета выплат сотрудникам разных отделов.\n",
        "\n",
        "\n",
        "Вводятся строки, в которых через символ табуляции записаны:\n",
        "\n",
        "\n",
        "Фамилия и имя работника, отдел и количество выполненной им работы в условных единицах.\n",
        "\n",
        "\n",
        "В последней строке вводится число – стоимость одной условной единицы.\n",
        "\n",
        "\n",
        "Создайте файл statement.xlsx, на первом листе (Sheet_1) озаглавьте столбцы (полужирное начертание):\n",
        "employee, department, work, payment\n",
        "Затем заполните столбцы введенными данными, значение payment рассчитывается как произведение выполненной работы на стоимость условной единицы.\n",
        "На втором листе (Sheet_2) запишите в первом столбце названия всех отделов в алфавитном порядке, во втором – общее количество выполненной работы сотрудниками отдела, в третьем – общую заработанную ими сумму.\n",
        "Заголовки столбцов второго листа (полужирное начертание):\n",
        "department, total work, total cost\n",
        "Если ввести такие данные, как в примере, то должен получиться файл с такими листами:"
      ],
      "metadata": {
        "id": "BF0AQbMP2oPu"
      }
    },
    {
      "cell_type": "code",
      "source": [
        "!pip install xlsxwriter"
      ],
      "metadata": {
        "id": "uFKZFn3K29B7"
      },
      "execution_count": null,
      "outputs": []
    },
    {
      "cell_type": "code",
      "source": [
        "!pip install xlsxwriter"
      ],
      "metadata": {
        "id": "ieKrfX_1tcjR"
      },
      "execution_count": null,
      "outputs": []
    },
    {
      "cell_type": "code",
      "source": [
        "input_data = '''Luis Powell\tbig data\t14\n",
        "Scott Johnson\tdevelopment\t25\n",
        "Donald Mullins\tAI\t19\n",
        "Daniel Gregory\ttesting\t12\n",
        "Julio Martin\tfrontend\t21\n",
        "James Howard\tAI\t10\n",
        "Charles Banks\tHR\t24\n",
        "Howard Johnson\tHR\t9\n",
        "Danny Ortiz\tHR\t25\n",
        "Harold Clark\tdevelopment\t21\n",
        "Rodney White\tHR\t19\n",
        "Salvador Saunders\tdatabase\t20\n",
        "Barry Bennett\tdevelopment\t15\n",
        "Timothy Schultz\tML\t18\n",
        "Robert Johnson\tdevelopment\t4\n",
        "William Smith\tfrontend\t5\n",
        "Michael Garcia\tbig data\t18\n",
        "Robert Miller\tdevelopment\t15\n",
        "Floyd Wright\tAI\t13\n",
        "William Sanchez\tbackend\t19\n",
        "James Barrett\tbackend\t1\n",
        "Roger Moore\tHR\t24\n",
        "George James\tbig data\t11\n",
        "George Pope\tbackend\t21\n",
        "William Robinson\tAI\t24\n",
        "Donald Romero\ttesting\t2\n",
        "13'''.split('\\n')"
      ],
      "metadata": {
        "id": "NdkZOgnQcjeJ"
      },
      "execution_count": null,
      "outputs": []
    },
    {
      "cell_type": "code",
      "source": [
        "import xlsxwriter\n",
        "from sys import stdin\n",
        "\n",
        "input_data = list(map(str.strip, stdin))\n",
        "\n",
        "input_data = [el.split('\\t') for el in input_data]\n",
        "cost = input_data.pop(len(input_data) - 1)\n",
        "\n",
        "for i in input_data:\n",
        "  i.append(int(i[2]) * int(cost[0]))\n",
        "\n",
        "\n",
        "workbook = xlsxwriter.Workbook('statement.xlsx')\n",
        "cell_format = workbook.add_format()\n",
        "cell_format.set_bold()\n",
        "worksheet1 = workbook.add_worksheet('Sheet_1')\n",
        "worksheet2 = workbook.add_worksheet('Sheet_2')\n",
        "worksheet1.write('A1', 'employee', cell_format)\n",
        "worksheet1.write('B1', 'department', cell_format)\n",
        "worksheet1.write('C1', 'work', cell_format)\n",
        "worksheet1.write('D1', 'payment', cell_format)\n",
        "\n",
        "for row_num, row_data in enumerate(input_data):\n",
        "    for col_num, col_data in enumerate(row_data):\n",
        "        worksheet1.write(row_num + 1, col_num, col_data)\n",
        "\n",
        "departments = set()\n",
        "for i in range(len(input_data)):\n",
        "  departments.add(input_data[i][1])\n",
        "departments = [[dep] for dep in sorted(departments)]\n",
        "\n",
        "for dep in departments:\n",
        "  total_work = 0 \n",
        "  total_cost = 0\n",
        "  for i in range(len(input_data)):\n",
        "    if(dep[0] == input_data[i][1]):\n",
        "      total_work += int(input_data[i][2])\n",
        "      total_cost += int(input_data[i][3])\n",
        "  dep.append(total_work)\n",
        "  dep.append(total_cost)\n",
        "\n",
        "worksheet2.write('A1', 'department', cell_format)\n",
        "worksheet2.write('B1', 'total work', cell_format)\n",
        "worksheet2.write('C1', 'total cost', cell_format)\n",
        "\n",
        "for row_num, row_data in enumerate(departments):\n",
        "    for col_num, col_data in enumerate(row_data):\n",
        "        worksheet2.write(row_num + 1, col_num, col_data)\n",
        "workbook.close()"
      ],
      "metadata": {
        "id": "1q2FwnWO2pr-"
      },
      "execution_count": null,
      "outputs": []
    },
    {
      "cell_type": "code",
      "source": [],
      "metadata": {
        "id": "j1ZiHe7Vc5v6"
      },
      "execution_count": null,
      "outputs": []
    },
    {
      "cell_type": "markdown",
      "source": [
        "###Кольцехвостые еноты"
      ],
      "metadata": {
        "id": "XSpMtpSVMXUS"
      }
    },
    {
      "cell_type": "code",
      "source": [
        "!pip install python-docx"
      ],
      "metadata": {
        "colab": {
          "base_uri": "https://localhost:8080/"
        },
        "id": "56DQ_XT0XjVY",
        "outputId": "ad8cc93c-e474-40d9-a072-c7bb5c5d6437"
      },
      "execution_count": 1,
      "outputs": [
        {
          "output_type": "stream",
          "name": "stdout",
          "text": [
            "Looking in indexes: https://pypi.org/simple, https://us-python.pkg.dev/colab-wheels/public/simple/\n",
            "Collecting python-docx\n",
            "  Downloading python-docx-0.8.11.tar.gz (5.6 MB)\n",
            "\u001b[2K     \u001b[90m━━━━━━━━━━━━━━━━━━━━━━━━━━━━━━━━━━━━━━━━\u001b[0m \u001b[32m5.6/5.6 MB\u001b[0m \u001b[31m102.0 MB/s\u001b[0m eta \u001b[36m0:00:00\u001b[0m\n",
            "\u001b[?25h  Preparing metadata (setup.py) ... \u001b[?25l\u001b[?25hdone\n",
            "Requirement already satisfied: lxml>=2.3.2 in /usr/local/lib/python3.10/dist-packages (from python-docx) (4.9.2)\n",
            "Building wheels for collected packages: python-docx\n",
            "  Building wheel for python-docx (setup.py) ... \u001b[?25l\u001b[?25hdone\n",
            "  Created wheel for python-docx: filename=python_docx-0.8.11-py3-none-any.whl size=184505 sha256=f8b596c17c9c790ddef53dc36cd34f5b903c1508bbeabeaa9cf0ff6aeef645b4\n",
            "  Stored in directory: /root/.cache/pip/wheels/80/27/06/837436d4c3bd989b957a91679966f207bfd71d358d63a8194d\n",
            "Successfully built python-docx\n",
            "Installing collected packages: python-docx\n",
            "Successfully installed python-docx-0.8.11\n"
          ]
        }
      ]
    },
    {
      "cell_type": "code",
      "source": [
        "from pickle import encode_long\n",
        "from docx import Document\n",
        "from docx.shared import Inches\n",
        "from docx.enum.style import WD_STYLE_TYPE\n",
        "from docx.enum.text import WD_ALIGN_PARAGRAPH\n",
        "\n",
        "from sys import stdin\n",
        "\n",
        "\n",
        "def count_spaces(s):\n",
        "    k = 0\n",
        "    while s[k].isspace():\n",
        "        k += 1\n",
        "    return k // 2\n",
        "\n",
        "\n",
        "#s = list(map(str.strip, stdin))\n",
        "\n",
        "\n",
        "s = '''Енотовые  \n",
        "  Еноты  \n",
        "    енот-ракоед  \n",
        "    тремарьясский енот  \n",
        "    барбадосский енот  \n",
        "    енот-полоскун  \n",
        "    багаманский енот  \n",
        "    гваделупский енот  \n",
        "    козумельский енот  \n",
        "  коати или носатые еноты  \n",
        "    белоносый коати  \n",
        "    южноамериканский коати  \n",
        "    носуха Нельсона  \n",
        "    юкатанская носуха  \n",
        "  горные коати и кольцехвостые еноты  \n",
        "    североамериканский какомицли  \n",
        "    центральноамериканский какомицли'''.split('\\n')\n",
        "\n",
        "shift = Inches(0.25)\n",
        "document = Document()\n",
        "styles = document.styles\n",
        "head = document.add_heading(s[0], 0)\n",
        "head.style.paragraph_format.first_line_indent = Inches(0)\n",
        "\n",
        "for el in s:\n",
        "    if count_spaces(el) == 0:\n",
        "        p = document.add_paragraph(el)\n",
        "        #p.style.paragraph_format.first_line_indent = shift\n",
        "        p.style = \"List Bullet\"\n",
        "    if count_spaces(el) == 1:\n",
        "        p = document.add_paragraph(el)\n",
        "        p.style.paragraph_format.left_indent = shift + shift * count_spaces(el)\n",
        "        p.style = \"List Bullet 2\"\n",
        "    if count_spaces(el) == 2:\n",
        "        p = document.add_paragraph(el)\n",
        "        #p.style.paragraph_format.first_line_indent = shift + shift * count_spaces(el)\n",
        "        p.style = \"List Bullet 3\"\n",
        "document.save(\"systematization.docx\")\n"
      ],
      "metadata": {
        "id": "javyQ1LryXCD"
      },
      "execution_count": 54,
      "outputs": []
    },
    {
      "cell_type": "markdown",
      "source": [
        "####Свернуть"
      ],
      "metadata": {
        "id": "bmADF5hIy-RL"
      }
    },
    {
      "cell_type": "code",
      "source": [
        "\n",
        "s = '''Енотовые  \n",
        "  Еноты  \n",
        "    енот-ракоед  \n",
        "    тремарьясский енот  \n",
        "    барбадосский енот  \n",
        "    енот-полоскун  \n",
        "    багаманский енот  \n",
        "    гваделупский енот  \n",
        "    козумельский енот  \n",
        "  коати или носатые еноты  \n",
        "    белоносый коати  \n",
        "    южноамериканский коати  \n",
        "    носуха Нельсона  \n",
        "    юкатанская носуха  \n",
        "  горные коати и кольцехвостые еноты  \n",
        "    североамериканский какомицли  \n",
        "    центральноамериканский какомицли'''.split('\\n')"
      ],
      "metadata": {
        "id": "NZ7qKNsKkvFg"
      },
      "execution_count": null,
      "outputs": []
    },
    {
      "cell_type": "code",
      "source": [
        "from pickle import encode_long\n",
        "from docx import Document\n",
        "from docx.shared import Inches\n",
        "from docx.enum.style import WD_STYLE_TYPE\n",
        "from docx.enum.text import WD_ALIGN_PARAGRAPH\n",
        "\n",
        "from sys import stdin\n",
        "\n",
        "\n",
        "def count_spaces(s):\n",
        "    k = 0\n",
        "    while s[k].isspace():\n",
        "        k += 1\n",
        "    return k // 2\n",
        "\n",
        "\n",
        "#s = list(map(str.strip, stdin))\n",
        "\n",
        "\n",
        "s = '''Енотовые  \n",
        "  Еноты  \n",
        "    енот-ракоед  \n",
        "    тремарьясский енот  \n",
        "    барбадосский енот  \n",
        "    енот-полоскун  \n",
        "    багаманский енот  \n",
        "    гваделупский енот  \n",
        "    козумельский енот  \n",
        "  коати или носатые еноты  \n",
        "    белоносый коати  \n",
        "    южноамериканский коати  \n",
        "    носуха Нельсона  \n",
        "    юкатанская носуха  \n",
        "  горные коати и кольцехвостые еноты  \n",
        "    североамериканский какомицли  \n",
        "    центральноамериканский какомицли'''.split('\\n')\n",
        "\n",
        "shift = Inches(0.25)\n",
        "document = Document()\n",
        "styles = document.styles\n",
        "document.add_heading(s[0], 0)\n",
        "\n",
        "for el in s:\n",
        "    if count_spaces(el) == 0:\n",
        "        p = document.add_paragraph(el, style=\"List Bullet\")\n",
        "        #p.style.paragraph_format.first_line_indent = shift\n",
        "        #p.style.next_paragraph_style = styles[\"List Bullet\"]\n",
        "\n",
        "        print(p.style.name)\n",
        "    if count_spaces(el) == 1:\n",
        "        p1 = document.add_paragraph(el, style=\"List Bullet 2\")\n",
        "        p1.style.paragraph_format.first_line_indent = shift * count_spaces(el)\n",
        "        p1.style.font.bold = True\n",
        "        print(p1.style.name)\n",
        "        #p.style.next_paragraph_style = styles[\"List Bullet\"]\n",
        "    if count_spaces(el) == 2:\n",
        "        p2 = document.add_paragraph(el, style=\"List Bullet 3\")\n",
        "        p2.style.paragraph_format.first_line_indent = shift * count_spaces(el)\n",
        "        #p.style.next_paragraph_style = styles[\"List Bullet 4\"]\n",
        "        print(p2.style.name)\n",
        "document.save(\"systematization.docx\")\n"
      ],
      "metadata": {
        "colab": {
          "base_uri": "https://localhost:8080/"
        },
        "id": "xKSaQbpEjZAt",
        "outputId": "20464766-bc36-4eb7-8a7d-498b3d250215"
      },
      "execution_count": 50,
      "outputs": [
        {
          "output_type": "stream",
          "name": "stdout",
          "text": [
            "List Bullet\n",
            "List Bullet\n",
            "List Bullet 3\n",
            "List Bullet 3\n",
            "List Bullet 3\n",
            "List Bullet 3\n",
            "List Bullet 3\n",
            "List Bullet 3\n",
            "List Bullet 3\n",
            "List Bullet\n",
            "List Bullet 3\n",
            "List Bullet 3\n",
            "List Bullet 3\n",
            "List Bullet 3\n",
            "List Bullet\n",
            "List Bullet 3\n",
            "List Bullet 3\n"
          ]
        }
      ]
    },
    {
      "cell_type": "markdown",
      "source": [
        "###Шаблон"
      ],
      "metadata": {
        "id": "LJCqyTMpmztp"
      }
    },
    {
      "cell_type": "code",
      "source": [
        "!pip install docxtpl"
      ],
      "metadata": {
        "colab": {
          "base_uri": "https://localhost:8080/"
        },
        "id": "ZwiCx5nagNal",
        "outputId": "4e62c889-97b6-4f98-9d5b-c9f5b95ca2ec"
      },
      "execution_count": 8,
      "outputs": [
        {
          "output_type": "stream",
          "name": "stdout",
          "text": [
            "Looking in indexes: https://pypi.org/simple, https://us-python.pkg.dev/colab-wheels/public/simple/\n",
            "Collecting docxtpl\n",
            "  Downloading docxtpl-0.16.6-py2.py3-none-any.whl (28 kB)\n",
            "Requirement already satisfied: lxml in /usr/local/lib/python3.10/dist-packages (from docxtpl) (4.9.2)\n",
            "Collecting docxcompose\n",
            "  Downloading docxcompose-1.4.0.tar.gz (20 kB)\n",
            "  Preparing metadata (setup.py) ... \u001b[?25l\u001b[?25hdone\n",
            "Requirement already satisfied: jinja2 in /usr/local/lib/python3.10/dist-packages (from docxtpl) (3.1.2)\n",
            "Requirement already satisfied: six in /usr/local/lib/python3.10/dist-packages (from docxtpl) (1.16.0)\n",
            "Requirement already satisfied: python-docx in /usr/local/lib/python3.10/dist-packages (from docxtpl) (0.8.11)\n",
            "Requirement already satisfied: setuptools in /usr/local/lib/python3.10/dist-packages (from docxcompose->docxtpl) (67.7.2)\n",
            "Requirement already satisfied: babel in /usr/local/lib/python3.10/dist-packages (from docxcompose->docxtpl) (2.12.1)\n",
            "Requirement already satisfied: MarkupSafe>=2.0 in /usr/local/lib/python3.10/dist-packages (from jinja2->docxtpl) (2.1.2)\n",
            "Building wheels for collected packages: docxcompose\n",
            "  Building wheel for docxcompose (setup.py) ... \u001b[?25l\u001b[?25hdone\n",
            "  Created wheel for docxcompose: filename=docxcompose-1.4.0-py3-none-any.whl size=23283 sha256=031f64b8abebe43830fd9a19b907be88135b0f5635a2c62e8c9c93facd8d986f\n",
            "  Stored in directory: /root/.cache/pip/wheels/28/0e/78/2dc28f2d5b192d1a3ec237ec60e9d65654a078dfe07ce3a714\n",
            "Successfully built docxcompose\n",
            "Installing collected packages: docxcompose, docxtpl\n",
            "Successfully installed docxcompose-1.4.0 docxtpl-0.16.6\n"
          ]
        }
      ]
    },
    {
      "cell_type": "code",
      "source": [
        "from docx import Document\n",
        "from docxtpl import DocxTemplate\n",
        "from docx.shared import Inches\n",
        "from docx.enum.style import WD_STYLE_TYPE\n",
        "from docx.enum.text import WD_ALIGN_PARAGRAPH\n",
        "\n",
        "def template(f_name):\n",
        "  #create file\n",
        "  document = Document()\n",
        "  head = document.add_heading('Самостоятельная работа № {{ work }}', 1)\n",
        "  head.alignment = WD_ALIGN_PARAGRAPH.CENTER\n",
        "  head2 = document.add_heading('Вариант № {{ variant }}', 2)\n",
        "  head2.aligment = WD_ALIGN_PARAGRAPH.LEFT\n",
        "\n",
        "  p1 = document.add_paragraph(\"Задание 1\\n{{ task1 }}\")\n",
        "  p1.style = 'List Number'\n",
        "  p2 = document.add_paragraph(\"Задание 2\\n{{ task2 }}\")\n",
        "  p2.style = 'List Number'\n",
        "  p3 = document.add_paragraph(\"Задание 3\\n{{ task3 }}\")\n",
        "  p3.style = 'List Number'\n",
        "\n",
        "  ##style_footer = document.styles.add_style('FooterStyle', WD_STYLE_TYPE.PARAGRAPH)\n",
        "  ##style_footer.font.italic = True\n",
        "  ##style_footer.paragraph_format.first_line_indent = Inches(0.5)\n",
        "  ##p4 = document.add_paragraph('Выполнил: {{ name }}', style = 'FooterStyle')\n",
        "  p4 = document.add_paragraph()\n",
        "  style = p4.add_run(\"Выполнил: {{name}}\")\n",
        "  p6f = p4.paragraph_format\n",
        "  p6f.first_line_indent = Inches(0.5)\n",
        "  style.italic = True\n",
        "\n",
        "\n",
        "  document.save(f_name)\n",
        "  return\n",
        "\n",
        "def prepare_doc(f_name, **dic):\n",
        "  doc = DocxTemplate(f_name)\n",
        "  doc.render(dic)\n",
        "  doc.save(\"res.docx\")\n",
        "  return\n",
        "\n",
        "\n",
        "template(\"tpl.docx\")\n",
        "dic = {\"work\": 1,\n",
        "       \"variant\": 3,\n",
        "       \"task1\": \"2 + 3 =\",\n",
        "       \"task2\": \"12 * 4 =\",\n",
        "       \"task3\": \"How many zeros in binary digit of 8?\",\n",
        "       \"name\": \"John Hopkins\"}\n",
        "prepare_doc(\"tpl.docx\", **dic)"
      ],
      "metadata": {
        "id": "nCVgdadcm1sO"
      },
      "execution_count": 45,
      "outputs": []
    },
    {
      "cell_type": "markdown",
      "source": [
        "###Зарядка конденсатора"
      ],
      "metadata": {
        "id": "E91Bj-7XjV4z"
      }
    },
    {
      "cell_type": "code",
      "source": [
        "!pip install xlsxwriter"
      ],
      "metadata": {
        "colab": {
          "base_uri": "https://localhost:8080/"
        },
        "id": "2Cak1tbdjVRj",
        "outputId": "37e70857-f4f9-4a57-a51a-7a549b556e1f"
      },
      "execution_count": 15,
      "outputs": [
        {
          "output_type": "stream",
          "name": "stdout",
          "text": [
            "Looking in indexes: https://pypi.org/simple, https://us-python.pkg.dev/colab-wheels/public/simple/\n",
            "Collecting xlsxwriter\n",
            "  Downloading XlsxWriter-3.1.0-py3-none-any.whl (152 kB)\n",
            "\u001b[2K     \u001b[90m━━━━━━━━━━━━━━━━━━━━━━━━━━━━━━━━━━━━━━\u001b[0m \u001b[32m152.7/152.7 kB\u001b[0m \u001b[31m16.5 MB/s\u001b[0m eta \u001b[36m0:00:00\u001b[0m\n",
            "\u001b[?25hInstalling collected packages: xlsxwriter\n",
            "Successfully installed xlsxwriter-3.1.0\n"
          ]
        }
      ]
    },
    {
      "cell_type": "code",
      "source": [
        "value, *s = '''power\n",
        "1\t5\n",
        "0.75\t8.75\n",
        "0.56\t11.56\n",
        "0.42\t13.67\n",
        "0.32\t15.25\n",
        "0.24\t16.44\n",
        "0.18\t17.33\n",
        "0.13\t17.99\n",
        "0.1\t18.49\n",
        "0.08\t18.87\n",
        "0.06\t19.16\n",
        "0.04\t19.36\n",
        "0.03\t19.52\n",
        "0.02\t19.64\n",
        "0.02\t19.73\n",
        "0.01\t19.79\n",
        "0.01\t19.88\n",
        "0\t20'''.split('\\n')"
      ],
      "metadata": {
        "id": "Dq_Gu2Fos53o"
      },
      "execution_count": null,
      "outputs": []
    },
    {
      "cell_type": "code",
      "source": [
        "import xlsxwriter\n",
        "from sys import stdin\n",
        "\n",
        "value, *s = list(map(str.strip, stdin))\n",
        "\n",
        "s = [[float(el.split()[0]), float(el.split()[1])] for el in s]\n",
        "\n",
        "workbook = xlsxwriter.Workbook('charging.xlsx')\n",
        "\n",
        "cell_format = workbook.add_format()\n",
        "cell_format.set_bold()\n",
        "\n",
        "worksheet1 = workbook.add_worksheet('Sheet_1')\n",
        "worksheet1.write('A1', 'current', cell_format)\n",
        "worksheet1.write('B1', 'voltage', cell_format)\n",
        "worksheet1.write('C1', 'power', cell_format)\n",
        "\n",
        "for row_num, row_data in enumerate(s):\n",
        "    for col_num, col_data in enumerate(row_data):\n",
        "        worksheet1.write(row_num + 1, col_num, col_data)\n",
        "\n",
        "for i in range(len(s)):\n",
        "  s[i].append(s[i][0] * s[i][1])\n",
        "  worksheet1.write(i + 1, 2, s[i][2])\n",
        "\n",
        "if value == 'current':\n",
        "  chart = workbook.add_chart({'type': 'line'})\n",
        "  chart.add_series({\n",
        "        'values': '= Sheet_1!$A$2:$A$' + str(len(s)+1),\n",
        "        'line': {'color': 'red'}\n",
        "    })\n",
        "  chart.set_title({'name': value.capitalize()})\n",
        "  chart.set_legend({'none': True})\n",
        "  chart.set_style(11)\n",
        "  chart.set_x_axis({\n",
        "      'name': 'Indexes',\n",
        "  })\n",
        "  chart.set_y_axis({\n",
        "      'name': value.lower(),\n",
        "  })\n",
        "  worksheet1.insert_chart('E3 ', chart)\n",
        "\n",
        "if value == 'voltage':\n",
        "  chart = workbook.add_chart({'type': 'line'})\n",
        "  chart.add_series({\n",
        "        'values': '= Sheet_1!$B$2:$B$' + str(len(s)+1),\n",
        "        'line': {'color': 'red'}\n",
        "    })\n",
        "  chart.set_title({'name': value.capitalize()})\n",
        "  chart.set_legend({'none': True})\n",
        "  chart.set_style(11)\n",
        "  chart.set_x_axis({\n",
        "      'name': 'Indexes',\n",
        "  })\n",
        "  chart.set_y_axis({\n",
        "      'name': value.lower(),\n",
        "  })\n",
        "  worksheet1.insert_chart('E3 ', chart)\n",
        "  \n",
        "if value == 'power':\n",
        "  chart = workbook.add_chart({'type': 'line'})\n",
        "  chart.add_series({\n",
        "        'values': '= Sheet_1!$C$2:$C$' + str(len(s)+1),\n",
        "        'line': {'color': 'red'}\n",
        "    })\n",
        "  chart.set_title({'name': value.capitalize()})\n",
        "  chart.set_legend({'none': True})\n",
        "  chart.set_style(11)\n",
        "  chart.set_x_axis({\n",
        "      'name': 'Indexes',\n",
        "  })\n",
        "  chart.set_y_axis({\n",
        "      'name': value.lower(),\n",
        "  })\n",
        "  worksheet1.insert_chart('E3 ', chart)\n",
        "\n",
        "workbook.close()\n",
        "\n",
        "\n"
      ],
      "metadata": {
        "id": "vI7M6gLNjbqf"
      },
      "execution_count": 41,
      "outputs": []
    },
    {
      "cell_type": "markdown",
      "source": [
        "#Тест (**ПРОВАЛ**)"
      ],
      "metadata": {
        "id": "jK4GFX8Hmimf"
      }
    },
    {
      "cell_type": "markdown",
      "source": [
        "##Задача 1 Про этикет"
      ],
      "metadata": {
        "id": "O-bl54QZmlDP"
      }
    },
    {
      "cell_type": "code",
      "source": [
        "from random import choice, choices, sample\n",
        "\n",
        "\n",
        "n = int(input())\n",
        "s_dishes = 'ham, deer, venison, flatbread, wild boar'.split(', ')#input().split(', ')\n",
        "weights =  [float(el) for el in '10.2 25.3'.split()] # [float(el) for el in input().split()]\n",
        "values = [int(el) for el in '20 60'.split()]\n",
        "\n",
        "list_dishes = []\n",
        "select_dishes = sample(s_dishes, n)\n",
        "select_weight = choices(weights, k = n)\n",
        "select_values = choices(values, k = n)\n",
        "for i in range(n):\n",
        "  list_dishes.append([select_dishes[i].capitalize(), select_weight[i], select_values[i]])\n",
        "for i in range(n):\n",
        "  print(f'1. {list_dishes[i][0]}, serving weight {list_dishes[i][1]} kg, temperature {list_dishes[i][2]} deg.')\n",
        "\n",
        "\n"
      ],
      "metadata": {
        "id": "N6zRtL9tmtnR"
      },
      "execution_count": null,
      "outputs": []
    },
    {
      "cell_type": "markdown",
      "source": [
        "##Задача 2 Соус Ухты-Ухты\n",
        "Напишите программу, которая выберет правильные даты для ликвидационного обеда. Это не может быть понедельник и не может быть день, сумма дня и месяца которого делится на n."
      ],
      "metadata": {
        "id": "vdDnPE0FmoXn"
      }
    },
    {
      "cell_type": "code",
      "source": [
        "import datetime as dt\n",
        "import calendar\n",
        "\n",
        "\n",
        "dd, mm, yyyy = input().split('.')\n",
        "n = int(input())\n",
        "\n",
        "my_date = dt.date(int(yyyy), int(mm), int(dd))\n",
        "\n",
        "list_date = []\n",
        "new_dd = int(dd) + 1\n",
        "new_dd_next =  int(dd) + 2\n",
        "i = 0\n",
        "while True:\n",
        "  new_dd = new_dd + i\n",
        "  new_dd_next = new_dd_next + i \n",
        "  num_days = calendar.monthrange(int(yyyy), int(mm))[1]\n",
        "\n",
        "  if (int(num_days) - new_dd_next) >= 0:\n",
        "      \n",
        "    new_date = dt.date(int(yyyy), int(mm), int(new_dd))\n",
        "    new_date_next = dt.date(int(yyyy), int(mm), int(new_dd_next))\n",
        "    if new_date.weekday() != 1 and new_date_next.weekday() != 1:\n",
        "      if (int(mm) + int(new_dd_next)) % 7 != n:\n",
        "        print(1)\n",
        "        print(new_date.strftime('%d %B %Y, %a'))\n",
        "        print(2)\n",
        "        print(new_date_next.strftime('%d %B %Y, %a'))\n",
        "        break\n",
        "  elif (int(num_days) - new_dd) == 0 and (int(num_days) - new_dd_next) < -1:\n",
        "    new_date = dt.date(int(yyyy), int(mm), int(new_dd))\n",
        "    new_date_next = dt.date(int(yyyy), int(mm), 1)\n",
        "    if new_date.weekday() != 1 and new_date_next.weekday() != 1:\n",
        "      if (int(mm) + int(new_dd_next)) % 7 != n:\n",
        "        print(3)\n",
        "        print(new_date.strftime('%d %B %Y, %a'))\n",
        "        print(4)\n",
        "        print(new_date_next.strftime('%d %B %Y, %a'))\n",
        "        break\n",
        "  i += 1\n",
        "\n",
        "  "
      ],
      "metadata": {
        "id": "IR9_h611mt__"
      },
      "execution_count": null,
      "outputs": []
    },
    {
      "cell_type": "code",
      "source": [
        "te"
      ],
      "metadata": {
        "id": "bXj1GFbq_vKP"
      },
      "execution_count": null,
      "outputs": []
    },
    {
      "cell_type": "code",
      "source": [
        "import datetime as dt\n",
        "import calendar\n",
        "\n",
        "\n",
        "dd, mm, yyyy = input().split('.')\n",
        "n = int(input())\n",
        "\n",
        "my_date = dt.date(int(yyyy), int(mm), int(dd))\n",
        "delta = dt.timedelta(days=1)\n",
        "\n",
        "list_dates = []\n",
        "my_date += delta\n",
        "while len(list_dates) < 10:\n",
        "  if my_date.weekday() != 0:\n",
        "    d = my_date.day\n",
        "    m = my_date.month\n",
        "    #print(d, m)\n",
        "    # if sum(map(int, my_date.strftime('%d %m').split())) % n != 0:\n",
        "    if (d + m) % n != 0:\n",
        "      list_dates.append(my_date)\n",
        "  my_date += delta\n",
        "\n",
        "\n",
        "for el in list_dates[1:3]:\n",
        "  print(el.strftime('%d %B %Y'))\n",
        "\n",
        "\n",
        "  "
      ],
      "metadata": {
        "id": "kYKi_EVr-6xF"
      },
      "execution_count": null,
      "outputs": []
    },
    {
      "cell_type": "markdown",
      "source": [
        "##Задача 3"
      ],
      "metadata": {
        "id": "xbCp92ozmohX"
      }
    },
    {
      "cell_type": "code",
      "source": [],
      "metadata": {
        "id": "waJKXcGrmuQ9"
      },
      "execution_count": null,
      "outputs": []
    },
    {
      "cell_type": "markdown",
      "source": [
        "##Задача 4"
      ],
      "metadata": {
        "id": "0svQVeQmmsIe"
      }
    },
    {
      "cell_type": "code",
      "source": [
        "from PIL import Image, ImageDraw\n",
        "import math\n",
        "\n",
        "\n",
        "def cultural_enrichment(filename, w, *colors):\n",
        "  w = int(w)\n",
        "\n",
        "  im = Image.new(\"RGB\", (10*w, 4*w))\n",
        "  drawer = ImageDraw.Draw(im)\n",
        "  drawer.rectangle((0, 0, 10*w, 4*w), 'white')\n",
        "  drawer.ellipse((0,0,10*w,4*w), fill=colors[0])\n",
        "  for i in range(3):\n",
        "    drawer.ellipse( (math.trunc(w-w//4) + w*i, math.trunc(1.25*w),  math.trunc(w-w//4 + w//2) + w*i, math.trunc(1.25*w + 1.5*w)) , fill=colors[3])\n",
        "  drawer.ellipse(\n",
        "      (math.trunc(5*w - 0.5*w), math.trunc(w//4 + w - 0.5 * w), math.trunc(5*w + 0.5*w), math.trunc(w//4 + w + 0.5 * w)),\n",
        "      fill=colors[2]\n",
        "  )\n",
        "  drawer.rectangle((math.trunc(5*w-2*w), math.trunc(w//4), math.trunc(5*w), math.trunc(w//4 + w)), fill =colors[1])\n",
        "\n",
        "  drawer.ellipse(\n",
        "      (math.trunc(5*w + w - 0.5*w), math.trunc(2*w + w - 0.5 * w), math.trunc(5*w + w + 0.5*w), math.trunc(2*w + w + 0.5 * w)),\n",
        "      fill=colors[2]\n",
        "  )\n",
        "  drawer.rectangle((math.trunc(5*w-w), math.trunc(2*w), math.trunc(5*w + w), math.trunc(2*w + w)), fill =colors[1])\n",
        "\n",
        "  drawer.ellipse(\n",
        "      (math.trunc(5*w + 4*w - 0.5*w), math.trunc(2*w - 0.5 * w), math.trunc(5*w + 4*w + 0.5*w), math.trunc(2*w + 0.5 * w)),\n",
        "      fill=colors[2]\n",
        "  )\n",
        "  drawer.rectangle((math.trunc(5*w + 2*w), math.trunc(w), math.trunc(5*w + 4*w), math.trunc(2*w)), fill =colors[1])\n",
        "\n",
        "  im.save(filename)\n",
        "  return\n",
        "\n",
        "cultural_enrichment('/content/img.png', 40, '#FFCC00', '#B87519', '#546435', '#34C924')"
      ],
      "metadata": {
        "id": "qSaAzgf7mu1p"
      },
      "execution_count": null,
      "outputs": []
    }
  ]
}