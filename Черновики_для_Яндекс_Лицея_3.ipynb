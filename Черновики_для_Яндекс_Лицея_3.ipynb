{
  "nbformat": 4,
  "nbformat_minor": 0,
  "metadata": {
    "colab": {
      "provenance": [],
      "authorship_tag": "ABX9TyPx3qracvRTI4P6/6p5qO/g",
      "include_colab_link": true
    },
    "kernelspec": {
      "name": "python3",
      "display_name": "Python 3"
    },
    "language_info": {
      "name": "python"
    }
  },
  "cells": [
    {
      "cell_type": "markdown",
      "metadata": {
        "id": "view-in-github",
        "colab_type": "text"
      },
      "source": [
        "<a href=\"https://colab.research.google.com/github/zyf2021/-/blob/main/%D0%A7%D0%B5%D1%80%D0%BD%D0%BE%D0%B2%D0%B8%D0%BA%D0%B8_%D0%B4%D0%BB%D1%8F_%D0%AF%D0%BD%D0%B4%D0%B5%D0%BA%D1%81_%D0%9B%D0%B8%D1%86%D0%B5%D1%8F_3.ipynb\" target=\"_parent\"><img src=\"https://colab.research.google.com/assets/colab-badge.svg\" alt=\"Open In Colab\"/></a>"
      ]
    },
    {
      "cell_type": "markdown",
      "source": [
        "#Тема 4"
      ],
      "metadata": {
        "id": "Ln8dt7AiL_7F"
      }
    },
    {
      "cell_type": "markdown",
      "source": [
        "##4.1. Библиотеки Python. Встроенные модули"
      ],
      "metadata": {
        "id": "jstEde7HMFfi"
      }
    },
    {
      "cell_type": "markdown",
      "source": [
        "###Количество информации\n",
        "\n",
        "Напишите программу, которая определит количество различных символов в сообщении и найдет количество информации в нем, считая, что каждый символ кодируется одинаковым и минимально возможным количеством бит (не обязательно целым)."
      ],
      "metadata": {
        "id": "Afwla5-xMLMS"
      }
    },
    {
      "cell_type": "code",
      "execution_count": 10,
      "metadata": {
        "colab": {
          "base_uri": "https://localhost:8080/"
        },
        "id": "sGfvXPExL8fG",
        "outputId": "c68bb38a-035a-4614-92bc-1c306cbb5ed2"
      },
      "outputs": [
        {
          "output_type": "stream",
          "name": "stdout",
          "text": [
            "ABCDDCBA\n",
            "16.0\n"
          ]
        }
      ],
      "source": [
        "import math\n",
        "s = input()\n",
        "n = len(set(list(s)))\n",
        "i = math.log(n, 2)\n",
        "volume = i * len(s)\n",
        "print(volume)"
      ]
    },
    {
      "cell_type": "markdown",
      "source": [
        "###Умножатор"
      ],
      "metadata": {
        "id": "4jFZNBAPQCJN"
      }
    },
    {
      "cell_type": "code",
      "source": [
        "import math\n",
        "\n",
        "def multiplier(*arg, key = lambda x: x):\n",
        "    #s = list(filter(arg, key))\n",
        "    #print(*filter(key, arg))\n",
        "    return math.prod(filter(key, arg))\n",
        "\n",
        "print(multiplier(2, 3, 4, 5, key=lambda x: x % 2))"
      ],
      "metadata": {
        "colab": {
          "base_uri": "https://localhost:8080/"
        },
        "id": "9SDfCGr1QDe7",
        "outputId": "45d74b0c-277e-4afe-e899-1d441f8b110a"
      },
      "execution_count": 18,
      "outputs": [
        {
          "output_type": "stream",
          "name": "stdout",
          "text": [
            "3 5\n",
            "15\n"
          ]
        }
      ]
    },
    {
      "cell_type": "markdown",
      "source": [
        "###Мир фэнтези"
      ],
      "metadata": {
        "id": "7OfJkDz4VA1A"
      }
    },
    {
      "cell_type": "code",
      "source": [
        "def generate_fandom(n, names):\n",
        "  return\n",
        "\n",
        "\n",
        "names = ['Ankh-Morpork', 'Twin Peaks', 'Atlantis', 'Springfield', 'Zion']\n",
        "for item in generate_fandom(3, names):\n",
        "    print(*item)"
      ],
      "metadata": {
        "id": "x17qcrgIVGpq"
      },
      "execution_count": null,
      "outputs": []
    },
    {
      "cell_type": "code",
      "source": [
        "numbers = [-15, -10, -5, 0, 5, 10, 15]\n",
        "\n",
        "numbers[4:] = numbers[-5::-1]\n",
        "\n",
        "print(numbers)"
      ],
      "metadata": {
        "colab": {
          "base_uri": "https://localhost:8080/"
        },
        "id": "kJbjHbIKdY9M",
        "outputId": "3e4eb550-eb55-49d1-9b04-ca26bcae6348"
      },
      "execution_count": 26,
      "outputs": [
        {
          "output_type": "stream",
          "name": "stdout",
          "text": [
            "[-15, -10, -5, 0, -5, -10, -15]\n"
          ]
        }
      ]
    }
  ]
}