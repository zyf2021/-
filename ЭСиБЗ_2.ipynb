{
  "nbformat": 4,
  "nbformat_minor": 0,
  "metadata": {
    "colab": {
      "provenance": [],
      "authorship_tag": "ABX9TyM4oRj7L/FojzCfKXRl8g1A",
      "include_colab_link": true
    },
    "kernelspec": {
      "name": "python3",
      "display_name": "Python 3"
    },
    "language_info": {
      "name": "python"
    }
  },
  "cells": [
    {
      "cell_type": "markdown",
      "metadata": {
        "id": "view-in-github",
        "colab_type": "text"
      },
      "source": [
        "<a href=\"https://colab.research.google.com/github/zyf2021/-/blob/main/%D0%AD%D0%A1%D0%B8%D0%91%D0%97_2.ipynb\" target=\"_parent\"><img src=\"https://colab.research.google.com/assets/colab-badge.svg\" alt=\"Open In Colab\"/></a>"
      ]
    },
    {
      "cell_type": "code",
      "source": [
        "import numpy as np\n",
        "import matplotlib.pyplot as plt"
      ],
      "metadata": {
        "id": "ULKLGQfZJME0"
      },
      "execution_count": null,
      "outputs": []
    },
    {
      "cell_type": "code",
      "execution_count": null,
      "metadata": {
        "colab": {
          "base_uri": "https://localhost:8080/"
        },
        "id": "B1tgy2w3EHq8",
        "outputId": "0eea8cd9-24ed-42a1-c395-e1b7fc030286"
      },
      "outputs": [
        {
          "output_type": "stream",
          "name": "stdout",
          "text": [
            "[0 0 1]\n",
            "[-1  0  0]\n",
            "[-1  0  1]\n",
            "[-2  0  0]\n",
            "[-2  0  1]\n",
            "[-2  0  1] 20\n"
          ]
        }
      ],
      "source": [
        "omega1 = np.array([[0,0,1],[0,1,1]])\n",
        "omega2 =  np.array([[1,0,1], [1,1,1]])\n",
        "W = np.array([0,0,0])\n",
        "c = 1\n",
        "k = 20\n",
        "\n",
        "for i in range(k):\n",
        "  for X in omega1:\n",
        "    if np.dot(W, X) <= 0:\n",
        "      W = W + c * X\n",
        "      print(W)\n",
        "  for X in omega2:\n",
        "    if np.dot(W, X) >= 0:\n",
        "      W = W - c * X\n",
        "      print(W)\n",
        "\n",
        "print(W, k)"
      ]
    },
    {
      "cell_type": "code",
      "source": [
        "omega1 = np.array([[0,0,0],[0,10,0]])\n",
        "omega2 =  np.array([[10,0,0], [10,10,0]])\n",
        "W = np.array([0,0,0])\n",
        "c = 1\n",
        "k = 20\n",
        "\n",
        "count_correction = 0\n",
        "\n",
        "np.dot(W, omega1[1])\n",
        "\n",
        "for i in range(k):\n",
        "  count_correction = 0\n",
        "  for X in omega1:\n",
        "    if np.dot(W, X) <= 0:\n",
        "      W = W + c * X\n",
        "      count_correction += 1\n",
        "      print(W)\n",
        "  for X in omega2:\n",
        "    if np.dot(W, X) >= 0:\n",
        "      W = W - c * X\n",
        "      count_correction += 1\n",
        "      print(W)\n",
        "  if count_correction == 0:\n",
        "    break\n",
        "  \n",
        "\n",
        "dots_x = []\n",
        "dots_y = []\n",
        "for el in omega1:\n",
        "  dots_x.append(el[0])\n",
        "  dots_y.append(el[1])\n",
        "\n",
        "for el in omega2:\n",
        "  dots_x.append(el[0])\n",
        "  dots_y.append(el[1])\n",
        "\n",
        "def f(X, W):\n",
        "  return [W[0]*x + W[1]*x**2 + W[2] for x in X]\n",
        "  \n",
        "x = range(-3, 5)\n",
        "y = f(x, W)\n",
        "print(y)\n",
        "\n",
        "fig, ax = plt.subplots(figsize=(8, 6))\n",
        "ax.set_title('')\n",
        "ax.set_xlabel('')\n",
        "ax.set_ylabel('')\n",
        "\n",
        "ax.grid(which='major', linewidth=1.2)\n",
        "\n",
        "ax.plot(x, y, label='')\n",
        "ax.scatter(dots_x, dots_y, label='')\n",
        "\n",
        "ax.legend()\n",
        "plt.show()"
      ],
      "metadata": {
        "colab": {
          "base_uri": "https://localhost:8080/",
          "height": 993
        },
        "id": "fg-gTHfKJD5m",
        "outputId": "35c13185-e5c1-4fcf-9cd9-22e8246af880"
      },
      "execution_count": null,
      "outputs": [
        {
          "output_type": "stream",
          "name": "stderr",
          "text": [
            "WARNING:matplotlib.legend:No artists with labels found to put in legend.  Note that artists whose label start with an underscore are ignored when legend() is called with no argument.\n"
          ]
        },
        {
          "output_type": "stream",
          "name": "stdout",
          "text": [
            "[0 0 0]\n",
            "[ 0 10  0]\n",
            "[-10  10   0]\n",
            "[-20   0   0]\n",
            "[-20   0   0]\n",
            "[-20  10   0]\n",
            "[-20  10   0]\n",
            "[-20  10   0]\n",
            "[-20  10   0]\n",
            "[-20  10   0]\n",
            "[-20  10   0]\n",
            "[-20  10   0]\n",
            "[-20  10   0]\n",
            "[-20  10   0]\n",
            "[-20  10   0]\n",
            "[-20  10   0]\n",
            "[-20  10   0]\n",
            "[-20  10   0]\n",
            "[-20  10   0]\n",
            "[-20  10   0]\n",
            "[-20  10   0]\n",
            "[-20  10   0]\n",
            "[-20  10   0]\n",
            "[-20  10   0]\n",
            "[150, 80, 30, 0, -10, 0, 30, 80]\n"
          ]
        },
        {
          "output_type": "display_data",
          "data": {
            "text/plain": [
              "<Figure size 800x600 with 1 Axes>"
            ],
            "image/png": "[encoded data removed]"
          },
          "metadata": {}
        }
      ]
    },
    {
      "cell_type": "code",
      "source": [
        "omega1 = np.array([[0,0,1],[0,1,1]])\n",
        "omega2 =  np.array([[1,0,1], [1,1,1]])\n",
        "W = np.array([0,2,3])\n",
        "c = 1\n",
        "k = 100\n",
        "lamb = 0.8\n",
        "count_correction = 0\n",
        "\n",
        "for i in range(k):\n",
        "  count_correction = 0\n",
        "  new_W = W\n",
        "  for X in omega1:\n",
        "    if np.dot(W, X) <= 0:\n",
        "      c = lamb * abs(np.dot(W, X)) / np.dot(X, X)\n",
        "      new_W = W + c * X\n",
        "      count_correction += 1\n",
        "      print(new_W)\n",
        "\n",
        "  for X in omega2:\n",
        "    if np.dot(W, X) >= 0:\n",
        "      c = lamb * abs(np.dot(W, X)) / np.dot(X, X)\n",
        "      new_W = W - c * X\n",
        "      count_correction += 1\n",
        "      print(new_W)\n",
        "\n",
        "  W = new_W\n",
        "  if count_correction == 0:\n",
        "    break\n",
        "  \n",
        "\n",
        "print(W, i)\n",
        "\n",
        "\n",
        "dots_x = []\n",
        "dots_y = []\n",
        "for el in omega1:\n",
        "  dots_x.append(el[0])\n",
        "  dots_y.append(el[1])\n",
        "\n",
        "for el in omega2:\n",
        "  dots_x.append(el[0])\n",
        "  dots_y.append(el[1])\n",
        "\n",
        "def f(X, W):\n",
        "  return [W[0]*x + W[1]*x**2 + W[2] for x in X]\n",
        "  \n",
        "x = range(-3, 5)\n",
        "y = f(x, W)\n",
        "print(y)\n",
        "\n",
        "fig, ax = plt.subplots(figsize=(8, 6))\n",
        "ax.set_title('')\n",
        "ax.set_xlabel('')\n",
        "ax.set_ylabel('')\n",
        "\n",
        "ax.grid(which='major', linewidth=1.2)\n",
        "\n",
        "ax.plot(x, y, label='')\n",
        "ax.scatter(dots_x, dots_y, label='')\n",
        "\n",
        "ax.legend()\n",
        "plt.show()"
      ],
      "metadata": {
        "colab": {
          "base_uri": "https://localhost:8080/",
          "height": 1000
        },
        "id": "d_JJGkWUOamQ",
        "outputId": "f2929912-9ce4-4a81-f26d-a61ccc94a7ec"
      },
      "execution_count": null,
      "outputs": [
        {
          "output_type": "stream",
          "name": "stderr",
          "text": [
            "WARNING:matplotlib.legend:No artists with labels found to put in legend.  Note that artists whose label start with an underscore are ignored when legend() is called with no argument.\n"
          ]
        },
        {
          "output_type": "stream",
          "name": "stdout",
          "text": [
            "[-1.2  2.   1.8]\n",
            "[-1.33333333  0.66666667  1.66666667]\n",
            "[-1.46666667  0.66666667  1.53333333]\n",
            "[-1.6  0.4  1.4]\n",
            "[-1.65333333  0.34666667  1.34666667]\n",
            "[-1.664  0.336  1.336]\n",
            "[-1.66613333  0.33386667  1.33386667]\n",
            "[-1.66656  0.33344  1.33344]\n",
            "[-1.66664533  0.33335467  1.33335467]\n",
            "[-1.6666624  0.3333376  1.3333376]\n",
            "[-1.66666581  0.33333419  1.33333419]\n",
            "[-1.6666665  0.3333335  1.3333335]\n",
            "[-1.66666663  0.33333337  1.33333337]\n",
            "[-1.66666666  0.33333334  1.33333334]\n",
            "[-1.66666667  0.33333333  1.33333333]\n",
            "[-1.66666667  0.33333333  1.33333333]\n",
            "[-1.66666667  0.33333333  1.33333333]\n",
            "[-1.66666667  0.33333333  1.33333333]\n",
            "[-1.66666667  0.33333333  1.33333333]\n",
            "[-1.66666667  0.33333333  1.33333333]\n",
            "[-1.66666667  0.33333333  1.33333333]\n",
            "[-1.66666667  0.33333333  1.33333333]\n",
            "[-1.66666667  0.33333333  1.33333333]\n",
            "[-1.66666667  0.33333333  1.33333333]\n",
            "[-1.66666667  0.33333333  1.33333333]\n",
            "[-1.66666667  0.33333333  1.33333333]\n",
            "[-1.66666667  0.33333333  1.33333333] 24\n",
            "[9.333333333333334, 6.0, 3.333333333333333, 1.3333333333333333, -2.220446049250313e-16, -0.6666666666666667, -0.6666666666666667, -6.661338147750939e-16]\n"
          ]
        },
        {
          "output_type": "display_data",
          "data": {
            "text/plain": [
              "<Figure size 800x600 with 1 Axes>"
            ],
            "image/png": "[encoded data removed]"
          },
          "metadata": {}
        }
      ]
    }
  ]
}