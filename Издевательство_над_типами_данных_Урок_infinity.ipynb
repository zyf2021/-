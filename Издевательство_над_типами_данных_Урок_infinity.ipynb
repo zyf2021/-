{
  "cells": [
    {
      "cell_type": "markdown",
      "metadata": {
        "id": "view-in-github",
        "colab_type": "text"
      },
      "source": [
        "<a href=\"https://colab.research.google.com/github/zyf2021/-/blob/main/%D0%98%D0%B7%D0%B4%D0%B5%D0%B2%D0%B0%D1%82%D0%B5%D0%BB%D1%8C%D1%81%D1%82%D0%B2%D0%BE_%D0%BD%D0%B0%D0%B4_%D1%82%D0%B8%D0%BF%D0%B0%D0%BC%D0%B8_%D0%B4%D0%B0%D0%BD%D0%BD%D1%8B%D1%85_%D0%A3%D1%80%D0%BE%D0%BA_infinity.ipynb\" target=\"_parent\"><img src=\"https://colab.research.google.com/assets/colab-badge.svg\" alt=\"Open In Colab\"/></a>"
      ]
    },
    {
      "cell_type": "code",
      "source": [
        "variable = input()\n",
        "try:\n",
        "  variable = float(variable)\n",
        "  if (float.is_integer(variable)):\n",
        "    print(\"Введено целое число\")\n",
        "  else:\n",
        "    print(\"Введено вещественное число\")\n",
        "except:\n",
        "  print(\"Введена строка\")"
      ],
      "metadata": {
        "id": "85xgyTEo2nJj",
        "outputId": "09217c5f-7117-4a94-ffaa-9fb4e68532ec",
        "colab": {
          "base_uri": "https://localhost:8080/"
        }
      },
      "execution_count": null,
      "outputs": [
        {
          "output_type": "stream",
          "name": "stdout",
          "text": [
            "85.5\n",
            "Введено вещественное число\n"
          ]
        }
      ]
    }
  ],
  "metadata": {
    "colab": {
      "toc_visible": true,
      "provenance": [],
      "include_colab_link": true
    },
    "kernelspec": {
      "display_name": "Python 3",
      "name": "python3"
    }
  },
  "nbformat": 4,
  "nbformat_minor": 0
}