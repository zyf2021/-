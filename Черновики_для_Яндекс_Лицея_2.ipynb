{
  "nbformat": 4,
  "nbformat_minor": 0,
  "metadata": {
    "colab": {
      "provenance": [],
      "authorship_tag": "ABX9TyPzzDUAX3YYeA1cvoKFuBfM",
      "include_colab_link": true
    },
    "kernelspec": {
      "name": "python3",
      "display_name": "Python 3"
    },
    "language_info": {
      "name": "python"
    }
  },
  "cells": [
    {
      "cell_type": "markdown",
      "metadata": {
        "id": "view-in-github",
        "colab_type": "text"
      },
      "source": [
        "<a href=\"https://colab.research.google.com/github/zyf2021/-/blob/main/%D0%A7%D0%B5%D1%80%D0%BD%D0%BE%D0%B2%D0%B8%D0%BA%D0%B8_%D0%B4%D0%BB%D1%8F_%D0%AF%D0%BD%D0%B4%D0%B5%D0%BA%D1%81_%D0%9B%D0%B8%D1%86%D0%B5%D1%8F_2.ipynb\" target=\"_parent\"><img src=\"https://colab.research.google.com/assets/colab-badge.svg\" alt=\"Open In Colab\"/></a>"
      ]
    },
    {
      "cell_type": "markdown",
      "source": [
        "#Тема 3"
      ],
      "metadata": {
        "id": "4dPLq_X5RYjy"
      }
    },
    {
      "cell_type": "markdown",
      "source": [
        "##3.1. Функции"
      ],
      "metadata": {
        "id": "aZVN_m-jLZha"
      }
    },
    {
      "cell_type": "markdown",
      "source": [
        "###Нумерация"
      ],
      "metadata": {
        "id": "cjOjsevdLaxM"
      }
    },
    {
      "cell_type": "code",
      "source": [
        "def numbering(): \n",
        "    room = input() \n",
        "    print(\"Комната №\", room)"
      ],
      "metadata": {
        "id": "V3PqtRVNLBTr"
      },
      "execution_count": null,
      "outputs": []
    },
    {
      "cell_type": "markdown",
      "source": [
        "###Эксцентриситет"
      ],
      "metadata": {
        "id": "R20uE6eELcrL"
      }
    },
    {
      "cell_type": "code",
      "source": [
        "def eccentricity(a, b):\n",
        "    a = float(a)\n",
        "    b = float(b)\n",
        "    e = (((a ** 2) - (b ** 2)) ** (1 / 2)) / a\n",
        "    return str(e)\n",
        "eccentricity(149.597, 149.575)"
      ],
      "metadata": {
        "colab": {
          "base_uri": "https://localhost:8080/"
        },
        "id": "_BRm9wfiLek4",
        "outputId": "e563e4a7-5719-492c-b25d-9d631bb4585c"
      },
      "execution_count": null,
      "outputs": [
        {
          "output_type": "execute_result",
          "data": {
            "text/plain": [
              "0.01714939993391997"
            ]
          },
          "metadata": {},
          "execution_count": 2
        }
      ]
    },
    {
      "cell_type": "code",
      "source": [
        "def borders(cort1, cort2, cort3):\n",
        "  if (cort3[0] > cort1[0]) and (cort3[1] > cort1[1]) and (cort3[0] < cort2[0]) and (cort3[1] < cort2[1]):\n",
        "    print('INSIDE')\n",
        "  #elif ((cort3[0] == cort1[0] and cort1[1]<cort3[1]<cort2[1]) or (cort3[1] == cort1[1] and cort1[0]<cort3[0]<cort2[0]) or (cort3[0] == cort2[0] and cort1[1]<cort3[1]<cort2[1]) or (cort3[1] == cort2[1] and cort1[0]<cort3[0]<cort2[0])):\n",
        "  #  print('AT THE EDGE')\n",
        "  #else:\n",
        "  #  print('OUTSIDE')\n",
        "\n",
        "borders((1, 3), (4, 0), (2, 2))\n",
        "borders((1, 3), (4, 0), (4, 2))\n",
        "borders((1, 3), (4, 0), (4, 4))\n"
      ],
      "metadata": {
        "id": "nccy6eGJL16c"
      },
      "execution_count": null,
      "outputs": []
    }
  ]
}