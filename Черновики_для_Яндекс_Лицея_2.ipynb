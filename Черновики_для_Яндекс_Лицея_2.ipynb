{
  "nbformat": 4,
  "nbformat_minor": 0,
  "metadata": {
    "colab": {
      "provenance": [],
      "collapsed_sections": [
        "aZVN_m-jLZha",
        "y09nIZNCDzbE"
      ],
      "authorship_tag": "ABX9TyOdCvz2WuLcgi4bNmJzR6r5",
      "include_colab_link": true
    },
    "kernelspec": {
      "name": "python3",
      "display_name": "Python 3"
    },
    "language_info": {
      "name": "python"
    }
  },
  "cells": [
    {
      "cell_type": "markdown",
      "metadata": {
        "id": "view-in-github",
        "colab_type": "text"
      },
      "source": [
        "<a href=\"https://colab.research.google.com/github/zyf2021/-/blob/main/%D0%A7%D0%B5%D1%80%D0%BD%D0%BE%D0%B2%D0%B8%D0%BA%D0%B8_%D0%B4%D0%BB%D1%8F_%D0%AF%D0%BD%D0%B4%D0%B5%D0%BA%D1%81_%D0%9B%D0%B8%D1%86%D0%B5%D1%8F_2.ipynb\" target=\"_parent\"><img src=\"https://colab.research.google.com/assets/colab-badge.svg\" alt=\"Open In Colab\"/></a>"
      ]
    },
    {
      "cell_type": "markdown",
      "source": [
        "#Тема 3"
      ],
      "metadata": {
        "id": "4dPLq_X5RYjy"
      }
    },
    {
      "cell_type": "markdown",
      "source": [
        "##3.1. Функции"
      ],
      "metadata": {
        "id": "aZVN_m-jLZha"
      }
    },
    {
      "cell_type": "markdown",
      "source": [
        "###Нумерация"
      ],
      "metadata": {
        "id": "cjOjsevdLaxM"
      }
    },
    {
      "cell_type": "code",
      "source": [
        "def numbering(): \n",
        "    room = input() \n",
        "    print(\"Комната №\", room)"
      ],
      "metadata": {
        "id": "V3PqtRVNLBTr"
      },
      "execution_count": null,
      "outputs": []
    },
    {
      "cell_type": "markdown",
      "source": [
        "###Эксцентриситет"
      ],
      "metadata": {
        "id": "R20uE6eELcrL"
      }
    },
    {
      "cell_type": "code",
      "source": [
        "def eccentricity(a, b):\n",
        "    a = float(a)\n",
        "    b = float(b)\n",
        "    e = (((a ** 2) - (b ** 2)) ** (1 / 2)) / a\n",
        "    return str(e)\n",
        "eccentricity(149.597, 149.575)"
      ],
      "metadata": {
        "colab": {
          "base_uri": "https://localhost:8080/"
        },
        "id": "_BRm9wfiLek4",
        "outputId": "6de08363-0f15-47b3-8c56-5f2cc162ab79"
      },
      "execution_count": null,
      "outputs": [
        {
          "output_type": "execute_result",
          "data": {
            "text/plain": [
              "'0.01714939993391997'"
            ],
            "application/vnd.google.colaboratory.intrinsic+json": {
              "type": "string"
            }
          },
          "metadata": {},
          "execution_count": 2
        }
      ]
    },
    {
      "cell_type": "code",
      "source": [
        "def borders(cort1, cort2, cort3):\n",
        "  if (cort3[0] > cort1[0]) and (cort3[1] > cort1[1]) and (cort3[0] < cort2[0]) and (cort3[1] < cort2[1]):\n",
        "    print('INSIDE')\n",
        "  #elif ((cort3[0] == cort1[0] and cort1[1]<cort3[1]<cort2[1]) or (cort3[1] == cort1[1] and cort1[0]<cort3[0]<cort2[0]) or (cort3[0] == cort2[0] and cort1[1]<cort3[1]<cort2[1]) or (cort3[1] == cort2[1] and cort1[0]<cort3[0]<cort2[0])):\n",
        "  #  print('AT THE EDGE')\n",
        "  #else:\n",
        "  #  print('OUTSIDE')\n",
        "\n",
        "borders((1, 3), (4, 0), (2, 2))\n",
        "borders((1, 3), (4, 0), (4, 2))\n",
        "borders((1, 3), (4, 0), (4, 4))\n"
      ],
      "metadata": {
        "id": "nccy6eGJL16c"
      },
      "execution_count": null,
      "outputs": []
    },
    {
      "cell_type": "markdown",
      "source": [
        "###Шахматный конь"
      ],
      "metadata": {
        "id": "yhAZAxGp0Fxc"
      }
    },
    {
      "cell_type": "code",
      "source": [
        "def horse(pos, next):\n",
        "  letter_dict = {'a':1,\n",
        "                 'b':2,\n",
        "                 'c':3,\n",
        "                 'd':4,\n",
        "                 'e':5,\n",
        "                 'f':6,\n",
        "                 'g':7,\n",
        "                 'h':8}\n",
        "  x1, y1 = letter_dict[pos[0]], pos[1]\n",
        "  x2, y2 = letter_dict[next[0]], next[1]\n",
        "  x1, y1, x2, y2 = int(x1), int(y1), int(x2), int(y2)\n",
        "  if abs(x1 - x2) == 2 and abs(y1 - y2) == 1 or abs(x1 - x2) == 1 and abs(y1 - y2) == 2:\n",
        "    print('True')\n",
        "  else:\n",
        "    print('False')"
      ],
      "metadata": {
        "id": "vep_rr6u0IAM"
      },
      "execution_count": null,
      "outputs": []
    },
    {
      "cell_type": "code",
      "source": [
        "data = ['f8', 'h7']\n",
        "horse(*data)"
      ],
      "metadata": {
        "colab": {
          "base_uri": "https://localhost:8080/"
        },
        "id": "S6bd-Ptm2wpY",
        "outputId": "e4e03742-68c0-491e-97cd-a7acdbeb243e"
      },
      "execution_count": null,
      "outputs": [
        {
          "output_type": "stream",
          "name": "stdout",
          "text": [
            "True\n"
          ]
        }
      ]
    },
    {
      "cell_type": "markdown",
      "source": [
        "###Табличка для графика\n",
        "\n",
        "Для построения графика функции нужно записать пары значений (x, y) в таблицу. Напишите функцию **graph(func)**, которая принимает в качестве аргумента строку с записанной в ней зависимостью y от x и выводит таблицу значений в диапазоне по x от -10 до 10 (разделитель – символ табуляции).\n",
        "\n",
        "Для вычисления значений воспользуйтесь встроенной функцией **eval(expression**). В качестве аргумента ей передается строка, представляющая собой код на python, возвращается результат его выполнения."
      ],
      "metadata": {
        "id": "HMT4GLjm3E7I"
      }
    },
    {
      "cell_type": "code",
      "source": [
        "def graph(func):\n",
        "  print('x', end = '')\n",
        "  x = [print('\t' + str(x), end='') for x in range(-10,11)]\n",
        "  print()\n",
        "  print('y', end = '')\n",
        "  y = \"[print('\t' + str(2 * x - 5), end='') for x in range(-10,11)]\"\n",
        "  y = eval(y)\n",
        "\n",
        "  \n",
        "graph('x ** 2')\n"
      ],
      "metadata": {
        "colab": {
          "base_uri": "https://localhost:8080/"
        },
        "id": "nP2ZM2Rp3GA8",
        "outputId": "fa602431-6740-4227-fbc0-e74909aebaf1"
      },
      "execution_count": null,
      "outputs": [
        {
          "output_type": "stream",
          "name": "stdout",
          "text": [
            "x\t-10\t-9\t-8\t-7\t-6\t-5\t-4\t-3\t-2\t-1\t0\t1\t2\t3\t4\t5\t6\t7\t8\t9\t10\n",
            "y\t-25\t-23\t-21\t-19\t-17\t-15\t-13\t-11\t-9\t-7\t-5\t-3\t-1\t1\t3\t5\t7\t9\t11\t13\t15"
          ]
        }
      ]
    },
    {
      "cell_type": "code",
      "source": [
        "def graph(func):\n",
        "    print(\"x\", end=\"\")\n",
        "    x = [print(\"\t\" + str(x), end=\"\") for x in range(-10, 11)]\n",
        "    print()\n",
        "    print(\"y\", end=\"\")\n",
        "    y = \"[print('\t' + str(\" + func + \"), end='') for x in range(-10,11)]\"\n",
        "    y = eval(y)\n",
        "\n",
        "graph('x ** 2')\n"
      ],
      "metadata": {
        "colab": {
          "base_uri": "https://localhost:8080/"
        },
        "id": "2Y3OQO07AFyx",
        "outputId": "5ce27466-7e3a-44c6-bf09-5cec537e456f"
      },
      "execution_count": null,
      "outputs": [
        {
          "output_type": "stream",
          "name": "stdout",
          "text": [
            "x\t-10\t-9\t-8\t-7\t-6\t-5\t-4\t-3\t-2\t-1\t0\t1\t2\t3\t4\t5\t6\t7\t8\t9\t10\n",
            "y\t100\t81\t64\t49\t36\t25\t16\t9\t4\t1\t0\t1\t4\t9\t16\t25\t36\t49\t64\t81\t100"
          ]
        }
      ]
    },
    {
      "cell_type": "markdown",
      "source": [
        "###Шахматный конь-2\n",
        "Напишите функцию horse2(), которая по положению коня на доске выводит все возможные его ходы в любом порядке.\n",
        "Аргумент функции – положение коня на шахматной доске, проверять корректность положения не нужно."
      ],
      "metadata": {
        "id": "VYhyuGXd7-ji"
      }
    },
    {
      "cell_type": "code",
      "source": [
        "def horse2(pos):\n",
        "  letter_dict = ['a',\n",
        "                 'b',\n",
        "                 'c',\n",
        "                 'd',\n",
        "                 'e',\n",
        "                 'f',\n",
        "                 'g',\n",
        "                 'h']\n",
        "  x1, y1 = letter_dict.index(pos[0]), pos[1]\n",
        "  x1, y1 = int(x1) + 1, int(y1)\n",
        "\n",
        "  steps = [(-2,-1), (-1, -2), (-2, 1), (-1, 2), (2, -1), (1, -2), (2, 1), (1, 2)]\n",
        "\n",
        "  for step in steps:\n",
        "    if (1 <= x1 + step[0] <=8 and 1 <= y1 + step[1] <= 8):\n",
        "      print(letter_dict[x1 + step[0] - 1], y1 + step[1], sep = '')\n",
        "  \n",
        "horse2('a3')"
      ],
      "metadata": {
        "colab": {
          "base_uri": "https://localhost:8080/"
        },
        "id": "tQG9Vxqh3f6E",
        "outputId": "aa4957ca-b213-4b90-990c-35e0b68febdb"
      },
      "execution_count": null,
      "outputs": [
        {
          "output_type": "stream",
          "name": "stdout",
          "text": [
            "c2\n",
            "b1\n",
            "c4\n",
            "b5\n"
          ]
        }
      ]
    },
    {
      "cell_type": "markdown",
      "source": [
        "###Площадь под графиком"
      ],
      "metadata": {
        "id": "jqH3v0kdBQcw"
      }
    },
    {
      "cell_type": "code",
      "source": [
        "def square(data):\n",
        "  s = 0\n",
        "  for i in range(len(data)):\n",
        "    if data[i][0] != 0 and data[i][1] != 0 and data[i][2] != 0:\n",
        "      cur_s = (data[i][0] + data[i][1])*data[i][2]*0.5\n",
        "    elif data[i][0] == 0 and data[i][1] != 0 and data[i][2] != 0:\n",
        "      cur_s = data[i][1]*data[i][2]*0.5\n",
        "    elif data[i][0] != 0 and data[i][1] == 0 and data[i][2] != 0:\n",
        "      cur_s = data[i][0]*data[i][2]*0.5\n",
        "\n",
        "    s += cur_s\n",
        "  print(s)\n",
        "\n",
        "data = [(5, 3, 2), (3, 0, 6), (0, 12, 4), (12, 7, 3), (7, 7, 2)]\n",
        "square(data)"
      ],
      "metadata": {
        "colab": {
          "base_uri": "https://localhost:8080/"
        },
        "id": "Y8EjLMupBSbW",
        "outputId": "4fa6fb12-952d-47c2-f550-9a5196e38980"
      },
      "execution_count": null,
      "outputs": [
        {
          "output_type": "stream",
          "name": "stdout",
          "text": [
            "83.5\n"
          ]
        }
      ]
    },
    {
      "cell_type": "markdown",
      "source": [
        "##3.2. Возвращение значений из функции"
      ],
      "metadata": {
        "id": "y09nIZNCDzbE"
      }
    },
    {
      "cell_type": "markdown",
      "source": [
        "###Условие выбора"
      ],
      "metadata": {
        "id": "HDj8sj4CD1MH"
      }
    },
    {
      "cell_type": "code",
      "source": [
        "def selection(arr, condition):\n",
        "  return [x for x in arr if x % condition == 0]\n",
        "  \n",
        "\n",
        "data = [37, 54, 12, 25, 4]\n",
        "print(selection(data, 3))"
      ],
      "metadata": {
        "colab": {
          "base_uri": "https://localhost:8080/"
        },
        "id": "k5oq-t3u0Pz6",
        "outputId": "711592ef-48af-4661-a057-808b0a3bf031"
      },
      "execution_count": null,
      "outputs": [
        {
          "output_type": "stream",
          "name": "stdout",
          "text": [
            "[54, 12]\n"
          ]
        }
      ]
    },
    {
      "cell_type": "markdown",
      "source": [
        "###Округление"
      ],
      "metadata": {
        "id": "xd-687PhD5f1"
      }
    },
    {
      "cell_type": "code",
      "source": [
        "def rounding(data):\n",
        "  sum_z = 0\n",
        "  sum_r = 0\n",
        "  for el in data:\n",
        "    sum_z += el // 1\n",
        "    sum_r += el % 1\n",
        "  return (int(sum_z), round(sum_r, 2))\n",
        "\n",
        "data = [38.119, 15.7, 18.1, 21.5582, 46.3138, 1.31]\n",
        "print(rounding(data))"
      ],
      "metadata": {
        "colab": {
          "base_uri": "https://localhost:8080/"
        },
        "id": "_XjUJ-I01avO",
        "outputId": "b1496632-c63f-4dad-edf3-80f8c4e9159c"
      },
      "execution_count": null,
      "outputs": [
        {
          "output_type": "stream",
          "name": "stdout",
          "text": [
            "(139, 2.1)\n"
          ]
        }
      ]
    },
    {
      "cell_type": "markdown",
      "source": [
        "###Английские числительные"
      ],
      "metadata": {
        "id": "h6FGo_cnD7mk"
      }
    },
    {
      "cell_type": "code",
      "source": [
        "def numerals(number):\n",
        "  word_num = {\n",
        "      0: 'zero',\n",
        "      1: 'one',\n",
        "      2: 'two',\n",
        "      3: 'three',\n",
        "      4: 'for',\n",
        "      5: 'five',\n",
        "      6: 'six',\n",
        "      7: 'seven',\n",
        "      8: 'eight',\n",
        "      9: 'nine',\n",
        "      10: 'ten',\n",
        "      11: 'eleven',\n",
        "      12:'twelve',\n",
        "      13:'thirteen',\n",
        "      14:'fourteen',\n",
        "      15:'fifteen',\n",
        "      16:'sixteen',\n",
        "      17:'seventeen',\n",
        "      18:'eighteen',\n",
        "      19:'nineteen',\n",
        "      20:'twenty',\n",
        "      30:'thirty',\n",
        "      40:'forty',\n",
        "      50: 'fifty',\n",
        "      60: 'sixty',\n",
        "      70:'seventy',\n",
        "      80:'eighty',\n",
        "      90:'ninety', \n",
        "      100: 'hundred'\n",
        "  }\n",
        "  dec = number // 10\n",
        "  units = number % 10\n",
        "  s = ''\n",
        "  if 0 <= number <= 19:\n",
        "    return word_num[number]\n",
        "  if dec > 1:\n",
        "    s += word_num[dec*10]\n",
        "  if units > 0:\n",
        "    s += '-' + word_num[units]\n",
        "  return s\n",
        "\n",
        "print(numerals(100))"
      ],
      "metadata": {
        "colab": {
          "base_uri": "https://localhost:8080/"
        },
        "id": "UpchO8mm3GMJ",
        "outputId": "8ebf5f73-5ab0-4562-81fd-1411001a427d"
      },
      "execution_count": null,
      "outputs": [
        {
          "output_type": "stream",
          "name": "stdout",
          "text": [
            "hundred\n"
          ]
        }
      ]
    },
    {
      "cell_type": "markdown",
      "source": [
        "###СкобкиПроверьте правильность расстановки скобок в выражении.\n",
        "Напишите функцию brackets(), принимающую строку – выражение, содержащее круглые скобки, а возвращающую True, если скобки расставлены правильно, и False, если неправильно.\n",
        "\n",
        "**Ссылки на источник**"
      ],
      "metadata": {
        "id": "31dl2ie8D_WV"
      }
    },
    {
      "cell_type": "code",
      "source": [
        "def brackets(s):\n",
        "  bracket_list = []\n",
        "  open_bracket = '('\n",
        "  close_bracket = ')'\n",
        "  if s[0] == close_bracket:\n",
        "    return 'False'\n",
        "  for i in range(len(s)):\n",
        "    if s[i] == open_bracket:\n",
        "      bracket_list.append([i, -1])\n",
        "    if s[i] == close_bracket:\n",
        "      j = 1\n",
        "      while bracket_list[-j][1] != -1:\n",
        "        j += 1\n",
        "        if j == len(bracket_list) + 1:\n",
        "          return 'False'\n",
        "      bracket_list[-j][1] = i\n",
        "  for el in bracket_list:\n",
        "    if el[1] == -1:\n",
        "      return 'False'\n",
        "\n",
        "  return bracket_list#'True'\n",
        "\n",
        "    \n",
        "\n",
        "line = \"5/()()4())6(1)23(482)758\"\n",
        "print(brackets(line)) "
      ],
      "metadata": {
        "id": "KRmOmNHCEC25",
        "colab": {
          "base_uri": "https://localhost:8080/"
        },
        "outputId": "fc14586a-f884-4552-9ef8-3ba76be06324"
      },
      "execution_count": null,
      "outputs": [
        {
          "output_type": "stream",
          "name": "stdout",
          "text": [
            "False\n"
          ]
        }
      ]
    },
    {
      "cell_type": "markdown",
      "source": [
        "###Матричное шифрование\n",
        "\n",
        "Этот способ шифрования основан на том, что текст можно записать в таблицу по строкам, а прочитать затем по столбцам. Не зная размеры таблицы, расшифровать его потом будет довольно сложно.\n",
        "\n",
        "Напишите две функции – для шифрования encrypt(text, n) и для дешифровки – decrypt(text, n). В первом случае функция принимает аргументы: текст для шифрования и размер строки в таблице, а возвращает зашифрованный текст. Второй функции для расшифровки кроме текста нужно передать размер строки исходной таблицы, а возвращает она расшифрованный текст.\n",
        "\n",
        "Если длина текста не кратна числу n, то текст перед шифрованием дополняется пробелами до нужной длины, а после расшифровки лишние пробелы в конце удаляются."
      ],
      "metadata": {
        "id": "dxYaZSsWDSHC"
      }
    },
    {
      "cell_type": "code",
      "source": [
        "def encrypt(text, n):\n",
        "  if len(text) % n != 0:\n",
        "    k = n - len(text) % n\n",
        "    text = text + ' ' * k\n",
        "  encrypt_list = []\n",
        "  \n",
        "  for i in range(len(text) // n):\n",
        "    s = ''\n",
        "    for j in range(n):\n",
        "      s += text[i * n + j]\n",
        "    encrypt_list.append([s])\n",
        "\n",
        "  s = ''\n",
        "  for j in range(n):\n",
        "    for i in range(len(text) // n):\n",
        "      s += encrypt_list[i][0][j]\n",
        "  #print(encrypt_list)\n",
        "  return s\n",
        "\n",
        "\n",
        "def decrypt(text, n):\n",
        "  decrypt_list = []\n",
        "  for j in range(n):\n",
        "    s = ''\n",
        "    for i in range(len(text) // n):\n",
        "      s += text[j *(len(text) // n) + i]\n",
        "    #print(s)\n",
        "    decrypt_list.append([s])\n",
        "  s = ''  \n",
        "  for i in range(len(text) // n):\n",
        "    for j in range(n):\n",
        "      s += decrypt_list[j][0][i]\n",
        "  #print(s)\n",
        "  #decrypt_list = ''.join([el for el in decrypt_list])\n",
        "\n",
        "  return s\n",
        "\n",
        "print(encrypt('Whirling, twirling round and round Falling softly to the ground.', 8))\n",
        "print(decrypt('W,n nny h gadg git n  trrwrdFsoolio ao uirurlftnnlnolthdgiduile.', 8))"
      ],
      "metadata": {
        "colab": {
          "base_uri": "https://localhost:8080/"
        },
        "id": "0gS-azisDQgc",
        "outputId": "011b65dd-da22-4412-820e-27e6f2ba5da9"
      },
      "execution_count": null,
      "outputs": [
        {
          "output_type": "stream",
          "name": "stdout",
          "text": [
            "W,n nny h gadg git n  trrwrdFsoolio ao uirurlftnnlnolthdgiduile.\n",
            "Whirling, twirling round and round Falling softly to the ground.\n"
          ]
        }
      ]
    },
    {
      "cell_type": "code",
      "source": [
        "print(encrypt('I love you!', 5))\n",
        "print(decrypt('Ie!   ly oo vu ', 5))"
      ],
      "metadata": {
        "colab": {
          "base_uri": "https://localhost:8080/"
        },
        "id": "nzpeBw43EcEt",
        "outputId": "895acf94-518a-4fee-d9d3-e773af464c5c"
      },
      "execution_count": null,
      "outputs": [
        {
          "output_type": "stream",
          "name": "stdout",
          "text": [
            "Ie!   ly oo vu \n",
            "I love you!    \n"
          ]
        }
      ]
    },
    {
      "cell_type": "markdown",
      "source": [
        "##3.3. Области видимости переменных"
      ],
      "metadata": {
        "id": "LrplpWkQLhX5"
      }
    },
    {
      "cell_type": "markdown",
      "source": [
        "###Изменение нормы"
      ],
      "metadata": {
        "id": "HBZ8OeFZLjmY"
      }
    },
    {
      "cell_type": "code",
      "source": [
        "def changing_the_norm(data):\n",
        "  global norma\n",
        "  k = 0\n",
        "  for el in data:\n",
        "    if el > norma:\n",
        "      k += 1\n",
        "  norma = sum(data) / len(data)\n",
        "  return k\n",
        "\n",
        "norma = 0\n",
        "print(changing_the_norm([150, 160, 164, 147]))\n",
        "print(changing_the_norm([170, 162, 156, 153, 159]))\n",
        "print(changing_the_norm([158, 168, 172]))\n"
      ],
      "metadata": {
        "colab": {
          "base_uri": "https://localhost:8080/"
        },
        "id": "4xDDBXNRZXwT",
        "outputId": "8df388a8-c9b4-4872-cc91-64f189f26b48"
      },
      "execution_count": null,
      "outputs": [
        {
          "output_type": "stream",
          "name": "stdout",
          "text": [
            "4\n",
            "4\n",
            "2\n"
          ]
        }
      ]
    },
    {
      "cell_type": "markdown",
      "source": [
        "###Суфлёр"
      ],
      "metadata": {
        "id": "PlaUdk7wLmwg"
      }
    },
    {
      "cell_type": "code",
      "source": [
        "def prompter(query):\n",
        "  global pred_s\n",
        "\n",
        "  if len(pred_s) == 0:\n",
        "    pred_s.append(query)\n",
        "    print('yes')\n",
        "  else:\n",
        "    print('no')\n",
        "  print(pred_s)\n",
        "  for s in pred_s:\n",
        "    if query in s:\n",
        "      print('подстрока', query, 'в строке', s)\n",
        "      return s\n",
        "    else:\n",
        "      pred_s.append(query)\n",
        "      print('подстрока', query, 'в строке', s, 'не найдена')\n",
        "  return query\n",
        "  \n",
        "\n",
        "pred_s = []\n",
        "\n",
        "print(prompter(\"I love my cat.\"))\n",
        "print(prompter(\"It is warm and fat.\"))\n",
        "print(prompter(\"My cat is grey.\"))\n",
        "print(prompter(\"It likes to play.\"))\n",
        "print(prompter(\"my cat\"))\n",
        "\n",
        "print(pred_s)\n",
        "\n",
        "\n"
      ],
      "metadata": {
        "colab": {
          "base_uri": "https://localhost:8080/"
        },
        "id": "lhcJPw90cnW7",
        "outputId": "4b62b868-5a96-4ce7-cd35-31f19dae1d18"
      },
      "execution_count": null,
      "outputs": [
        {
          "output_type": "stream",
          "name": "stdout",
          "text": [
            "yes\n",
            "['I love my cat.']\n",
            "подстрока I love my cat. в строке I love my cat.\n",
            "I love my cat.\n",
            "no\n",
            "['I love my cat.']\n",
            "подстрока It is warm and fat. в строке I love my cat. не найдена\n",
            "подстрока It is warm and fat. в строке It is warm and fat.\n",
            "It is warm and fat.\n",
            "no\n",
            "['I love my cat.', 'It is warm and fat.']\n",
            "подстрока My cat is grey. в строке I love my cat. не найдена\n",
            "подстрока My cat is grey. в строке It is warm and fat. не найдена\n",
            "подстрока My cat is grey. в строке My cat is grey.\n",
            "My cat is grey.\n",
            "no\n",
            "['I love my cat.', 'It is warm and fat.', 'My cat is grey.', 'My cat is grey.']\n",
            "подстрока It likes to play. в строке I love my cat. не найдена\n",
            "подстрока It likes to play. в строке It is warm and fat. не найдена\n",
            "подстрока It likes to play. в строке My cat is grey. не найдена\n",
            "подстрока It likes to play. в строке My cat is grey. не найдена\n",
            "подстрока It likes to play. в строке It likes to play.\n",
            "It likes to play.\n",
            "no\n",
            "['I love my cat.', 'It is warm and fat.', 'My cat is grey.', 'My cat is grey.', 'It likes to play.', 'It likes to play.', 'It likes to play.', 'It likes to play.']\n",
            "подстрока my cat в строке I love my cat.\n",
            "I love my cat.\n",
            "['I love my cat.', 'It is warm and fat.', 'My cat is grey.', 'My cat is grey.', 'It likes to play.', 'It likes to play.', 'It likes to play.', 'It likes to play.']\n"
          ]
        }
      ]
    },
    {
      "cell_type": "code",
      "source": [
        "print(prompter(\"My cat\"))"
      ],
      "metadata": {
        "colab": {
          "base_uri": "https://localhost:8080/"
        },
        "id": "0_QybQezn2mf",
        "outputId": "bd86a1d2-2ba2-47b3-d512-e5873f563126"
      },
      "execution_count": null,
      "outputs": [
        {
          "output_type": "stream",
          "name": "stdout",
          "text": [
            "no\n",
            "['I love my cat.', 'It is warm and fat.', 'My cat is grey.', 'My cat is grey.', 'It likes to play.', 'It likes to play.', 'It likes to play.', 'It likes to play.']\n",
            "подстрока My cat в строке I love my cat. не найдена\n",
            "подстрока My cat в строке It is warm and fat. не найдена\n",
            "подстрока My cat в строке My cat is grey.\n",
            "My cat is grey.\n"
          ]
        }
      ]
    },
    {
      "cell_type": "markdown",
      "source": [
        "###Разнообразие"
      ],
      "metadata": {
        "id": "qINkKNa2LozI"
      }
    },
    {
      "cell_type": "markdown",
      "source": [
        "###Следующее простое число"
      ],
      "metadata": {
        "id": "XdG6bEk3LrlA"
      }
    },
    {
      "cell_type": "code",
      "source": [
        "simple_num = 3\n",
        "while True:\n",
        "  k = 0\n",
        "  for i in range(2, simple_num):\n",
        "    if simple_num % i == 0:\n",
        "      k += 1\n",
        "  if k == 0:\n",
        "    print(simple_num, 'prime')\n",
        "    break\n",
        "  simple_num += 1"
      ],
      "metadata": {
        "colab": {
          "base_uri": "https://localhost:8080/"
        },
        "id": "wmRwuPyrgWZm",
        "outputId": "3a6aed8f-2cad-431e-e6b4-c3ea88b4260a"
      },
      "execution_count": null,
      "outputs": [
        {
          "output_type": "stream",
          "name": "stdout",
          "text": [
            "3 prime\n"
          ]
        }
      ]
    },
    {
      "cell_type": "code",
      "source": [
        "def next_prime_number():\n",
        "  global simple_num\n",
        "  while True:\n",
        "    k = 0\n",
        "    for i in range(2, simple_num):\n",
        "      if simple_num % i == 0:\n",
        "        k += 1\n",
        "    if k == 0:\n",
        "      print(simple_num)\n",
        "      simple_num += 1\n",
        "      break\n",
        "    else:\n",
        "      simple_num += 1\n",
        "\n",
        "\n",
        "simple_num = 2\n",
        "\n",
        "next_prime_number()\n",
        "next_prime_number()\n",
        "next_prime_number()\n",
        "next_prime_number()\n",
        "next_prime_number()\n",
        "next_prime_number()"
      ],
      "metadata": {
        "colab": {
          "base_uri": "https://localhost:8080/"
        },
        "id": "ln3ACtm8e0EV",
        "outputId": "39c8aac2-ba1f-43a6-8c3f-8bee9689787e"
      },
      "execution_count": null,
      "outputs": [
        {
          "output_type": "stream",
          "name": "stdout",
          "text": [
            "2\n",
            "3\n",
            "5\n",
            "7\n",
            "11\n",
            "13\n"
          ]
        }
      ]
    },
    {
      "cell_type": "markdown",
      "source": [
        "###К доске"
      ],
      "metadata": {
        "id": "hTdTWNvqLxs3"
      }
    },
    {
      "cell_type": "code",
      "source": [
        "def pupil_number(surname):\n",
        "  global log\n",
        "  for i in range(len(log)):\n",
        "    if surname == log[i]:\n",
        "      print(i + 1)\n",
        "      return\n",
        "  print('Такого ученика нет')\n",
        "  return\n",
        "\n",
        "def add_pupil(surname):\n",
        "  global log\n",
        "  k = 0\n",
        "  for el in log:\n",
        "    if el == surname:\n",
        "      k += 1\n",
        "  if k == 0:\n",
        "    log.append(surname)\n",
        "    log.sort()\n",
        "    print('Ученик '+surname+' добавлен')\n",
        "    return\n",
        "  else:\n",
        "    print('Такой ученик уже есть в журнале')\n",
        "    return\n",
        "\n",
        "def to_the_blackboard(n):\n",
        "  global log_blackboard, log\n",
        "\n",
        "  if len(log_blackboard) == 0:\n",
        "\n",
        "    log_blackboard.append(log[n-1])\n",
        "\n",
        "    print(log[n-1], ', к доске!', sep = '')\n",
        "    return\n",
        "\n",
        "  else:\n",
        "    for i in range(len(log_blackboard)):\n",
        "      if log_blackboard[i] == log[n - 1]:\n",
        "        print('Сан Саныч, Вы меня уже вызывали!')\n",
        "        return\n",
        "    log_blackboard.append(log[n-1])\n",
        "    print(log[n-1], ', к доске!', sep = '')\n",
        "    return\n",
        "\n",
        "\n",
        "log_blackboard = []\n",
        "\n",
        "log = [\"Машкин\", \"Сашкин\"]\n",
        "pupil_number(\"Петрова\")\n",
        "add_pupil(\"Кашкин\")\n",
        "to_the_blackboard(1)\n",
        "add_pupil(\"Любашкин\")\n",
        "pupil_number(\"Машкин\")\n",
        "add_pupil(\"Норкин\")\n",
        "add_pupil(\"Березкин\")\n",
        "to_the_blackboard(1)\n",
        "add_pupil(\"Васильев\")\n",
        "pupil_number(\"Смирнов\")\n",
        "to_the_blackboard(5)\n",
        "to_the_blackboard(1)\n",
        "\n",
        "\n",
        "print(log_blackboard)\n",
        "print(log)"
      ],
      "metadata": {
        "colab": {
          "base_uri": "https://localhost:8080/"
        },
        "id": "7zgXJs7-sjh5",
        "outputId": "5aa746d4-f435-4341-f5fc-25fea61b0501"
      },
      "execution_count": null,
      "outputs": [
        {
          "output_type": "stream",
          "name": "stdout",
          "text": [
            "Такого ученика нет\n",
            "Ученик Кашкин добавлен\n",
            "Кашкин, к доске!\n",
            "Ученик Любашкин добавлен\n",
            "3\n",
            "Ученик Норкин добавлен\n",
            "Ученик Березкин добавлен\n",
            "Березкин, к доске!\n",
            "Ученик Васильев добавлен\n",
            "Такого ученика нет\n",
            "Машкин, к доске!\n",
            "Сан Саныч, Вы меня уже вызывали!\n",
            "['Кашкин', 'Березкин', 'Машкин']\n",
            "['Березкин', 'Васильев', 'Кашкин', 'Любашкин', 'Машкин', 'Норкин', 'Сашкин']\n"
          ]
        }
      ]
    },
    {
      "cell_type": "markdown",
      "source": [
        "###Итого\n",
        "*(3 балла)*\n",
        "\n",
        "Напишите функцию total() для подсчета общей калорийности заказанных блюд. В качестве аргумента в функцию передается список строк: блюдо и его калорийность через пробел. После каждого вызова калорийность суммируется и выводится общий итог в виде (блюда отсортированы в алфавитном порядке):"
      ],
      "metadata": {
        "id": "zMy3w82OMEfJ"
      }
    },
    {
      "cell_type": "code",
      "source": [
        "def total(data):\n",
        "    global diary\n",
        "    for d in data:\n",
        "        i = len(d) - 1\n",
        "        calories = \"\"\n",
        "        while d[i].isdigit() or d[i] == \".\":\n",
        "            calories += d[i]\n",
        "            i -= 1\n",
        "        calories = calories[::-1]\n",
        "        k = 0\n",
        "        for el in diary:\n",
        "            if el[0] == d[:i]:\n",
        "                el[1] += 1\n",
        "                el[2] += float(calories)\n",
        "                k = 1\n",
        "        if k == 0:\n",
        "            diary.append([d[:i], 1, float(calories)])\n",
        "    total_calories = 0\n",
        "    for d in diary:\n",
        "        total_calories += d[2]\n",
        "    diary.sort()\n",
        "    for d in diary:\n",
        "        print(d[0], str(d[1]), str(d[2]) + \" kCal\", sep=\" - \")\n",
        "    print(\"------\")\n",
        "    print(\"Total:\", round(total_calories, 3), \"kCal\")\n",
        "    print()\n",
        "\n",
        "    # print(diary)\n",
        "\n",
        "    return\n",
        "\n",
        "\n",
        "diary = []\n",
        "\n",
        "\n",
        "data = ['Egg porridge (natural) 180.3', 'Egg porridge (natural) 180.3', 'Brown semolina porridge 162.1']\n",
        "data = ['Egg porridge (natural) 180.3']\n",
        "total(data)\n",
        "data = ['Grape drink, canned 61', 'Rice porridge with prunes 128.5', 'Guryevskaya porridge 151.2', 'Egg porridge with vegetables or mushrooms 261', 'Buckwheat porridge crumbly 98.7']\n",
        "total(data)\n",
        "data = ['Egg porridge with vegetables or mushrooms 261', 'Guryevskaya porridge 151.2', 'Yantarnaya porridge (from millet with apples) 138.9']\n",
        "total(data)\n",
        "data = ['Rice with apricots in Hungarian 119.7', 'Egg porridge with vegetables or mushrooms 261', 'Millet porridge with dried plums 121.3', 'Orange juice drink 54', 'Rice porridge with cocoa 146.2']\n",
        "total(data)\n",
        "\n"
      ],
      "metadata": {
        "colab": {
          "base_uri": "https://localhost:8080/"
        },
        "id": "MFiUiZhQjYHe",
        "outputId": "891a4df3-c463-450b-9411-e13fa3a22dc8"
      },
      "execution_count": null,
      "outputs": [
        {
          "output_type": "stream",
          "name": "stdout",
          "text": [
            "Egg porridge (natural) - 1 - 180.3 kCal\n",
            "------\n",
            "Total: 180.3 kCal\n",
            "\n",
            "Buckwheat porridge crumbly - 1 - 98.7 kCal\n",
            "Egg porridge (natural) - 1 - 180.3 kCal\n",
            "Egg porridge with vegetables or mushrooms - 1 - 261.0 kCal\n",
            "Grape drink, canned - 1 - 61.0 kCal\n",
            "Guryevskaya porridge - 1 - 151.2 kCal\n",
            "Rice porridge with prunes - 1 - 128.5 kCal\n",
            "------\n",
            "Total: 880.7 kCal\n",
            "\n",
            "Buckwheat porridge crumbly - 1 - 98.7 kCal\n",
            "Egg porridge (natural) - 1 - 180.3 kCal\n",
            "Egg porridge with vegetables or mushrooms - 2 - 522.0 kCal\n",
            "Grape drink, canned - 1 - 61.0 kCal\n",
            "Guryevskaya porridge - 2 - 302.4 kCal\n",
            "Rice porridge with prunes - 1 - 128.5 kCal\n",
            "Yantarnaya porridge (from millet with apples) - 1 - 138.9 kCal\n",
            "------\n",
            "Total: 1431.8 kCal\n",
            "\n",
            "Buckwheat porridge crumbly - 1 - 98.7 kCal\n",
            "Egg porridge (natural) - 1 - 180.3 kCal\n",
            "Egg porridge with vegetables or mushrooms - 3 - 783.0 kCal\n",
            "Grape drink, canned - 1 - 61.0 kCal\n",
            "Guryevskaya porridge - 2 - 302.4 kCal\n",
            "Millet porridge with dried plums - 1 - 121.3 kCal\n",
            "Orange juice drink - 1 - 54.0 kCal\n",
            "Rice porridge with cocoa - 1 - 146.2 kCal\n",
            "Rice porridge with prunes - 1 - 128.5 kCal\n",
            "Rice with apricots in Hungarian - 1 - 119.7 kCal\n",
            "Yantarnaya porridge (from millet with apples) - 1 - 138.9 kCal\n",
            "------\n",
            "Total: 2134.0 kCal\n",
            "\n"
          ]
        }
      ]
    },
    {
      "cell_type": "code",
      "source": [],
      "metadata": {
        "id": "TgOui3X_Cxl5"
      },
      "execution_count": null,
      "outputs": []
    },
    {
      "cell_type": "markdown",
      "source": [
        "##3.4. Функции: передача параметров"
      ],
      "metadata": {
        "id": "bDXilrCBNM6O"
      }
    },
    {
      "cell_type": "markdown",
      "source": [
        "###Учебник"
      ],
      "metadata": {
        "id": "Hq_5pEjfFQ55"
      }
    },
    {
      "cell_type": "code",
      "source": [
        "a = 1\n",
        "print(id(a)) # id объекта \"число 1\"\n",
        "a += 1\n",
        "print(id(a)) # id изменился, a - это объект другого числа\n",
        "\n",
        "value = 3\n",
        "other = value\n",
        "\n",
        "print(id(value))\n",
        "print(id(other))\n",
        "other += 2\n",
        "print(id(other))\n",
        "\n",
        "value is other"
      ],
      "metadata": {
        "id": "D4bRzGLwGstK",
        "colab": {
          "base_uri": "https://localhost:8080/"
        },
        "outputId": "83fc222e-0219-43ad-9250-ad9f3672db8b"
      },
      "execution_count": null,
      "outputs": [
        {
          "output_type": "stream",
          "name": "stdout",
          "text": [
            "140029460224304\n",
            "140029460224336\n",
            "140029460224368\n",
            "140029460224368\n",
            "140029460224432\n"
          ]
        },
        {
          "output_type": "execute_result",
          "data": {
            "text/plain": [
              "False"
            ]
          },
          "metadata": {},
          "execution_count": 23
        }
      ]
    },
    {
      "cell_type": "code",
      "source": [
        "my_fridge = ['молоко', 'яйца', 'овощи']\n",
        "my_friends_fridge = ['молоко', 'яйца', 'овощи']\n",
        "print(my_fridge == my_friends_fridge) \n",
        "print(id(my_fridge) == id(my_friends_fridge))"
      ],
      "metadata": {
        "colab": {
          "base_uri": "https://localhost:8080/"
        },
        "id": "YujdeWcLKZdB",
        "outputId": "315e9a56-7fa8-4d4c-cfec-517750dc335e"
      },
      "execution_count": null,
      "outputs": [
        {
          "output_type": "stream",
          "name": "stdout",
          "text": [
            "True\n",
            "False\n"
          ]
        }
      ]
    },
    {
      "cell_type": "code",
      "source": [
        "my_fridge = ['молоко', 'яйца', 'овощи']\n",
        "my_parents_fridge = my_fridge\n",
        "print(my_fridge == my_parents_fridge) \n",
        "print(id(my_fridge) == id(my_parents_fridge))"
      ],
      "metadata": {
        "colab": {
          "base_uri": "https://localhost:8080/"
        },
        "id": "bNJWIs7RKeq3",
        "outputId": "40fec76f-8e97-4ac0-844c-73c65165ead9"
      },
      "execution_count": null,
      "outputs": [
        {
          "output_type": "stream",
          "name": "stdout",
          "text": [
            "True\n",
            "True\n"
          ]
        }
      ]
    },
    {
      "cell_type": "code",
      "source": [
        "arr = [2, 90, 5]\n",
        "print(arr, arr.sort(), arr, sep='\\n')\n",
        "arr.sort()\n",
        "print(arr, arr, sep='\\n')"
      ],
      "metadata": {
        "colab": {
          "base_uri": "https://localhost:8080/"
        },
        "id": "_uG3Q6pUK2fV",
        "outputId": "e4e75061-4f51-46a7-d7d9-259af96ce3a3"
      },
      "execution_count": null,
      "outputs": [
        {
          "output_type": "stream",
          "name": "stdout",
          "text": [
            "[2, 5, 90]\n",
            "None\n",
            "[2, 5, 90]\n",
            "[2, 5, 90]\n",
            "[2, 5, 90]\n"
          ]
        }
      ]
    },
    {
      "cell_type": "code",
      "source": [
        "x = 1\n",
        "\n",
        "\n",
        "def double_x():\n",
        "    global x\n",
        "    x *= 2\n",
        "\n",
        "\n",
        "print(x, double_x(), x, sep='\\n')"
      ],
      "metadata": {
        "colab": {
          "base_uri": "https://localhost:8080/"
        },
        "id": "1X-cPekGLNIh",
        "outputId": "e1c87c57-27fa-4967-fd58-45adc78ea0a2"
      },
      "execution_count": null,
      "outputs": [
        {
          "output_type": "stream",
          "name": "stdout",
          "text": [
            "1\n",
            "None\n",
            "2\n"
          ]
        }
      ]
    },
    {
      "cell_type": "code",
      "source": [
        "list = []\n",
        "\n",
        "def refinement(data):\n",
        "  def append(old, new):\n",
        "    for i in range(len(new)):\n",
        "      old.append(new[i])\n",
        "    return\n",
        "\n",
        "\n",
        "  append(list, data)\n",
        "  chet = sum(list) % 2\n",
        "  summ = 0\n",
        "  k = 0\n",
        "  if len(list) != 0:\n",
        "    for el in list:\n",
        "      if el % 2 == chet:\n",
        "        summ += el\n",
        "        k += 1\n",
        "    return summ / k\n",
        "  return 0\n",
        "\n",
        "\n",
        "print(refinement([]))\n",
        "print(refinement([19, 26, 34, 40]))"
      ],
      "metadata": {
        "colab": {
          "base_uri": "https://localhost:8080/"
        },
        "id": "upPac-rDOces",
        "outputId": "e94e7c98-fb8e-4e12-f019-38bbcb84472b"
      },
      "execution_count": null,
      "outputs": [
        {
          "output_type": "stream",
          "name": "stdout",
          "text": [
            "0\n",
            "19.0\n"
          ]
        }
      ]
    },
    {
      "cell_type": "markdown",
      "source": [
        "###Сортировка"
      ],
      "metadata": {
        "id": "G7RPYl2BNMyd"
      }
    },
    {
      "cell_type": "code",
      "source": [
        "def sorting():\n",
        "  data.sort()\n",
        "  return\n",
        "\n",
        "data = ['q', 'w', 'e', 'r', 't', 'y']\n",
        "sorting()\n",
        "print(data)\n"
      ],
      "metadata": {
        "colab": {
          "base_uri": "https://localhost:8080/"
        },
        "id": "eMADnVf_WZo1",
        "outputId": "37199879-ac2d-4800-93ce-21434afc3a5d"
      },
      "execution_count": null,
      "outputs": [
        {
          "output_type": "stream",
          "name": "stdout",
          "text": [
            "['e', 'q', 'r', 't', 'w', 'y']\n"
          ]
        }
      ]
    },
    {
      "cell_type": "markdown",
      "source": [
        "###Остатки\n"
      ],
      "metadata": {
        "id": "pNcF4nY8XDQv"
      }
    },
    {
      "cell_type": "code",
      "source": [
        "def rests(num):\n",
        "  lst_rests = []\n",
        "  for el in lst:\n",
        "    lst_rests.append(el % num)\n",
        "  return lst_rests\n",
        "\n",
        "lst = [42, 17, 34, 100501]\n",
        "print(*rests(3))\n",
        "print(*lst)\n",
        "\n"
      ],
      "metadata": {
        "colab": {
          "base_uri": "https://localhost:8080/"
        },
        "id": "cXKF41BrXFNm",
        "outputId": "4e11bfe3-5457-467f-96aa-73b76af9a00b"
      },
      "execution_count": null,
      "outputs": [
        {
          "output_type": "stream",
          "name": "stdout",
          "text": [
            "0 2 1 1\n",
            "42 17 34 100501\n"
          ]
        }
      ]
    },
    {
      "cell_type": "markdown",
      "source": [
        "###Сортировка-2"
      ],
      "metadata": {
        "id": "lS_2DxfDFVeg"
      }
    },
    {
      "cell_type": "code",
      "source": [
        "def sorting_bis(key, reverse):\n",
        "  if key == \"len\":\n",
        "    if reverse == False:\n",
        "      for j in range(1, len(data)):\n",
        "        for i in range(0, len(data) - 1):\n",
        "          if len(data[i]) > len(data[i+1]):\n",
        "            data[i+1], data[i] = data[i], data[i+1]\n",
        "    elif reverse == True:\n",
        "      for j in range(1, len(data)):\n",
        "        for i in range(0, len(data) - 1):\n",
        "          if len(data[i]) < len(data[i+1]):\n",
        "            data[i+1], data[i] = data[i], data[i+1]      \n",
        "  if key == \"abc\":\n",
        "    if reverse == False:\n",
        "      for j in range(1, len(data)):\n",
        "        for i in range(0, len(data) - 1):\n",
        "          if data[i] > data[i+1]:\n",
        "            data[i+1], data[i] = data[i], data[i+1]\n",
        "    elif reverse == True:\n",
        "      for j in range(1, len(data)):\n",
        "        for i in range(0, len(data) - 1):\n",
        "          if data[i] < data[i+1]:\n",
        "            data[i+1], data[i] = data[i], data[i+1]\n",
        "  return\n",
        "\n",
        "\n",
        "data = [\"one\", \"two\", \"three\"]\n",
        "sorting_bis(\"len\", True)\n",
        "print(data)\n",
        "\n",
        "print()\n",
        "\n",
        "data = [\"one\", \"two\", \"three\"]\n",
        "sorting_bis(\"abc\", False)\n",
        "print(data)"
      ],
      "metadata": {
        "colab": {
          "base_uri": "https://localhost:8080/"
        },
        "id": "jKTHS2cCFYEw",
        "outputId": "2d7549c1-22a6-4fa3-fe9f-11e88448a71c"
      },
      "execution_count": null,
      "outputs": [
        {
          "output_type": "stream",
          "name": "stdout",
          "text": [
            "['three', 'one', 'two']\n",
            "\n",
            "['one', 'three', 'two']\n"
          ]
        }
      ]
    },
    {
      "cell_type": "markdown",
      "source": [
        "###Билеты"
      ],
      "metadata": {
        "id": "qZEu6zgWJ9Cx"
      }
    },
    {
      "cell_type": "code",
      "source": [
        "def allocation(data):\n",
        "  fallout = []\n",
        "  for el in data:\n",
        "    print(el, places[el[0] - 1][el[1] - 1])\n",
        "    if places[el[0] - 1][el[1] - 1] == 1:\n",
        "      fallout.append(el)\n",
        "  return fallout\n",
        "\n",
        "\n",
        "\n",
        "places = [[1, 1, 0, 0], [0, 0, 0, 1], [0, 1, 1, 0, 0, 0]]\n",
        "data = [(2, 3), (1, 4), (3, 1), (2, 3), (3, 3)]\n",
        "print(allocation(data))"
      ],
      "metadata": {
        "colab": {
          "base_uri": "https://localhost:8080/"
        },
        "id": "WNNSlNHTKXTx",
        "outputId": "c67cd409-7346-42a2-9803-fb5c3bf70aae"
      },
      "execution_count": null,
      "outputs": [
        {
          "output_type": "stream",
          "name": "stdout",
          "text": [
            "(2, 3) 0\n",
            "(1, 4) 0\n",
            "(3, 1) 0\n",
            "(2, 3) 0\n",
            "(3, 3) 1\n",
            "[(3, 3)]\n"
          ]
        }
      ]
    },
    {
      "cell_type": "code",
      "source": [
        "a = (2, 3)\n",
        "a[1]"
      ],
      "metadata": {
        "colab": {
          "base_uri": "https://localhost:8080/"
        },
        "id": "v45iapiZMv_Z",
        "outputId": "7aae3df9-ab29-4d96-c204-0cc3742b6de0"
      },
      "execution_count": null,
      "outputs": [
        {
          "output_type": "execute_result",
          "data": {
            "text/plain": [
              "3"
            ]
          },
          "metadata": {},
          "execution_count": 37
        }
      ]
    },
    {
      "cell_type": "markdown",
      "source": [
        "##3.5. Рекурсия"
      ],
      "metadata": {
        "id": "z266PTFn_OvB"
      }
    },
    {
      "cell_type": "markdown",
      "source": [
        "###Примитивная рекурсия"
      ],
      "metadata": {
        "id": "RZkji7PG_UG8"
      }
    },
    {
      "cell_type": "code",
      "source": [
        "def func(n):\n",
        "  if n == 0:\n",
        "    return 0\n",
        "  if n > 0:\n",
        "    if n % 3 == 0:\n",
        "      return func(n/3) + 1\n",
        "    else:\n",
        "      return 2 + func(n-1)\n",
        "\n",
        "print(func(6))\n",
        "print(func(10000))"
      ],
      "metadata": {
        "colab": {
          "base_uri": "https://localhost:8080/"
        },
        "id": "ymNskPcBFMFU",
        "outputId": "e97707bf-a577-4dc1-9de3-be8e66f3928a"
      },
      "execution_count": 2,
      "outputs": [
        {
          "output_type": "stream",
          "name": "stdout",
          "text": [
            "5\n",
            "24\n"
          ]
        }
      ]
    },
    {
      "cell_type": "markdown",
      "source": [
        "###Туннель"
      ],
      "metadata": {
        "id": "z4OxL5DfGH4Q"
      }
    },
    {
      "cell_type": "code",
      "source": [
        "def tunnel(data):\n",
        "    if len(data) < 3:\n",
        "        return sum(data)\n",
        "    else:\n",
        "      return tunnel(data[1:-1])\n",
        "\n",
        "\n",
        "\n",
        "rock = [1, 2, 3, 4, 1]\n",
        "print(tunnel(rock))\n",
        "\n",
        "rock = [1, 0, 2, 3, 4, 1]\n",
        "print(tunnel(rock))"
      ],
      "metadata": {
        "colab": {
          "base_uri": "https://localhost:8080/"
        },
        "id": "HSjpSitzGHrx",
        "outputId": "dddc5da6-04a0-4c9f-af1a-a15136dcb518"
      },
      "execution_count": 3,
      "outputs": [
        {
          "output_type": "stream",
          "name": "stdout",
          "text": [
            "3\n",
            "5\n"
          ]
        }
      ]
    },
    {
      "cell_type": "code",
      "source": [
        "rock = [1, 2, 3]\n",
        "rock[1:-1]"
      ],
      "metadata": {
        "colab": {
          "base_uri": "https://localhost:8080/"
        },
        "id": "8xtbtTwOIVXW",
        "outputId": "32ddf4c9-9f87-44ed-e2f2-4b740fb7477a"
      },
      "execution_count": 16,
      "outputs": [
        {
          "output_type": "execute_result",
          "data": {
            "text/plain": [
              "[2]"
            ]
          },
          "metadata": {},
          "execution_count": 16
        }
      ]
    },
    {
      "cell_type": "code",
      "source": [
        "def power(x,p):\n",
        "  if p == 0:\n",
        "    return 1\n",
        "  else:\n",
        "    if p>0:\n",
        "      return x*power(x, p-1)\n",
        "    if p<0:\n",
        "      return round((1/x)*power(x, p + 1),5)\n",
        "\n",
        "print(power(2, 12))\n",
        "print(power(5, -2))\n",
        "print(power(-3, 4))"
      ],
      "metadata": {
        "colab": {
          "base_uri": "https://localhost:8080/"
        },
        "id": "iyhtRFRkHAE-",
        "outputId": "69315bae-635b-4274-c01a-3eb27e6ef0dd"
      },
      "execution_count": 10,
      "outputs": [
        {
          "output_type": "stream",
          "name": "stdout",
          "text": [
            "4096\n",
            "0.04\n",
            "81\n"
          ]
        }
      ]
    },
    {
      "cell_type": "markdown",
      "source": [
        "###Показатель степени"
      ],
      "metadata": {
        "id": "ilP7DZ_SdpDB"
      }
    },
    {
      "cell_type": "code",
      "source": [
        "def degree_indicator(x, base):\n",
        "  if x == 1:\n",
        "    return 0\n",
        "  else:\n",
        "    if x > 1:\n",
        "      x = x / base\n",
        "      return degree_indicator(x, base) + 1\n",
        "    if x < 1:\n",
        "      x = x * base\n",
        "      return degree_indicator(x, base) - 1\n",
        "  return\n",
        "\n",
        "print(degree_indicator(81, 3))\n",
        "print(degree_indicator(1 / 625, 5))"
      ],
      "metadata": {
        "colab": {
          "base_uri": "https://localhost:8080/"
        },
        "id": "dYWOhvVqdrKZ",
        "outputId": "6719dcfb-0876-4f41-ae81-0d460fd5f2ea"
      },
      "execution_count": 67,
      "outputs": [
        {
          "output_type": "stream",
          "name": "stdout",
          "text": [
            "4\n",
            "-4\n"
          ]
        }
      ]
    },
    {
      "cell_type": "markdown",
      "source": [
        "###Счастливое число"
      ],
      "metadata": {
        "id": "Y0vR57pGhQUp"
      }
    },
    {
      "cell_type": "code",
      "source": [
        "def happy_number(num):\n",
        "  if len(str(num)) == 2:\n",
        "    return [int(str(num)[0]), int(str(num)[-1])]\n",
        "    #return ['','']\n",
        "  else:\n",
        "    #num = int(str(num)[1:-1])\n",
        "    sum_list = happy_number(int(str(num)[1:-1])) \n",
        "    sum_list = [sum_list[0] + int(str(num)[0]), sum_list[1] + int(str(num)[-1])]\n",
        "  return sum_list\n",
        "\n",
        "print(happy_number(12342143))\n",
        "print(happy_number(96251231254621))\n"
      ],
      "metadata": {
        "colab": {
          "base_uri": "https://localhost:8080/"
        },
        "id": "ohculbu6hRmA",
        "outputId": "3626529a-fd1d-4b39-f08b-a694fd73cf76"
      },
      "execution_count": 87,
      "outputs": [
        {
          "output_type": "stream",
          "name": "stdout",
          "text": [
            "[10, 10]\n",
            "[28, 21]\n"
          ]
        }
      ]
    },
    {
      "cell_type": "markdown",
      "source": [
        "###Сложные системы"
      ],
      "metadata": {
        "id": "ggXuKDseo1x0"
      }
    },
    {
      "cell_type": "code",
      "source": [],
      "metadata": {
        "id": "on_-XJCqpX5l"
      },
      "execution_count": null,
      "outputs": []
    },
    {
      "cell_type": "markdown",
      "source": [
        "##3.6. Функции с переменным числом аргументов"
      ],
      "metadata": {
        "id": "14KrGGSPJWga"
      }
    },
    {
      "cell_type": "markdown",
      "source": [
        "\n",
        "\n",
        "```\n",
        "li = [\"Дейнерис\",\n",
        "      'королева андалов, ройнаров и Первых Людей',\n",
        "      'королева Миэрина',\n",
        "      'кхалиси Великого Травяного моря',\n",
        "      'Неопалимая',\n",
        "      'Бурерожденная',\n",
        "      'Матерь Драконов',\n",
        "      'Разрушительница Оков',\n",
        "      'Низвергательница Колдунов',\n",
        "      'Таргариен']\n",
        "name, *titles, surname = li\n",
        "print(name)\n",
        "print(titles)\n",
        "print(surname)\n",
        "```\n",
        "\n"
      ],
      "metadata": {
        "id": "gX4bbx9MJ_YF"
      }
    },
    {
      "cell_type": "code",
      "source": [
        "a = (1,2)\n",
        "b, = (1,)\n",
        "print(a)  # => (1,)\n",
        "print(b)  # => 1\n",
        "values = 1, 2, 3\n",
        "print(values)"
      ],
      "metadata": {
        "colab": {
          "base_uri": "https://localhost:8080/"
        },
        "id": "6iKvySZLKN_o",
        "outputId": "a25f22b6-3c85-49bb-fc4d-6cc251dc97ad"
      },
      "execution_count": 23,
      "outputs": [
        {
          "output_type": "stream",
          "name": "stdout",
          "text": [
            "(1, 2)\n",
            "1\n",
            "1 2 3\n"
          ]
        }
      ]
    },
    {
      "cell_type": "markdown",
      "source": [
        "###Чеширский указатель"
      ],
      "metadata": {
        "id": "Tyrfa7DwJX3S"
      }
    },
    {
      "cell_type": "code",
      "source": [
        "string = input().split()\n",
        "final = []\n",
        "begin, end = string[0].lower(),string[-1].lower()\n",
        "for s in string[1:-1]:\n",
        "  if begin <= s.lower() <= end:\n",
        "    final.append(s)\n",
        "print(*final)\n",
        "print(*string[1:-1])"
      ],
      "metadata": {
        "colab": {
          "base_uri": "https://localhost:8080/"
        },
        "id": "LZqtRHBrJbNJ",
        "outputId": "25e16e44-21fe-45de-f7d1-d26ef9a77dd4"
      },
      "execution_count": 58,
      "outputs": [
        {
          "output_type": "stream",
          "name": "stdout",
          "text": [
            "hate split noisy seven eye blond depend encourage smooth age ready president share witty rude old run hand early watch curved risky doctor ready\n",
            "noisy ready president old\n",
            "split noisy seven eye blond depend encourage smooth age ready president share witty rude old run hand early watch curved risky doctor\n"
          ]
        }
      ]
    },
    {
      "cell_type": "markdown",
      "source": [
        "###Накопление"
      ],
      "metadata": {
        "id": "Cdgzn0i6Mpa9"
      }
    },
    {
      "cell_type": "code",
      "source": [
        "def accumulation(*arg):\n",
        "  s = [0]\n",
        "  if len(arg) == 0:\n",
        "    return s\n",
        "  else:\n",
        "    for i in range(0, len(arg)):\n",
        "      s.append(s[i] + arg[i])\n",
        "  return s\n",
        "\n",
        "data = [1, 2, 3, 4, 5]\n",
        "print(*accumulation(*data))\n",
        "\n",
        "data = []\n",
        "print(*accumulation(*data))"
      ],
      "metadata": {
        "colab": {
          "base_uri": "https://localhost:8080/"
        },
        "id": "v7R84BtgMp_s",
        "outputId": "856c596f-4543-4614-fad6-d42c689aac89"
      },
      "execution_count": 37,
      "outputs": [
        {
          "output_type": "stream",
          "name": "stdout",
          "text": [
            "0 1 3 6 10 15\n",
            "0\n"
          ]
        }
      ]
    },
    {
      "cell_type": "markdown",
      "source": [
        "###Четверти"
      ],
      "metadata": {
        "id": "ozl2KoMgPMlt"
      }
    },
    {
      "cell_type": "code",
      "source": [
        "def quarters(*points):\n",
        "  dic = {'I':0, 'II':0, 'III':0, 'IV':0}\n",
        "  for point in points:\n",
        "    if point[0] != 0 or point[1] != 0:\n",
        "      if point[0] > 0 and point[1] > 0:\n",
        "        dic['I'] += 1\n",
        "      if point[0] < 0 and point[1] > 0:\n",
        "        dic['II'] += 1\n",
        "      if point[0] < 0 and point[1] < 0:\n",
        "        dic['III'] += 1\n",
        "      if point[0] > 0 and point[1] < 0:\n",
        "        dic['IV'] += 1\n",
        "  return dic\n",
        "\n",
        "data = [(1, 1), (-1, 2), (-3, -1)]\n",
        "for k, v in sorted(quarters(*data).items()):\n",
        "    print(f'{k}:\\t{v}')"
      ],
      "metadata": {
        "colab": {
          "base_uri": "https://localhost:8080/"
        },
        "id": "VhBfBzSdPOuM",
        "outputId": "18b52b74-d521-4f71-daaf-4fc348ccc08d"
      },
      "execution_count": 42,
      "outputs": [
        {
          "output_type": "stream",
          "name": "stdout",
          "text": [
            "I:\t1\n",
            "II:\t1\n",
            "III:\t1\n",
            "IV:\t0\n"
          ]
        }
      ]
    },
    {
      "cell_type": "markdown",
      "source": [
        "###Большой Взрыв"
      ],
      "metadata": {
        "id": "3fUZXXICWbsb"
      }
    },
    {
      "cell_type": "code",
      "source": [
        "def future(*mass, **const):\n",
        "  # сумма масс всех тел, умноженная на произведение констант\n",
        "  sum_mass = sum(mass)\n",
        "  prod = 1\n",
        "  for i in const:\n",
        "    prod *= const[i]\n",
        "  if sum_mass*prod > VIN:\n",
        "    return 'ACCELERATION'\n",
        "  if sum_mass*prod < VIN:\n",
        "    return 'DECELERATION'\n",
        "  \n",
        "  return 'UNCHANGED'\n",
        "\n",
        "VIN = 3\n",
        "mass = [1, 2, 3, 4]\n",
        "const = {'charge': 1.6, 'alpha': 0.137, 'pi': 3.14}\n",
        "print(future(*mass, **const))\n",
        "\n",
        "VIN = 540\n",
        "mass = [1, 2, 3, 4, 5]\n",
        "const = {'e0': 9, 'mu0': 4}\n",
        "print(future(*mass, **const))"
      ],
      "metadata": {
        "colab": {
          "base_uri": "https://localhost:8080/"
        },
        "id": "MIqWP4ECWdU3",
        "outputId": "77c775be-377f-4302-f95e-d8260f922485"
      },
      "execution_count": 56,
      "outputs": [
        {
          "output_type": "stream",
          "name": "stdout",
          "text": [
            "ACCELERATION\n",
            "UNCHANGED\n"
          ]
        }
      ]
    },
    {
      "cell_type": "markdown",
      "source": [
        "###Метеоритная защита"
      ],
      "metadata": {
        "id": "xJNepdYcYsR9"
      }
    },
    {
      "cell_type": "code",
      "source": [
        "def defense(*arg):\n",
        "  max_delta_x = -1\n",
        "  max_delta_y = -1\n",
        "  for i in range(len(arg)):\n",
        "    for j in range(1, len(arg)):\n",
        "      if abs(arg[i][0] - arg[j][0]) > max_delta_x:\n",
        "        max_delta_x = abs(arg[i][0] - arg[j][0])\n",
        "      if abs(arg[i][1] - arg[j][1]) > max_delta_y:\n",
        "        max_delta_y = abs(arg[i][1] - arg[j][1])\n",
        "  return (max_delta_x, max_delta_y)\n",
        "\n",
        "points = [(1, 1), (-1, 2), (-3, -1)]\n",
        "print(*defense(*points))\n",
        "\n",
        "points = [(-5, 1), (-1, 3), (2, -1), (0, 3)]\n",
        "print(*defense(*points))"
      ],
      "metadata": {
        "colab": {
          "base_uri": "https://localhost:8080/"
        },
        "id": "cOFB2S5zYuuz",
        "outputId": "82c27118-4c72-4fc2-b36f-ec2292de793f"
      },
      "execution_count": 60,
      "outputs": [
        {
          "output_type": "stream",
          "name": "stdout",
          "text": [
            "4 3\n",
            "7 4\n"
          ]
        }
      ]
    },
    {
      "cell_type": "markdown",
      "source": [
        "###Разные мнения"
      ],
      "metadata": {
        "id": "VmEUz5qobjg3"
      }
    },
    {
      "cell_type": "code",
      "source": [
        "def opinions(*arg):\n",
        "  final_dict = {}\n",
        "  super_dict = {}\n",
        "  for el_dict in arg:\n",
        "    for key, val in el_dict.items():\n",
        "      if key not in super_dict:\n",
        "        super_dict[key] = {val}\n",
        "      else:\n",
        "        super_dict[key].add(val)\n",
        "  return super_dict\n",
        "\n",
        "data = [{'f': 1, 's': 2}, {'s': 2, 't': 3},\n",
        "        {'s': 3, 'f': 5}, {'f': 4}, {}]\n",
        "print(opinions(*data))"
      ],
      "metadata": {
        "colab": {
          "base_uri": "https://localhost:8080/"
        },
        "id": "LfH1dcjkbkZD",
        "outputId": "df4a6d09-21cd-42dd-dd28-aeba28ba722e"
      },
      "execution_count": 61,
      "outputs": [
        {
          "output_type": "stream",
          "name": "stdout",
          "text": [
            "{'f': {1, 4, 5}, 's': {2, 3}, 't': {3}}\n"
          ]
        }
      ]
    }
  ]
}